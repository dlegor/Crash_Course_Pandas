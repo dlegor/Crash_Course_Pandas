{
  "nbformat": 4,
  "nbformat_minor": 0,
  "metadata": {
    "colab": {
      "name": "Lesson_3.ipynb",
      "version": "0.3.2",
      "provenance": [],
      "collapsed_sections": []
    },
    "kernelspec": {
      "name": "python3",
      "display_name": "Python 3"
    }
  },
  "cells": [
    {
      "metadata": {
        "id": "c6POZFLsMfmz",
        "colab_type": "text"
      },
      "cell_type": "markdown",
      "source": [
        "# Analizando Datos con PyData \n",
        "\n",
        "* Objetivos de la Lección.\n",
        "* Revisión de los DataFrame y Series en Pandas.\n",
        "* SQL y Pandas.\n",
        "\n",
        "\n",
        "## Básico 2: Limpieza, manipulación y transformación.\n",
        "\n",
        "* Inspección de los Datos.\n",
        "* Selección y manipulación de los datos.\n",
        "* Transformación de los datos."
      ]
    },
    {
      "metadata": {
        "id": "TPYaWwUeLr4j",
        "colab_type": "text"
      },
      "cell_type": "markdown",
      "source": [
        "## Objetivos de la Lección\n",
        "\n",
        "* Revisar aspectos de las Series y los DataFrames.\n",
        "* Relación entre SQL y programación en Pandas.\n",
        "* Depuración y manipulación de los datos."
      ]
    },
    {
      "metadata": {
        "id": "4qJeh9cfdogo",
        "colab_type": "text"
      },
      "cell_type": "markdown",
      "source": [
        "## Revisión de los DataFrame y Series en Pandas\n",
        "\n",
        "Como se mencionó en la lección 2, la relación entre Series y DataFrames(DF) es directa. Cada columna dentro de un DF es una columna. Y como es de esperar, una Series solo tienen un conjunto de índices, mientras los DF cuentan con dos.\n",
        "\n",
        "Una de las ideas de Pandas, es poder usar las Series o los DF, de modo similar a como se pueden usar las estructuras de datos en Python. Con esto me refiero a respetar **\"la idiomático\" ** de Python. El siguiente código es un ejemplo:\n",
        "  \n"
      ]
    },
    {
      "metadata": {
        "id": "zC4E1svXhVZK",
        "colab_type": "code",
        "outputId": "2ff92750-4bbb-4081-bc7e-88c4c1326213",
        "colab": {
          "base_uri": "https://localhost:8080/",
          "height": 52
        }
      },
      "cell_type": "code",
      "source": [
        "#Se define una lista y se presenta si un elemento está o no en la lista.\n",
        "a=[1,2,3,5]\n",
        "\n",
        "print(3 in a)\n",
        "print(3 not in a)"
      ],
      "execution_count": 0,
      "outputs": [
        {
          "output_type": "stream",
          "text": [
            "True\n",
            "False\n"
          ],
          "name": "stdout"
        }
      ]
    },
    {
      "metadata": {
        "id": "SHE28OsBhXIB",
        "colab_type": "code",
        "outputId": "b4319079-ba5b-4be0-db9b-ffd6d64caf7a",
        "colab": {
          "base_uri": "https://localhost:8080/",
          "height": 34
        }
      },
      "cell_type": "code",
      "source": [
        "#Se define un diccionario y se pregunta si está en sus claves un elemento.\n",
        "b={'a':1,'b':2,'c':3}\n",
        "\n",
        "print('d' in b)"
      ],
      "execution_count": 0,
      "outputs": [
        {
          "output_type": "stream",
          "text": [
            "False\n"
          ],
          "name": "stdout"
        }
      ]
    },
    {
      "metadata": {
        "id": "HTJuA_qdiNqQ",
        "colab_type": "text"
      },
      "cell_type": "markdown",
      "source": [
        "Los dos ejemplos anteriores son ejemplos de código estándar en Python. Tomando esta idea, lo que se hizo en Pandas fue respetar o conservar ese tipo de programación."
      ]
    },
    {
      "metadata": {
        "id": "QT3y5T4ahZUr",
        "colab_type": "code",
        "outputId": "9ed73d47-e882-40b5-9d7a-fef8d3c8bf7f",
        "colab": {
          "base_uri": "https://localhost:8080/"
        }
      },
      "cell_type": "code",
      "source": [
        "import pandas as pd\n",
        "import numpy as np\n",
        "s = pd.Series(np.random.randn(5), index=['a', 'b', 'c', 'd', 'e'])\n",
        "\n",
        "s\n"
      ],
      "execution_count": 0,
      "outputs": [
        {
          "output_type": "execute_result",
          "data": {
            "text/plain": [
              "a    2.466857\n",
              "b   -1.288897\n",
              "c   -1.065179\n",
              "d    0.317595\n",
              "e   -0.108432\n",
              "dtype: float64"
            ]
          },
          "metadata": {
            "tags": []
          },
          "execution_count": 1
        }
      ]
    },
    {
      "metadata": {
        "id": "IPxwO3sTimnr",
        "colab_type": "code",
        "outputId": "3453fd3d-582f-412a-c0a7-e4aeb3ff9ebf",
        "colab": {
          "base_uri": "https://localhost:8080/",
          "height": 34
        }
      },
      "cell_type": "code",
      "source": [
        "print('e' in s)"
      ],
      "execution_count": 0,
      "outputs": [
        {
          "output_type": "stream",
          "text": [
            "False\n"
          ],
          "name": "stdout"
        }
      ]
    },
    {
      "metadata": {
        "id": "et0QpJH2jq7Z",
        "colab_type": "code",
        "outputId": "2d474902-31c2-4c3b-b860-5944b9784f24",
        "colab": {
          "base_uri": "https://localhost:8080/",
          "height": 52
        }
      },
      "cell_type": "code",
      "source": [
        "print(1 in s.values)\n",
        "print(1 in s)"
      ],
      "execution_count": 0,
      "outputs": [
        {
          "output_type": "stream",
          "text": [
            "False\n",
            "False\n"
          ],
          "name": "stdout"
        }
      ]
    },
    {
      "metadata": {
        "id": "ESVkeLFVOdPx",
        "colab_type": "text"
      },
      "cell_type": "markdown",
      "source": [
        "Algunos conocimientos básicos respecto a las Series, serían:\n",
        "\n",
        "* Cómo definir una serie.\n",
        "* Como operar sobre una serie.\n"
      ]
    },
    {
      "metadata": {
        "id": "amqXBV1GiyjJ",
        "colab_type": "code",
        "outputId": "53fc62d9-8780-4431-bf36-85369a19c644",
        "colab": {
          "base_uri": "https://localhost:8080/",
          "height": 86
        }
      },
      "cell_type": "code",
      "source": [
        "#Definición de una serie desde un diccionario\n",
        "d = {'b' : 1, 'a' : 0, 'c' : 2}\n",
        "\n",
        "pd.Series(d)"
      ],
      "execution_count": 0,
      "outputs": [
        {
          "output_type": "execute_result",
          "data": {
            "text/plain": [
              "a    0\n",
              "b    1\n",
              "c    2\n",
              "dtype: int64"
            ]
          },
          "metadata": {
            "tags": []
          },
          "execution_count": 14
        }
      ]
    },
    {
      "metadata": {
        "id": "_evZS9emj6nn",
        "colab_type": "code",
        "colab": {}
      },
      "cell_type": "code",
      "source": [
        "#Selección de elementos de una serie.\n",
        "s[0]\n",
        "\n",
        "s[:2]"
      ],
      "execution_count": 0,
      "outputs": []
    },
    {
      "metadata": {
        "id": "cJLGtSiIPEj2",
        "colab_type": "text"
      },
      "cell_type": "markdown",
      "source": [
        "Las series cuentan con un conjunto de funciones definidas sobre ellas, entre las que se encuentran las funciones estadísticas estandar. Una de las propiedades para operar sobre las series, es similar a la operación sobre los arrays de Numpay, soportan pedirles condiciones lógicas."
      ]
    },
    {
      "metadata": {
        "id": "wZ2IFdfPkPW8",
        "colab_type": "code",
        "outputId": "006903eb-2375-4635-b8c8-e3da58d7dc28",
        "colab": {
          "base_uri": "https://localhost:8080/",
          "height": 68
        }
      },
      "cell_type": "code",
      "source": [
        "#Se pide tomar todos los elementos que cumplen una condición\n",
        "s[s > s.median()]"
      ],
      "execution_count": 0,
      "outputs": [
        {
          "output_type": "execute_result",
          "data": {
            "text/plain": [
              "c   -0.270267\n",
              "e    0.546955\n",
              "dtype: float64"
            ]
          },
          "metadata": {
            "tags": []
          },
          "execution_count": 25
        }
      ]
    },
    {
      "metadata": {
        "id": "00Yrojk6PsaD",
        "colab_type": "text"
      },
      "cell_type": "markdown",
      "source": [
        "También se puede operar sobre los índices de la serie para seleccionar algunas elemetos."
      ]
    },
    {
      "metadata": {
        "id": "BDpT3q7PkfUh",
        "colab_type": "code",
        "outputId": "6c7db2fe-5750-4972-a9de-26f1f7654305",
        "colab": {
          "base_uri": "https://localhost:8080/",
          "height": 85
        }
      },
      "cell_type": "code",
      "source": [
        "#Operación de selección por posición\n",
        "s[[4, 3, 1]]"
      ],
      "execution_count": 0,
      "outputs": [
        {
          "output_type": "execute_result",
          "data": {
            "text/plain": [
              "e    0.546955\n",
              "d   -1.785952\n",
              "b   -1.823973\n",
              "dtype: float64"
            ]
          },
          "metadata": {
            "tags": []
          },
          "execution_count": 26
        }
      ]
    },
    {
      "metadata": {
        "id": "tOp329JaP5ZI",
        "colab_type": "text"
      },
      "cell_type": "markdown",
      "source": [
        "Se mostró que cuentan las series con ciertas funciones (ejemplo s.mean), pero es posible que la función que necesitamos no se encuentra en Pandas, pero si en Numpy. Así que se puede aplicar la función directamente y solo afecta los valores."
      ]
    },
    {
      "metadata": {
        "id": "KDRjM2r4kj_3",
        "colab_type": "code",
        "outputId": "2cfe1ed8-6c2d-4aa7-fc7a-a47a7ae00413",
        "colab": {
          "base_uri": "https://localhost:8080/",
          "height": 119
        }
      },
      "cell_type": "code",
      "source": [
        "#Aplicación de una función de numpy sobre los valores de la serie\n",
        "np.log(s+10)"
      ],
      "execution_count": 0,
      "outputs": [
        {
          "output_type": "execute_result",
          "data": {
            "text/plain": [
              "a    2.180639\n",
              "b    2.101206\n",
              "c    2.275186\n",
              "d    2.105846\n",
              "e    2.355837\n",
              "dtype: float64"
            ]
          },
          "metadata": {
            "tags": []
          },
          "execution_count": 28
        }
      ]
    },
    {
      "metadata": {
        "id": "hNFCVld0QQK7",
        "colab_type": "text"
      },
      "cell_type": "markdown",
      "source": [
        "Como objetos en Python, también la series soportan operciones entre ellas."
      ]
    },
    {
      "metadata": {
        "id": "HYYXhna8koOp",
        "colab_type": "code",
        "outputId": "3eac3706-b99e-4bea-8947-2ea4acf4249d",
        "colab": {
          "base_uri": "https://localhost:8080/",
          "height": 119
        }
      },
      "cell_type": "code",
      "source": [
        "#Suma de dos series\n",
        "s+s"
      ],
      "execution_count": 0,
      "outputs": [
        {
          "output_type": "execute_result",
          "data": {
            "text/plain": [
              "a   -2.296082\n",
              "b   -3.647946\n",
              "c   -0.540534\n",
              "d   -3.571903\n",
              "e    1.093910\n",
              "dtype: float64"
            ]
          },
          "metadata": {
            "tags": []
          },
          "execution_count": 29
        }
      ]
    },
    {
      "metadata": {
        "id": "vp3OaDpQk4gW",
        "colab_type": "code",
        "outputId": "a64cc949-2f3e-4f00-8aee-811ea36331a3",
        "colab": {
          "base_uri": "https://localhost:8080/",
          "height": 119
        }
      },
      "cell_type": "code",
      "source": [
        "#Multiplicación de la serie\n",
        "s*2"
      ],
      "execution_count": 0,
      "outputs": [
        {
          "output_type": "execute_result",
          "data": {
            "text/plain": [
              "a   -2.296082\n",
              "b   -3.647946\n",
              "c   -0.540534\n",
              "d   -3.571903\n",
              "e    1.093910\n",
              "dtype: float64"
            ]
          },
          "metadata": {
            "tags": []
          },
          "execution_count": 30
        }
      ]
    },
    {
      "metadata": {
        "id": "kTjzXZNxQnls",
        "colab_type": "text"
      },
      "cell_type": "markdown",
      "source": [
        "Como se mencionó en la lección 2 se mencionó la relación entre los elementos de Pandas y Numpy, el siguiente código es un ejemplo de operación sobre las series vs sobre el arreglo de la serie."
      ]
    },
    {
      "metadata": {
        "id": "F-pZRlU9k5o0",
        "colab_type": "code",
        "outputId": "6337eff1-aa31-44b6-c84d-064ff582b97f",
        "colab": {
          "base_uri": "https://localhost:8080/",
          "height": 34
        }
      },
      "cell_type": "code",
      "source": [
        "#Se opera sobre el arreglo\n",
        "s.values[s>s.values.mean()]\n",
        "\n"
      ],
      "execution_count": 0,
      "outputs": [
        {
          "output_type": "execute_result",
          "data": {
            "text/plain": [
              "array([-0.27026716,  0.54695501])"
            ]
          },
          "metadata": {
            "tags": []
          },
          "execution_count": 36
        }
      ]
    },
    {
      "metadata": {
        "id": "2TIe9qjolENH",
        "colab_type": "code",
        "outputId": "e694f1b3-268b-4c83-d3a6-73a6a6d51766",
        "colab": {
          "base_uri": "https://localhost:8080/",
          "height": 68
        }
      },
      "cell_type": "code",
      "source": [
        "#Se realiza la misma operación, pero sobre la serie.\n",
        "s[s>s.mean()]"
      ],
      "execution_count": 0,
      "outputs": [
        {
          "output_type": "execute_result",
          "data": {
            "text/plain": [
              "c   -0.270267\n",
              "e    0.546955\n",
              "dtype: float64"
            ]
          },
          "metadata": {
            "tags": []
          },
          "execution_count": 37
        }
      ]
    },
    {
      "metadata": {
        "id": "qVPVRlg_RET3",
        "colab_type": "text"
      },
      "cell_type": "markdown",
      "source": [
        "En la lección 2, se mencionó que todos los elementos de la serie, deben de ser homogéneos. Es decir, deben de ser del mismo tipo. ¿Qué sucede con el siguiente ejemplo?"
      ]
    },
    {
      "metadata": {
        "id": "NI7-6IxnlWbK",
        "colab_type": "code",
        "outputId": "23406f53-0d62-4341-b06d-e26e5cdb3f5b",
        "colab": {
          "base_uri": "https://localhost:8080/",
          "height": 119
        }
      },
      "cell_type": "code",
      "source": [
        "#Se define la serie\n",
        "s = pd.Series([7, 'Heisenberg', 3.14, -1789710578, 'Happy Eating!'])\n",
        "s"
      ],
      "execution_count": 0,
      "outputs": [
        {
          "output_type": "execute_result",
          "data": {
            "text/plain": [
              "0                7\n",
              "1       Heisenberg\n",
              "2             3.14\n",
              "3      -1789710578\n",
              "4    Happy Eating!\n",
              "dtype: object"
            ]
          },
          "metadata": {
            "tags": []
          },
          "execution_count": 38
        }
      ]
    },
    {
      "metadata": {
        "id": "3JlVaydZRTfp",
        "colab_type": "text"
      },
      "cell_type": "markdown",
      "source": [
        "Se observa que el tipo de dato es np.object. Esto implica que todos los elementos de la serie son del mismo tipo, pero si se revisa cada elemento de la serie se observará que cada elemento tiene un tipo diferente."
      ]
    },
    {
      "metadata": {
        "id": "3DWmq83_lye3",
        "colab_type": "code",
        "outputId": "c16a9212-381b-4ba7-847d-0fdbdcb55854",
        "colab": {
          "base_uri": "https://localhost:8080/",
          "height": 102
        }
      },
      "cell_type": "code",
      "source": [
        "for element in s:\n",
        "  print(type(element))"
      ],
      "execution_count": 0,
      "outputs": [
        {
          "output_type": "stream",
          "text": [
            "<class 'int'>\n",
            "<class 'str'>\n",
            "<class 'float'>\n",
            "<class 'int'>\n",
            "<class 'str'>\n"
          ],
          "name": "stdout"
        }
      ]
    },
    {
      "metadata": {
        "id": "0nDqjo1jRsiU",
        "colab_type": "text"
      },
      "cell_type": "markdown",
      "source": [
        "Conclusión, la serie pese a ser definida con elementos de tipo diferente para Pandas es intepretado como un mismo tipo (para ser homogeneo) y tiene por lo cual las propiedades del tipo que se definió. Además, el dato relevante sobre las series es que por estructura cuenta con un conjunto de índices y de valores. \n",
        "\n",
        "### DataFrames\n",
        "\n",
        "El siguiente ejemplo define un DF desde un diccionario."
      ]
    },
    {
      "metadata": {
        "id": "qzPV77hfl0hn",
        "colab_type": "code",
        "colab": {}
      },
      "cell_type": "code",
      "source": [
        "#Definición del diccionario\n",
        "d = {'one' : pd.Series([1., 2., 3.], index=['a', 'b', 'c']),'two' : pd.Series([1., 2., 3., 4.], index=['a', 'b', 'c', 'd'])}"
      ],
      "execution_count": 0,
      "outputs": []
    },
    {
      "metadata": {
        "id": "UTBxwjX8o92B",
        "colab_type": "code",
        "outputId": "b0254206-dc32-4df9-e06f-5cc35acff6c6",
        "colab": {
          "base_uri": "https://localhost:8080/",
          "height": 153
        }
      },
      "cell_type": "code",
      "source": [
        "d"
      ],
      "execution_count": 0,
      "outputs": [
        {
          "output_type": "execute_result",
          "data": {
            "text/plain": [
              "{'one': a    1.0\n",
              " b    2.0\n",
              " c    3.0\n",
              " dtype: float64, 'two': a    1.0\n",
              " b    2.0\n",
              " c    3.0\n",
              " d    4.0\n",
              " dtype: float64}"
            ]
          },
          "metadata": {
            "tags": []
          },
          "execution_count": 43
        }
      ]
    },
    {
      "metadata": {
        "id": "ejpb00Wco-iN",
        "colab_type": "code",
        "outputId": "f240d380-c40b-4d3a-bd1e-0fcc6c48d358",
        "colab": {
          "base_uri": "https://localhost:8080/",
          "height": 173
        }
      },
      "cell_type": "code",
      "source": [
        "#Definción del DF\n",
        "df = pd.DataFrame(d)\n",
        " df"
      ],
      "execution_count": 0,
      "outputs": [
        {
          "output_type": "execute_result",
          "data": {
            "text/html": [
              "<div>\n",
              "<style scoped>\n",
              "    .dataframe tbody tr th:only-of-type {\n",
              "        vertical-align: middle;\n",
              "    }\n",
              "\n",
              "    .dataframe tbody tr th {\n",
              "        vertical-align: top;\n",
              "    }\n",
              "\n",
              "    .dataframe thead th {\n",
              "        text-align: right;\n",
              "    }\n",
              "</style>\n",
              "<table border=\"1\" class=\"dataframe\">\n",
              "  <thead>\n",
              "    <tr style=\"text-align: right;\">\n",
              "      <th></th>\n",
              "      <th>one</th>\n",
              "      <th>two</th>\n",
              "    </tr>\n",
              "  </thead>\n",
              "  <tbody>\n",
              "    <tr>\n",
              "      <th>a</th>\n",
              "      <td>1.0</td>\n",
              "      <td>1.0</td>\n",
              "    </tr>\n",
              "    <tr>\n",
              "      <th>b</th>\n",
              "      <td>2.0</td>\n",
              "      <td>2.0</td>\n",
              "    </tr>\n",
              "    <tr>\n",
              "      <th>c</th>\n",
              "      <td>3.0</td>\n",
              "      <td>3.0</td>\n",
              "    </tr>\n",
              "    <tr>\n",
              "      <th>d</th>\n",
              "      <td>NaN</td>\n",
              "      <td>4.0</td>\n",
              "    </tr>\n",
              "  </tbody>\n",
              "</table>\n",
              "</div>"
            ],
            "text/plain": [
              "   one  two\n",
              "a  1.0  1.0\n",
              "b  2.0  2.0\n",
              "c  3.0  3.0\n",
              "d  NaN  4.0"
            ]
          },
          "metadata": {
            "tags": []
          },
          "execution_count": 44
        }
      ]
    },
    {
      "metadata": {
        "id": "tOuETZ7WS6wK",
        "colab_type": "text"
      },
      "cell_type": "markdown",
      "source": [
        "Pero no es el único modo de definir un DF."
      ]
    },
    {
      "metadata": {
        "id": "SF9Bs73VpFlL",
        "colab_type": "code",
        "colab": {}
      },
      "cell_type": "code",
      "source": [
        "#Definicion de un DF desde un diccionario con listas.\n",
        "d = {'one' : [1., 2., 3., 4.],'two' : [4., 3., 2., 1.]}"
      ],
      "execution_count": 0,
      "outputs": []
    },
    {
      "metadata": {
        "id": "f8nL4mJJpMw4",
        "colab_type": "code",
        "outputId": "a138e917-0dba-4e69-ecd2-83cc69aa1804",
        "colab": {
          "base_uri": "https://localhost:8080/",
          "height": 173
        }
      },
      "cell_type": "code",
      "source": [
        "#Definción del DF\n",
        "pd.DataFrame(d)"
      ],
      "execution_count": 0,
      "outputs": [
        {
          "output_type": "execute_result",
          "data": {
            "text/html": [
              "<div>\n",
              "<style scoped>\n",
              "    .dataframe tbody tr th:only-of-type {\n",
              "        vertical-align: middle;\n",
              "    }\n",
              "\n",
              "    .dataframe tbody tr th {\n",
              "        vertical-align: top;\n",
              "    }\n",
              "\n",
              "    .dataframe thead th {\n",
              "        text-align: right;\n",
              "    }\n",
              "</style>\n",
              "<table border=\"1\" class=\"dataframe\">\n",
              "  <thead>\n",
              "    <tr style=\"text-align: right;\">\n",
              "      <th></th>\n",
              "      <th>one</th>\n",
              "      <th>two</th>\n",
              "    </tr>\n",
              "  </thead>\n",
              "  <tbody>\n",
              "    <tr>\n",
              "      <th>0</th>\n",
              "      <td>1.0</td>\n",
              "      <td>4.0</td>\n",
              "    </tr>\n",
              "    <tr>\n",
              "      <th>1</th>\n",
              "      <td>2.0</td>\n",
              "      <td>3.0</td>\n",
              "    </tr>\n",
              "    <tr>\n",
              "      <th>2</th>\n",
              "      <td>3.0</td>\n",
              "      <td>2.0</td>\n",
              "    </tr>\n",
              "    <tr>\n",
              "      <th>3</th>\n",
              "      <td>4.0</td>\n",
              "      <td>1.0</td>\n",
              "    </tr>\n",
              "  </tbody>\n",
              "</table>\n",
              "</div>"
            ],
            "text/plain": [
              "   one  two\n",
              "0  1.0  4.0\n",
              "1  2.0  3.0\n",
              "2  3.0  2.0\n",
              "3  4.0  1.0"
            ]
          },
          "metadata": {
            "tags": []
          },
          "execution_count": 46
        }
      ]
    },
    {
      "metadata": {
        "id": "hwL1Wl6WpOxf",
        "colab_type": "code",
        "outputId": "d3b4fa92-c391-4851-88ed-a23633cb8dab",
        "colab": {
          "base_uri": "https://localhost:8080/",
          "height": 111
        }
      },
      "cell_type": "code",
      "source": [
        "#Definición desde una lista de Diccionarios\n",
        "data2 = [{'a': 1, 'b': 2}, {'a': 5, 'b': 10, 'c': 20}]\n",
        "pd.DataFrame(data2)"
      ],
      "execution_count": 0,
      "outputs": [
        {
          "output_type": "execute_result",
          "data": {
            "text/html": [
              "<div>\n",
              "<style scoped>\n",
              "    .dataframe tbody tr th:only-of-type {\n",
              "        vertical-align: middle;\n",
              "    }\n",
              "\n",
              "    .dataframe tbody tr th {\n",
              "        vertical-align: top;\n",
              "    }\n",
              "\n",
              "    .dataframe thead th {\n",
              "        text-align: right;\n",
              "    }\n",
              "</style>\n",
              "<table border=\"1\" class=\"dataframe\">\n",
              "  <thead>\n",
              "    <tr style=\"text-align: right;\">\n",
              "      <th></th>\n",
              "      <th>a</th>\n",
              "      <th>b</th>\n",
              "      <th>c</th>\n",
              "    </tr>\n",
              "  </thead>\n",
              "  <tbody>\n",
              "    <tr>\n",
              "      <th>0</th>\n",
              "      <td>1</td>\n",
              "      <td>2</td>\n",
              "      <td>NaN</td>\n",
              "    </tr>\n",
              "    <tr>\n",
              "      <th>1</th>\n",
              "      <td>5</td>\n",
              "      <td>10</td>\n",
              "      <td>20.0</td>\n",
              "    </tr>\n",
              "  </tbody>\n",
              "</table>\n",
              "</div>"
            ],
            "text/plain": [
              "   a   b     c\n",
              "0  1   2   NaN\n",
              "1  5  10  20.0"
            ]
          },
          "metadata": {
            "tags": []
          },
          "execution_count": 47
        }
      ]
    },
    {
      "metadata": {
        "id": "MkvBOsPPphEu",
        "colab_type": "code",
        "outputId": "b1094aae-77fb-479d-9968-0f377f489562",
        "colab": {
          "base_uri": "https://localhost:8080/",
          "height": 173
        }
      },
      "cell_type": "code",
      "source": [
        "#Definicióndesde un diccionario con keys como tuplas\n",
        "pd.DataFrame({('a', 'b'): {('A', 'B'): 1, ('A', 'C'): 2},\n",
        "                  ('a', 'a'): {('A', 'C'): 3, ('A', 'B'): 4},\n",
        "                  ('a', 'c'): {('A', 'B'): 5, ('A', 'C'): 6},\n",
        "                  ('b', 'a'): {('A', 'C'): 7, ('A', 'B'): 8},\n",
        "                  ('b', 'b'): {('A', 'D'): 9, ('A', 'B'): 10}})\n",
        "    "
      ],
      "execution_count": 0,
      "outputs": [
        {
          "output_type": "execute_result",
          "data": {
            "text/html": [
              "<div>\n",
              "<style scoped>\n",
              "    .dataframe tbody tr th:only-of-type {\n",
              "        vertical-align: middle;\n",
              "    }\n",
              "\n",
              "    .dataframe tbody tr th {\n",
              "        vertical-align: top;\n",
              "    }\n",
              "\n",
              "    .dataframe thead tr th {\n",
              "        text-align: left;\n",
              "    }\n",
              "</style>\n",
              "<table border=\"1\" class=\"dataframe\">\n",
              "  <thead>\n",
              "    <tr>\n",
              "      <th></th>\n",
              "      <th></th>\n",
              "      <th colspan=\"3\" halign=\"left\">a</th>\n",
              "      <th colspan=\"2\" halign=\"left\">b</th>\n",
              "    </tr>\n",
              "    <tr>\n",
              "      <th></th>\n",
              "      <th></th>\n",
              "      <th>a</th>\n",
              "      <th>b</th>\n",
              "      <th>c</th>\n",
              "      <th>a</th>\n",
              "      <th>b</th>\n",
              "    </tr>\n",
              "  </thead>\n",
              "  <tbody>\n",
              "    <tr>\n",
              "      <th rowspan=\"3\" valign=\"top\">A</th>\n",
              "      <th>B</th>\n",
              "      <td>4.0</td>\n",
              "      <td>1.0</td>\n",
              "      <td>5.0</td>\n",
              "      <td>8.0</td>\n",
              "      <td>10.0</td>\n",
              "    </tr>\n",
              "    <tr>\n",
              "      <th>C</th>\n",
              "      <td>3.0</td>\n",
              "      <td>2.0</td>\n",
              "      <td>6.0</td>\n",
              "      <td>7.0</td>\n",
              "      <td>NaN</td>\n",
              "    </tr>\n",
              "    <tr>\n",
              "      <th>D</th>\n",
              "      <td>NaN</td>\n",
              "      <td>NaN</td>\n",
              "      <td>NaN</td>\n",
              "      <td>NaN</td>\n",
              "      <td>9.0</td>\n",
              "    </tr>\n",
              "  </tbody>\n",
              "</table>\n",
              "</div>"
            ],
            "text/plain": [
              "       a              b      \n",
              "       a    b    c    a     b\n",
              "A B  4.0  1.0  5.0  8.0  10.0\n",
              "  C  3.0  2.0  6.0  7.0   NaN\n",
              "  D  NaN  NaN  NaN  NaN   9.0"
            ]
          },
          "metadata": {
            "tags": []
          },
          "execution_count": 48
        }
      ]
    },
    {
      "metadata": {
        "id": "K7eAMbSryl-t",
        "colab_type": "text"
      },
      "cell_type": "markdown",
      "source": [
        "Como se comentó en la lección 2, se puede hacer elección de columnas tanto por posición (número de columna) como por localización (nombre), debido a que los valores de los DataFrame son arreglos en Numpy, se operan con las columnas con operaciones vectorizadas."
      ]
    },
    {
      "metadata": {
        "id": "wkveFx23pqtd",
        "colab_type": "code",
        "outputId": "6a7e860f-03c6-450d-a72f-71273ff32b7e",
        "colab": {
          "base_uri": "https://localhost:8080/",
          "height": 102
        }
      },
      "cell_type": "code",
      "source": [
        "df['one']"
      ],
      "execution_count": 0,
      "outputs": [
        {
          "output_type": "execute_result",
          "data": {
            "text/plain": [
              "a    1.0\n",
              "b    2.0\n",
              "c    3.0\n",
              "d    NaN\n",
              "Name: one, dtype: float64"
            ]
          },
          "metadata": {
            "tags": []
          },
          "execution_count": 49
        }
      ]
    },
    {
      "metadata": {
        "id": "kd7Nhg87p3lV",
        "colab_type": "code",
        "outputId": "61687abd-7c08-4729-eaec-6ef85ada98f3",
        "colab": {
          "base_uri": "https://localhost:8080/",
          "height": 173
        }
      },
      "cell_type": "code",
      "source": [
        "#Definición de una nueva columna \n",
        "df['three'] = df['one'] * df['two']\n",
        "\n",
        "df"
      ],
      "execution_count": 0,
      "outputs": [
        {
          "output_type": "execute_result",
          "data": {
            "text/html": [
              "<div>\n",
              "<style scoped>\n",
              "    .dataframe tbody tr th:only-of-type {\n",
              "        vertical-align: middle;\n",
              "    }\n",
              "\n",
              "    .dataframe tbody tr th {\n",
              "        vertical-align: top;\n",
              "    }\n",
              "\n",
              "    .dataframe thead th {\n",
              "        text-align: right;\n",
              "    }\n",
              "</style>\n",
              "<table border=\"1\" class=\"dataframe\">\n",
              "  <thead>\n",
              "    <tr style=\"text-align: right;\">\n",
              "      <th></th>\n",
              "      <th>one</th>\n",
              "      <th>two</th>\n",
              "      <th>three</th>\n",
              "    </tr>\n",
              "  </thead>\n",
              "  <tbody>\n",
              "    <tr>\n",
              "      <th>a</th>\n",
              "      <td>1.0</td>\n",
              "      <td>1.0</td>\n",
              "      <td>1.0</td>\n",
              "    </tr>\n",
              "    <tr>\n",
              "      <th>b</th>\n",
              "      <td>2.0</td>\n",
              "      <td>2.0</td>\n",
              "      <td>4.0</td>\n",
              "    </tr>\n",
              "    <tr>\n",
              "      <th>c</th>\n",
              "      <td>3.0</td>\n",
              "      <td>3.0</td>\n",
              "      <td>9.0</td>\n",
              "    </tr>\n",
              "    <tr>\n",
              "      <th>d</th>\n",
              "      <td>NaN</td>\n",
              "      <td>4.0</td>\n",
              "      <td>NaN</td>\n",
              "    </tr>\n",
              "  </tbody>\n",
              "</table>\n",
              "</div>"
            ],
            "text/plain": [
              "   one  two  three\n",
              "a  1.0  1.0    1.0\n",
              "b  2.0  2.0    4.0\n",
              "c  3.0  3.0    9.0\n",
              "d  NaN  4.0    NaN"
            ]
          },
          "metadata": {
            "tags": []
          },
          "execution_count": 51
        }
      ]
    },
    {
      "metadata": {
        "id": "Y457Nge4qCK7",
        "colab_type": "code",
        "outputId": "4c3b3f96-3409-4a01-e157-3b552b5a7212",
        "colab": {
          "base_uri": "https://localhost:8080/",
          "height": 173
        }
      },
      "cell_type": "code",
      "source": [
        "#Definición de una nueva columna pero desde una condicion lógica\n",
        "df['flag'] = df['one'] > 2\n",
        "\n",
        "df"
      ],
      "execution_count": 0,
      "outputs": [
        {
          "output_type": "execute_result",
          "data": {
            "text/html": [
              "<div>\n",
              "<style scoped>\n",
              "    .dataframe tbody tr th:only-of-type {\n",
              "        vertical-align: middle;\n",
              "    }\n",
              "\n",
              "    .dataframe tbody tr th {\n",
              "        vertical-align: top;\n",
              "    }\n",
              "\n",
              "    .dataframe thead th {\n",
              "        text-align: right;\n",
              "    }\n",
              "</style>\n",
              "<table border=\"1\" class=\"dataframe\">\n",
              "  <thead>\n",
              "    <tr style=\"text-align: right;\">\n",
              "      <th></th>\n",
              "      <th>one</th>\n",
              "      <th>two</th>\n",
              "      <th>three</th>\n",
              "      <th>flag</th>\n",
              "    </tr>\n",
              "  </thead>\n",
              "  <tbody>\n",
              "    <tr>\n",
              "      <th>a</th>\n",
              "      <td>1.0</td>\n",
              "      <td>1.0</td>\n",
              "      <td>1.0</td>\n",
              "      <td>False</td>\n",
              "    </tr>\n",
              "    <tr>\n",
              "      <th>b</th>\n",
              "      <td>2.0</td>\n",
              "      <td>2.0</td>\n",
              "      <td>4.0</td>\n",
              "      <td>False</td>\n",
              "    </tr>\n",
              "    <tr>\n",
              "      <th>c</th>\n",
              "      <td>3.0</td>\n",
              "      <td>3.0</td>\n",
              "      <td>9.0</td>\n",
              "      <td>True</td>\n",
              "    </tr>\n",
              "    <tr>\n",
              "      <th>d</th>\n",
              "      <td>NaN</td>\n",
              "      <td>4.0</td>\n",
              "      <td>NaN</td>\n",
              "      <td>False</td>\n",
              "    </tr>\n",
              "  </tbody>\n",
              "</table>\n",
              "</div>"
            ],
            "text/plain": [
              "   one  two  three   flag\n",
              "a  1.0  1.0    1.0  False\n",
              "b  2.0  2.0    4.0  False\n",
              "c  3.0  3.0    9.0   True\n",
              "d  NaN  4.0    NaN  False"
            ]
          },
          "metadata": {
            "tags": []
          },
          "execution_count": 52
        }
      ]
    },
    {
      "metadata": {
        "id": "PJxbyLOlqFZe",
        "colab_type": "code",
        "outputId": "85827581-467f-469b-9044-0058ddccf991",
        "colab": {
          "base_uri": "https://localhost:8080/",
          "height": 173
        }
      },
      "cell_type": "code",
      "source": [
        "#Selección de filas de una columna y definición de una columna\n",
        "df['one_trunc'] = df['one'][:2]\n",
        "df"
      ],
      "execution_count": 0,
      "outputs": [
        {
          "output_type": "execute_result",
          "data": {
            "text/html": [
              "<div>\n",
              "<style scoped>\n",
              "    .dataframe tbody tr th:only-of-type {\n",
              "        vertical-align: middle;\n",
              "    }\n",
              "\n",
              "    .dataframe tbody tr th {\n",
              "        vertical-align: top;\n",
              "    }\n",
              "\n",
              "    .dataframe thead th {\n",
              "        text-align: right;\n",
              "    }\n",
              "</style>\n",
              "<table border=\"1\" class=\"dataframe\">\n",
              "  <thead>\n",
              "    <tr style=\"text-align: right;\">\n",
              "      <th></th>\n",
              "      <th>one</th>\n",
              "      <th>two</th>\n",
              "      <th>three</th>\n",
              "      <th>flag</th>\n",
              "      <th>one_trunc</th>\n",
              "    </tr>\n",
              "  </thead>\n",
              "  <tbody>\n",
              "    <tr>\n",
              "      <th>a</th>\n",
              "      <td>1.0</td>\n",
              "      <td>1.0</td>\n",
              "      <td>1.0</td>\n",
              "      <td>False</td>\n",
              "      <td>1.0</td>\n",
              "    </tr>\n",
              "    <tr>\n",
              "      <th>b</th>\n",
              "      <td>2.0</td>\n",
              "      <td>2.0</td>\n",
              "      <td>4.0</td>\n",
              "      <td>False</td>\n",
              "      <td>2.0</td>\n",
              "    </tr>\n",
              "    <tr>\n",
              "      <th>c</th>\n",
              "      <td>3.0</td>\n",
              "      <td>3.0</td>\n",
              "      <td>9.0</td>\n",
              "      <td>True</td>\n",
              "      <td>NaN</td>\n",
              "    </tr>\n",
              "    <tr>\n",
              "      <th>d</th>\n",
              "      <td>NaN</td>\n",
              "      <td>4.0</td>\n",
              "      <td>NaN</td>\n",
              "      <td>False</td>\n",
              "      <td>NaN</td>\n",
              "    </tr>\n",
              "  </tbody>\n",
              "</table>\n",
              "</div>"
            ],
            "text/plain": [
              "   one  two  three   flag  one_trunc\n",
              "a  1.0  1.0    1.0  False        1.0\n",
              "b  2.0  2.0    4.0  False        2.0\n",
              "c  3.0  3.0    9.0   True        NaN\n",
              "d  NaN  4.0    NaN  False        NaN"
            ]
          },
          "metadata": {
            "tags": []
          },
          "execution_count": 54
        }
      ]
    },
    {
      "metadata": {
        "id": "cTrYWw1XzS1u",
        "colab_type": "text"
      },
      "cell_type": "markdown",
      "source": [
        "Los ejemplos anteriores mostraron que cuando se crea una nueva columna, esta se agrega al final del DF. Pero puede presentarse la situación donde necesitamos agregar una columan en alguna posición intermedia. El siguiente código es un ejemplo para hacer esa operación."
      ]
    },
    {
      "metadata": {
        "id": "G5CyhWHuqQVZ",
        "colab_type": "code",
        "outputId": "08206488-bcc4-446d-d6a8-39bd4466a33e",
        "colab": {
          "base_uri": "https://localhost:8080/",
          "height": 173
        }
      },
      "cell_type": "code",
      "source": [
        "#Se inserta una columna\n",
        "df.insert(1, 'bar', df['one'])\n",
        "df "
      ],
      "execution_count": 0,
      "outputs": [
        {
          "output_type": "execute_result",
          "data": {
            "text/html": [
              "<div>\n",
              "<style scoped>\n",
              "    .dataframe tbody tr th:only-of-type {\n",
              "        vertical-align: middle;\n",
              "    }\n",
              "\n",
              "    .dataframe tbody tr th {\n",
              "        vertical-align: top;\n",
              "    }\n",
              "\n",
              "    .dataframe thead th {\n",
              "        text-align: right;\n",
              "    }\n",
              "</style>\n",
              "<table border=\"1\" class=\"dataframe\">\n",
              "  <thead>\n",
              "    <tr style=\"text-align: right;\">\n",
              "      <th></th>\n",
              "      <th>one</th>\n",
              "      <th>bar</th>\n",
              "      <th>two</th>\n",
              "      <th>three</th>\n",
              "      <th>flag</th>\n",
              "      <th>one_trunc</th>\n",
              "    </tr>\n",
              "  </thead>\n",
              "  <tbody>\n",
              "    <tr>\n",
              "      <th>a</th>\n",
              "      <td>1.0</td>\n",
              "      <td>1.0</td>\n",
              "      <td>1.0</td>\n",
              "      <td>1.0</td>\n",
              "      <td>False</td>\n",
              "      <td>1.0</td>\n",
              "    </tr>\n",
              "    <tr>\n",
              "      <th>b</th>\n",
              "      <td>2.0</td>\n",
              "      <td>2.0</td>\n",
              "      <td>2.0</td>\n",
              "      <td>4.0</td>\n",
              "      <td>False</td>\n",
              "      <td>2.0</td>\n",
              "    </tr>\n",
              "    <tr>\n",
              "      <th>c</th>\n",
              "      <td>3.0</td>\n",
              "      <td>3.0</td>\n",
              "      <td>3.0</td>\n",
              "      <td>9.0</td>\n",
              "      <td>True</td>\n",
              "      <td>NaN</td>\n",
              "    </tr>\n",
              "    <tr>\n",
              "      <th>d</th>\n",
              "      <td>NaN</td>\n",
              "      <td>NaN</td>\n",
              "      <td>4.0</td>\n",
              "      <td>NaN</td>\n",
              "      <td>False</td>\n",
              "      <td>NaN</td>\n",
              "    </tr>\n",
              "  </tbody>\n",
              "</table>\n",
              "</div>"
            ],
            "text/plain": [
              "   one  bar  two  three   flag  one_trunc\n",
              "a  1.0  1.0  1.0    1.0  False        1.0\n",
              "b  2.0  2.0  2.0    4.0  False        2.0\n",
              "c  3.0  3.0  3.0    9.0   True        NaN\n",
              "d  NaN  NaN  4.0    NaN  False        NaN"
            ]
          },
          "metadata": {
            "tags": []
          },
          "execution_count": 55
        }
      ]
    },
    {
      "metadata": {
        "id": "yUyyNkTOzm5g",
        "colab_type": "text"
      },
      "cell_type": "markdown",
      "source": [
        "Los valores booleanos y los NaN cuando se opera con el DF respetan la operación como elementos de Numpy."
      ]
    },
    {
      "metadata": {
        "id": "2-rmcH37qWfZ",
        "colab_type": "code",
        "outputId": "2959151f-85fe-44de-b828-09db477984ac",
        "colab": {
          "base_uri": "https://localhost:8080/",
          "height": 173
        }
      },
      "cell_type": "code",
      "source": [
        "#Operación vectorizda sobre el DF\n",
        "df*5"
      ],
      "execution_count": 0,
      "outputs": [
        {
          "output_type": "execute_result",
          "data": {
            "text/html": [
              "<div>\n",
              "<style scoped>\n",
              "    .dataframe tbody tr th:only-of-type {\n",
              "        vertical-align: middle;\n",
              "    }\n",
              "\n",
              "    .dataframe tbody tr th {\n",
              "        vertical-align: top;\n",
              "    }\n",
              "\n",
              "    .dataframe thead th {\n",
              "        text-align: right;\n",
              "    }\n",
              "</style>\n",
              "<table border=\"1\" class=\"dataframe\">\n",
              "  <thead>\n",
              "    <tr style=\"text-align: right;\">\n",
              "      <th></th>\n",
              "      <th>one</th>\n",
              "      <th>bar</th>\n",
              "      <th>two</th>\n",
              "      <th>three</th>\n",
              "      <th>flag</th>\n",
              "      <th>one_trunc</th>\n",
              "    </tr>\n",
              "  </thead>\n",
              "  <tbody>\n",
              "    <tr>\n",
              "      <th>a</th>\n",
              "      <td>5.0</td>\n",
              "      <td>5.0</td>\n",
              "      <td>5.0</td>\n",
              "      <td>5.0</td>\n",
              "      <td>0</td>\n",
              "      <td>5.0</td>\n",
              "    </tr>\n",
              "    <tr>\n",
              "      <th>b</th>\n",
              "      <td>10.0</td>\n",
              "      <td>10.0</td>\n",
              "      <td>10.0</td>\n",
              "      <td>20.0</td>\n",
              "      <td>0</td>\n",
              "      <td>10.0</td>\n",
              "    </tr>\n",
              "    <tr>\n",
              "      <th>c</th>\n",
              "      <td>15.0</td>\n",
              "      <td>15.0</td>\n",
              "      <td>15.0</td>\n",
              "      <td>45.0</td>\n",
              "      <td>5</td>\n",
              "      <td>NaN</td>\n",
              "    </tr>\n",
              "    <tr>\n",
              "      <th>d</th>\n",
              "      <td>NaN</td>\n",
              "      <td>NaN</td>\n",
              "      <td>20.0</td>\n",
              "      <td>NaN</td>\n",
              "      <td>0</td>\n",
              "      <td>NaN</td>\n",
              "    </tr>\n",
              "  </tbody>\n",
              "</table>\n",
              "</div>"
            ],
            "text/plain": [
              "    one   bar   two  three flag  one_trunc\n",
              "a   5.0   5.0   5.0    5.0    0        5.0\n",
              "b  10.0  10.0  10.0   20.0    0       10.0\n",
              "c  15.0  15.0  15.0   45.0    5        NaN\n",
              "d   NaN   NaN  20.0    NaN    0        NaN"
            ]
          },
          "metadata": {
            "tags": []
          },
          "execution_count": 56
        }
      ]
    },
    {
      "metadata": {
        "id": "SEN_bhxPzyDJ",
        "colab_type": "text"
      },
      "cell_type": "markdown",
      "source": [
        "Similar al ejemplo en las Series, los DF cuantan con funciones definidas sobre ellos, pero si se necesita alguna función en Numpy puede ser aplicada sobre todo el DF."
      ]
    },
    {
      "metadata": {
        "id": "6tr55zgmqidc",
        "colab_type": "code",
        "outputId": "89a31c24-acd6-411a-ea25-9ed5e3975781",
        "colab": {
          "base_uri": "https://localhost:8080/",
          "height": 173
        }
      },
      "cell_type": "code",
      "source": [
        "np.exp(df.drop(labels=['flag'],axis=1))"
      ],
      "execution_count": 0,
      "outputs": [
        {
          "output_type": "execute_result",
          "data": {
            "text/html": [
              "<div>\n",
              "<style scoped>\n",
              "    .dataframe tbody tr th:only-of-type {\n",
              "        vertical-align: middle;\n",
              "    }\n",
              "\n",
              "    .dataframe tbody tr th {\n",
              "        vertical-align: top;\n",
              "    }\n",
              "\n",
              "    .dataframe thead th {\n",
              "        text-align: right;\n",
              "    }\n",
              "</style>\n",
              "<table border=\"1\" class=\"dataframe\">\n",
              "  <thead>\n",
              "    <tr style=\"text-align: right;\">\n",
              "      <th></th>\n",
              "      <th>one</th>\n",
              "      <th>bar</th>\n",
              "      <th>two</th>\n",
              "      <th>three</th>\n",
              "      <th>one_trunc</th>\n",
              "    </tr>\n",
              "  </thead>\n",
              "  <tbody>\n",
              "    <tr>\n",
              "      <th>a</th>\n",
              "      <td>2.718282</td>\n",
              "      <td>2.718282</td>\n",
              "      <td>2.718282</td>\n",
              "      <td>2.718282</td>\n",
              "      <td>2.718282</td>\n",
              "    </tr>\n",
              "    <tr>\n",
              "      <th>b</th>\n",
              "      <td>7.389056</td>\n",
              "      <td>7.389056</td>\n",
              "      <td>7.389056</td>\n",
              "      <td>54.598150</td>\n",
              "      <td>7.389056</td>\n",
              "    </tr>\n",
              "    <tr>\n",
              "      <th>c</th>\n",
              "      <td>20.085537</td>\n",
              "      <td>20.085537</td>\n",
              "      <td>20.085537</td>\n",
              "      <td>8103.083928</td>\n",
              "      <td>NaN</td>\n",
              "    </tr>\n",
              "    <tr>\n",
              "      <th>d</th>\n",
              "      <td>NaN</td>\n",
              "      <td>NaN</td>\n",
              "      <td>54.598150</td>\n",
              "      <td>NaN</td>\n",
              "      <td>NaN</td>\n",
              "    </tr>\n",
              "  </tbody>\n",
              "</table>\n",
              "</div>"
            ],
            "text/plain": [
              "         one        bar        two        three  one_trunc\n",
              "a   2.718282   2.718282   2.718282     2.718282   2.718282\n",
              "b   7.389056   7.389056   7.389056    54.598150   7.389056\n",
              "c  20.085537  20.085537  20.085537  8103.083928        NaN\n",
              "d        NaN        NaN  54.598150          NaN        NaN"
            ]
          },
          "metadata": {
            "tags": []
          },
          "execution_count": 62
        }
      ]
    },
    {
      "metadata": {
        "id": "mJSLH9U_0FAA",
        "colab_type": "text"
      },
      "cell_type": "markdown",
      "source": [
        "Los ejemplos anteriores son ejemplos sencillos sobre Series y DataFrame, pero en la mayoría de situaciones tanto las series como los DF serán creados desde un archivo o fuente donde tomaremos datos. Los siguientes ejemplos son pequeñas muestras del trabajo normal con la creación de DF."
      ]
    },
    {
      "metadata": {
        "id": "G7Qg-vuMqtS4",
        "colab_type": "code",
        "outputId": "01c9cefb-d876-4d8c-c670-27ab697007fc",
        "colab": {
          "base_uri": "https://localhost:8080/",
          "height": 264
        }
      },
      "cell_type": "code",
      "source": [
        "#Se define la ruta desde donde se cargará la tabla\n",
        "url = 'https://raw.github.com/gjreda/best-sandwiches/master/data/best-sandwiches-geocode.tsv'\n",
        "\n",
        "# Los datos se cargan usando un tipo de lectura a un DF.\n",
        "from_url = pd.read_table(url, sep='\\t')\n",
        "from_url.head(3)"
      ],
      "execution_count": 0,
      "outputs": [
        {
          "output_type": "execute_result",
          "data": {
            "text/html": [
              "<div>\n",
              "<style scoped>\n",
              "    .dataframe tbody tr th:only-of-type {\n",
              "        vertical-align: middle;\n",
              "    }\n",
              "\n",
              "    .dataframe tbody tr th {\n",
              "        vertical-align: top;\n",
              "    }\n",
              "\n",
              "    .dataframe thead th {\n",
              "        text-align: right;\n",
              "    }\n",
              "</style>\n",
              "<table border=\"1\" class=\"dataframe\">\n",
              "  <thead>\n",
              "    <tr style=\"text-align: right;\">\n",
              "      <th></th>\n",
              "      <th>rank</th>\n",
              "      <th>sandwich</th>\n",
              "      <th>restaurant</th>\n",
              "      <th>description</th>\n",
              "      <th>price</th>\n",
              "      <th>address</th>\n",
              "      <th>city</th>\n",
              "      <th>phone</th>\n",
              "      <th>website</th>\n",
              "      <th>full_address</th>\n",
              "      <th>formatted_address</th>\n",
              "      <th>lat</th>\n",
              "      <th>lng</th>\n",
              "    </tr>\n",
              "  </thead>\n",
              "  <tbody>\n",
              "    <tr>\n",
              "      <th>0</th>\n",
              "      <td>1</td>\n",
              "      <td>BLT</td>\n",
              "      <td>Old Oak Tap</td>\n",
              "      <td>The B is applewood smoked&amp;mdash;nice and snapp...</td>\n",
              "      <td>$10</td>\n",
              "      <td>2109 W. Chicago Ave.</td>\n",
              "      <td>Chicago</td>\n",
              "      <td>773-772-0406</td>\n",
              "      <td>theoldoaktap.com</td>\n",
              "      <td>2109 W. Chicago Ave., Chicago</td>\n",
              "      <td>2109 West Chicago Avenue, Chicago, IL 60622, USA</td>\n",
              "      <td>41.895734</td>\n",
              "      <td>-87.679960</td>\n",
              "    </tr>\n",
              "    <tr>\n",
              "      <th>1</th>\n",
              "      <td>2</td>\n",
              "      <td>Fried Bologna</td>\n",
              "      <td>Au Cheval</td>\n",
              "      <td>Thought your bologna-eating days had retired w...</td>\n",
              "      <td>$9</td>\n",
              "      <td>800 W. Randolph St.</td>\n",
              "      <td>Chicago</td>\n",
              "      <td>312-929-4580</td>\n",
              "      <td>aucheval.tumblr.com</td>\n",
              "      <td>800 W. Randolph St., Chicago</td>\n",
              "      <td>800 West Randolph Street, Chicago, IL 60607, USA</td>\n",
              "      <td>41.884672</td>\n",
              "      <td>-87.647754</td>\n",
              "    </tr>\n",
              "    <tr>\n",
              "      <th>2</th>\n",
              "      <td>3</td>\n",
              "      <td>Woodland Mushroom</td>\n",
              "      <td>Xoco</td>\n",
              "      <td>Leave it to Rick Bayless and crew to come up w...</td>\n",
              "      <td>$9.50.</td>\n",
              "      <td>445 N. Clark St.</td>\n",
              "      <td>Chicago</td>\n",
              "      <td>312-334-3688</td>\n",
              "      <td>rickbayless.com</td>\n",
              "      <td>445 N. Clark St., Chicago</td>\n",
              "      <td>445 North Clark Street, Chicago, IL 60654, USA</td>\n",
              "      <td>41.890602</td>\n",
              "      <td>-87.630925</td>\n",
              "    </tr>\n",
              "  </tbody>\n",
              "</table>\n",
              "</div>"
            ],
            "text/plain": [
              "   rank           sandwich   restaurant  \\\n",
              "0     1                BLT  Old Oak Tap   \n",
              "1     2      Fried Bologna    Au Cheval   \n",
              "2     3  Woodland Mushroom         Xoco   \n",
              "\n",
              "                                         description   price  \\\n",
              "0  The B is applewood smoked&mdash;nice and snapp...     $10   \n",
              "1  Thought your bologna-eating days had retired w...      $9   \n",
              "2  Leave it to Rick Bayless and crew to come up w...  $9.50.   \n",
              "\n",
              "                address     city         phone              website  \\\n",
              "0  2109 W. Chicago Ave.  Chicago  773-772-0406     theoldoaktap.com   \n",
              "1   800 W. Randolph St.  Chicago  312-929-4580  aucheval.tumblr.com   \n",
              "2      445 N. Clark St.  Chicago  312-334-3688      rickbayless.com   \n",
              "\n",
              "                    full_address  \\\n",
              "0  2109 W. Chicago Ave., Chicago   \n",
              "1   800 W. Randolph St., Chicago   \n",
              "2      445 N. Clark St., Chicago   \n",
              "\n",
              "                                  formatted_address        lat        lng  \n",
              "0  2109 West Chicago Avenue, Chicago, IL 60622, USA  41.895734 -87.679960  \n",
              "1  800 West Randolph Street, Chicago, IL 60607, USA  41.884672 -87.647754  \n",
              "2    445 North Clark Street, Chicago, IL 60654, USA  41.890602 -87.630925  "
            ]
          },
          "metadata": {
            "tags": []
          },
          "execution_count": 5
        }
      ]
    },
    {
      "metadata": {
        "id": "Y4sQpmZE0iDi",
        "colab_type": "text"
      },
      "cell_type": "markdown",
      "source": [
        "En muchos casos los datos que se obtienen en internet desde algún sistema vienen en formatos JSON, estos pueden ser preprocesados para posteriormente cargarlos en un DF de manera más tradicional. Pero debido al uso frecuente de Pandas, se han desarrollado funciones para ayudar a facilidar el tratamiento y carga de datos. El siguiente ejemplo muestra como procesar los datos que son obtenidos en formato JSON."
      ]
    },
    {
      "metadata": {
        "id": "FrhPnRaLrQgp",
        "colab_type": "code",
        "colab": {}
      },
      "cell_type": "code",
      "source": [
        "#Se definen las biblitecas que se necesitarán\n",
        "import requests\n",
        "import json\n",
        "\n",
        "#Se define la ruta\n",
        "url = \"http://mesonet.agron.iastate.edu/geojson/network.php?network={}\"\n",
        "#Se piden los datos\n",
        "r = requests.get(url.format(\"AWOS\"))\n",
        "js = r.json()"
      ],
      "execution_count": 0,
      "outputs": []
    },
    {
      "metadata": {
        "id": "pKsLE_Yr1HQY",
        "colab_type": "text"
      },
      "cell_type": "markdown",
      "source": [
        "Visualizamos el formato del los datos."
      ]
    },
    {
      "metadata": {
        "id": "8Ob_7U4jsX5D",
        "colab_type": "code",
        "outputId": "88f0f09f-644f-459e-cf0a-edef023cceb1",
        "colab": {
          "base_uri": "https://localhost:8080/",
          "height": 11815
        }
      },
      "cell_type": "code",
      "source": [
        "js"
      ],
      "execution_count": 0,
      "outputs": [
        {
          "output_type": "execute_result",
          "data": {
            "text/plain": [
              "{'count': 46,\n",
              " 'features': [{'geometry': {'coordinates': [-94.2724, 43.0796],\n",
              "    'type': 'Point'},\n",
              "   'id': 'AXA',\n",
              "   'properties': {'climate_site': 'IA0133',\n",
              "    'country': 'US',\n",
              "    'county': 'Kossuth',\n",
              "    'elevation': 368.8,\n",
              "    'ncdc81': 'USC00130133',\n",
              "    'sid': 'AXA',\n",
              "    'sname': 'ALGONA',\n",
              "    'state': 'IA',\n",
              "    'tzname': 'America/Chicago',\n",
              "    'ugc_county': 'IAC109',\n",
              "    'ugc_zone': 'IAZ005',\n",
              "    'wfo': 'DMX'},\n",
              "   'type': 'Feature'},\n",
              "  {'geometry': {'coordinates': [-93.5695, 41.6878], 'type': 'Point'},\n",
              "   'id': 'IKV',\n",
              "   'properties': {'climate_site': 'IA0241',\n",
              "    'country': 'US',\n",
              "    'county': 'Polk',\n",
              "    'elevation': 270.7,\n",
              "    'ncdc81': 'USC00130241',\n",
              "    'sid': 'IKV',\n",
              "    'sname': 'ANKENY',\n",
              "    'state': 'IA',\n",
              "    'tzname': 'America/Chicago',\n",
              "    'ugc_county': 'IAC153',\n",
              "    'ugc_zone': 'IAZ060',\n",
              "    'wfo': 'DMX'},\n",
              "   'type': 'Feature'},\n",
              "  {'geometry': {'coordinates': [-95.0465, 41.4059], 'type': 'Point'},\n",
              "   'id': 'AIO',\n",
              "   'properties': {'climate_site': 'IA0364',\n",
              "    'country': 'US',\n",
              "    'county': 'Cass',\n",
              "    'elevation': 351.7,\n",
              "    'ncdc81': 'USC00130364',\n",
              "    'sid': 'AIO',\n",
              "    'sname': 'ATLANTIC',\n",
              "    'state': 'IA',\n",
              "    'tzname': 'America/Chicago',\n",
              "    'ugc_county': 'IAC029',\n",
              "    'ugc_zone': 'IAZ070',\n",
              "    'wfo': 'DMX'},\n",
              "   'type': 'Feature'},\n",
              "  {'geometry': {'coordinates': [-94.9204, 41.6994], 'type': 'Point'},\n",
              "   'id': 'ADU',\n",
              "   'properties': {'climate_site': 'IA0385',\n",
              "    'country': 'US',\n",
              "    'county': 'Audubon',\n",
              "    'elevation': 399.3,\n",
              "    'ncdc81': 'USC00130385',\n",
              "    'sid': 'ADU',\n",
              "    'sname': 'AUDUBON',\n",
              "    'state': 'IA',\n",
              "    'tzname': 'America/Chicago',\n",
              "    'ugc_county': 'IAC009',\n",
              "    'ugc_zone': 'IAZ057',\n",
              "    'wfo': 'DMX'},\n",
              "   'type': 'Feature'},\n",
              "  {'geometry': {'coordinates': [-93.8486, 42.0486], 'type': 'Point'},\n",
              "   'id': 'BNW',\n",
              "   'properties': {'climate_site': 'IA0807',\n",
              "    'country': 'US',\n",
              "    'county': 'Boone',\n",
              "    'elevation': 349.3,\n",
              "    'ncdc81': 'USC00130807',\n",
              "    'sid': 'BNW',\n",
              "    'sname': 'BOONE MUNI',\n",
              "    'state': 'IA',\n",
              "    'tzname': 'America/Chicago',\n",
              "    'ugc_county': 'IAC015',\n",
              "    'ugc_zone': 'IAZ047',\n",
              "    'wfo': 'DMX'},\n",
              "   'type': 'Feature'},\n",
              "  {'geometry': {'coordinates': [-94.7889, 42.0444], 'type': 'Point'},\n",
              "   'id': 'CIN',\n",
              "   'properties': {'climate_site': 'IA1233',\n",
              "    'country': 'US',\n",
              "    'county': 'Carroll',\n",
              "    'elevation': 365.2,\n",
              "    'ncdc81': 'USC00131233',\n",
              "    'sid': 'CIN',\n",
              "    'sname': 'CARROLL',\n",
              "    'state': 'IA',\n",
              "    'tzname': 'America/Chicago',\n",
              "    'ugc_county': 'IAC027',\n",
              "    'ugc_zone': 'IAZ045',\n",
              "    'wfo': 'DMX'},\n",
              "   'type': 'Feature'},\n",
              "  {'geometry': {'coordinates': [-92.8983, 40.6832], 'type': 'Point'},\n",
              "   'id': 'TVK',\n",
              "   'properties': {'climate_site': 'IA1354',\n",
              "    'country': 'US',\n",
              "    'county': 'Appanoose',\n",
              "    'elevation': 313.0,\n",
              "    'ncdc81': 'USC00131354',\n",
              "    'sid': 'TVK',\n",
              "    'sname': 'Centerville',\n",
              "    'state': 'IA',\n",
              "    'tzname': 'America/Chicago',\n",
              "    'ugc_county': 'IAC007',\n",
              "    'ugc_zone': 'IAZ096',\n",
              "    'wfo': 'DMX'},\n",
              "   'type': 'Feature'},\n",
              "  {'geometry': {'coordinates': [-93.3608, 41.0184], 'type': 'Point'},\n",
              "   'id': 'CNC',\n",
              "   'properties': {'climate_site': 'IA1394',\n",
              "    'country': 'US',\n",
              "    'county': 'Lucas',\n",
              "    'elevation': 319.1,\n",
              "    'ncdc81': 'USC00131394',\n",
              "    'sid': 'CNC',\n",
              "    'sname': 'CHARITON',\n",
              "    'state': 'IA',\n",
              "    'tzname': 'America/Chicago',\n",
              "    'ugc_county': 'IAC117',\n",
              "    'ugc_zone': 'IAZ084',\n",
              "    'wfo': 'DMX'},\n",
              "   'type': 'Feature'},\n",
              "  {'geometry': {'coordinates': [-92.6132, 43.073], 'type': 'Point'},\n",
              "   'id': 'CCY',\n",
              "   'properties': {'climate_site': 'IA1402',\n",
              "    'country': 'US',\n",
              "    'county': 'Floyd',\n",
              "    'elevation': 340.2,\n",
              "    'ncdc81': 'USC00131402',\n",
              "    'sid': 'CCY',\n",
              "    'sname': 'CHARLES CITY',\n",
              "    'state': 'IA',\n",
              "    'tzname': 'America/Chicago',\n",
              "    'ugc_county': 'IAC067',\n",
              "    'ugc_zone': 'IAZ018',\n",
              "    'wfo': 'ARX'},\n",
              "   'type': 'Feature'},\n",
              "  {'geometry': {'coordinates': [-95.5538, 42.7304], 'type': 'Point'},\n",
              "   'id': 'CKP',\n",
              "   'properties': {'climate_site': 'IA1442',\n",
              "    'country': 'US',\n",
              "    'county': 'Cherokee',\n",
              "    'elevation': 373.7,\n",
              "    'ncdc81': 'USC00131442',\n",
              "    'sid': 'CKP',\n",
              "    'sname': 'Cherokee',\n",
              "    'state': 'IA',\n",
              "    'tzname': 'America/Chicago',\n",
              "    'ugc_county': 'IAC035',\n",
              "    'ugc_zone': 'IAZ301',\n",
              "    'wfo': 'FSD'},\n",
              "   'type': 'Feature'},\n",
              "  {'geometry': {'coordinates': [-95.0223, 40.7242], 'type': 'Point'},\n",
              "   'id': 'ICL',\n",
              "   'properties': {'climate_site': 'IA1533',\n",
              "    'country': 'US',\n",
              "    'county': 'Page',\n",
              "    'elevation': 298.1,\n",
              "    'ncdc81': 'USC00131533',\n",
              "    'sid': 'ICL',\n",
              "    'sname': 'CLARINDA',\n",
              "    'state': 'IA',\n",
              "    'tzname': 'America/Chicago',\n",
              "    'ugc_county': 'IAC145',\n",
              "    'ugc_zone': 'IAZ091',\n",
              "    'wfo': 'OAX'},\n",
              "   'type': 'Feature'},\n",
              "  {'geometry': {'coordinates': [-93.7593, 42.743], 'type': 'Point'},\n",
              "   'id': 'CAV',\n",
              "   'properties': {'climate_site': 'IA1541',\n",
              "    'country': 'US',\n",
              "    'county': 'Wright',\n",
              "    'elevation': 350.2,\n",
              "    'ncdc81': 'USC00131541',\n",
              "    'sid': 'CAV',\n",
              "    'sname': 'CLARION',\n",
              "    'state': 'IA',\n",
              "    'tzname': 'America/Chicago',\n",
              "    'ugc_county': 'IAC197',\n",
              "    'ugc_zone': 'IAZ025',\n",
              "    'wfo': 'DMX'},\n",
              "   'type': 'Feature'},\n",
              "  {'geometry': {'coordinates': [-90.3328, 41.8295], 'type': 'Point'},\n",
              "   'id': 'CWI',\n",
              "   'properties': {'climate_site': 'IA1635',\n",
              "    'country': 'US',\n",
              "    'county': 'Clinton',\n",
              "    'elevation': 216.0,\n",
              "    'ncdc81': 'USC00131635',\n",
              "    'sid': 'CWI',\n",
              "    'sname': 'CLINTON',\n",
              "    'state': 'IA',\n",
              "    'tzname': 'America/Chicago',\n",
              "    'ugc_county': 'IAC045',\n",
              "    'ugc_zone': 'IAZ066',\n",
              "    'wfo': 'DVN'},\n",
              "   'type': 'Feature'},\n",
              "  {'geometry': {'coordinates': [-95.7604, 41.2611], 'type': 'Point'},\n",
              "   'id': 'CBF',\n",
              "   'properties': {'climate_site': 'IA3290',\n",
              "    'country': 'US',\n",
              "    'county': 'Pottawattamie',\n",
              "    'elevation': 378.0,\n",
              "    'ncdc81': 'USW00014942',\n",
              "    'sid': 'CBF',\n",
              "    'sname': 'COUNCIL BLUFFS',\n",
              "    'state': 'IA',\n",
              "    'tzname': 'America/Chicago',\n",
              "    'ugc_county': 'IAC155',\n",
              "    'ugc_zone': 'IAZ069',\n",
              "    'wfo': 'OAX'},\n",
              "   'type': 'Feature'},\n",
              "  {'geometry': {'coordinates': [-94.3608, 41.0188], 'type': 'Point'},\n",
              "   'id': 'CSQ',\n",
              "   'properties': {'climate_site': 'IA1962',\n",
              "    'country': 'US',\n",
              "    'county': 'Union',\n",
              "    'elevation': 393.2,\n",
              "    'ncdc81': 'USC00131962',\n",
              "    'sid': 'CSQ',\n",
              "    'sname': 'CRESTON',\n",
              "    'state': 'IA',\n",
              "    'tzname': 'America/Chicago',\n",
              "    'ugc_county': 'IAC175',\n",
              "    'ugc_zone': 'IAZ082',\n",
              "    'wfo': 'DMX'},\n",
              "   'type': 'Feature'},\n",
              "  {'geometry': {'coordinates': [-91.7433, 43.2755], 'type': 'Point'},\n",
              "   'id': 'DEH',\n",
              "   'properties': {'climate_site': 'IA2110',\n",
              "    'country': 'US',\n",
              "    'county': 'Winneshiek',\n",
              "    'elevation': 352.7,\n",
              "    'ncdc81': 'USC00132110',\n",
              "    'sid': 'DEH',\n",
              "    'sname': 'DECORAH',\n",
              "    'state': 'IA',\n",
              "    'tzname': 'America/Chicago',\n",
              "    'ugc_county': 'IAC191',\n",
              "    'ugc_zone': 'IAZ010',\n",
              "    'wfo': 'ARX'},\n",
              "   'type': 'Feature'},\n",
              "  {'geometry': {'coordinates': [-95.38, 41.9842], 'type': 'Point'},\n",
              "   'id': 'DNS',\n",
              "   'properties': {'climate_site': 'IA2171',\n",
              "    'country': 'US',\n",
              "    'county': 'Crawford',\n",
              "    'elevation': 381.0,\n",
              "    'ncdc81': 'USC00132171',\n",
              "    'sid': 'DNS',\n",
              "    'sname': 'DENISON',\n",
              "    'state': 'IA',\n",
              "    'tzname': 'America/Chicago',\n",
              "    'ugc_county': 'IAC047',\n",
              "    'ugc_zone': 'IAZ044',\n",
              "    'wfo': 'DMX'},\n",
              "   'type': 'Feature'},\n",
              "  {'geometry': {'coordinates': [-91.9834, 41.0521], 'type': 'Point'},\n",
              "   'id': 'FFL',\n",
              "   'properties': {'climate_site': 'IA2789',\n",
              "    'country': 'US',\n",
              "    'county': 'Jefferson',\n",
              "    'elevation': 242.3,\n",
              "    'ncdc81': 'USC00132789',\n",
              "    'sid': 'FFL',\n",
              "    'sname': 'FAIRFIELD',\n",
              "    'state': 'IA',\n",
              "    'tzname': 'America/Chicago',\n",
              "    'ugc_county': 'IAC101',\n",
              "    'ugc_zone': 'IAZ087',\n",
              "    'wfo': 'DVN'},\n",
              "   'type': 'Feature'},\n",
              "  {'geometry': {'coordinates': [-93.6237, 43.2323], 'type': 'Point'},\n",
              "   'id': 'FXY',\n",
              "   'properties': {'climate_site': 'IA2977',\n",
              "    'country': 'US',\n",
              "    'county': 'Hancock',\n",
              "    'elevation': 374.6,\n",
              "    'ncdc81': 'USC00132977',\n",
              "    'sid': 'FXY',\n",
              "    'sname': 'Forest City',\n",
              "    'state': 'IA',\n",
              "    'tzname': 'America/Chicago',\n",
              "    'ugc_county': 'IAC081',\n",
              "    'ugc_zone': 'IAZ016',\n",
              "    'wfo': 'DMX'},\n",
              "   'type': 'Feature'},\n",
              "  {'geometry': {'coordinates': [-94.2032, 42.5497], 'type': 'Point'},\n",
              "   'id': 'FOD',\n",
              "   'properties': {'climate_site': 'IA2999',\n",
              "    'country': 'US',\n",
              "    'county': 'Webster',\n",
              "    'elevation': 355.0,\n",
              "    'ncdc81': 'USC00132999',\n",
              "    'sid': 'FOD',\n",
              "    'sname': 'FORT DODGE',\n",
              "    'state': 'IA',\n",
              "    'tzname': 'America/Chicago',\n",
              "    'ugc_county': 'IAC187',\n",
              "    'ugc_zone': 'IAZ035',\n",
              "    'wfo': 'DMX'},\n",
              "   'type': 'Feature'},\n",
              "  {'geometry': {'coordinates': [-91.3267, 40.6615], 'type': 'Point'},\n",
              "   'id': 'FSW',\n",
              "   'properties': {'climate_site': 'IA3007',\n",
              "    'country': 'US',\n",
              "    'county': 'Lee',\n",
              "    'elevation': 220.1,\n",
              "    'ncdc81': 'USC00133007',\n",
              "    'sid': 'FSW',\n",
              "    'sname': 'FORT MADISON',\n",
              "    'state': 'IA',\n",
              "    'tzname': 'America/Chicago',\n",
              "    'ugc_county': 'IAC111',\n",
              "    'ugc_zone': 'IAZ099',\n",
              "    'wfo': 'DVN'},\n",
              "   'type': 'Feature'},\n",
              "  {'geometry': {'coordinates': [-92.7332, 41.7097], 'type': 'Point'},\n",
              "   'id': 'GGI',\n",
              "   'properties': {'climate_site': 'IA3473',\n",
              "    'country': 'US',\n",
              "    'county': 'Poweshiek',\n",
              "    'elevation': 307.0,\n",
              "    'ncdc81': 'USC00133473',\n",
              "    'sid': 'GGI',\n",
              "    'sname': 'Grinnell',\n",
              "    'state': 'IA',\n",
              "    'tzname': 'America/Chicago',\n",
              "    'ugc_county': 'IAC157',\n",
              "    'ugc_zone': 'IAZ062',\n",
              "    'wfo': 'DMX'},\n",
              "   'type': 'Feature'},\n",
              "  {'geometry': {'coordinates': [-93.2244, 42.7175], 'type': 'Point'},\n",
              "   'id': 'HPT',\n",
              "   'properties': {'climate_site': 'IA3584',\n",
              "    'country': 'US',\n",
              "    'county': 'Franklin',\n",
              "    'elevation': 350.168,\n",
              "    'ncdc81': 'USC00133584',\n",
              "    'sid': 'HPT',\n",
              "    'sname': 'Hampton',\n",
              "    'state': 'IA',\n",
              "    'tzname': 'America/Chicago',\n",
              "    'ugc_county': 'IAC069',\n",
              "    'ugc_zone': 'IAZ026',\n",
              "    'wfo': 'DMX'},\n",
              "   'type': 'Feature'},\n",
              "  {'geometry': {'coordinates': [-95.3355, 41.5834], 'type': 'Point'},\n",
              "   'id': 'HNR',\n",
              "   'properties': {'climate_site': 'IA3632',\n",
              "    'country': 'US',\n",
              "    'county': 'Shelby',\n",
              "    'elevation': 364.5,\n",
              "    'ncdc81': 'USC00133632',\n",
              "    'sid': 'HNR',\n",
              "    'sname': 'HARLAN',\n",
              "    'state': 'IA',\n",
              "    'tzname': 'America/Chicago',\n",
              "    'ugc_county': 'IAC165',\n",
              "    'ugc_zone': 'IAZ056',\n",
              "    'wfo': 'OAX'},\n",
              "   'type': 'Feature'},\n",
              "  {'geometry': {'coordinates': [-91.9504, 42.4544], 'type': 'Point'},\n",
              "   'id': 'IIB',\n",
              "   'properties': {'climate_site': 'IA4049',\n",
              "    'country': 'US',\n",
              "    'county': 'Buchanan',\n",
              "    'elevation': 294.0,\n",
              "    'ncdc81': 'USC00134049',\n",
              "    'sid': 'IIB',\n",
              "    'sname': 'INDEPENDENCE',\n",
              "    'state': 'IA',\n",
              "    'tzname': 'America/Chicago',\n",
              "    'ugc_county': 'IAC019',\n",
              "    'ugc_zone': 'IAZ040',\n",
              "    'wfo': 'DVN'},\n",
              "   'type': 'Feature'},\n",
              "  {'geometry': {'coordinates': [-93.2651, 42.4691], 'type': 'Point'},\n",
              "   'id': 'IFA',\n",
              "   'properties': {'climate_site': 'IA4142',\n",
              "    'country': 'US',\n",
              "    'county': 'Hardin',\n",
              "    'elevation': 346.6,\n",
              "    'ncdc81': 'USC00134142',\n",
              "    'sid': 'IFA',\n",
              "    'sname': 'Iowa Falls',\n",
              "    'state': 'IA',\n",
              "    'tzname': 'America/Chicago',\n",
              "    'ugc_county': 'IAC083',\n",
              "    'ugc_zone': 'IAZ037',\n",
              "    'wfo': 'DMX'},\n",
              "   'type': 'Feature'},\n",
              "  {'geometry': {'coordinates': [-91.4274, 40.4615], 'type': 'Point'},\n",
              "   'id': 'EOK',\n",
              "   'properties': {'climate_site': 'IA4381',\n",
              "    'country': 'US',\n",
              "    'county': 'Lee',\n",
              "    'elevation': 204.5,\n",
              "    'ncdc81': 'USC00134381',\n",
              "    'sid': 'EOK',\n",
              "    'sname': 'KEOKUK MUNI',\n",
              "    'state': 'IA',\n",
              "    'tzname': 'America/Chicago',\n",
              "    'ugc_county': 'IAC111',\n",
              "    'ugc_zone': 'IAZ099',\n",
              "    'wfo': 'DVN'},\n",
              "   'type': 'Feature'},\n",
              "  {'geometry': {'coordinates': [-93.1114, 41.2984], 'type': 'Point'},\n",
              "   'id': 'OXV',\n",
              "   'properties': {'climate_site': 'IA4502',\n",
              "    'country': 'US',\n",
              "    'county': 'Marion',\n",
              "    'elevation': 281.9,\n",
              "    'ncdc81': 'USC00134502',\n",
              "    'sid': 'OXV',\n",
              "    'sname': 'Knoxville',\n",
              "    'state': 'IA',\n",
              "    'tzname': 'America/Chicago',\n",
              "    'ugc_county': 'IAC125',\n",
              "    'ugc_zone': 'IAZ074',\n",
              "    'wfo': 'DMX'},\n",
              "   'type': 'Feature'},\n",
              "  {'geometry': {'coordinates': [-96.1923, 42.7754], 'type': 'Point'},\n",
              "   'id': 'LRJ',\n",
              "   'properties': {'climate_site': 'IA4735',\n",
              "    'country': 'US',\n",
              "    'county': 'Plymouth',\n",
              "    'elevation': 362.4,\n",
              "    'ncdc81': 'USC00134735',\n",
              "    'sid': 'LRJ',\n",
              "    'sname': 'LE MARS',\n",
              "    'state': 'IA',\n",
              "    'tzname': 'America/Chicago',\n",
              "    'ugc_county': 'IAC149',\n",
              "    'ugc_zone': 'IAZ020',\n",
              "    'wfo': 'FSD'},\n",
              "   'type': 'Feature'},\n",
              "  {'geometry': {'coordinates': [-91.1605, 42.2204], 'type': 'Point'},\n",
              "   'id': 'MXO',\n",
              "   'properties': {'climate_site': 'IA1257',\n",
              "    'country': 'US',\n",
              "    'county': 'Jones',\n",
              "    'elevation': 254.5,\n",
              "    'ncdc81': 'USC00130213',\n",
              "    'sid': 'MXO',\n",
              "    'sname': 'MONTICELLO MUNI',\n",
              "    'state': 'IA',\n",
              "    'tzname': 'America/Chicago',\n",
              "    'ugc_county': 'IAC105',\n",
              "    'ugc_zone': 'IAZ053',\n",
              "    'wfo': 'DVN'},\n",
              "   'type': 'Feature'},\n",
              "  {'geometry': {'coordinates': [-91.5122, 40.9453], 'type': 'Point'},\n",
              "   'id': 'MPZ',\n",
              "   'properties': {'climate_site': 'IA5796',\n",
              "    'country': 'US',\n",
              "    'county': 'Henry',\n",
              "    'elevation': 222.0,\n",
              "    'ncdc81': 'USC00135796',\n",
              "    'sid': 'MPZ',\n",
              "    'sname': 'MOUNT PLEASANT',\n",
              "    'state': 'IA',\n",
              "    'tzname': 'America/Chicago',\n",
              "    'ugc_county': 'IAC087',\n",
              "    'ugc_zone': 'IAZ088',\n",
              "    'wfo': 'DVN'},\n",
              "   'type': 'Feature'},\n",
              "  {'geometry': {'coordinates': [-91.1406, 41.367], 'type': 'Point'},\n",
              "   'id': 'MUT',\n",
              "   'properties': {'climate_site': 'IA5837',\n",
              "    'country': 'US',\n",
              "    'county': 'Muscatine',\n",
              "    'elevation': 165.5,\n",
              "    'ncdc81': 'USC00135837',\n",
              "    'sid': 'MUT',\n",
              "    'sname': 'MUSCATINE',\n",
              "    'state': 'IA',\n",
              "    'tzname': 'America/Chicago',\n",
              "    'ugc_county': 'IAC139',\n",
              "    'ugc_zone': 'IAZ067',\n",
              "    'wfo': 'DVN'},\n",
              "   'type': 'Feature'},\n",
              "  {'geometry': {'coordinates': [-93.019, 41.6701], 'type': 'Point'},\n",
              "   'id': 'TNU',\n",
              "   'properties': {'climate_site': 'IA5992',\n",
              "    'country': 'US',\n",
              "    'county': 'Jasper',\n",
              "    'elevation': 287.0,\n",
              "    'ncdc81': 'USC00135992',\n",
              "    'sid': 'TNU',\n",
              "    'sname': 'NEWTON MUNI',\n",
              "    'state': 'IA',\n",
              "    'tzname': 'America/Chicago',\n",
              "    'ugc_county': 'IAC099',\n",
              "    'ugc_zone': 'IAZ061',\n",
              "    'wfo': 'DMX'},\n",
              "   'type': 'Feature'},\n",
              "  {'geometry': {'coordinates': [-91.976, 42.6831], 'type': 'Point'},\n",
              "   'id': 'OLZ',\n",
              "   'properties': {'climate_site': 'IA6200',\n",
              "    'country': 'US',\n",
              "    'county': 'Fayette',\n",
              "    'elevation': 328.0,\n",
              "    'ncdc81': 'USC00136200',\n",
              "    'sid': 'OLZ',\n",
              "    'sname': 'OELWEIN',\n",
              "    'state': 'IA',\n",
              "    'tzname': 'America/Chicago',\n",
              "    'ugc_county': 'IAC065',\n",
              "    'ugc_zone': 'IAZ029',\n",
              "    'wfo': 'ARX'},\n",
              "   'type': 'Feature'},\n",
              "  {'geometry': {'coordinates': [-96.0606, 42.9895], 'type': 'Point'},\n",
              "   'id': 'ORC',\n",
              "   'properties': {'climate_site': 'IA4735',\n",
              "    'country': 'US',\n",
              "    'county': 'Woodbury',\n",
              "    'elevation': 429.972,\n",
              "    'ncdc81': 'USC00137700',\n",
              "    'sid': 'ORC',\n",
              "    'sname': 'Orange City',\n",
              "    'state': 'IA',\n",
              "    'tzname': 'America/Chicago',\n",
              "    'ugc_county': 'IAC167',\n",
              "    'ugc_zone': 'IAZ012',\n",
              "    'wfo': 'FSD'},\n",
              "   'type': 'Feature'},\n",
              "  {'geometry': {'coordinates': [-93.6876, 41.0472], 'type': 'Point'},\n",
              "   'id': 'I75',\n",
              "   'properties': {'climate_site': 'IA6316',\n",
              "    'country': 'US',\n",
              "    'county': 'Clarke',\n",
              "    'elevation': 338.3,\n",
              "    'ncdc81': 'USC00136316',\n",
              "    'sid': 'I75',\n",
              "    'sname': 'Osceola',\n",
              "    'state': 'IA',\n",
              "    'tzname': 'America/Chicago',\n",
              "    'ugc_county': 'IAC039',\n",
              "    'ugc_zone': 'IAZ083',\n",
              "    'wfo': 'DMX'},\n",
              "   'type': 'Feature'},\n",
              "  {'geometry': {'coordinates': [-92.4919, 41.2273], 'type': 'Point'},\n",
              "   'id': 'OOA',\n",
              "   'properties': {'climate_site': 'IA6389',\n",
              "    'country': 'US',\n",
              "    'county': 'Mahaska',\n",
              "    'elevation': 256.0,\n",
              "    'ncdc81': 'USW00014950',\n",
              "    'sid': 'OOA',\n",
              "    'sname': 'Oskaloosa',\n",
              "    'state': 'IA',\n",
              "    'tzname': 'America/Chicago',\n",
              "    'ugc_county': 'IAC123',\n",
              "    'ugc_zone': 'IAZ075',\n",
              "    'wfo': 'DMX'},\n",
              "   'type': 'Feature'},\n",
              "  {'geometry': {'coordinates': [-92.9431, 41.3989], 'type': 'Point'},\n",
              "   'id': 'PEA',\n",
              "   'properties': {'climate_site': 'IA4502',\n",
              "    'country': 'US',\n",
              "    'county': 'Marion',\n",
              "    'elevation': 265.0,\n",
              "    'ncdc81': 'USC00134502',\n",
              "    'sid': 'PEA',\n",
              "    'sname': 'PELLA',\n",
              "    'state': 'IA',\n",
              "    'tzname': 'America/Chicago',\n",
              "    'ugc_county': 'IAC125',\n",
              "    'ugc_zone': 'IAZ074',\n",
              "    'wfo': 'DMX'},\n",
              "   'type': 'Feature'},\n",
              "  {'geometry': {'coordinates': [-94.1637, 41.8278], 'type': 'Point'},\n",
              "   'id': 'PRO',\n",
              "   'properties': {'climate_site': 'IA6566',\n",
              "    'country': 'US',\n",
              "    'county': 'Dallas',\n",
              "    'elevation': 309.0,\n",
              "    'ncdc81': 'USC00136566',\n",
              "    'sid': 'PRO',\n",
              "    'sname': 'Perry',\n",
              "    'state': 'IA',\n",
              "    'tzname': 'America/Chicago',\n",
              "    'ugc_county': 'IAC049',\n",
              "    'ugc_zone': 'IAZ059',\n",
              "    'wfo': 'DMX'},\n",
              "   'type': 'Feature'},\n",
              "  {'geometry': {'coordinates': [-95.2624, 41.0106], 'type': 'Point'},\n",
              "   'id': 'RDK',\n",
              "   'properties': {'climate_site': 'IA6940',\n",
              "    'country': 'US',\n",
              "    'county': 'Montgomery',\n",
              "    'elevation': 317.0,\n",
              "    'ncdc81': 'USC00136940',\n",
              "    'sid': 'RDK',\n",
              "    'sname': 'RED OAK',\n",
              "    'state': 'IA',\n",
              "    'tzname': 'America/Chicago',\n",
              "    'ugc_county': 'IAC137',\n",
              "    'ugc_zone': 'IAZ080',\n",
              "    'wfo': 'OAX'},\n",
              "   'type': 'Feature'},\n",
              "  {'geometry': {'coordinates': [-95.8353, 43.2082], 'type': 'Point'},\n",
              "   'id': 'SHL',\n",
              "   'properties': {'climate_site': 'IA7594',\n",
              "    'country': 'US',\n",
              "    'county': 'Obrien',\n",
              "    'elevation': 432.2,\n",
              "    'ncdc81': 'USC00137594',\n",
              "    'sid': 'SHL',\n",
              "    'sname': 'SHELDON',\n",
              "    'state': 'IA',\n",
              "    'tzname': 'America/Chicago',\n",
              "    'ugc_county': 'IAC141',\n",
              "    'ugc_zone': 'IAZ301',\n",
              "    'wfo': 'FSD'},\n",
              "   'type': 'Feature'},\n",
              "  {'geometry': {'coordinates': [-95.4112, 40.7533], 'type': 'Point'},\n",
              "   'id': 'SDA',\n",
              "   'properties': {'climate_site': 'IA7613',\n",
              "    'country': 'US',\n",
              "    'county': 'Fremont',\n",
              "    'elevation': 296.0,\n",
              "    'ncdc81': 'USC00137613',\n",
              "    'sid': 'SDA',\n",
              "    'sname': 'SHENANDOAH MUNI',\n",
              "    'state': 'IA',\n",
              "    'tzname': 'America/Chicago',\n",
              "    'ugc_county': 'IAC071',\n",
              "    'ugc_zone': 'IAZ090',\n",
              "    'wfo': 'OAX'},\n",
              "   'type': 'Feature'},\n",
              "  {'geometry': {'coordinates': [-95.2399, 42.5972], 'type': 'Point'},\n",
              "   'id': 'SLB',\n",
              "   'properties': {'climate_site': 'IA7979',\n",
              "    'country': 'US',\n",
              "    'county': 'Buena Vista',\n",
              "    'elevation': 449.9,\n",
              "    'ncdc81': 'USC00137979',\n",
              "    'sid': 'SLB',\n",
              "    'sname': 'Storm Lake',\n",
              "    'state': 'IA',\n",
              "    'tzname': 'America/Chicago',\n",
              "    'ugc_county': 'IAC021',\n",
              "    'ugc_zone': 'IAZ301',\n",
              "    'wfo': 'FSD'},\n",
              "   'type': 'Feature'},\n",
              "  {'geometry': {'coordinates': [-92.0248, 42.2176], 'type': 'Point'},\n",
              "   'id': 'VTI',\n",
              "   'properties': {'climate_site': 'IA8568',\n",
              "    'country': 'US',\n",
              "    'county': 'Benton',\n",
              "    'elevation': 255.0,\n",
              "    'ncdc81': 'USC00138568',\n",
              "    'sid': 'VTI',\n",
              "    'sname': 'VINTON',\n",
              "    'state': 'IA',\n",
              "    'tzname': 'America/Chicago',\n",
              "    'ugc_county': 'IAC011',\n",
              "    'ugc_zone': 'IAZ051',\n",
              "    'wfo': 'DVN'},\n",
              "   'type': 'Feature'},\n",
              "  {'geometry': {'coordinates': [-91.6748, 41.2751], 'type': 'Point'},\n",
              "   'id': 'AWG',\n",
              "   'properties': {'climate_site': 'IA8688',\n",
              "    'country': 'US',\n",
              "    'county': 'Washington',\n",
              "    'elevation': 228.9,\n",
              "    'ncdc81': 'USC00138688',\n",
              "    'sid': 'AWG',\n",
              "    'sname': 'WASHINGTON',\n",
              "    'state': 'IA',\n",
              "    'tzname': 'America/Chicago',\n",
              "    'ugc_county': 'IAC183',\n",
              "    'ugc_zone': 'IAZ077',\n",
              "    'wfo': 'DVN'},\n",
              "   'type': 'Feature'},\n",
              "  {'geometry': {'coordinates': [-93.8691, 42.4392], 'type': 'Point'},\n",
              "   'id': 'EBS',\n",
              "   'properties': {'climate_site': 'IA8806',\n",
              "    'country': 'US',\n",
              "    'county': 'Hamilton',\n",
              "    'elevation': 337.4,\n",
              "    'ncdc81': 'USC00138806',\n",
              "    'sid': 'EBS',\n",
              "    'sname': 'Webster City',\n",
              "    'state': 'IA',\n",
              "    'tzname': 'America/Chicago',\n",
              "    'ugc_county': 'IAC079',\n",
              "    'ugc_zone': 'IAZ036',\n",
              "    'wfo': 'DMX'},\n",
              "   'type': 'Feature'}],\n",
              " 'generation_time': '2018-12-04T19:28:32Z',\n",
              " 'type': 'FeatureCollection'}"
            ]
          },
          "metadata": {
            "tags": []
          },
          "execution_count": 65
        }
      ]
    },
    {
      "metadata": {
        "id": "JZALul1GsY-3",
        "colab_type": "code",
        "outputId": "c375c152-4b88-4fab-ef55-17c6770113b0",
        "colab": {
          "base_uri": "https://localhost:8080/",
          "height": 527
        }
      },
      "cell_type": "code",
      "source": [
        "#Se eleige algunos de los datos\n",
        "js['features'][:2]"
      ],
      "execution_count": 0,
      "outputs": [
        {
          "output_type": "execute_result",
          "data": {
            "text/plain": [
              "[{'geometry': {'coordinates': [-94.2724, 43.0796], 'type': 'Point'},\n",
              "  'id': 'AXA',\n",
              "  'properties': {'climate_site': 'IA0133',\n",
              "   'country': 'US',\n",
              "   'county': 'Kossuth',\n",
              "   'elevation': 368.8,\n",
              "   'ncdc81': 'USC00130133',\n",
              "   'sid': 'AXA',\n",
              "   'sname': 'ALGONA',\n",
              "   'state': 'IA',\n",
              "   'tzname': 'America/Chicago',\n",
              "   'ugc_county': 'IAC109',\n",
              "   'ugc_zone': 'IAZ005',\n",
              "   'wfo': 'DMX'},\n",
              "  'type': 'Feature'},\n",
              " {'geometry': {'coordinates': [-93.5695, 41.6878], 'type': 'Point'},\n",
              "  'id': 'IKV',\n",
              "  'properties': {'climate_site': 'IA0241',\n",
              "   'country': 'US',\n",
              "   'county': 'Polk',\n",
              "   'elevation': 270.7,\n",
              "   'ncdc81': 'USC00130241',\n",
              "   'sid': 'IKV',\n",
              "   'sname': 'ANKENY',\n",
              "   'state': 'IA',\n",
              "   'tzname': 'America/Chicago',\n",
              "   'ugc_county': 'IAC153',\n",
              "   'ugc_zone': 'IAZ060',\n",
              "   'wfo': 'DMX'},\n",
              "  'type': 'Feature'}]"
            ]
          },
          "metadata": {
            "tags": []
          },
          "execution_count": 66
        }
      ]
    },
    {
      "metadata": {
        "id": "vFpAXuRG1PQk",
        "colab_type": "text"
      },
      "cell_type": "markdown",
      "source": [
        "Si se carga la información en un DF, se logra tener algo pero observamos el formato."
      ]
    },
    {
      "metadata": {
        "id": "jmVaWlXdsce-",
        "colab_type": "code",
        "outputId": "721f96c7-636e-4ac4-8917-299b23a255aa",
        "colab": {
          "base_uri": "https://localhost:8080/",
          "height": 204
        }
      },
      "cell_type": "code",
      "source": [
        "#visualización de los datos.\n",
        "pd.DataFrame(js['features']).head()"
      ],
      "execution_count": 0,
      "outputs": [
        {
          "output_type": "execute_result",
          "data": {
            "text/html": [
              "<div>\n",
              "<style scoped>\n",
              "    .dataframe tbody tr th:only-of-type {\n",
              "        vertical-align: middle;\n",
              "    }\n",
              "\n",
              "    .dataframe tbody tr th {\n",
              "        vertical-align: top;\n",
              "    }\n",
              "\n",
              "    .dataframe thead th {\n",
              "        text-align: right;\n",
              "    }\n",
              "</style>\n",
              "<table border=\"1\" class=\"dataframe\">\n",
              "  <thead>\n",
              "    <tr style=\"text-align: right;\">\n",
              "      <th></th>\n",
              "      <th>geometry</th>\n",
              "      <th>id</th>\n",
              "      <th>properties</th>\n",
              "      <th>type</th>\n",
              "    </tr>\n",
              "  </thead>\n",
              "  <tbody>\n",
              "    <tr>\n",
              "      <th>0</th>\n",
              "      <td>{'type': 'Point', 'coordinates': [-94.2724, 43...</td>\n",
              "      <td>AXA</td>\n",
              "      <td>{'elevation': 368.8, 'sname': 'ALGONA', 'state...</td>\n",
              "      <td>Feature</td>\n",
              "    </tr>\n",
              "    <tr>\n",
              "      <th>1</th>\n",
              "      <td>{'type': 'Point', 'coordinates': [-93.5695, 41...</td>\n",
              "      <td>IKV</td>\n",
              "      <td>{'elevation': 270.7, 'sname': 'ANKENY', 'state...</td>\n",
              "      <td>Feature</td>\n",
              "    </tr>\n",
              "    <tr>\n",
              "      <th>2</th>\n",
              "      <td>{'type': 'Point', 'coordinates': [-95.0465, 41...</td>\n",
              "      <td>AIO</td>\n",
              "      <td>{'elevation': 351.7, 'sname': 'ATLANTIC', 'sta...</td>\n",
              "      <td>Feature</td>\n",
              "    </tr>\n",
              "    <tr>\n",
              "      <th>3</th>\n",
              "      <td>{'type': 'Point', 'coordinates': [-94.9204, 41...</td>\n",
              "      <td>ADU</td>\n",
              "      <td>{'elevation': 399.3, 'sname': 'AUDUBON', 'stat...</td>\n",
              "      <td>Feature</td>\n",
              "    </tr>\n",
              "    <tr>\n",
              "      <th>4</th>\n",
              "      <td>{'type': 'Point', 'coordinates': [-93.8486, 42...</td>\n",
              "      <td>BNW</td>\n",
              "      <td>{'elevation': 349.3, 'sname': 'BOONE MUNI', 's...</td>\n",
              "      <td>Feature</td>\n",
              "    </tr>\n",
              "  </tbody>\n",
              "</table>\n",
              "</div>"
            ],
            "text/plain": [
              "                                            geometry   id  \\\n",
              "0  {'type': 'Point', 'coordinates': [-94.2724, 43...  AXA   \n",
              "1  {'type': 'Point', 'coordinates': [-93.5695, 41...  IKV   \n",
              "2  {'type': 'Point', 'coordinates': [-95.0465, 41...  AIO   \n",
              "3  {'type': 'Point', 'coordinates': [-94.9204, 41...  ADU   \n",
              "4  {'type': 'Point', 'coordinates': [-93.8486, 42...  BNW   \n",
              "\n",
              "                                          properties     type  \n",
              "0  {'elevation': 368.8, 'sname': 'ALGONA', 'state...  Feature  \n",
              "1  {'elevation': 270.7, 'sname': 'ANKENY', 'state...  Feature  \n",
              "2  {'elevation': 351.7, 'sname': 'ATLANTIC', 'sta...  Feature  \n",
              "3  {'elevation': 399.3, 'sname': 'AUDUBON', 'stat...  Feature  \n",
              "4  {'elevation': 349.3, 'sname': 'BOONE MUNI', 's...  Feature  "
            ]
          },
          "metadata": {
            "tags": []
          },
          "execution_count": 68
        }
      ]
    },
    {
      "metadata": {
        "id": "GnYkBF651kVz",
        "colab_type": "text"
      },
      "cell_type": "markdown",
      "source": [
        "El ejemplo siguiente es como se pueden usar herramientas que tienen Pandas y que facilidad el trabajo al momento de crear un DataFrame."
      ]
    },
    {
      "metadata": {
        "id": "tGRqJW_IsgcA",
        "colab_type": "code",
        "colab": {}
      },
      "cell_type": "code",
      "source": [
        "stations = pd.io.json.json_normalize(js['features'])"
      ],
      "execution_count": 0,
      "outputs": []
    },
    {
      "metadata": {
        "id": "nAc6o2-psox-",
        "colab_type": "code",
        "outputId": "60f752e7-3982-4b6e-a5ba-d6005bfcd094",
        "colab": {
          "base_uri": "https://localhost:8080/",
          "height": 224
        }
      },
      "cell_type": "code",
      "source": [
        "stations.head()"
      ],
      "execution_count": 0,
      "outputs": [
        {
          "output_type": "execute_result",
          "data": {
            "text/html": [
              "<div>\n",
              "<style scoped>\n",
              "    .dataframe tbody tr th:only-of-type {\n",
              "        vertical-align: middle;\n",
              "    }\n",
              "\n",
              "    .dataframe tbody tr th {\n",
              "        vertical-align: top;\n",
              "    }\n",
              "\n",
              "    .dataframe thead th {\n",
              "        text-align: right;\n",
              "    }\n",
              "</style>\n",
              "<table border=\"1\" class=\"dataframe\">\n",
              "  <thead>\n",
              "    <tr style=\"text-align: right;\">\n",
              "      <th></th>\n",
              "      <th>geometry.coordinates</th>\n",
              "      <th>geometry.type</th>\n",
              "      <th>id</th>\n",
              "      <th>properties.climate_site</th>\n",
              "      <th>properties.country</th>\n",
              "      <th>properties.county</th>\n",
              "      <th>properties.elevation</th>\n",
              "      <th>properties.ncdc81</th>\n",
              "      <th>properties.sid</th>\n",
              "      <th>properties.sname</th>\n",
              "      <th>properties.state</th>\n",
              "      <th>properties.tzname</th>\n",
              "      <th>properties.ugc_county</th>\n",
              "      <th>properties.ugc_zone</th>\n",
              "      <th>properties.wfo</th>\n",
              "      <th>type</th>\n",
              "    </tr>\n",
              "  </thead>\n",
              "  <tbody>\n",
              "    <tr>\n",
              "      <th>0</th>\n",
              "      <td>[-94.2724, 43.0796]</td>\n",
              "      <td>Point</td>\n",
              "      <td>AXA</td>\n",
              "      <td>IA0133</td>\n",
              "      <td>US</td>\n",
              "      <td>Kossuth</td>\n",
              "      <td>368.8</td>\n",
              "      <td>USC00130133</td>\n",
              "      <td>AXA</td>\n",
              "      <td>ALGONA</td>\n",
              "      <td>IA</td>\n",
              "      <td>America/Chicago</td>\n",
              "      <td>IAC109</td>\n",
              "      <td>IAZ005</td>\n",
              "      <td>DMX</td>\n",
              "      <td>Feature</td>\n",
              "    </tr>\n",
              "    <tr>\n",
              "      <th>1</th>\n",
              "      <td>[-93.5695, 41.6878]</td>\n",
              "      <td>Point</td>\n",
              "      <td>IKV</td>\n",
              "      <td>IA0241</td>\n",
              "      <td>US</td>\n",
              "      <td>Polk</td>\n",
              "      <td>270.7</td>\n",
              "      <td>USC00130241</td>\n",
              "      <td>IKV</td>\n",
              "      <td>ANKENY</td>\n",
              "      <td>IA</td>\n",
              "      <td>America/Chicago</td>\n",
              "      <td>IAC153</td>\n",
              "      <td>IAZ060</td>\n",
              "      <td>DMX</td>\n",
              "      <td>Feature</td>\n",
              "    </tr>\n",
              "    <tr>\n",
              "      <th>2</th>\n",
              "      <td>[-95.0465, 41.4059]</td>\n",
              "      <td>Point</td>\n",
              "      <td>AIO</td>\n",
              "      <td>IA0364</td>\n",
              "      <td>US</td>\n",
              "      <td>Cass</td>\n",
              "      <td>351.7</td>\n",
              "      <td>USC00130364</td>\n",
              "      <td>AIO</td>\n",
              "      <td>ATLANTIC</td>\n",
              "      <td>IA</td>\n",
              "      <td>America/Chicago</td>\n",
              "      <td>IAC029</td>\n",
              "      <td>IAZ070</td>\n",
              "      <td>DMX</td>\n",
              "      <td>Feature</td>\n",
              "    </tr>\n",
              "    <tr>\n",
              "      <th>3</th>\n",
              "      <td>[-94.9204, 41.6994]</td>\n",
              "      <td>Point</td>\n",
              "      <td>ADU</td>\n",
              "      <td>IA0385</td>\n",
              "      <td>US</td>\n",
              "      <td>Audubon</td>\n",
              "      <td>399.3</td>\n",
              "      <td>USC00130385</td>\n",
              "      <td>ADU</td>\n",
              "      <td>AUDUBON</td>\n",
              "      <td>IA</td>\n",
              "      <td>America/Chicago</td>\n",
              "      <td>IAC009</td>\n",
              "      <td>IAZ057</td>\n",
              "      <td>DMX</td>\n",
              "      <td>Feature</td>\n",
              "    </tr>\n",
              "    <tr>\n",
              "      <th>4</th>\n",
              "      <td>[-93.8486, 42.0486]</td>\n",
              "      <td>Point</td>\n",
              "      <td>BNW</td>\n",
              "      <td>IA0807</td>\n",
              "      <td>US</td>\n",
              "      <td>Boone</td>\n",
              "      <td>349.3</td>\n",
              "      <td>USC00130807</td>\n",
              "      <td>BNW</td>\n",
              "      <td>BOONE MUNI</td>\n",
              "      <td>IA</td>\n",
              "      <td>America/Chicago</td>\n",
              "      <td>IAC015</td>\n",
              "      <td>IAZ047</td>\n",
              "      <td>DMX</td>\n",
              "      <td>Feature</td>\n",
              "    </tr>\n",
              "  </tbody>\n",
              "</table>\n",
              "</div>"
            ],
            "text/plain": [
              "  geometry.coordinates geometry.type   id properties.climate_site  \\\n",
              "0  [-94.2724, 43.0796]         Point  AXA                  IA0133   \n",
              "1  [-93.5695, 41.6878]         Point  IKV                  IA0241   \n",
              "2  [-95.0465, 41.4059]         Point  AIO                  IA0364   \n",
              "3  [-94.9204, 41.6994]         Point  ADU                  IA0385   \n",
              "4  [-93.8486, 42.0486]         Point  BNW                  IA0807   \n",
              "\n",
              "  properties.country properties.county  properties.elevation  \\\n",
              "0                 US           Kossuth                 368.8   \n",
              "1                 US              Polk                 270.7   \n",
              "2                 US              Cass                 351.7   \n",
              "3                 US           Audubon                 399.3   \n",
              "4                 US             Boone                 349.3   \n",
              "\n",
              "  properties.ncdc81 properties.sid properties.sname properties.state  \\\n",
              "0       USC00130133            AXA           ALGONA               IA   \n",
              "1       USC00130241            IKV           ANKENY               IA   \n",
              "2       USC00130364            AIO         ATLANTIC               IA   \n",
              "3       USC00130385            ADU          AUDUBON               IA   \n",
              "4       USC00130807            BNW       BOONE MUNI               IA   \n",
              "\n",
              "  properties.tzname properties.ugc_county properties.ugc_zone properties.wfo  \\\n",
              "0   America/Chicago                IAC109              IAZ005            DMX   \n",
              "1   America/Chicago                IAC153              IAZ060            DMX   \n",
              "2   America/Chicago                IAC029              IAZ070            DMX   \n",
              "3   America/Chicago                IAC009              IAZ057            DMX   \n",
              "4   America/Chicago                IAC015              IAZ047            DMX   \n",
              "\n",
              "      type  \n",
              "0  Feature  \n",
              "1  Feature  \n",
              "2  Feature  \n",
              "3  Feature  \n",
              "4  Feature  "
            ]
          },
          "metadata": {
            "tags": []
          },
          "execution_count": 74
        }
      ]
    },
    {
      "metadata": {
        "id": "9vMt4ryDqxss",
        "colab_type": "text"
      },
      "cell_type": "markdown",
      "source": [
        "### ¿Siempre hacemos una transformación a la vez?\n",
        "\n"
      ]
    },
    {
      "metadata": {
        "id": "QGhgvXkGs-TB",
        "colab_type": "code",
        "outputId": "24fc279a-0bb0-4d92-9128-c2fc5af215fb",
        "colab": {
          "base_uri": "https://localhost:8080/",
          "height": 395
        }
      },
      "cell_type": "code",
      "source": [
        "from_url.head()"
      ],
      "execution_count": 0,
      "outputs": [
        {
          "output_type": "execute_result",
          "data": {
            "text/html": [
              "<div>\n",
              "<style scoped>\n",
              "    .dataframe tbody tr th:only-of-type {\n",
              "        vertical-align: middle;\n",
              "    }\n",
              "\n",
              "    .dataframe tbody tr th {\n",
              "        vertical-align: top;\n",
              "    }\n",
              "\n",
              "    .dataframe thead th {\n",
              "        text-align: right;\n",
              "    }\n",
              "</style>\n",
              "<table border=\"1\" class=\"dataframe\">\n",
              "  <thead>\n",
              "    <tr style=\"text-align: right;\">\n",
              "      <th></th>\n",
              "      <th>rank</th>\n",
              "      <th>sandwich</th>\n",
              "      <th>restaurant</th>\n",
              "      <th>description</th>\n",
              "      <th>price</th>\n",
              "      <th>address</th>\n",
              "      <th>city</th>\n",
              "      <th>phone</th>\n",
              "      <th>website</th>\n",
              "      <th>full_address</th>\n",
              "      <th>formatted_address</th>\n",
              "      <th>lat</th>\n",
              "      <th>lng</th>\n",
              "    </tr>\n",
              "  </thead>\n",
              "  <tbody>\n",
              "    <tr>\n",
              "      <th>0</th>\n",
              "      <td>1</td>\n",
              "      <td>BLT</td>\n",
              "      <td>Old Oak Tap</td>\n",
              "      <td>The B is applewood smoked&amp;mdash;nice and snapp...</td>\n",
              "      <td>$10</td>\n",
              "      <td>2109 W. Chicago Ave.</td>\n",
              "      <td>Chicago</td>\n",
              "      <td>773-772-0406</td>\n",
              "      <td>theoldoaktap.com</td>\n",
              "      <td>2109 W. Chicago Ave., Chicago</td>\n",
              "      <td>2109 West Chicago Avenue, Chicago, IL 60622, USA</td>\n",
              "      <td>41.895734</td>\n",
              "      <td>-87.679960</td>\n",
              "    </tr>\n",
              "    <tr>\n",
              "      <th>1</th>\n",
              "      <td>2</td>\n",
              "      <td>Fried Bologna</td>\n",
              "      <td>Au Cheval</td>\n",
              "      <td>Thought your bologna-eating days had retired w...</td>\n",
              "      <td>$9</td>\n",
              "      <td>800 W. Randolph St.</td>\n",
              "      <td>Chicago</td>\n",
              "      <td>312-929-4580</td>\n",
              "      <td>aucheval.tumblr.com</td>\n",
              "      <td>800 W. Randolph St., Chicago</td>\n",
              "      <td>800 West Randolph Street, Chicago, IL 60607, USA</td>\n",
              "      <td>41.884672</td>\n",
              "      <td>-87.647754</td>\n",
              "    </tr>\n",
              "    <tr>\n",
              "      <th>2</th>\n",
              "      <td>3</td>\n",
              "      <td>Woodland Mushroom</td>\n",
              "      <td>Xoco</td>\n",
              "      <td>Leave it to Rick Bayless and crew to come up w...</td>\n",
              "      <td>$9.50.</td>\n",
              "      <td>445 N. Clark St.</td>\n",
              "      <td>Chicago</td>\n",
              "      <td>312-334-3688</td>\n",
              "      <td>rickbayless.com</td>\n",
              "      <td>445 N. Clark St., Chicago</td>\n",
              "      <td>445 North Clark Street, Chicago, IL 60654, USA</td>\n",
              "      <td>41.890602</td>\n",
              "      <td>-87.630925</td>\n",
              "    </tr>\n",
              "    <tr>\n",
              "      <th>3</th>\n",
              "      <td>4</td>\n",
              "      <td>Roast Beef</td>\n",
              "      <td>Al&amp;rsquo;s Deli</td>\n",
              "      <td>The Francophile brothers behind this deli, whi...</td>\n",
              "      <td>$9.40.</td>\n",
              "      <td>914 Noyes St.</td>\n",
              "      <td>Evanston</td>\n",
              "      <td>NaN</td>\n",
              "      <td>alsdeli.net</td>\n",
              "      <td>914 Noyes St., Evanston</td>\n",
              "      <td>914 Noyes Street, Evanston, IL 60201, USA</td>\n",
              "      <td>42.058442</td>\n",
              "      <td>-87.684425</td>\n",
              "    </tr>\n",
              "    <tr>\n",
              "      <th>4</th>\n",
              "      <td>5</td>\n",
              "      <td>PB&amp;amp;L</td>\n",
              "      <td>Publican Qualty Meats</td>\n",
              "      <td>When this place opened in February, it quickly...</td>\n",
              "      <td>$10</td>\n",
              "      <td>825 W. Fulton Mkt.</td>\n",
              "      <td>Chicago</td>\n",
              "      <td>312-445-8977</td>\n",
              "      <td>publicanqualitymeats.com</td>\n",
              "      <td>825 W. Fulton Mkt., Chicago</td>\n",
              "      <td>825 West Fulton Market, Chicago, IL 60607, USA</td>\n",
              "      <td>41.886637</td>\n",
              "      <td>-87.648553</td>\n",
              "    </tr>\n",
              "  </tbody>\n",
              "</table>\n",
              "</div>"
            ],
            "text/plain": [
              "   rank           sandwich             restaurant  \\\n",
              "0     1                BLT            Old Oak Tap   \n",
              "1     2      Fried Bologna              Au Cheval   \n",
              "2     3  Woodland Mushroom                   Xoco   \n",
              "3     4         Roast Beef        Al&rsquo;s Deli   \n",
              "4     5           PB&amp;L  Publican Qualty Meats   \n",
              "\n",
              "                                         description   price  \\\n",
              "0  The B is applewood smoked&mdash;nice and snapp...     $10   \n",
              "1  Thought your bologna-eating days had retired w...      $9   \n",
              "2  Leave it to Rick Bayless and crew to come up w...  $9.50.   \n",
              "3  The Francophile brothers behind this deli, whi...  $9.40.   \n",
              "4  When this place opened in February, it quickly...     $10   \n",
              "\n",
              "                address      city         phone                   website  \\\n",
              "0  2109 W. Chicago Ave.   Chicago  773-772-0406          theoldoaktap.com   \n",
              "1   800 W. Randolph St.   Chicago  312-929-4580       aucheval.tumblr.com   \n",
              "2      445 N. Clark St.   Chicago  312-334-3688           rickbayless.com   \n",
              "3         914 Noyes St.  Evanston           NaN               alsdeli.net   \n",
              "4    825 W. Fulton Mkt.   Chicago  312-445-8977  publicanqualitymeats.com   \n",
              "\n",
              "                    full_address  \\\n",
              "0  2109 W. Chicago Ave., Chicago   \n",
              "1   800 W. Randolph St., Chicago   \n",
              "2      445 N. Clark St., Chicago   \n",
              "3        914 Noyes St., Evanston   \n",
              "4    825 W. Fulton Mkt., Chicago   \n",
              "\n",
              "                                  formatted_address        lat        lng  \n",
              "0  2109 West Chicago Avenue, Chicago, IL 60622, USA  41.895734 -87.679960  \n",
              "1  800 West Randolph Street, Chicago, IL 60607, USA  41.884672 -87.647754  \n",
              "2    445 North Clark Street, Chicago, IL 60654, USA  41.890602 -87.630925  \n",
              "3         914 Noyes Street, Evanston, IL 60201, USA  42.058442 -87.684425  \n",
              "4    825 West Fulton Market, Chicago, IL 60607, USA  41.886637 -87.648553  "
            ]
          },
          "metadata": {
            "tags": []
          },
          "execution_count": 23
        }
      ]
    },
    {
      "metadata": {
        "id": "JCC5DJrSrYm3",
        "colab_type": "code",
        "outputId": "c4554027-c11f-4b30-f0bf-fdef1afc550d",
        "colab": {
          "base_uri": "https://localhost:8080/",
          "height": 35
        }
      },
      "cell_type": "code",
      "source": [
        "#Codigo versión 1\n",
        "\n",
        "Phone=from_url['phone']\n",
        "Phone_dropna=Phone.dropna()\n",
        "Phone_Numbers=Phone_dropna.apply(lambda x: str(x).split('-')[0])\n",
        "Phone_Numbers.max()"
      ],
      "execution_count": 0,
      "outputs": [
        {
          "output_type": "execute_result",
          "data": {
            "text/plain": [
              "'773'"
            ]
          },
          "metadata": {
            "tags": []
          },
          "execution_count": 22
        }
      ]
    },
    {
      "metadata": {
        "id": "c1mpY7w6q-9h",
        "colab_type": "code",
        "outputId": "452d9f5e-3f9e-4437-b65b-a71e9ee6b559",
        "colab": {
          "base_uri": "https://localhost:8080/",
          "height": 35
        }
      },
      "cell_type": "code",
      "source": [
        "#Versión 2\n",
        "from_url['phone'].dropna().apply(lambda x: str(x).split('-')[0]).max()"
      ],
      "execution_count": 0,
      "outputs": [
        {
          "output_type": "execute_result",
          "data": {
            "text/plain": [
              "'773'"
            ]
          },
          "metadata": {
            "tags": []
          },
          "execution_count": 19
        }
      ]
    },
    {
      "metadata": {
        "id": "YOiKY_qstID5",
        "colab_type": "code",
        "colab": {}
      },
      "cell_type": "code",
      "source": [
        "#Version 3\n",
        "from_url['phone'].dropna()\\\n",
        "                 .apply(lambda x: str(x)\\\n",
        "                 .split('-')[0])\\\n",
        "                 .max()"
      ],
      "execution_count": 0,
      "outputs": []
    },
    {
      "metadata": {
        "id": "RT85s58F0-5t",
        "colab_type": "text"
      },
      "cell_type": "markdown",
      "source": [
        "El ejemplo anterior muestra que se pueden hacer cadenas de operaciones o transformaciones sobre los DF, esto permite definir un tipo de programación en Pandas. Esto puede ser pensado que es programación \"Declarativa\".\n"
      ]
    },
    {
      "metadata": {
        "id": "KgQ0lqXW14tL",
        "colab_type": "text"
      },
      "cell_type": "markdown",
      "source": [
        "Limpiamos el entorno para hacer los siguientes ejemplos."
      ]
    },
    {
      "metadata": {
        "id": "o7B7mOgrsptp",
        "colab_type": "code",
        "outputId": "fb90bd89-0e7c-4680-d104-5731c2cca2cf",
        "colab": {
          "base_uri": "https://localhost:8080/",
          "height": 35
        }
      },
      "cell_type": "code",
      "source": [
        "%clear"
      ],
      "execution_count": 0,
      "outputs": [
        {
          "output_type": "stream",
          "text": [
            "\u001b[H\u001b[2J"
          ],
          "name": "stdout"
        }
      ]
    },
    {
      "metadata": {
        "id": "jRlGd690tnuc",
        "colab_type": "code",
        "colab": {}
      },
      "cell_type": "code",
      "source": [
        "%reset -f"
      ],
      "execution_count": 0,
      "outputs": []
    },
    {
      "metadata": {
        "id": "chazqKugttBl",
        "colab_type": "code",
        "outputId": "26b7dd13-30dd-4213-e261-08ab43f1c457",
        "colab": {
          "base_uri": "https://localhost:8080/",
          "height": 35
        }
      },
      "cell_type": "code",
      "source": [
        "%whos"
      ],
      "execution_count": 0,
      "outputs": [
        {
          "output_type": "stream",
          "text": [
            "Interactive namespace is empty.\n"
          ],
          "name": "stdout"
        }
      ]
    },
    {
      "metadata": {
        "id": "m7H0fHPN19Qz",
        "colab_type": "text"
      },
      "cell_type": "markdown",
      "source": [
        "## SQL y Pandas\n",
        "\n",
        "El lenguaje estandar para procesar datos es SQL (Structured Query Language), este es un lenguaje de dominio especifico que resulta adecuado para trabajar con bases de datos relacionales. Pero de igual forma, se han desarrollado herramientas para usar el mismo tipo de lenguage (SQL) en bases de datos de estructura diferente a las relacionales.\n",
        "\n",
        "A primera vista la sintaxis de SQL vs Pandas es totalmente diferente, pero se pueden recuperar los resultados haciendo uso de la condiciones lógicas y la manipulacion sobre los DF.\n",
        "\n",
        "Los siguientes códigos son ejemplos sencillos de operaciones elementales en SQL dentro de las operaciones de Pandas."
      ]
    },
    {
      "metadata": {
        "id": "RmUwi0QbtoEY",
        "colab_type": "code",
        "outputId": "02f801f4-13d1-405c-e70c-6c03a252216d",
        "colab": {
          "base_uri": "https://localhost:8080/",
          "height": 193
        }
      },
      "cell_type": "code",
      "source": [
        "#Se cargan las bibliotecas y datos necesarios para los ejemplos.\n",
        "import pandas as pd\n",
        "import numpy as np\n",
        "\n",
        "\n",
        "url = 'https://raw.github.com/gjreda/best-sandwiches/master/data/best-sandwiches-geocode.tsv'\n",
        "\n",
        "# fetch the text from the URL and read it into a DataFrame\n",
        "data = pd.read_table(url, sep='\\t')\n",
        "data.head(3)"
      ],
      "execution_count": 0,
      "outputs": [
        {
          "output_type": "execute_result",
          "data": {
            "text/html": [
              "<div>\n",
              "<style scoped>\n",
              "    .dataframe tbody tr th:only-of-type {\n",
              "        vertical-align: middle;\n",
              "    }\n",
              "\n",
              "    .dataframe tbody tr th {\n",
              "        vertical-align: top;\n",
              "    }\n",
              "\n",
              "    .dataframe thead th {\n",
              "        text-align: right;\n",
              "    }\n",
              "</style>\n",
              "<table border=\"1\" class=\"dataframe\">\n",
              "  <thead>\n",
              "    <tr style=\"text-align: right;\">\n",
              "      <th></th>\n",
              "      <th>rank</th>\n",
              "      <th>sandwich</th>\n",
              "      <th>restaurant</th>\n",
              "      <th>description</th>\n",
              "      <th>price</th>\n",
              "      <th>address</th>\n",
              "      <th>city</th>\n",
              "      <th>phone</th>\n",
              "      <th>website</th>\n",
              "      <th>full_address</th>\n",
              "      <th>formatted_address</th>\n",
              "      <th>lat</th>\n",
              "      <th>lng</th>\n",
              "    </tr>\n",
              "  </thead>\n",
              "  <tbody>\n",
              "    <tr>\n",
              "      <th>0</th>\n",
              "      <td>1</td>\n",
              "      <td>BLT</td>\n",
              "      <td>Old Oak Tap</td>\n",
              "      <td>The B is applewood smoked&amp;mdash;nice and snapp...</td>\n",
              "      <td>$10</td>\n",
              "      <td>2109 W. Chicago Ave.</td>\n",
              "      <td>Chicago</td>\n",
              "      <td>773-772-0406</td>\n",
              "      <td>theoldoaktap.com</td>\n",
              "      <td>2109 W. Chicago Ave., Chicago</td>\n",
              "      <td>2109 West Chicago Avenue, Chicago, IL 60622, USA</td>\n",
              "      <td>41.895734</td>\n",
              "      <td>-87.679960</td>\n",
              "    </tr>\n",
              "    <tr>\n",
              "      <th>1</th>\n",
              "      <td>2</td>\n",
              "      <td>Fried Bologna</td>\n",
              "      <td>Au Cheval</td>\n",
              "      <td>Thought your bologna-eating days had retired w...</td>\n",
              "      <td>$9</td>\n",
              "      <td>800 W. Randolph St.</td>\n",
              "      <td>Chicago</td>\n",
              "      <td>312-929-4580</td>\n",
              "      <td>aucheval.tumblr.com</td>\n",
              "      <td>800 W. Randolph St., Chicago</td>\n",
              "      <td>800 West Randolph Street, Chicago, IL 60607, USA</td>\n",
              "      <td>41.884672</td>\n",
              "      <td>-87.647754</td>\n",
              "    </tr>\n",
              "    <tr>\n",
              "      <th>2</th>\n",
              "      <td>3</td>\n",
              "      <td>Woodland Mushroom</td>\n",
              "      <td>Xoco</td>\n",
              "      <td>Leave it to Rick Bayless and crew to come up w...</td>\n",
              "      <td>$9.50.</td>\n",
              "      <td>445 N. Clark St.</td>\n",
              "      <td>Chicago</td>\n",
              "      <td>312-334-3688</td>\n",
              "      <td>rickbayless.com</td>\n",
              "      <td>445 N. Clark St., Chicago</td>\n",
              "      <td>445 North Clark Street, Chicago, IL 60654, USA</td>\n",
              "      <td>41.890602</td>\n",
              "      <td>-87.630925</td>\n",
              "    </tr>\n",
              "  </tbody>\n",
              "</table>\n",
              "</div>"
            ],
            "text/plain": [
              "   rank           sandwich   restaurant  \\\n",
              "0     1                BLT  Old Oak Tap   \n",
              "1     2      Fried Bologna    Au Cheval   \n",
              "2     3  Woodland Mushroom         Xoco   \n",
              "\n",
              "                                         description   price  \\\n",
              "0  The B is applewood smoked&mdash;nice and snapp...     $10   \n",
              "1  Thought your bologna-eating days had retired w...      $9   \n",
              "2  Leave it to Rick Bayless and crew to come up w...  $9.50.   \n",
              "\n",
              "                address     city         phone              website  \\\n",
              "0  2109 W. Chicago Ave.  Chicago  773-772-0406     theoldoaktap.com   \n",
              "1   800 W. Randolph St.  Chicago  312-929-4580  aucheval.tumblr.com   \n",
              "2      445 N. Clark St.  Chicago  312-334-3688      rickbayless.com   \n",
              "\n",
              "                    full_address  \\\n",
              "0  2109 W. Chicago Ave., Chicago   \n",
              "1   800 W. Randolph St., Chicago   \n",
              "2      445 N. Clark St., Chicago   \n",
              "\n",
              "                                  formatted_address        lat        lng  \n",
              "0  2109 West Chicago Avenue, Chicago, IL 60622, USA  41.895734 -87.679960  \n",
              "1  800 West Randolph Street, Chicago, IL 60607, USA  41.884672 -87.647754  \n",
              "2    445 North Clark Street, Chicago, IL 60654, USA  41.890602 -87.630925  "
            ]
          },
          "metadata": {
            "tags": []
          },
          "execution_count": 79
        }
      ]
    },
    {
      "metadata": {
        "id": "kI6BLnxau9GA",
        "colab_type": "code",
        "outputId": "6a143f08-0d31-493e-f1d9-4afa5dc41909",
        "colab": {
          "base_uri": "https://localhost:8080/",
          "height": 170
        }
      },
      "cell_type": "code",
      "source": [
        "#Breve revisión de los datos\n",
        "data.city.value_counts()"
      ],
      "execution_count": 0,
      "outputs": [
        {
          "output_type": "execute_result",
          "data": {
            "text/plain": [
              "Chicago          53\n",
              "Elmhurst          2\n",
              "Bolingbrook       1\n",
              "Lake Forest       1\n",
              "Orland Hills      1\n",
              "Evanston          1\n",
              "Highland Park     1\n",
              "Oak Park          1\n",
              "Name: city, dtype: int64"
            ]
          },
          "metadata": {
            "tags": []
          },
          "execution_count": 83
        }
      ]
    },
    {
      "metadata": {
        "id": "rJbuEXJCtyiE",
        "colab_type": "code",
        "outputId": "11669dbe-30f4-4ff1-db2a-bb232ee98b18",
        "colab": {
          "base_uri": "https://localhost:8080/",
          "height": 323
        }
      },
      "cell_type": "code",
      "source": [
        "#Exploración minima de los datos\n",
        "data.info()"
      ],
      "execution_count": 0,
      "outputs": [
        {
          "output_type": "stream",
          "text": [
            "<class 'pandas.core.frame.DataFrame'>\n",
            "RangeIndex: 61 entries, 0 to 60\n",
            "Data columns (total 13 columns):\n",
            "rank                 61 non-null int64\n",
            "sandwich             61 non-null object\n",
            "restaurant           61 non-null object\n",
            "description          61 non-null object\n",
            "price                61 non-null object\n",
            "address              61 non-null object\n",
            "city                 61 non-null object\n",
            "phone                50 non-null object\n",
            "website              58 non-null object\n",
            "full_address         61 non-null object\n",
            "formatted_address    61 non-null object\n",
            "lat                  61 non-null float64\n",
            "lng                  61 non-null float64\n",
            "dtypes: float64(2), int64(1), object(10)\n",
            "memory usage: 6.3+ KB\n"
          ],
          "name": "stdout"
        }
      ]
    },
    {
      "metadata": {
        "id": "o95vGSl3uF81",
        "colab_type": "text"
      },
      "cell_type": "markdown",
      "source": [
        "\n",
        "SQL 1\n",
        "\n",
        "Lo más básico en un query es seleccionar columans y visualizar algunas de las filas.\n",
        "\n",
        "~~~sql\n",
        "SELECT restaurant, price, city,phone\n",
        "FROM data\n",
        "LIMIT 5;\n",
        "~~~\n"
      ]
    },
    {
      "metadata": {
        "id": "cvIwHuVwt8Nv",
        "colab_type": "code",
        "outputId": "92c2dfd4-006a-47fb-c8e5-4497743d4428",
        "colab": {
          "base_uri": "https://localhost:8080/",
          "height": 204
        }
      },
      "cell_type": "code",
      "source": [
        "#SQL 1 en Pandas\n",
        "data[['restaurant', 'price', 'city','phone']].head(5)"
      ],
      "execution_count": 0,
      "outputs": [
        {
          "output_type": "execute_result",
          "data": {
            "text/html": [
              "<div>\n",
              "<style scoped>\n",
              "    .dataframe tbody tr th:only-of-type {\n",
              "        vertical-align: middle;\n",
              "    }\n",
              "\n",
              "    .dataframe tbody tr th {\n",
              "        vertical-align: top;\n",
              "    }\n",
              "\n",
              "    .dataframe thead th {\n",
              "        text-align: right;\n",
              "    }\n",
              "</style>\n",
              "<table border=\"1\" class=\"dataframe\">\n",
              "  <thead>\n",
              "    <tr style=\"text-align: right;\">\n",
              "      <th></th>\n",
              "      <th>restaurant</th>\n",
              "      <th>price</th>\n",
              "      <th>city</th>\n",
              "      <th>phone</th>\n",
              "    </tr>\n",
              "  </thead>\n",
              "  <tbody>\n",
              "    <tr>\n",
              "      <th>0</th>\n",
              "      <td>Old Oak Tap</td>\n",
              "      <td>$10</td>\n",
              "      <td>Chicago</td>\n",
              "      <td>773-772-0406</td>\n",
              "    </tr>\n",
              "    <tr>\n",
              "      <th>1</th>\n",
              "      <td>Au Cheval</td>\n",
              "      <td>$9</td>\n",
              "      <td>Chicago</td>\n",
              "      <td>312-929-4580</td>\n",
              "    </tr>\n",
              "    <tr>\n",
              "      <th>2</th>\n",
              "      <td>Xoco</td>\n",
              "      <td>$9.50.</td>\n",
              "      <td>Chicago</td>\n",
              "      <td>312-334-3688</td>\n",
              "    </tr>\n",
              "    <tr>\n",
              "      <th>3</th>\n",
              "      <td>Al&amp;rsquo;s Deli</td>\n",
              "      <td>$9.40.</td>\n",
              "      <td>Evanston</td>\n",
              "      <td>NaN</td>\n",
              "    </tr>\n",
              "    <tr>\n",
              "      <th>4</th>\n",
              "      <td>Publican Qualty Meats</td>\n",
              "      <td>$10</td>\n",
              "      <td>Chicago</td>\n",
              "      <td>312-445-8977</td>\n",
              "    </tr>\n",
              "  </tbody>\n",
              "</table>\n",
              "</div>"
            ],
            "text/plain": [
              "              restaurant   price      city         phone\n",
              "0            Old Oak Tap     $10   Chicago  773-772-0406\n",
              "1              Au Cheval      $9   Chicago  312-929-4580\n",
              "2                   Xoco  $9.50.   Chicago  312-334-3688\n",
              "3        Al&rsquo;s Deli  $9.40.  Evanston           NaN\n",
              "4  Publican Qualty Meats     $10   Chicago  312-445-8977"
            ]
          },
          "metadata": {
            "tags": []
          },
          "execution_count": 81
        }
      ]
    },
    {
      "metadata": {
        "id": "KgKmZJvMv7Xo",
        "colab_type": "code",
        "outputId": "44d351ee-4fbf-452e-e751-7a66e6b092a1",
        "colab": {
          "base_uri": "https://localhost:8080/",
          "height": 204
        }
      },
      "cell_type": "code",
      "source": [
        "#SQL 1 en Pandas\n",
        "data.loc[:4,['restaurant', 'price', 'city','phone']]"
      ],
      "execution_count": 0,
      "outputs": [
        {
          "output_type": "execute_result",
          "data": {
            "text/html": [
              "<div>\n",
              "<style scoped>\n",
              "    .dataframe tbody tr th:only-of-type {\n",
              "        vertical-align: middle;\n",
              "    }\n",
              "\n",
              "    .dataframe tbody tr th {\n",
              "        vertical-align: top;\n",
              "    }\n",
              "\n",
              "    .dataframe thead th {\n",
              "        text-align: right;\n",
              "    }\n",
              "</style>\n",
              "<table border=\"1\" class=\"dataframe\">\n",
              "  <thead>\n",
              "    <tr style=\"text-align: right;\">\n",
              "      <th></th>\n",
              "      <th>restaurant</th>\n",
              "      <th>price</th>\n",
              "      <th>city</th>\n",
              "      <th>phone</th>\n",
              "    </tr>\n",
              "  </thead>\n",
              "  <tbody>\n",
              "    <tr>\n",
              "      <th>0</th>\n",
              "      <td>Old Oak Tap</td>\n",
              "      <td>$10</td>\n",
              "      <td>Chicago</td>\n",
              "      <td>773-772-0406</td>\n",
              "    </tr>\n",
              "    <tr>\n",
              "      <th>1</th>\n",
              "      <td>Au Cheval</td>\n",
              "      <td>$9</td>\n",
              "      <td>Chicago</td>\n",
              "      <td>312-929-4580</td>\n",
              "    </tr>\n",
              "    <tr>\n",
              "      <th>2</th>\n",
              "      <td>Xoco</td>\n",
              "      <td>$9.50.</td>\n",
              "      <td>Chicago</td>\n",
              "      <td>312-334-3688</td>\n",
              "    </tr>\n",
              "    <tr>\n",
              "      <th>3</th>\n",
              "      <td>Al&amp;rsquo;s Deli</td>\n",
              "      <td>$9.40.</td>\n",
              "      <td>Evanston</td>\n",
              "      <td>NaN</td>\n",
              "    </tr>\n",
              "    <tr>\n",
              "      <th>4</th>\n",
              "      <td>Publican Qualty Meats</td>\n",
              "      <td>$10</td>\n",
              "      <td>Chicago</td>\n",
              "      <td>312-445-8977</td>\n",
              "    </tr>\n",
              "  </tbody>\n",
              "</table>\n",
              "</div>"
            ],
            "text/plain": [
              "              restaurant   price      city         phone\n",
              "0            Old Oak Tap     $10   Chicago  773-772-0406\n",
              "1              Au Cheval      $9   Chicago  312-929-4580\n",
              "2                   Xoco  $9.50.   Chicago  312-334-3688\n",
              "3        Al&rsquo;s Deli  $9.40.  Evanston           NaN\n",
              "4  Publican Qualty Meats     $10   Chicago  312-445-8977"
            ]
          },
          "metadata": {
            "tags": []
          },
          "execution_count": 93
        }
      ]
    },
    {
      "metadata": {
        "id": "-h29bSCguwCk",
        "colab_type": "text"
      },
      "cell_type": "markdown",
      "source": [
        "SQL 2\n",
        "\n",
        "La siguiente operacion básica en SQL es seleccionar columnas y pedir que estas cumplan cierta condición o restricción.\n",
        "\n",
        "~~~sql\n",
        "SELECT *\n",
        "FROM data\n",
        "WHERE city = 'Elmhurst';\n",
        "~~~"
      ]
    },
    {
      "metadata": {
        "id": "OBLS7BclupDx",
        "colab_type": "code",
        "outputId": "08991bda-7cdd-4ae7-f458-4d6693f2fc5d",
        "colab": {
          "base_uri": "https://localhost:8080/",
          "height": 145
        }
      },
      "cell_type": "code",
      "source": [
        "#SQL 2 en Pandas\n",
        "data[data['city']=='Elmhurst']"
      ],
      "execution_count": 0,
      "outputs": [
        {
          "output_type": "execute_result",
          "data": {
            "text/html": [
              "<div>\n",
              "<style scoped>\n",
              "    .dataframe tbody tr th:only-of-type {\n",
              "        vertical-align: middle;\n",
              "    }\n",
              "\n",
              "    .dataframe tbody tr th {\n",
              "        vertical-align: top;\n",
              "    }\n",
              "\n",
              "    .dataframe thead th {\n",
              "        text-align: right;\n",
              "    }\n",
              "</style>\n",
              "<table border=\"1\" class=\"dataframe\">\n",
              "  <thead>\n",
              "    <tr style=\"text-align: right;\">\n",
              "      <th></th>\n",
              "      <th>rank</th>\n",
              "      <th>sandwich</th>\n",
              "      <th>restaurant</th>\n",
              "      <th>description</th>\n",
              "      <th>price</th>\n",
              "      <th>address</th>\n",
              "      <th>city</th>\n",
              "      <th>phone</th>\n",
              "      <th>website</th>\n",
              "      <th>full_address</th>\n",
              "      <th>formatted_address</th>\n",
              "      <th>lat</th>\n",
              "      <th>lng</th>\n",
              "    </tr>\n",
              "  </thead>\n",
              "  <tbody>\n",
              "    <tr>\n",
              "      <th>50</th>\n",
              "      <td>40</td>\n",
              "      <td>Tuscan Chicken</td>\n",
              "      <td>Rosalia&amp;rsquo;s Tuscan Chicken</td>\n",
              "      <td>When a boneless chicken breast is dripping wit...</td>\n",
              "      <td>$6</td>\n",
              "      <td>241 N. York Rd.</td>\n",
              "      <td>Elmhurst</td>\n",
              "      <td>NaN</td>\n",
              "      <td>rosaliasdeli.com</td>\n",
              "      <td>241 N. York Rd., Elmhurst</td>\n",
              "      <td>241 North York Street, Elmhurst, IL 60126, USA</td>\n",
              "      <td>41.904940</td>\n",
              "      <td>-87.939853</td>\n",
              "    </tr>\n",
              "    <tr>\n",
              "      <th>58</th>\n",
              "      <td>48</td>\n",
              "      <td>Beef Curry</td>\n",
              "      <td>Zenwich</td>\n",
              "      <td>Proof positive that sandwiches have surpassed ...</td>\n",
              "      <td>$7.50.</td>\n",
              "      <td>416 N. York St.</td>\n",
              "      <td>Elmhurst</td>\n",
              "      <td>NaN</td>\n",
              "      <td>eatmyzenwich.com</td>\n",
              "      <td>416 N. York St., Elmhurst</td>\n",
              "      <td>416 North York Street, Elmhurst, IL 60126, USA</td>\n",
              "      <td>41.910661</td>\n",
              "      <td>-87.939928</td>\n",
              "    </tr>\n",
              "  </tbody>\n",
              "</table>\n",
              "</div>"
            ],
            "text/plain": [
              "    rank        sandwich                      restaurant  \\\n",
              "50    40  Tuscan Chicken  Rosalia&rsquo;s Tuscan Chicken   \n",
              "58    48      Beef Curry                         Zenwich   \n",
              "\n",
              "                                          description   price  \\\n",
              "50  When a boneless chicken breast is dripping wit...      $6   \n",
              "58  Proof positive that sandwiches have surpassed ...  $7.50.   \n",
              "\n",
              "            address      city phone           website  \\\n",
              "50  241 N. York Rd.  Elmhurst   NaN  rosaliasdeli.com   \n",
              "58  416 N. York St.  Elmhurst   NaN  eatmyzenwich.com   \n",
              "\n",
              "                 full_address                               formatted_address  \\\n",
              "50  241 N. York Rd., Elmhurst  241 North York Street, Elmhurst, IL 60126, USA   \n",
              "58  416 N. York St., Elmhurst  416 North York Street, Elmhurst, IL 60126, USA   \n",
              "\n",
              "          lat        lng  \n",
              "50  41.904940 -87.939853  \n",
              "58  41.910661 -87.939928  "
            ]
          },
          "metadata": {
            "tags": []
          },
          "execution_count": 84
        }
      ]
    },
    {
      "metadata": {
        "id": "E8ENEJ4AvOuj",
        "colab_type": "code",
        "outputId": "420d3d17-a94a-4ce5-cab6-0fc907a9386d",
        "colab": {
          "base_uri": "https://localhost:8080/",
          "height": 145
        }
      },
      "cell_type": "code",
      "source": [
        "#SQL 2 en Pandas\n",
        "data[data.city=='Elmhurst']"
      ],
      "execution_count": 0,
      "outputs": [
        {
          "output_type": "execute_result",
          "data": {
            "text/html": [
              "<div>\n",
              "<style scoped>\n",
              "    .dataframe tbody tr th:only-of-type {\n",
              "        vertical-align: middle;\n",
              "    }\n",
              "\n",
              "    .dataframe tbody tr th {\n",
              "        vertical-align: top;\n",
              "    }\n",
              "\n",
              "    .dataframe thead th {\n",
              "        text-align: right;\n",
              "    }\n",
              "</style>\n",
              "<table border=\"1\" class=\"dataframe\">\n",
              "  <thead>\n",
              "    <tr style=\"text-align: right;\">\n",
              "      <th></th>\n",
              "      <th>rank</th>\n",
              "      <th>sandwich</th>\n",
              "      <th>restaurant</th>\n",
              "      <th>description</th>\n",
              "      <th>price</th>\n",
              "      <th>address</th>\n",
              "      <th>city</th>\n",
              "      <th>phone</th>\n",
              "      <th>website</th>\n",
              "      <th>full_address</th>\n",
              "      <th>formatted_address</th>\n",
              "      <th>lat</th>\n",
              "      <th>lng</th>\n",
              "    </tr>\n",
              "  </thead>\n",
              "  <tbody>\n",
              "    <tr>\n",
              "      <th>50</th>\n",
              "      <td>40</td>\n",
              "      <td>Tuscan Chicken</td>\n",
              "      <td>Rosalia&amp;rsquo;s Tuscan Chicken</td>\n",
              "      <td>When a boneless chicken breast is dripping wit...</td>\n",
              "      <td>$6</td>\n",
              "      <td>241 N. York Rd.</td>\n",
              "      <td>Elmhurst</td>\n",
              "      <td>NaN</td>\n",
              "      <td>rosaliasdeli.com</td>\n",
              "      <td>241 N. York Rd., Elmhurst</td>\n",
              "      <td>241 North York Street, Elmhurst, IL 60126, USA</td>\n",
              "      <td>41.904940</td>\n",
              "      <td>-87.939853</td>\n",
              "    </tr>\n",
              "    <tr>\n",
              "      <th>58</th>\n",
              "      <td>48</td>\n",
              "      <td>Beef Curry</td>\n",
              "      <td>Zenwich</td>\n",
              "      <td>Proof positive that sandwiches have surpassed ...</td>\n",
              "      <td>$7.50.</td>\n",
              "      <td>416 N. York St.</td>\n",
              "      <td>Elmhurst</td>\n",
              "      <td>NaN</td>\n",
              "      <td>eatmyzenwich.com</td>\n",
              "      <td>416 N. York St., Elmhurst</td>\n",
              "      <td>416 North York Street, Elmhurst, IL 60126, USA</td>\n",
              "      <td>41.910661</td>\n",
              "      <td>-87.939928</td>\n",
              "    </tr>\n",
              "  </tbody>\n",
              "</table>\n",
              "</div>"
            ],
            "text/plain": [
              "    rank        sandwich                      restaurant  \\\n",
              "50    40  Tuscan Chicken  Rosalia&rsquo;s Tuscan Chicken   \n",
              "58    48      Beef Curry                         Zenwich   \n",
              "\n",
              "                                          description   price  \\\n",
              "50  When a boneless chicken breast is dripping wit...      $6   \n",
              "58  Proof positive that sandwiches have surpassed ...  $7.50.   \n",
              "\n",
              "            address      city phone           website  \\\n",
              "50  241 N. York Rd.  Elmhurst   NaN  rosaliasdeli.com   \n",
              "58  416 N. York St.  Elmhurst   NaN  eatmyzenwich.com   \n",
              "\n",
              "                 full_address                               formatted_address  \\\n",
              "50  241 N. York Rd., Elmhurst  241 North York Street, Elmhurst, IL 60126, USA   \n",
              "58  416 N. York St., Elmhurst  416 North York Street, Elmhurst, IL 60126, USA   \n",
              "\n",
              "          lat        lng  \n",
              "50  41.904940 -87.939853  \n",
              "58  41.910661 -87.939928  "
            ]
          },
          "metadata": {
            "tags": []
          },
          "execution_count": 85
        }
      ]
    },
    {
      "metadata": {
        "id": "ZmkpKrymvTMM",
        "colab_type": "code",
        "outputId": "86e47f9c-6dea-4fd1-e17e-c5d5c51ccab2",
        "colab": {
          "base_uri": "https://localhost:8080/",
          "height": 145
        }
      },
      "cell_type": "code",
      "source": [
        "#SQL 2 en pandas\n",
        "data.loc[data.city.isin(['Elmhurst']),:]"
      ],
      "execution_count": 0,
      "outputs": [
        {
          "output_type": "execute_result",
          "data": {
            "text/html": [
              "<div>\n",
              "<style scoped>\n",
              "    .dataframe tbody tr th:only-of-type {\n",
              "        vertical-align: middle;\n",
              "    }\n",
              "\n",
              "    .dataframe tbody tr th {\n",
              "        vertical-align: top;\n",
              "    }\n",
              "\n",
              "    .dataframe thead th {\n",
              "        text-align: right;\n",
              "    }\n",
              "</style>\n",
              "<table border=\"1\" class=\"dataframe\">\n",
              "  <thead>\n",
              "    <tr style=\"text-align: right;\">\n",
              "      <th></th>\n",
              "      <th>rank</th>\n",
              "      <th>sandwich</th>\n",
              "      <th>restaurant</th>\n",
              "      <th>description</th>\n",
              "      <th>price</th>\n",
              "      <th>address</th>\n",
              "      <th>city</th>\n",
              "      <th>phone</th>\n",
              "      <th>website</th>\n",
              "      <th>full_address</th>\n",
              "      <th>formatted_address</th>\n",
              "      <th>lat</th>\n",
              "      <th>lng</th>\n",
              "    </tr>\n",
              "  </thead>\n",
              "  <tbody>\n",
              "    <tr>\n",
              "      <th>50</th>\n",
              "      <td>40</td>\n",
              "      <td>Tuscan Chicken</td>\n",
              "      <td>Rosalia&amp;rsquo;s Tuscan Chicken</td>\n",
              "      <td>When a boneless chicken breast is dripping wit...</td>\n",
              "      <td>$6</td>\n",
              "      <td>241 N. York Rd.</td>\n",
              "      <td>Elmhurst</td>\n",
              "      <td>NaN</td>\n",
              "      <td>rosaliasdeli.com</td>\n",
              "      <td>241 N. York Rd., Elmhurst</td>\n",
              "      <td>241 North York Street, Elmhurst, IL 60126, USA</td>\n",
              "      <td>41.904940</td>\n",
              "      <td>-87.939853</td>\n",
              "    </tr>\n",
              "    <tr>\n",
              "      <th>58</th>\n",
              "      <td>48</td>\n",
              "      <td>Beef Curry</td>\n",
              "      <td>Zenwich</td>\n",
              "      <td>Proof positive that sandwiches have surpassed ...</td>\n",
              "      <td>$7.50.</td>\n",
              "      <td>416 N. York St.</td>\n",
              "      <td>Elmhurst</td>\n",
              "      <td>NaN</td>\n",
              "      <td>eatmyzenwich.com</td>\n",
              "      <td>416 N. York St., Elmhurst</td>\n",
              "      <td>416 North York Street, Elmhurst, IL 60126, USA</td>\n",
              "      <td>41.910661</td>\n",
              "      <td>-87.939928</td>\n",
              "    </tr>\n",
              "  </tbody>\n",
              "</table>\n",
              "</div>"
            ],
            "text/plain": [
              "    rank        sandwich                      restaurant  \\\n",
              "50    40  Tuscan Chicken  Rosalia&rsquo;s Tuscan Chicken   \n",
              "58    48      Beef Curry                         Zenwich   \n",
              "\n",
              "                                          description   price  \\\n",
              "50  When a boneless chicken breast is dripping wit...      $6   \n",
              "58  Proof positive that sandwiches have surpassed ...  $7.50.   \n",
              "\n",
              "            address      city phone           website  \\\n",
              "50  241 N. York Rd.  Elmhurst   NaN  rosaliasdeli.com   \n",
              "58  416 N. York St.  Elmhurst   NaN  eatmyzenwich.com   \n",
              "\n",
              "                 full_address                               formatted_address  \\\n",
              "50  241 N. York Rd., Elmhurst  241 North York Street, Elmhurst, IL 60126, USA   \n",
              "58  416 N. York St., Elmhurst  416 North York Street, Elmhurst, IL 60126, USA   \n",
              "\n",
              "          lat        lng  \n",
              "50  41.904940 -87.939853  \n",
              "58  41.910661 -87.939928  "
            ]
          },
          "metadata": {
            "tags": []
          },
          "execution_count": 90
        }
      ]
    },
    {
      "metadata": {
        "id": "3rXyY5-LwQ_r",
        "colab_type": "text"
      },
      "cell_type": "markdown",
      "source": [
        "SQL\n",
        "\n",
        "Otro operación estandar es pedir elegir las columnas pero que se cumplan alguna de las operaciones básicas **and, or, not**.\n",
        "~~~sql\n",
        "SELECT *\n",
        "FROM data\n",
        "WHERE city = 'Chicago' AND price <= 8.00;\n",
        "~~~"
      ]
    },
    {
      "metadata": {
        "id": "PVgKSkaRvjxD",
        "colab_type": "code",
        "colab": {}
      },
      "cell_type": "code",
      "source": [
        "#SQL 3 en Pandas.\n",
        "#Primero procesamos la variable price para poder operar sobre ella.\n",
        "data['price']=data.price.apply(lambda x: x.replace('$','').split('.')[0]).astype(float)"
      ],
      "execution_count": 0,
      "outputs": []
    },
    {
      "metadata": {
        "id": "cXr4HWYZwmu4",
        "colab_type": "code",
        "outputId": "34472487-403a-4c0b-b774-139105bd10fa",
        "colab": {
          "base_uri": "https://localhost:8080/",
          "height": 289
        }
      },
      "cell_type": "code",
      "source": [
        "data.head()"
      ],
      "execution_count": 0,
      "outputs": [
        {
          "output_type": "execute_result",
          "data": {
            "text/html": [
              "<div>\n",
              "<style scoped>\n",
              "    .dataframe tbody tr th:only-of-type {\n",
              "        vertical-align: middle;\n",
              "    }\n",
              "\n",
              "    .dataframe tbody tr th {\n",
              "        vertical-align: top;\n",
              "    }\n",
              "\n",
              "    .dataframe thead th {\n",
              "        text-align: right;\n",
              "    }\n",
              "</style>\n",
              "<table border=\"1\" class=\"dataframe\">\n",
              "  <thead>\n",
              "    <tr style=\"text-align: right;\">\n",
              "      <th></th>\n",
              "      <th>rank</th>\n",
              "      <th>sandwich</th>\n",
              "      <th>restaurant</th>\n",
              "      <th>description</th>\n",
              "      <th>price</th>\n",
              "      <th>address</th>\n",
              "      <th>city</th>\n",
              "      <th>phone</th>\n",
              "      <th>website</th>\n",
              "      <th>full_address</th>\n",
              "      <th>formatted_address</th>\n",
              "      <th>lat</th>\n",
              "      <th>lng</th>\n",
              "    </tr>\n",
              "  </thead>\n",
              "  <tbody>\n",
              "    <tr>\n",
              "      <th>0</th>\n",
              "      <td>1</td>\n",
              "      <td>BLT</td>\n",
              "      <td>Old Oak Tap</td>\n",
              "      <td>The B is applewood smoked&amp;mdash;nice and snapp...</td>\n",
              "      <td>10.0</td>\n",
              "      <td>2109 W. Chicago Ave.</td>\n",
              "      <td>Chicago</td>\n",
              "      <td>773-772-0406</td>\n",
              "      <td>theoldoaktap.com</td>\n",
              "      <td>2109 W. Chicago Ave., Chicago</td>\n",
              "      <td>2109 West Chicago Avenue, Chicago, IL 60622, USA</td>\n",
              "      <td>41.895734</td>\n",
              "      <td>-87.679960</td>\n",
              "    </tr>\n",
              "    <tr>\n",
              "      <th>1</th>\n",
              "      <td>2</td>\n",
              "      <td>Fried Bologna</td>\n",
              "      <td>Au Cheval</td>\n",
              "      <td>Thought your bologna-eating days had retired w...</td>\n",
              "      <td>9.0</td>\n",
              "      <td>800 W. Randolph St.</td>\n",
              "      <td>Chicago</td>\n",
              "      <td>312-929-4580</td>\n",
              "      <td>aucheval.tumblr.com</td>\n",
              "      <td>800 W. Randolph St., Chicago</td>\n",
              "      <td>800 West Randolph Street, Chicago, IL 60607, USA</td>\n",
              "      <td>41.884672</td>\n",
              "      <td>-87.647754</td>\n",
              "    </tr>\n",
              "    <tr>\n",
              "      <th>2</th>\n",
              "      <td>3</td>\n",
              "      <td>Woodland Mushroom</td>\n",
              "      <td>Xoco</td>\n",
              "      <td>Leave it to Rick Bayless and crew to come up w...</td>\n",
              "      <td>9.0</td>\n",
              "      <td>445 N. Clark St.</td>\n",
              "      <td>Chicago</td>\n",
              "      <td>312-334-3688</td>\n",
              "      <td>rickbayless.com</td>\n",
              "      <td>445 N. Clark St., Chicago</td>\n",
              "      <td>445 North Clark Street, Chicago, IL 60654, USA</td>\n",
              "      <td>41.890602</td>\n",
              "      <td>-87.630925</td>\n",
              "    </tr>\n",
              "    <tr>\n",
              "      <th>3</th>\n",
              "      <td>4</td>\n",
              "      <td>Roast Beef</td>\n",
              "      <td>Al&amp;rsquo;s Deli</td>\n",
              "      <td>The Francophile brothers behind this deli, whi...</td>\n",
              "      <td>9.0</td>\n",
              "      <td>914 Noyes St.</td>\n",
              "      <td>Evanston</td>\n",
              "      <td>NaN</td>\n",
              "      <td>alsdeli.net</td>\n",
              "      <td>914 Noyes St., Evanston</td>\n",
              "      <td>914 Noyes Street, Evanston, IL 60201, USA</td>\n",
              "      <td>42.058442</td>\n",
              "      <td>-87.684425</td>\n",
              "    </tr>\n",
              "    <tr>\n",
              "      <th>4</th>\n",
              "      <td>5</td>\n",
              "      <td>PB&amp;amp;L</td>\n",
              "      <td>Publican Qualty Meats</td>\n",
              "      <td>When this place opened in February, it quickly...</td>\n",
              "      <td>10.0</td>\n",
              "      <td>825 W. Fulton Mkt.</td>\n",
              "      <td>Chicago</td>\n",
              "      <td>312-445-8977</td>\n",
              "      <td>publicanqualitymeats.com</td>\n",
              "      <td>825 W. Fulton Mkt., Chicago</td>\n",
              "      <td>825 West Fulton Market, Chicago, IL 60607, USA</td>\n",
              "      <td>41.886637</td>\n",
              "      <td>-87.648553</td>\n",
              "    </tr>\n",
              "  </tbody>\n",
              "</table>\n",
              "</div>"
            ],
            "text/plain": [
              "   rank           sandwich             restaurant  \\\n",
              "0     1                BLT            Old Oak Tap   \n",
              "1     2      Fried Bologna              Au Cheval   \n",
              "2     3  Woodland Mushroom                   Xoco   \n",
              "3     4         Roast Beef        Al&rsquo;s Deli   \n",
              "4     5           PB&amp;L  Publican Qualty Meats   \n",
              "\n",
              "                                         description  price  \\\n",
              "0  The B is applewood smoked&mdash;nice and snapp...   10.0   \n",
              "1  Thought your bologna-eating days had retired w...    9.0   \n",
              "2  Leave it to Rick Bayless and crew to come up w...    9.0   \n",
              "3  The Francophile brothers behind this deli, whi...    9.0   \n",
              "4  When this place opened in February, it quickly...   10.0   \n",
              "\n",
              "                address      city         phone                   website  \\\n",
              "0  2109 W. Chicago Ave.   Chicago  773-772-0406          theoldoaktap.com   \n",
              "1   800 W. Randolph St.   Chicago  312-929-4580       aucheval.tumblr.com   \n",
              "2      445 N. Clark St.   Chicago  312-334-3688           rickbayless.com   \n",
              "3         914 Noyes St.  Evanston           NaN               alsdeli.net   \n",
              "4    825 W. Fulton Mkt.   Chicago  312-445-8977  publicanqualitymeats.com   \n",
              "\n",
              "                    full_address  \\\n",
              "0  2109 W. Chicago Ave., Chicago   \n",
              "1   800 W. Randolph St., Chicago   \n",
              "2      445 N. Clark St., Chicago   \n",
              "3        914 Noyes St., Evanston   \n",
              "4    825 W. Fulton Mkt., Chicago   \n",
              "\n",
              "                                  formatted_address        lat        lng  \n",
              "0  2109 West Chicago Avenue, Chicago, IL 60622, USA  41.895734 -87.679960  \n",
              "1  800 West Randolph Street, Chicago, IL 60607, USA  41.884672 -87.647754  \n",
              "2    445 North Clark Street, Chicago, IL 60654, USA  41.890602 -87.630925  \n",
              "3         914 Noyes Street, Evanston, IL 60201, USA  42.058442 -87.684425  \n",
              "4    825 West Fulton Market, Chicago, IL 60607, USA  41.886637 -87.648553  "
            ]
          },
          "metadata": {
            "tags": []
          },
          "execution_count": 110
        }
      ]
    },
    {
      "metadata": {
        "id": "1lrA7xO7xCzz",
        "colab_type": "code",
        "outputId": "af0c76de-b33c-416f-ba6b-d0517de0d952",
        "colab": {
          "base_uri": "https://localhost:8080/",
          "height": 625
        }
      },
      "cell_type": "code",
      "source": [
        "#SQL 3 en Pandas\n",
        "data[(data.city=='Chicago') & (data.price<7.0) ]"
      ],
      "execution_count": 0,
      "outputs": [
        {
          "output_type": "execute_result",
          "data": {
            "text/html": [
              "<div>\n",
              "<style scoped>\n",
              "    .dataframe tbody tr th:only-of-type {\n",
              "        vertical-align: middle;\n",
              "    }\n",
              "\n",
              "    .dataframe tbody tr th {\n",
              "        vertical-align: top;\n",
              "    }\n",
              "\n",
              "    .dataframe thead th {\n",
              "        text-align: right;\n",
              "    }\n",
              "</style>\n",
              "<table border=\"1\" class=\"dataframe\">\n",
              "  <thead>\n",
              "    <tr style=\"text-align: right;\">\n",
              "      <th></th>\n",
              "      <th>rank</th>\n",
              "      <th>sandwich</th>\n",
              "      <th>restaurant</th>\n",
              "      <th>description</th>\n",
              "      <th>price</th>\n",
              "      <th>address</th>\n",
              "      <th>city</th>\n",
              "      <th>phone</th>\n",
              "      <th>website</th>\n",
              "      <th>full_address</th>\n",
              "      <th>formatted_address</th>\n",
              "      <th>lat</th>\n",
              "      <th>lng</th>\n",
              "    </tr>\n",
              "  </thead>\n",
              "  <tbody>\n",
              "    <tr>\n",
              "      <th>11</th>\n",
              "      <td>12</td>\n",
              "      <td>Breaded Steak</td>\n",
              "      <td>Ricobene&amp;rsquo;s</td>\n",
              "      <td>This is what put Ricobene&amp;rsquo;s on the map: ...</td>\n",
              "      <td>5.0</td>\n",
              "      <td>252 W. 26th Street</td>\n",
              "      <td>Chicago</td>\n",
              "      <td>(312) 225-5555</td>\n",
              "      <td>ricobenespizza.com</td>\n",
              "      <td>252 W. 26th Street, Chicago</td>\n",
              "      <td>252 West 26th Street, Chicago, IL 60616, USA</td>\n",
              "      <td>41.845754</td>\n",
              "      <td>-87.633895</td>\n",
              "    </tr>\n",
              "    <tr>\n",
              "      <th>13</th>\n",
              "      <td>12</td>\n",
              "      <td>Breaded Steak</td>\n",
              "      <td>Ricobene&amp;rsquo;s</td>\n",
              "      <td>This is what put Ricobene&amp;rsquo;s on the map: ...</td>\n",
              "      <td>5.0</td>\n",
              "      <td>5160 S. Pulaski Road</td>\n",
              "      <td>Chicago</td>\n",
              "      <td>(773) 284-2400</td>\n",
              "      <td>ricobenespizza.com</td>\n",
              "      <td>5160 S. Pulaski Road, Chicago</td>\n",
              "      <td>5160 South Pulaski Road, Chicago, IL 60632, USA</td>\n",
              "      <td>41.798956</td>\n",
              "      <td>-87.723434</td>\n",
              "    </tr>\n",
              "    <tr>\n",
              "      <th>18</th>\n",
              "      <td>16</td>\n",
              "      <td>Meatball Sub</td>\n",
              "      <td>Bari</td>\n",
              "      <td>No condiments, no fuss, just saucy meatballs (...</td>\n",
              "      <td>4.0</td>\n",
              "      <td>1120 W. Grand Ave.</td>\n",
              "      <td>Chicago</td>\n",
              "      <td>312-666-0730</td>\n",
              "      <td>bariitaliansubs.com</td>\n",
              "      <td>1120 W. Grand Ave., Chicago</td>\n",
              "      <td>1120 West Grand Avenue, Chicago, IL 60642, USA</td>\n",
              "      <td>41.891213</td>\n",
              "      <td>-87.655534</td>\n",
              "    </tr>\n",
              "    <tr>\n",
              "      <th>21</th>\n",
              "      <td>19</td>\n",
              "      <td>Falafel</td>\n",
              "      <td>Old Jerusalem</td>\n",
              "      <td>The fritters of mashed chickpeas are perfectly...</td>\n",
              "      <td>6.0</td>\n",
              "      <td>1411 N. Wells St.</td>\n",
              "      <td>Chicago</td>\n",
              "      <td>312-944-0459</td>\n",
              "      <td>oldjerusalemchicago.com</td>\n",
              "      <td>1411 N. Wells St., Chicago</td>\n",
              "      <td>1411 North Wells Street, Chicago, IL 60610, USA</td>\n",
              "      <td>41.908000</td>\n",
              "      <td>-87.634157</td>\n",
              "    </tr>\n",
              "    <tr>\n",
              "      <th>23</th>\n",
              "      <td>21</td>\n",
              "      <td>Chicken Schnitzel</td>\n",
              "      <td>Olga&amp;rsquo;s Delicatessen</td>\n",
              "      <td>A no-frills thrill, the schnitzel is a classic...</td>\n",
              "      <td>5.0</td>\n",
              "      <td>3209 W. Irving Park Rd.</td>\n",
              "      <td>Chicago</td>\n",
              "      <td>773-539-8038</td>\n",
              "      <td>NaN</td>\n",
              "      <td>3209 W. Irving Park Rd., Chicago</td>\n",
              "      <td>3209 West Irving Park Road, Chicago, IL 60618,...</td>\n",
              "      <td>41.953806</td>\n",
              "      <td>-87.708466</td>\n",
              "    </tr>\n",
              "    <tr>\n",
              "      <th>24</th>\n",
              "      <td>22</td>\n",
              "      <td>Shawarma</td>\n",
              "      <td>Dawali Mediterranean Kitchen</td>\n",
              "      <td>Dawali&amp;rsquo;s filling shawarma escapes a comm...</td>\n",
              "      <td>6.0</td>\n",
              "      <td>1625 N Halsted St.</td>\n",
              "      <td>Chicago</td>\n",
              "      <td>(312) 944-5800</td>\n",
              "      <td>dawalikitchen.com</td>\n",
              "      <td>1625 N Halsted St., Chicago</td>\n",
              "      <td>1625 North Halsted Street, Chicago, IL 60614, USA</td>\n",
              "      <td>41.911714</td>\n",
              "      <td>-87.648218</td>\n",
              "    </tr>\n",
              "    <tr>\n",
              "      <th>25</th>\n",
              "      <td>22</td>\n",
              "      <td>Shawarma</td>\n",
              "      <td>Dawali Mediterranean Kitchen</td>\n",
              "      <td>Dawali&amp;rsquo;s filling shawarma escapes a comm...</td>\n",
              "      <td>6.0</td>\n",
              "      <td>4911 N Kedzie Ave</td>\n",
              "      <td>Chicago</td>\n",
              "      <td>(773) 267-4222</td>\n",
              "      <td>dawalikitchen.com</td>\n",
              "      <td>4911 N Kedzie Ave, Chicago</td>\n",
              "      <td>4911 North Kedzie Avenue, Chicago, IL 60625, USA</td>\n",
              "      <td>41.970782</td>\n",
              "      <td>-87.708503</td>\n",
              "    </tr>\n",
              "    <tr>\n",
              "      <th>27</th>\n",
              "      <td>24</td>\n",
              "      <td>Vegetarian Panino</td>\n",
              "      <td>La Pane</td>\n",
              "      <td>La Pane might be known for pizza, but it offer...</td>\n",
              "      <td>5.0</td>\n",
              "      <td>2954 W. Irving Park Rd.</td>\n",
              "      <td>Chicago</td>\n",
              "      <td>773-539-5321</td>\n",
              "      <td>lapanechicago.com</td>\n",
              "      <td>2954 W. Irving Park Rd., Chicago</td>\n",
              "      <td>2954 West Irving Park Road, Chicago, IL 60618,...</td>\n",
              "      <td>41.954024</td>\n",
              "      <td>-87.702521</td>\n",
              "    </tr>\n",
              "    <tr>\n",
              "      <th>53</th>\n",
              "      <td>43</td>\n",
              "      <td>Oat Bread, Pecan Butter, and Fruit Jam</td>\n",
              "      <td>Elaine&amp;rsquo;s Coffee Call</td>\n",
              "      <td>The chalkboard menu is ambiguous about whether...</td>\n",
              "      <td>6.0</td>\n",
              "      <td>1816 N. Clark St.</td>\n",
              "      <td>Chicago</td>\n",
              "      <td>NaN</td>\n",
              "      <td>jdvhotels.com/hotels/chicago/lincoln</td>\n",
              "      <td>1816 N. Clark St., Chicago</td>\n",
              "      <td>1816 North Clark Street, Chicago, IL 60614, USA</td>\n",
              "      <td>41.915304</td>\n",
              "      <td>-87.634502</td>\n",
              "    </tr>\n",
              "    <tr>\n",
              "      <th>55</th>\n",
              "      <td>45</td>\n",
              "      <td>Cubano</td>\n",
              "      <td>Cafecito</td>\n",
              "      <td>The success of this sandwich, a Cuban traditio...</td>\n",
              "      <td>5.0</td>\n",
              "      <td>26 E. Congress Pkwy.</td>\n",
              "      <td>Chicago</td>\n",
              "      <td>312-922-2233</td>\n",
              "      <td>cafecitochicago.com</td>\n",
              "      <td>26 E. Congress Pkwy., Chicago</td>\n",
              "      <td>26 East Congress Parkway, Chicago, IL 60605, USA</td>\n",
              "      <td>41.875804</td>\n",
              "      <td>-87.626366</td>\n",
              "    </tr>\n",
              "    <tr>\n",
              "      <th>57</th>\n",
              "      <td>47</td>\n",
              "      <td>Debbie&amp;rsquo;s Egg Salad</td>\n",
              "      <td>The Goddess and Grocer</td>\n",
              "      <td>Nothing quite satisfies the comfortfood hunger...</td>\n",
              "      <td>6.0</td>\n",
              "      <td>25 E. Delaware Pl.</td>\n",
              "      <td>Chicago</td>\n",
              "      <td>312-896-2600</td>\n",
              "      <td>goddessandgrocer.com</td>\n",
              "      <td>25 E. Delaware Pl., Chicago</td>\n",
              "      <td>25 East Delaware Place, Chicago, IL 60611, USA</td>\n",
              "      <td>41.898990</td>\n",
              "      <td>-87.627290</td>\n",
              "    </tr>\n",
              "    <tr>\n",
              "      <th>60</th>\n",
              "      <td>50</td>\n",
              "      <td>The Gatsby</td>\n",
              "      <td>Phoebe&amp;rsquo;s Bakery</td>\n",
              "      <td>The best thing about Phoebe&amp;rsquo;s panini is ...</td>\n",
              "      <td>6.0</td>\n",
              "      <td>3351 N. Broadway</td>\n",
              "      <td>Chicago</td>\n",
              "      <td>773-868-4000</td>\n",
              "      <td>phoebesbakery.com</td>\n",
              "      <td>3351 N. Broadway, Chicago</td>\n",
              "      <td>3351 North Broadway, Chicago, IL 60657, USA</td>\n",
              "      <td>41.942739</td>\n",
              "      <td>-87.644342</td>\n",
              "    </tr>\n",
              "  </tbody>\n",
              "</table>\n",
              "</div>"
            ],
            "text/plain": [
              "    rank                                sandwich  \\\n",
              "11    12                           Breaded Steak   \n",
              "13    12                           Breaded Steak   \n",
              "18    16                            Meatball Sub   \n",
              "21    19                                 Falafel   \n",
              "23    21                       Chicken Schnitzel   \n",
              "24    22                                Shawarma   \n",
              "25    22                                Shawarma   \n",
              "27    24                       Vegetarian Panino   \n",
              "53    43  Oat Bread, Pecan Butter, and Fruit Jam   \n",
              "55    45                                  Cubano   \n",
              "57    47                Debbie&rsquo;s Egg Salad   \n",
              "60    50                              The Gatsby   \n",
              "\n",
              "                      restaurant  \\\n",
              "11              Ricobene&rsquo;s   \n",
              "13              Ricobene&rsquo;s   \n",
              "18                          Bari   \n",
              "21                 Old Jerusalem   \n",
              "23     Olga&rsquo;s Delicatessen   \n",
              "24  Dawali Mediterranean Kitchen   \n",
              "25  Dawali Mediterranean Kitchen   \n",
              "27                       La Pane   \n",
              "53    Elaine&rsquo;s Coffee Call   \n",
              "55                      Cafecito   \n",
              "57        The Goddess and Grocer   \n",
              "60         Phoebe&rsquo;s Bakery   \n",
              "\n",
              "                                          description  price  \\\n",
              "11  This is what put Ricobene&rsquo;s on the map: ...    5.0   \n",
              "13  This is what put Ricobene&rsquo;s on the map: ...    5.0   \n",
              "18  No condiments, no fuss, just saucy meatballs (...    4.0   \n",
              "21  The fritters of mashed chickpeas are perfectly...    6.0   \n",
              "23  A no-frills thrill, the schnitzel is a classic...    5.0   \n",
              "24  Dawali&rsquo;s filling shawarma escapes a comm...    6.0   \n",
              "25  Dawali&rsquo;s filling shawarma escapes a comm...    6.0   \n",
              "27  La Pane might be known for pizza, but it offer...    5.0   \n",
              "53  The chalkboard menu is ambiguous about whether...    6.0   \n",
              "55  The success of this sandwich, a Cuban traditio...    5.0   \n",
              "57  Nothing quite satisfies the comfortfood hunger...    6.0   \n",
              "60  The best thing about Phoebe&rsquo;s panini is ...    6.0   \n",
              "\n",
              "                    address     city           phone  \\\n",
              "11       252 W. 26th Street  Chicago  (312) 225-5555   \n",
              "13     5160 S. Pulaski Road  Chicago  (773) 284-2400   \n",
              "18       1120 W. Grand Ave.  Chicago    312-666-0730   \n",
              "21        1411 N. Wells St.  Chicago    312-944-0459   \n",
              "23  3209 W. Irving Park Rd.  Chicago    773-539-8038   \n",
              "24       1625 N Halsted St.  Chicago  (312) 944-5800   \n",
              "25        4911 N Kedzie Ave  Chicago  (773) 267-4222   \n",
              "27  2954 W. Irving Park Rd.  Chicago    773-539-5321   \n",
              "53        1816 N. Clark St.  Chicago             NaN   \n",
              "55     26 E. Congress Pkwy.  Chicago    312-922-2233   \n",
              "57       25 E. Delaware Pl.  Chicago    312-896-2600   \n",
              "60         3351 N. Broadway  Chicago    773-868-4000   \n",
              "\n",
              "                                 website                      full_address  \\\n",
              "11                    ricobenespizza.com       252 W. 26th Street, Chicago   \n",
              "13                    ricobenespizza.com     5160 S. Pulaski Road, Chicago   \n",
              "18                   bariitaliansubs.com       1120 W. Grand Ave., Chicago   \n",
              "21               oldjerusalemchicago.com        1411 N. Wells St., Chicago   \n",
              "23                                   NaN  3209 W. Irving Park Rd., Chicago   \n",
              "24                     dawalikitchen.com       1625 N Halsted St., Chicago   \n",
              "25                     dawalikitchen.com        4911 N Kedzie Ave, Chicago   \n",
              "27                     lapanechicago.com  2954 W. Irving Park Rd., Chicago   \n",
              "53  jdvhotels.com/hotels/chicago/lincoln        1816 N. Clark St., Chicago   \n",
              "55                   cafecitochicago.com     26 E. Congress Pkwy., Chicago   \n",
              "57                  goddessandgrocer.com       25 E. Delaware Pl., Chicago   \n",
              "60                     phoebesbakery.com         3351 N. Broadway, Chicago   \n",
              "\n",
              "                                    formatted_address        lat        lng  \n",
              "11       252 West 26th Street, Chicago, IL 60616, USA  41.845754 -87.633895  \n",
              "13    5160 South Pulaski Road, Chicago, IL 60632, USA  41.798956 -87.723434  \n",
              "18     1120 West Grand Avenue, Chicago, IL 60642, USA  41.891213 -87.655534  \n",
              "21    1411 North Wells Street, Chicago, IL 60610, USA  41.908000 -87.634157  \n",
              "23  3209 West Irving Park Road, Chicago, IL 60618,...  41.953806 -87.708466  \n",
              "24  1625 North Halsted Street, Chicago, IL 60614, USA  41.911714 -87.648218  \n",
              "25   4911 North Kedzie Avenue, Chicago, IL 60625, USA  41.970782 -87.708503  \n",
              "27  2954 West Irving Park Road, Chicago, IL 60618,...  41.954024 -87.702521  \n",
              "53    1816 North Clark Street, Chicago, IL 60614, USA  41.915304 -87.634502  \n",
              "55   26 East Congress Parkway, Chicago, IL 60605, USA  41.875804 -87.626366  \n",
              "57     25 East Delaware Place, Chicago, IL 60611, USA  41.898990 -87.627290  \n",
              "60        3351 North Broadway, Chicago, IL 60657, USA  41.942739 -87.644342  "
            ]
          },
          "metadata": {
            "tags": []
          },
          "execution_count": 112
        }
      ]
    },
    {
      "metadata": {
        "id": "iln7WqTNyQds",
        "colab_type": "code",
        "outputId": "4aa1f0d3-6bd7-4292-a704-2d9924663b1e",
        "colab": {
          "base_uri": "https://localhost:8080/",
          "height": 625
        }
      },
      "cell_type": "code",
      "source": [
        "#SQL 3 en Pandas\n",
        "data.loc[(data.city=='Chicago') & (data.price<7.0),: ]"
      ],
      "execution_count": 0,
      "outputs": [
        {
          "output_type": "execute_result",
          "data": {
            "text/html": [
              "<div>\n",
              "<style scoped>\n",
              "    .dataframe tbody tr th:only-of-type {\n",
              "        vertical-align: middle;\n",
              "    }\n",
              "\n",
              "    .dataframe tbody tr th {\n",
              "        vertical-align: top;\n",
              "    }\n",
              "\n",
              "    .dataframe thead th {\n",
              "        text-align: right;\n",
              "    }\n",
              "</style>\n",
              "<table border=\"1\" class=\"dataframe\">\n",
              "  <thead>\n",
              "    <tr style=\"text-align: right;\">\n",
              "      <th></th>\n",
              "      <th>rank</th>\n",
              "      <th>sandwich</th>\n",
              "      <th>restaurant</th>\n",
              "      <th>description</th>\n",
              "      <th>price</th>\n",
              "      <th>address</th>\n",
              "      <th>city</th>\n",
              "      <th>phone</th>\n",
              "      <th>website</th>\n",
              "      <th>full_address</th>\n",
              "      <th>formatted_address</th>\n",
              "      <th>lat</th>\n",
              "      <th>lng</th>\n",
              "    </tr>\n",
              "  </thead>\n",
              "  <tbody>\n",
              "    <tr>\n",
              "      <th>11</th>\n",
              "      <td>12</td>\n",
              "      <td>Breaded Steak</td>\n",
              "      <td>Ricobene&amp;rsquo;s</td>\n",
              "      <td>This is what put Ricobene&amp;rsquo;s on the map: ...</td>\n",
              "      <td>5.0</td>\n",
              "      <td>252 W. 26th Street</td>\n",
              "      <td>Chicago</td>\n",
              "      <td>(312) 225-5555</td>\n",
              "      <td>ricobenespizza.com</td>\n",
              "      <td>252 W. 26th Street, Chicago</td>\n",
              "      <td>252 West 26th Street, Chicago, IL 60616, USA</td>\n",
              "      <td>41.845754</td>\n",
              "      <td>-87.633895</td>\n",
              "    </tr>\n",
              "    <tr>\n",
              "      <th>13</th>\n",
              "      <td>12</td>\n",
              "      <td>Breaded Steak</td>\n",
              "      <td>Ricobene&amp;rsquo;s</td>\n",
              "      <td>This is what put Ricobene&amp;rsquo;s on the map: ...</td>\n",
              "      <td>5.0</td>\n",
              "      <td>5160 S. Pulaski Road</td>\n",
              "      <td>Chicago</td>\n",
              "      <td>(773) 284-2400</td>\n",
              "      <td>ricobenespizza.com</td>\n",
              "      <td>5160 S. Pulaski Road, Chicago</td>\n",
              "      <td>5160 South Pulaski Road, Chicago, IL 60632, USA</td>\n",
              "      <td>41.798956</td>\n",
              "      <td>-87.723434</td>\n",
              "    </tr>\n",
              "    <tr>\n",
              "      <th>18</th>\n",
              "      <td>16</td>\n",
              "      <td>Meatball Sub</td>\n",
              "      <td>Bari</td>\n",
              "      <td>No condiments, no fuss, just saucy meatballs (...</td>\n",
              "      <td>4.0</td>\n",
              "      <td>1120 W. Grand Ave.</td>\n",
              "      <td>Chicago</td>\n",
              "      <td>312-666-0730</td>\n",
              "      <td>bariitaliansubs.com</td>\n",
              "      <td>1120 W. Grand Ave., Chicago</td>\n",
              "      <td>1120 West Grand Avenue, Chicago, IL 60642, USA</td>\n",
              "      <td>41.891213</td>\n",
              "      <td>-87.655534</td>\n",
              "    </tr>\n",
              "    <tr>\n",
              "      <th>21</th>\n",
              "      <td>19</td>\n",
              "      <td>Falafel</td>\n",
              "      <td>Old Jerusalem</td>\n",
              "      <td>The fritters of mashed chickpeas are perfectly...</td>\n",
              "      <td>6.0</td>\n",
              "      <td>1411 N. Wells St.</td>\n",
              "      <td>Chicago</td>\n",
              "      <td>312-944-0459</td>\n",
              "      <td>oldjerusalemchicago.com</td>\n",
              "      <td>1411 N. Wells St., Chicago</td>\n",
              "      <td>1411 North Wells Street, Chicago, IL 60610, USA</td>\n",
              "      <td>41.908000</td>\n",
              "      <td>-87.634157</td>\n",
              "    </tr>\n",
              "    <tr>\n",
              "      <th>23</th>\n",
              "      <td>21</td>\n",
              "      <td>Chicken Schnitzel</td>\n",
              "      <td>Olga&amp;rsquo;s Delicatessen</td>\n",
              "      <td>A no-frills thrill, the schnitzel is a classic...</td>\n",
              "      <td>5.0</td>\n",
              "      <td>3209 W. Irving Park Rd.</td>\n",
              "      <td>Chicago</td>\n",
              "      <td>773-539-8038</td>\n",
              "      <td>NaN</td>\n",
              "      <td>3209 W. Irving Park Rd., Chicago</td>\n",
              "      <td>3209 West Irving Park Road, Chicago, IL 60618,...</td>\n",
              "      <td>41.953806</td>\n",
              "      <td>-87.708466</td>\n",
              "    </tr>\n",
              "    <tr>\n",
              "      <th>24</th>\n",
              "      <td>22</td>\n",
              "      <td>Shawarma</td>\n",
              "      <td>Dawali Mediterranean Kitchen</td>\n",
              "      <td>Dawali&amp;rsquo;s filling shawarma escapes a comm...</td>\n",
              "      <td>6.0</td>\n",
              "      <td>1625 N Halsted St.</td>\n",
              "      <td>Chicago</td>\n",
              "      <td>(312) 944-5800</td>\n",
              "      <td>dawalikitchen.com</td>\n",
              "      <td>1625 N Halsted St., Chicago</td>\n",
              "      <td>1625 North Halsted Street, Chicago, IL 60614, USA</td>\n",
              "      <td>41.911714</td>\n",
              "      <td>-87.648218</td>\n",
              "    </tr>\n",
              "    <tr>\n",
              "      <th>25</th>\n",
              "      <td>22</td>\n",
              "      <td>Shawarma</td>\n",
              "      <td>Dawali Mediterranean Kitchen</td>\n",
              "      <td>Dawali&amp;rsquo;s filling shawarma escapes a comm...</td>\n",
              "      <td>6.0</td>\n",
              "      <td>4911 N Kedzie Ave</td>\n",
              "      <td>Chicago</td>\n",
              "      <td>(773) 267-4222</td>\n",
              "      <td>dawalikitchen.com</td>\n",
              "      <td>4911 N Kedzie Ave, Chicago</td>\n",
              "      <td>4911 North Kedzie Avenue, Chicago, IL 60625, USA</td>\n",
              "      <td>41.970782</td>\n",
              "      <td>-87.708503</td>\n",
              "    </tr>\n",
              "    <tr>\n",
              "      <th>27</th>\n",
              "      <td>24</td>\n",
              "      <td>Vegetarian Panino</td>\n",
              "      <td>La Pane</td>\n",
              "      <td>La Pane might be known for pizza, but it offer...</td>\n",
              "      <td>5.0</td>\n",
              "      <td>2954 W. Irving Park Rd.</td>\n",
              "      <td>Chicago</td>\n",
              "      <td>773-539-5321</td>\n",
              "      <td>lapanechicago.com</td>\n",
              "      <td>2954 W. Irving Park Rd., Chicago</td>\n",
              "      <td>2954 West Irving Park Road, Chicago, IL 60618,...</td>\n",
              "      <td>41.954024</td>\n",
              "      <td>-87.702521</td>\n",
              "    </tr>\n",
              "    <tr>\n",
              "      <th>53</th>\n",
              "      <td>43</td>\n",
              "      <td>Oat Bread, Pecan Butter, and Fruit Jam</td>\n",
              "      <td>Elaine&amp;rsquo;s Coffee Call</td>\n",
              "      <td>The chalkboard menu is ambiguous about whether...</td>\n",
              "      <td>6.0</td>\n",
              "      <td>1816 N. Clark St.</td>\n",
              "      <td>Chicago</td>\n",
              "      <td>NaN</td>\n",
              "      <td>jdvhotels.com/hotels/chicago/lincoln</td>\n",
              "      <td>1816 N. Clark St., Chicago</td>\n",
              "      <td>1816 North Clark Street, Chicago, IL 60614, USA</td>\n",
              "      <td>41.915304</td>\n",
              "      <td>-87.634502</td>\n",
              "    </tr>\n",
              "    <tr>\n",
              "      <th>55</th>\n",
              "      <td>45</td>\n",
              "      <td>Cubano</td>\n",
              "      <td>Cafecito</td>\n",
              "      <td>The success of this sandwich, a Cuban traditio...</td>\n",
              "      <td>5.0</td>\n",
              "      <td>26 E. Congress Pkwy.</td>\n",
              "      <td>Chicago</td>\n",
              "      <td>312-922-2233</td>\n",
              "      <td>cafecitochicago.com</td>\n",
              "      <td>26 E. Congress Pkwy., Chicago</td>\n",
              "      <td>26 East Congress Parkway, Chicago, IL 60605, USA</td>\n",
              "      <td>41.875804</td>\n",
              "      <td>-87.626366</td>\n",
              "    </tr>\n",
              "    <tr>\n",
              "      <th>57</th>\n",
              "      <td>47</td>\n",
              "      <td>Debbie&amp;rsquo;s Egg Salad</td>\n",
              "      <td>The Goddess and Grocer</td>\n",
              "      <td>Nothing quite satisfies the comfortfood hunger...</td>\n",
              "      <td>6.0</td>\n",
              "      <td>25 E. Delaware Pl.</td>\n",
              "      <td>Chicago</td>\n",
              "      <td>312-896-2600</td>\n",
              "      <td>goddessandgrocer.com</td>\n",
              "      <td>25 E. Delaware Pl., Chicago</td>\n",
              "      <td>25 East Delaware Place, Chicago, IL 60611, USA</td>\n",
              "      <td>41.898990</td>\n",
              "      <td>-87.627290</td>\n",
              "    </tr>\n",
              "    <tr>\n",
              "      <th>60</th>\n",
              "      <td>50</td>\n",
              "      <td>The Gatsby</td>\n",
              "      <td>Phoebe&amp;rsquo;s Bakery</td>\n",
              "      <td>The best thing about Phoebe&amp;rsquo;s panini is ...</td>\n",
              "      <td>6.0</td>\n",
              "      <td>3351 N. Broadway</td>\n",
              "      <td>Chicago</td>\n",
              "      <td>773-868-4000</td>\n",
              "      <td>phoebesbakery.com</td>\n",
              "      <td>3351 N. Broadway, Chicago</td>\n",
              "      <td>3351 North Broadway, Chicago, IL 60657, USA</td>\n",
              "      <td>41.942739</td>\n",
              "      <td>-87.644342</td>\n",
              "    </tr>\n",
              "  </tbody>\n",
              "</table>\n",
              "</div>"
            ],
            "text/plain": [
              "    rank                                sandwich  \\\n",
              "11    12                           Breaded Steak   \n",
              "13    12                           Breaded Steak   \n",
              "18    16                            Meatball Sub   \n",
              "21    19                                 Falafel   \n",
              "23    21                       Chicken Schnitzel   \n",
              "24    22                                Shawarma   \n",
              "25    22                                Shawarma   \n",
              "27    24                       Vegetarian Panino   \n",
              "53    43  Oat Bread, Pecan Butter, and Fruit Jam   \n",
              "55    45                                  Cubano   \n",
              "57    47                Debbie&rsquo;s Egg Salad   \n",
              "60    50                              The Gatsby   \n",
              "\n",
              "                      restaurant  \\\n",
              "11              Ricobene&rsquo;s   \n",
              "13              Ricobene&rsquo;s   \n",
              "18                          Bari   \n",
              "21                 Old Jerusalem   \n",
              "23     Olga&rsquo;s Delicatessen   \n",
              "24  Dawali Mediterranean Kitchen   \n",
              "25  Dawali Mediterranean Kitchen   \n",
              "27                       La Pane   \n",
              "53    Elaine&rsquo;s Coffee Call   \n",
              "55                      Cafecito   \n",
              "57        The Goddess and Grocer   \n",
              "60         Phoebe&rsquo;s Bakery   \n",
              "\n",
              "                                          description  price  \\\n",
              "11  This is what put Ricobene&rsquo;s on the map: ...    5.0   \n",
              "13  This is what put Ricobene&rsquo;s on the map: ...    5.0   \n",
              "18  No condiments, no fuss, just saucy meatballs (...    4.0   \n",
              "21  The fritters of mashed chickpeas are perfectly...    6.0   \n",
              "23  A no-frills thrill, the schnitzel is a classic...    5.0   \n",
              "24  Dawali&rsquo;s filling shawarma escapes a comm...    6.0   \n",
              "25  Dawali&rsquo;s filling shawarma escapes a comm...    6.0   \n",
              "27  La Pane might be known for pizza, but it offer...    5.0   \n",
              "53  The chalkboard menu is ambiguous about whether...    6.0   \n",
              "55  The success of this sandwich, a Cuban traditio...    5.0   \n",
              "57  Nothing quite satisfies the comfortfood hunger...    6.0   \n",
              "60  The best thing about Phoebe&rsquo;s panini is ...    6.0   \n",
              "\n",
              "                    address     city           phone  \\\n",
              "11       252 W. 26th Street  Chicago  (312) 225-5555   \n",
              "13     5160 S. Pulaski Road  Chicago  (773) 284-2400   \n",
              "18       1120 W. Grand Ave.  Chicago    312-666-0730   \n",
              "21        1411 N. Wells St.  Chicago    312-944-0459   \n",
              "23  3209 W. Irving Park Rd.  Chicago    773-539-8038   \n",
              "24       1625 N Halsted St.  Chicago  (312) 944-5800   \n",
              "25        4911 N Kedzie Ave  Chicago  (773) 267-4222   \n",
              "27  2954 W. Irving Park Rd.  Chicago    773-539-5321   \n",
              "53        1816 N. Clark St.  Chicago             NaN   \n",
              "55     26 E. Congress Pkwy.  Chicago    312-922-2233   \n",
              "57       25 E. Delaware Pl.  Chicago    312-896-2600   \n",
              "60         3351 N. Broadway  Chicago    773-868-4000   \n",
              "\n",
              "                                 website                      full_address  \\\n",
              "11                    ricobenespizza.com       252 W. 26th Street, Chicago   \n",
              "13                    ricobenespizza.com     5160 S. Pulaski Road, Chicago   \n",
              "18                   bariitaliansubs.com       1120 W. Grand Ave., Chicago   \n",
              "21               oldjerusalemchicago.com        1411 N. Wells St., Chicago   \n",
              "23                                   NaN  3209 W. Irving Park Rd., Chicago   \n",
              "24                     dawalikitchen.com       1625 N Halsted St., Chicago   \n",
              "25                     dawalikitchen.com        4911 N Kedzie Ave, Chicago   \n",
              "27                     lapanechicago.com  2954 W. Irving Park Rd., Chicago   \n",
              "53  jdvhotels.com/hotels/chicago/lincoln        1816 N. Clark St., Chicago   \n",
              "55                   cafecitochicago.com     26 E. Congress Pkwy., Chicago   \n",
              "57                  goddessandgrocer.com       25 E. Delaware Pl., Chicago   \n",
              "60                     phoebesbakery.com         3351 N. Broadway, Chicago   \n",
              "\n",
              "                                    formatted_address        lat        lng  \n",
              "11       252 West 26th Street, Chicago, IL 60616, USA  41.845754 -87.633895  \n",
              "13    5160 South Pulaski Road, Chicago, IL 60632, USA  41.798956 -87.723434  \n",
              "18     1120 West Grand Avenue, Chicago, IL 60642, USA  41.891213 -87.655534  \n",
              "21    1411 North Wells Street, Chicago, IL 60610, USA  41.908000 -87.634157  \n",
              "23  3209 West Irving Park Road, Chicago, IL 60618,...  41.953806 -87.708466  \n",
              "24  1625 North Halsted Street, Chicago, IL 60614, USA  41.911714 -87.648218  \n",
              "25   4911 North Kedzie Avenue, Chicago, IL 60625, USA  41.970782 -87.708503  \n",
              "27  2954 West Irving Park Road, Chicago, IL 60618,...  41.954024 -87.702521  \n",
              "53    1816 North Clark Street, Chicago, IL 60614, USA  41.915304 -87.634502  \n",
              "55   26 East Congress Parkway, Chicago, IL 60605, USA  41.875804 -87.626366  \n",
              "57     25 East Delaware Place, Chicago, IL 60611, USA  41.898990 -87.627290  \n",
              "60        3351 North Broadway, Chicago, IL 60657, USA  41.942739 -87.644342  "
            ]
          },
          "metadata": {
            "tags": []
          },
          "execution_count": 113
        }
      ]
    },
    {
      "metadata": {
        "id": "rMNCT645ykNv",
        "colab_type": "code",
        "outputId": "1e99bbeb-efd5-4236-8549-6133cb3347ab",
        "colab": {
          "base_uri": "https://localhost:8080/",
          "height": 625
        }
      },
      "cell_type": "code",
      "source": [
        "#SQL 3 en Pandas\n",
        "data.query('city==\"Chicago\" and price<7.0')"
      ],
      "execution_count": 0,
      "outputs": [
        {
          "output_type": "execute_result",
          "data": {
            "text/html": [
              "<div>\n",
              "<style scoped>\n",
              "    .dataframe tbody tr th:only-of-type {\n",
              "        vertical-align: middle;\n",
              "    }\n",
              "\n",
              "    .dataframe tbody tr th {\n",
              "        vertical-align: top;\n",
              "    }\n",
              "\n",
              "    .dataframe thead th {\n",
              "        text-align: right;\n",
              "    }\n",
              "</style>\n",
              "<table border=\"1\" class=\"dataframe\">\n",
              "  <thead>\n",
              "    <tr style=\"text-align: right;\">\n",
              "      <th></th>\n",
              "      <th>rank</th>\n",
              "      <th>sandwich</th>\n",
              "      <th>restaurant</th>\n",
              "      <th>description</th>\n",
              "      <th>price</th>\n",
              "      <th>address</th>\n",
              "      <th>city</th>\n",
              "      <th>phone</th>\n",
              "      <th>website</th>\n",
              "      <th>full_address</th>\n",
              "      <th>formatted_address</th>\n",
              "      <th>lat</th>\n",
              "      <th>lng</th>\n",
              "    </tr>\n",
              "  </thead>\n",
              "  <tbody>\n",
              "    <tr>\n",
              "      <th>11</th>\n",
              "      <td>12</td>\n",
              "      <td>Breaded Steak</td>\n",
              "      <td>Ricobene&amp;rsquo;s</td>\n",
              "      <td>This is what put Ricobene&amp;rsquo;s on the map: ...</td>\n",
              "      <td>5.0</td>\n",
              "      <td>252 W. 26th Street</td>\n",
              "      <td>Chicago</td>\n",
              "      <td>(312) 225-5555</td>\n",
              "      <td>ricobenespizza.com</td>\n",
              "      <td>252 W. 26th Street, Chicago</td>\n",
              "      <td>252 West 26th Street, Chicago, IL 60616, USA</td>\n",
              "      <td>41.845754</td>\n",
              "      <td>-87.633895</td>\n",
              "    </tr>\n",
              "    <tr>\n",
              "      <th>13</th>\n",
              "      <td>12</td>\n",
              "      <td>Breaded Steak</td>\n",
              "      <td>Ricobene&amp;rsquo;s</td>\n",
              "      <td>This is what put Ricobene&amp;rsquo;s on the map: ...</td>\n",
              "      <td>5.0</td>\n",
              "      <td>5160 S. Pulaski Road</td>\n",
              "      <td>Chicago</td>\n",
              "      <td>(773) 284-2400</td>\n",
              "      <td>ricobenespizza.com</td>\n",
              "      <td>5160 S. Pulaski Road, Chicago</td>\n",
              "      <td>5160 South Pulaski Road, Chicago, IL 60632, USA</td>\n",
              "      <td>41.798956</td>\n",
              "      <td>-87.723434</td>\n",
              "    </tr>\n",
              "    <tr>\n",
              "      <th>18</th>\n",
              "      <td>16</td>\n",
              "      <td>Meatball Sub</td>\n",
              "      <td>Bari</td>\n",
              "      <td>No condiments, no fuss, just saucy meatballs (...</td>\n",
              "      <td>4.0</td>\n",
              "      <td>1120 W. Grand Ave.</td>\n",
              "      <td>Chicago</td>\n",
              "      <td>312-666-0730</td>\n",
              "      <td>bariitaliansubs.com</td>\n",
              "      <td>1120 W. Grand Ave., Chicago</td>\n",
              "      <td>1120 West Grand Avenue, Chicago, IL 60642, USA</td>\n",
              "      <td>41.891213</td>\n",
              "      <td>-87.655534</td>\n",
              "    </tr>\n",
              "    <tr>\n",
              "      <th>21</th>\n",
              "      <td>19</td>\n",
              "      <td>Falafel</td>\n",
              "      <td>Old Jerusalem</td>\n",
              "      <td>The fritters of mashed chickpeas are perfectly...</td>\n",
              "      <td>6.0</td>\n",
              "      <td>1411 N. Wells St.</td>\n",
              "      <td>Chicago</td>\n",
              "      <td>312-944-0459</td>\n",
              "      <td>oldjerusalemchicago.com</td>\n",
              "      <td>1411 N. Wells St., Chicago</td>\n",
              "      <td>1411 North Wells Street, Chicago, IL 60610, USA</td>\n",
              "      <td>41.908000</td>\n",
              "      <td>-87.634157</td>\n",
              "    </tr>\n",
              "    <tr>\n",
              "      <th>23</th>\n",
              "      <td>21</td>\n",
              "      <td>Chicken Schnitzel</td>\n",
              "      <td>Olga&amp;rsquo;s Delicatessen</td>\n",
              "      <td>A no-frills thrill, the schnitzel is a classic...</td>\n",
              "      <td>5.0</td>\n",
              "      <td>3209 W. Irving Park Rd.</td>\n",
              "      <td>Chicago</td>\n",
              "      <td>773-539-8038</td>\n",
              "      <td>NaN</td>\n",
              "      <td>3209 W. Irving Park Rd., Chicago</td>\n",
              "      <td>3209 West Irving Park Road, Chicago, IL 60618,...</td>\n",
              "      <td>41.953806</td>\n",
              "      <td>-87.708466</td>\n",
              "    </tr>\n",
              "    <tr>\n",
              "      <th>24</th>\n",
              "      <td>22</td>\n",
              "      <td>Shawarma</td>\n",
              "      <td>Dawali Mediterranean Kitchen</td>\n",
              "      <td>Dawali&amp;rsquo;s filling shawarma escapes a comm...</td>\n",
              "      <td>6.0</td>\n",
              "      <td>1625 N Halsted St.</td>\n",
              "      <td>Chicago</td>\n",
              "      <td>(312) 944-5800</td>\n",
              "      <td>dawalikitchen.com</td>\n",
              "      <td>1625 N Halsted St., Chicago</td>\n",
              "      <td>1625 North Halsted Street, Chicago, IL 60614, USA</td>\n",
              "      <td>41.911714</td>\n",
              "      <td>-87.648218</td>\n",
              "    </tr>\n",
              "    <tr>\n",
              "      <th>25</th>\n",
              "      <td>22</td>\n",
              "      <td>Shawarma</td>\n",
              "      <td>Dawali Mediterranean Kitchen</td>\n",
              "      <td>Dawali&amp;rsquo;s filling shawarma escapes a comm...</td>\n",
              "      <td>6.0</td>\n",
              "      <td>4911 N Kedzie Ave</td>\n",
              "      <td>Chicago</td>\n",
              "      <td>(773) 267-4222</td>\n",
              "      <td>dawalikitchen.com</td>\n",
              "      <td>4911 N Kedzie Ave, Chicago</td>\n",
              "      <td>4911 North Kedzie Avenue, Chicago, IL 60625, USA</td>\n",
              "      <td>41.970782</td>\n",
              "      <td>-87.708503</td>\n",
              "    </tr>\n",
              "    <tr>\n",
              "      <th>27</th>\n",
              "      <td>24</td>\n",
              "      <td>Vegetarian Panino</td>\n",
              "      <td>La Pane</td>\n",
              "      <td>La Pane might be known for pizza, but it offer...</td>\n",
              "      <td>5.0</td>\n",
              "      <td>2954 W. Irving Park Rd.</td>\n",
              "      <td>Chicago</td>\n",
              "      <td>773-539-5321</td>\n",
              "      <td>lapanechicago.com</td>\n",
              "      <td>2954 W. Irving Park Rd., Chicago</td>\n",
              "      <td>2954 West Irving Park Road, Chicago, IL 60618,...</td>\n",
              "      <td>41.954024</td>\n",
              "      <td>-87.702521</td>\n",
              "    </tr>\n",
              "    <tr>\n",
              "      <th>53</th>\n",
              "      <td>43</td>\n",
              "      <td>Oat Bread, Pecan Butter, and Fruit Jam</td>\n",
              "      <td>Elaine&amp;rsquo;s Coffee Call</td>\n",
              "      <td>The chalkboard menu is ambiguous about whether...</td>\n",
              "      <td>6.0</td>\n",
              "      <td>1816 N. Clark St.</td>\n",
              "      <td>Chicago</td>\n",
              "      <td>NaN</td>\n",
              "      <td>jdvhotels.com/hotels/chicago/lincoln</td>\n",
              "      <td>1816 N. Clark St., Chicago</td>\n",
              "      <td>1816 North Clark Street, Chicago, IL 60614, USA</td>\n",
              "      <td>41.915304</td>\n",
              "      <td>-87.634502</td>\n",
              "    </tr>\n",
              "    <tr>\n",
              "      <th>55</th>\n",
              "      <td>45</td>\n",
              "      <td>Cubano</td>\n",
              "      <td>Cafecito</td>\n",
              "      <td>The success of this sandwich, a Cuban traditio...</td>\n",
              "      <td>5.0</td>\n",
              "      <td>26 E. Congress Pkwy.</td>\n",
              "      <td>Chicago</td>\n",
              "      <td>312-922-2233</td>\n",
              "      <td>cafecitochicago.com</td>\n",
              "      <td>26 E. Congress Pkwy., Chicago</td>\n",
              "      <td>26 East Congress Parkway, Chicago, IL 60605, USA</td>\n",
              "      <td>41.875804</td>\n",
              "      <td>-87.626366</td>\n",
              "    </tr>\n",
              "    <tr>\n",
              "      <th>57</th>\n",
              "      <td>47</td>\n",
              "      <td>Debbie&amp;rsquo;s Egg Salad</td>\n",
              "      <td>The Goddess and Grocer</td>\n",
              "      <td>Nothing quite satisfies the comfortfood hunger...</td>\n",
              "      <td>6.0</td>\n",
              "      <td>25 E. Delaware Pl.</td>\n",
              "      <td>Chicago</td>\n",
              "      <td>312-896-2600</td>\n",
              "      <td>goddessandgrocer.com</td>\n",
              "      <td>25 E. Delaware Pl., Chicago</td>\n",
              "      <td>25 East Delaware Place, Chicago, IL 60611, USA</td>\n",
              "      <td>41.898990</td>\n",
              "      <td>-87.627290</td>\n",
              "    </tr>\n",
              "    <tr>\n",
              "      <th>60</th>\n",
              "      <td>50</td>\n",
              "      <td>The Gatsby</td>\n",
              "      <td>Phoebe&amp;rsquo;s Bakery</td>\n",
              "      <td>The best thing about Phoebe&amp;rsquo;s panini is ...</td>\n",
              "      <td>6.0</td>\n",
              "      <td>3351 N. Broadway</td>\n",
              "      <td>Chicago</td>\n",
              "      <td>773-868-4000</td>\n",
              "      <td>phoebesbakery.com</td>\n",
              "      <td>3351 N. Broadway, Chicago</td>\n",
              "      <td>3351 North Broadway, Chicago, IL 60657, USA</td>\n",
              "      <td>41.942739</td>\n",
              "      <td>-87.644342</td>\n",
              "    </tr>\n",
              "  </tbody>\n",
              "</table>\n",
              "</div>"
            ],
            "text/plain": [
              "    rank                                sandwich  \\\n",
              "11    12                           Breaded Steak   \n",
              "13    12                           Breaded Steak   \n",
              "18    16                            Meatball Sub   \n",
              "21    19                                 Falafel   \n",
              "23    21                       Chicken Schnitzel   \n",
              "24    22                                Shawarma   \n",
              "25    22                                Shawarma   \n",
              "27    24                       Vegetarian Panino   \n",
              "53    43  Oat Bread, Pecan Butter, and Fruit Jam   \n",
              "55    45                                  Cubano   \n",
              "57    47                Debbie&rsquo;s Egg Salad   \n",
              "60    50                              The Gatsby   \n",
              "\n",
              "                      restaurant  \\\n",
              "11              Ricobene&rsquo;s   \n",
              "13              Ricobene&rsquo;s   \n",
              "18                          Bari   \n",
              "21                 Old Jerusalem   \n",
              "23     Olga&rsquo;s Delicatessen   \n",
              "24  Dawali Mediterranean Kitchen   \n",
              "25  Dawali Mediterranean Kitchen   \n",
              "27                       La Pane   \n",
              "53    Elaine&rsquo;s Coffee Call   \n",
              "55                      Cafecito   \n",
              "57        The Goddess and Grocer   \n",
              "60         Phoebe&rsquo;s Bakery   \n",
              "\n",
              "                                          description  price  \\\n",
              "11  This is what put Ricobene&rsquo;s on the map: ...    5.0   \n",
              "13  This is what put Ricobene&rsquo;s on the map: ...    5.0   \n",
              "18  No condiments, no fuss, just saucy meatballs (...    4.0   \n",
              "21  The fritters of mashed chickpeas are perfectly...    6.0   \n",
              "23  A no-frills thrill, the schnitzel is a classic...    5.0   \n",
              "24  Dawali&rsquo;s filling shawarma escapes a comm...    6.0   \n",
              "25  Dawali&rsquo;s filling shawarma escapes a comm...    6.0   \n",
              "27  La Pane might be known for pizza, but it offer...    5.0   \n",
              "53  The chalkboard menu is ambiguous about whether...    6.0   \n",
              "55  The success of this sandwich, a Cuban traditio...    5.0   \n",
              "57  Nothing quite satisfies the comfortfood hunger...    6.0   \n",
              "60  The best thing about Phoebe&rsquo;s panini is ...    6.0   \n",
              "\n",
              "                    address     city           phone  \\\n",
              "11       252 W. 26th Street  Chicago  (312) 225-5555   \n",
              "13     5160 S. Pulaski Road  Chicago  (773) 284-2400   \n",
              "18       1120 W. Grand Ave.  Chicago    312-666-0730   \n",
              "21        1411 N. Wells St.  Chicago    312-944-0459   \n",
              "23  3209 W. Irving Park Rd.  Chicago    773-539-8038   \n",
              "24       1625 N Halsted St.  Chicago  (312) 944-5800   \n",
              "25        4911 N Kedzie Ave  Chicago  (773) 267-4222   \n",
              "27  2954 W. Irving Park Rd.  Chicago    773-539-5321   \n",
              "53        1816 N. Clark St.  Chicago             NaN   \n",
              "55     26 E. Congress Pkwy.  Chicago    312-922-2233   \n",
              "57       25 E. Delaware Pl.  Chicago    312-896-2600   \n",
              "60         3351 N. Broadway  Chicago    773-868-4000   \n",
              "\n",
              "                                 website                      full_address  \\\n",
              "11                    ricobenespizza.com       252 W. 26th Street, Chicago   \n",
              "13                    ricobenespizza.com     5160 S. Pulaski Road, Chicago   \n",
              "18                   bariitaliansubs.com       1120 W. Grand Ave., Chicago   \n",
              "21               oldjerusalemchicago.com        1411 N. Wells St., Chicago   \n",
              "23                                   NaN  3209 W. Irving Park Rd., Chicago   \n",
              "24                     dawalikitchen.com       1625 N Halsted St., Chicago   \n",
              "25                     dawalikitchen.com        4911 N Kedzie Ave, Chicago   \n",
              "27                     lapanechicago.com  2954 W. Irving Park Rd., Chicago   \n",
              "53  jdvhotels.com/hotels/chicago/lincoln        1816 N. Clark St., Chicago   \n",
              "55                   cafecitochicago.com     26 E. Congress Pkwy., Chicago   \n",
              "57                  goddessandgrocer.com       25 E. Delaware Pl., Chicago   \n",
              "60                     phoebesbakery.com         3351 N. Broadway, Chicago   \n",
              "\n",
              "                                    formatted_address        lat        lng  \n",
              "11       252 West 26th Street, Chicago, IL 60616, USA  41.845754 -87.633895  \n",
              "13    5160 South Pulaski Road, Chicago, IL 60632, USA  41.798956 -87.723434  \n",
              "18     1120 West Grand Avenue, Chicago, IL 60642, USA  41.891213 -87.655534  \n",
              "21    1411 North Wells Street, Chicago, IL 60610, USA  41.908000 -87.634157  \n",
              "23  3209 West Irving Park Road, Chicago, IL 60618,...  41.953806 -87.708466  \n",
              "24  1625 North Halsted Street, Chicago, IL 60614, USA  41.911714 -87.648218  \n",
              "25   4911 North Kedzie Avenue, Chicago, IL 60625, USA  41.970782 -87.708503  \n",
              "27  2954 West Irving Park Road, Chicago, IL 60618,...  41.954024 -87.702521  \n",
              "53    1816 North Clark Street, Chicago, IL 60614, USA  41.915304 -87.634502  \n",
              "55   26 East Congress Parkway, Chicago, IL 60605, USA  41.875804 -87.626366  \n",
              "57     25 East Delaware Place, Chicago, IL 60611, USA  41.898990 -87.627290  \n",
              "60        3351 North Broadway, Chicago, IL 60657, USA  41.942739 -87.644342  "
            ]
          },
          "metadata": {
            "tags": []
          },
          "execution_count": 116
        }
      ]
    },
    {
      "metadata": {
        "id": "YEiLukQDzQys",
        "colab_type": "text"
      },
      "cell_type": "markdown",
      "source": [
        "SQL 4\n",
        "\n",
        "Este es otro ejemplo, de usar un conector lógico.\n",
        "~~~sql\n",
        "SELECT *\n",
        "FROM data\n",
        "WHERE rank <= 10 OR price > 10;\n",
        "~~~\n"
      ]
    },
    {
      "metadata": {
        "id": "AzsqkLmoyvBY",
        "colab_type": "code",
        "colab": {}
      },
      "cell_type": "code",
      "source": [
        "#Cuál sería la versión en Pandas?\n",
        "data?"
      ],
      "execution_count": 0,
      "outputs": []
    },
    {
      "metadata": {
        "id": "Ncdd2K7s0EXY",
        "colab_type": "text"
      },
      "cell_type": "markdown",
      "source": [
        "SQL 5\n",
        "\n",
        "Por último otras de las operaciones básicas en SQL es operar sobre los NULL , que son los Missin Values en Pandas.\n",
        "\n",
        "~~~sql\n",
        "SELECT *\n",
        "FROM frame\n",
        "WHERE col2 IS NULL;\n",
        "~~~"
      ]
    },
    {
      "metadata": {
        "id": "r73bucPA0GDu",
        "colab_type": "code",
        "colab": {}
      },
      "cell_type": "code",
      "source": [
        "#Se define un DF para el ejemplo\n",
        "frame = pd.DataFrame({'col1': ['A', 'B', np.NaN, 'C', 'D'],'col2': ['F', np.NaN, 'G', 'H', 'I']})\n",
        "   "
      ],
      "execution_count": 0,
      "outputs": []
    },
    {
      "metadata": {
        "id": "TvWyrmOJ0UcF",
        "colab_type": "code",
        "colab": {}
      },
      "cell_type": "code",
      "source": [
        "#SQL 5 en Pandas\n",
        "frame[frame['col2'].isna()]"
      ],
      "execution_count": 0,
      "outputs": []
    },
    {
      "metadata": {
        "id": "O8aP2Vh50c60",
        "colab_type": "text"
      },
      "cell_type": "markdown",
      "source": [
        "SQL 6\n",
        "\n",
        "Es otro ejemplo de trabajar con los NULL, pero usando otro conector lógico.\n",
        "\n",
        "~~~sql\n",
        "SELECT *\n",
        "FROM frame\n",
        "WHERE col1 IS NOT NULL;\n",
        "~~~"
      ]
    },
    {
      "metadata": {
        "id": "ub61hc3E0XXP",
        "colab_type": "code",
        "colab": {}
      },
      "cell_type": "code",
      "source": [
        "#SQL 6 en Pandas.\n",
        "frame[frame['col1'].notna()]"
      ],
      "execution_count": 0,
      "outputs": []
    },
    {
      "metadata": {
        "id": "463z5afXLk_q",
        "colab_type": "text"
      },
      "cell_type": "markdown",
      "source": [
        "Los ejemplos anteriores es una primera parte de la relación de SQL y Pandas, en cieto sentido el modo de procesar los DF es considerado un tipo moderno de operaciones en SQL. Pero es fundamental aprender SQL y su lógica de programación ya que es un estandar en todas las bases de datos.\n",
        "\n",
        "Nota: En los ejemplos faltan algunos tipos de Queries estandar en SQL, los cuales requieren operaciones sobre varias tablas (joins), estas no se presentan en esta sección, pero si en las siguientes."
      ]
    },
    {
      "metadata": {
        "id": "iD_xr7x76a6X",
        "colab_type": "text"
      },
      "cell_type": "markdown",
      "source": [
        "## Básico 2: Limpieza, manipulación y transformación.\n",
        "\n",
        "Considerando el caso estandar, para trabajar en Pandas se contará con un set de datos en algún formato o una conexión alguna base de datos. Lo mínimo necesario es saber cargar la información, seleccionar columnas (o filas) y transformar algunas columnas si es requerido.\n",
        "\n",
        "El tema de limpieza de datos, es todo un campo de trabajo debido a que no solo implica el detectar errores en los datos, sino tener una práctica adecuada para su tratamiento. Esta parte puede ser la que más tiempo requiere en algun proyecto tanto de Analisis de datos como de contrucción de modelos. Pese a que Pandas cuanta con herramientas para su trabajo, el tema es mucho más complejo de lo que parece.\n",
        "\n",
        "La manipulación de un DF, como ya se ha mencionado queda en tres tipos de manipulaciones: sobre columas, filas o en los valores. Cuando se opera sobre los valores se puede enteder esto como una transformación de los datos. \n",
        "\n",
        "Referencias :\n",
        "\n",
        "* [Knn para imputar datos.](https://www.ncbi.nlm.nih.gov/pmc/articles/PMC4959387/)\n",
        "* [RandomForest para imputar datos](https://www.ncbi.nlm.nih.gov/pmc/articles/PMC3939843/)\n",
        "* [Notas de Andrew Gelman sobre imputación de datos.](https://www.ncbi.nlm.nih.gov/pmc/articles/PMC3939843/)\n",
        "* [Spectral Regularization Algorithms for Learning Large Incomplete Matrices by Mazumder et. al.]()\n",
        "* [Missing value estimation methods for DNA microarrays by Troyanskaya et. al.]()\n",
        "* [Exact Matrix Completion via Convex Optimization by Emmanuel Candes and Benjamin Recht using cvxpy. Too slow for large matrices.]()\n",
        "* [Matrix Completion and Low-Rank SVD via Fast Alternating Least Squares.]()\n",
        "\n",
        "\n",
        "\n",
        "*Los siguientes datos estarán disponibles en este notebook al momento de hacer los ejemplos, más adelante actualizo el notebook para que puedan usar esta muestra de datos desde otra fuente.*\n",
        "\n",
        "*Los datos pueden ser descargados desde el siguiente link:*\n",
        "[Data](https://www.kaggle.com/c/home-credit-default-risk/data)"
      ]
    },
    {
      "metadata": {
        "id": "E8AWuchKN2HR",
        "colab_type": "code",
        "outputId": "21ce44b2-68d7-4b15-8c8e-9fb9282e4880",
        "colab": {
          "base_uri": "https://localhost:8080/",
          "height": 190
        }
      },
      "cell_type": "code",
      "source": [
        "#Se cargan los datos  \n",
        "\n",
        "%matplotlib inline\n",
        "\n",
        "import pandas as pd\n",
        "import numpy as np\n",
        "\n",
        "import matplotlib.pyplot as plt\n",
        "import seaborn as sns\n",
        "\n",
        "data = pd.read_csv(\"application_train.csv.zip\")\n",
        "data.head(3)  "
      ],
      "execution_count": 0,
      "outputs": [
        {
          "output_type": "execute_result",
          "data": {
            "text/html": [
              "<div>\n",
              "<style scoped>\n",
              "    .dataframe tbody tr th:only-of-type {\n",
              "        vertical-align: middle;\n",
              "    }\n",
              "\n",
              "    .dataframe tbody tr th {\n",
              "        vertical-align: top;\n",
              "    }\n",
              "\n",
              "    .dataframe thead th {\n",
              "        text-align: right;\n",
              "    }\n",
              "</style>\n",
              "<table border=\"1\" class=\"dataframe\">\n",
              "  <thead>\n",
              "    <tr style=\"text-align: right;\">\n",
              "      <th></th>\n",
              "      <th>SK_ID_CURR</th>\n",
              "      <th>TARGET</th>\n",
              "      <th>NAME_CONTRACT_TYPE</th>\n",
              "      <th>CODE_GENDER</th>\n",
              "      <th>FLAG_OWN_CAR</th>\n",
              "      <th>FLAG_OWN_REALTY</th>\n",
              "      <th>CNT_CHILDREN</th>\n",
              "      <th>AMT_INCOME_TOTAL</th>\n",
              "      <th>AMT_CREDIT</th>\n",
              "      <th>AMT_ANNUITY</th>\n",
              "      <th>...</th>\n",
              "      <th>FLAG_DOCUMENT_18</th>\n",
              "      <th>FLAG_DOCUMENT_19</th>\n",
              "      <th>FLAG_DOCUMENT_20</th>\n",
              "      <th>FLAG_DOCUMENT_21</th>\n",
              "      <th>AMT_REQ_CREDIT_BUREAU_HOUR</th>\n",
              "      <th>AMT_REQ_CREDIT_BUREAU_DAY</th>\n",
              "      <th>AMT_REQ_CREDIT_BUREAU_WEEK</th>\n",
              "      <th>AMT_REQ_CREDIT_BUREAU_MON</th>\n",
              "      <th>AMT_REQ_CREDIT_BUREAU_QRT</th>\n",
              "      <th>AMT_REQ_CREDIT_BUREAU_YEAR</th>\n",
              "    </tr>\n",
              "  </thead>\n",
              "  <tbody>\n",
              "    <tr>\n",
              "      <th>0</th>\n",
              "      <td>100002</td>\n",
              "      <td>1</td>\n",
              "      <td>Cash loans</td>\n",
              "      <td>M</td>\n",
              "      <td>N</td>\n",
              "      <td>Y</td>\n",
              "      <td>0</td>\n",
              "      <td>202500.0</td>\n",
              "      <td>406597.5</td>\n",
              "      <td>24700.5</td>\n",
              "      <td>...</td>\n",
              "      <td>0</td>\n",
              "      <td>0</td>\n",
              "      <td>0</td>\n",
              "      <td>0</td>\n",
              "      <td>0.0</td>\n",
              "      <td>0.0</td>\n",
              "      <td>0.0</td>\n",
              "      <td>0.0</td>\n",
              "      <td>0.0</td>\n",
              "      <td>1.0</td>\n",
              "    </tr>\n",
              "    <tr>\n",
              "      <th>1</th>\n",
              "      <td>100003</td>\n",
              "      <td>0</td>\n",
              "      <td>Cash loans</td>\n",
              "      <td>F</td>\n",
              "      <td>N</td>\n",
              "      <td>N</td>\n",
              "      <td>0</td>\n",
              "      <td>270000.0</td>\n",
              "      <td>1293502.5</td>\n",
              "      <td>35698.5</td>\n",
              "      <td>...</td>\n",
              "      <td>0</td>\n",
              "      <td>0</td>\n",
              "      <td>0</td>\n",
              "      <td>0</td>\n",
              "      <td>0.0</td>\n",
              "      <td>0.0</td>\n",
              "      <td>0.0</td>\n",
              "      <td>0.0</td>\n",
              "      <td>0.0</td>\n",
              "      <td>0.0</td>\n",
              "    </tr>\n",
              "    <tr>\n",
              "      <th>2</th>\n",
              "      <td>100004</td>\n",
              "      <td>0</td>\n",
              "      <td>Revolving loans</td>\n",
              "      <td>M</td>\n",
              "      <td>Y</td>\n",
              "      <td>Y</td>\n",
              "      <td>0</td>\n",
              "      <td>67500.0</td>\n",
              "      <td>135000.0</td>\n",
              "      <td>6750.0</td>\n",
              "      <td>...</td>\n",
              "      <td>0</td>\n",
              "      <td>0</td>\n",
              "      <td>0</td>\n",
              "      <td>0</td>\n",
              "      <td>0.0</td>\n",
              "      <td>0.0</td>\n",
              "      <td>0.0</td>\n",
              "      <td>0.0</td>\n",
              "      <td>0.0</td>\n",
              "      <td>0.0</td>\n",
              "    </tr>\n",
              "  </tbody>\n",
              "</table>\n",
              "<p>3 rows × 122 columns</p>\n",
              "</div>"
            ],
            "text/plain": [
              "   SK_ID_CURR  TARGET NAME_CONTRACT_TYPE CODE_GENDER FLAG_OWN_CAR  \\\n",
              "0      100002       1         Cash loans           M            N   \n",
              "1      100003       0         Cash loans           F            N   \n",
              "2      100004       0    Revolving loans           M            Y   \n",
              "\n",
              "  FLAG_OWN_REALTY  CNT_CHILDREN  AMT_INCOME_TOTAL  AMT_CREDIT  AMT_ANNUITY  \\\n",
              "0               Y             0          202500.0    406597.5      24700.5   \n",
              "1               N             0          270000.0   1293502.5      35698.5   \n",
              "2               Y             0           67500.0    135000.0       6750.0   \n",
              "\n",
              "              ...              FLAG_DOCUMENT_18 FLAG_DOCUMENT_19  \\\n",
              "0             ...                             0                0   \n",
              "1             ...                             0                0   \n",
              "2             ...                             0                0   \n",
              "\n",
              "  FLAG_DOCUMENT_20 FLAG_DOCUMENT_21 AMT_REQ_CREDIT_BUREAU_HOUR  \\\n",
              "0                0                0                        0.0   \n",
              "1                0                0                        0.0   \n",
              "2                0                0                        0.0   \n",
              "\n",
              "  AMT_REQ_CREDIT_BUREAU_DAY  AMT_REQ_CREDIT_BUREAU_WEEK  \\\n",
              "0                       0.0                         0.0   \n",
              "1                       0.0                         0.0   \n",
              "2                       0.0                         0.0   \n",
              "\n",
              "   AMT_REQ_CREDIT_BUREAU_MON  AMT_REQ_CREDIT_BUREAU_QRT  \\\n",
              "0                        0.0                        0.0   \n",
              "1                        0.0                        0.0   \n",
              "2                        0.0                        0.0   \n",
              "\n",
              "   AMT_REQ_CREDIT_BUREAU_YEAR  \n",
              "0                         1.0  \n",
              "1                         0.0  \n",
              "2                         0.0  \n",
              "\n",
              "[3 rows x 122 columns]"
            ]
          },
          "metadata": {
            "tags": []
          },
          "execution_count": 55
        }
      ]
    },
    {
      "metadata": {
        "id": "CYgNEniL_gc3",
        "colab_type": "code",
        "colab": {}
      },
      "cell_type": "code",
      "source": [
        "plt.rcParams['figure.figsize'] = 15, 10"
      ],
      "execution_count": 0,
      "outputs": []
    },
    {
      "metadata": {
        "id": "YV9UMi3oOM8r",
        "colab_type": "code",
        "outputId": "62d93bfb-65d0-468e-f7ca-cfaae546c533",
        "colab": {
          "base_uri": "https://localhost:8080/",
          "height": 103
        }
      },
      "cell_type": "code",
      "source": [
        "#Se explora el DataFrame\n",
        "data.info()"
      ],
      "execution_count": 0,
      "outputs": [
        {
          "output_type": "stream",
          "text": [
            "<class 'pandas.core.frame.DataFrame'>\n",
            "RangeIndex: 307511 entries, 0 to 307510\n",
            "Columns: 122 entries, SK_ID_CURR to AMT_REQ_CREDIT_BUREAU_YEAR\n",
            "dtypes: float64(65), int64(41), object(16)\n",
            "memory usage: 286.2+ MB\n"
          ],
          "name": "stdout"
        }
      ]
    },
    {
      "metadata": {
        "id": "FkMBeMQm_QYJ",
        "colab_type": "code",
        "outputId": "24677bb1-d20a-42b9-abe2-27f780572658",
        "colab": {
          "base_uri": "https://localhost:8080/",
          "height": 1080
        }
      },
      "cell_type": "code",
      "source": [
        "#Se revisan los Missing Values del DataFrame\n",
        "data.isnull().sum()"
      ],
      "execution_count": 0,
      "outputs": [
        {
          "output_type": "execute_result",
          "data": {
            "text/plain": [
              "SK_ID_CURR                         0\n",
              "TARGET                             0\n",
              "NAME_CONTRACT_TYPE                 0\n",
              "CODE_GENDER                        0\n",
              "FLAG_OWN_CAR                       0\n",
              "FLAG_OWN_REALTY                    0\n",
              "CNT_CHILDREN                       0\n",
              "AMT_INCOME_TOTAL                   0\n",
              "AMT_CREDIT                         0\n",
              "AMT_ANNUITY                       12\n",
              "AMT_GOODS_PRICE                  278\n",
              "NAME_TYPE_SUITE                 1292\n",
              "NAME_INCOME_TYPE                   0\n",
              "NAME_EDUCATION_TYPE                0\n",
              "NAME_FAMILY_STATUS                 0\n",
              "NAME_HOUSING_TYPE                  0\n",
              "REGION_POPULATION_RELATIVE         0\n",
              "DAYS_BIRTH                         0\n",
              "DAYS_EMPLOYED                      0\n",
              "DAYS_REGISTRATION                  0\n",
              "DAYS_ID_PUBLISH                    0\n",
              "OWN_CAR_AGE                   202929\n",
              "FLAG_MOBIL                         0\n",
              "FLAG_EMP_PHONE                     0\n",
              "FLAG_WORK_PHONE                    0\n",
              "FLAG_CONT_MOBILE                   0\n",
              "FLAG_PHONE                         0\n",
              "FLAG_EMAIL                         0\n",
              "OCCUPATION_TYPE                96391\n",
              "CNT_FAM_MEMBERS                    2\n",
              "                               ...  \n",
              "DEF_30_CNT_SOCIAL_CIRCLE        1021\n",
              "OBS_60_CNT_SOCIAL_CIRCLE        1021\n",
              "DEF_60_CNT_SOCIAL_CIRCLE        1021\n",
              "DAYS_LAST_PHONE_CHANGE             1\n",
              "FLAG_DOCUMENT_2                    0\n",
              "FLAG_DOCUMENT_3                    0\n",
              "FLAG_DOCUMENT_4                    0\n",
              "FLAG_DOCUMENT_5                    0\n",
              "FLAG_DOCUMENT_6                    0\n",
              "FLAG_DOCUMENT_7                    0\n",
              "FLAG_DOCUMENT_8                    0\n",
              "FLAG_DOCUMENT_9                    0\n",
              "FLAG_DOCUMENT_10                   0\n",
              "FLAG_DOCUMENT_11                   0\n",
              "FLAG_DOCUMENT_12                   0\n",
              "FLAG_DOCUMENT_13                   0\n",
              "FLAG_DOCUMENT_14                   0\n",
              "FLAG_DOCUMENT_15                   0\n",
              "FLAG_DOCUMENT_16                   0\n",
              "FLAG_DOCUMENT_17                   0\n",
              "FLAG_DOCUMENT_18                   0\n",
              "FLAG_DOCUMENT_19                   0\n",
              "FLAG_DOCUMENT_20                   0\n",
              "FLAG_DOCUMENT_21                   0\n",
              "AMT_REQ_CREDIT_BUREAU_HOUR     41519\n",
              "AMT_REQ_CREDIT_BUREAU_DAY      41519\n",
              "AMT_REQ_CREDIT_BUREAU_WEEK     41519\n",
              "AMT_REQ_CREDIT_BUREAU_MON      41519\n",
              "AMT_REQ_CREDIT_BUREAU_QRT      41519\n",
              "AMT_REQ_CREDIT_BUREAU_YEAR     41519\n",
              "Length: 122, dtype: int64"
            ]
          },
          "metadata": {
            "tags": []
          },
          "execution_count": 58
        }
      ]
    },
    {
      "metadata": {
        "id": "RDJwyDxRt11p",
        "colab_type": "code",
        "outputId": "28b20a2a-1251-4edd-82d1-42d382ffdf25",
        "colab": {
          "base_uri": "https://localhost:8080/",
          "height": 1969
        }
      },
      "cell_type": "code",
      "source": [
        "#Se exploran las variables que tienen más de\n",
        "# un missing value\n",
        "data.loc[:,(data.isna()==True).sum()>0].isnull().sum() \\\n",
        "    .sort_values().to_frame()"
      ],
      "execution_count": 0,
      "outputs": [
        {
          "output_type": "execute_result",
          "data": {
            "text/html": [
              "<div>\n",
              "<style scoped>\n",
              "    .dataframe tbody tr th:only-of-type {\n",
              "        vertical-align: middle;\n",
              "    }\n",
              "\n",
              "    .dataframe tbody tr th {\n",
              "        vertical-align: top;\n",
              "    }\n",
              "\n",
              "    .dataframe thead th {\n",
              "        text-align: right;\n",
              "    }\n",
              "</style>\n",
              "<table border=\"1\" class=\"dataframe\">\n",
              "  <thead>\n",
              "    <tr style=\"text-align: right;\">\n",
              "      <th></th>\n",
              "      <th>0</th>\n",
              "    </tr>\n",
              "  </thead>\n",
              "  <tbody>\n",
              "    <tr>\n",
              "      <th>DAYS_LAST_PHONE_CHANGE</th>\n",
              "      <td>1</td>\n",
              "    </tr>\n",
              "    <tr>\n",
              "      <th>CNT_FAM_MEMBERS</th>\n",
              "      <td>2</td>\n",
              "    </tr>\n",
              "    <tr>\n",
              "      <th>AMT_ANNUITY</th>\n",
              "      <td>12</td>\n",
              "    </tr>\n",
              "    <tr>\n",
              "      <th>AMT_GOODS_PRICE</th>\n",
              "      <td>278</td>\n",
              "    </tr>\n",
              "    <tr>\n",
              "      <th>EXT_SOURCE_2</th>\n",
              "      <td>660</td>\n",
              "    </tr>\n",
              "    <tr>\n",
              "      <th>DEF_60_CNT_SOCIAL_CIRCLE</th>\n",
              "      <td>1021</td>\n",
              "    </tr>\n",
              "    <tr>\n",
              "      <th>OBS_60_CNT_SOCIAL_CIRCLE</th>\n",
              "      <td>1021</td>\n",
              "    </tr>\n",
              "    <tr>\n",
              "      <th>DEF_30_CNT_SOCIAL_CIRCLE</th>\n",
              "      <td>1021</td>\n",
              "    </tr>\n",
              "    <tr>\n",
              "      <th>OBS_30_CNT_SOCIAL_CIRCLE</th>\n",
              "      <td>1021</td>\n",
              "    </tr>\n",
              "    <tr>\n",
              "      <th>NAME_TYPE_SUITE</th>\n",
              "      <td>1292</td>\n",
              "    </tr>\n",
              "    <tr>\n",
              "      <th>AMT_REQ_CREDIT_BUREAU_MON</th>\n",
              "      <td>41519</td>\n",
              "    </tr>\n",
              "    <tr>\n",
              "      <th>AMT_REQ_CREDIT_BUREAU_WEEK</th>\n",
              "      <td>41519</td>\n",
              "    </tr>\n",
              "    <tr>\n",
              "      <th>AMT_REQ_CREDIT_BUREAU_DAY</th>\n",
              "      <td>41519</td>\n",
              "    </tr>\n",
              "    <tr>\n",
              "      <th>AMT_REQ_CREDIT_BUREAU_HOUR</th>\n",
              "      <td>41519</td>\n",
              "    </tr>\n",
              "    <tr>\n",
              "      <th>AMT_REQ_CREDIT_BUREAU_QRT</th>\n",
              "      <td>41519</td>\n",
              "    </tr>\n",
              "    <tr>\n",
              "      <th>AMT_REQ_CREDIT_BUREAU_YEAR</th>\n",
              "      <td>41519</td>\n",
              "    </tr>\n",
              "    <tr>\n",
              "      <th>EXT_SOURCE_3</th>\n",
              "      <td>60965</td>\n",
              "    </tr>\n",
              "    <tr>\n",
              "      <th>OCCUPATION_TYPE</th>\n",
              "      <td>96391</td>\n",
              "    </tr>\n",
              "    <tr>\n",
              "      <th>EMERGENCYSTATE_MODE</th>\n",
              "      <td>145755</td>\n",
              "    </tr>\n",
              "    <tr>\n",
              "      <th>TOTALAREA_MODE</th>\n",
              "      <td>148431</td>\n",
              "    </tr>\n",
              "    <tr>\n",
              "      <th>YEARS_BEGINEXPLUATATION_AVG</th>\n",
              "      <td>150007</td>\n",
              "    </tr>\n",
              "    <tr>\n",
              "      <th>YEARS_BEGINEXPLUATATION_MODE</th>\n",
              "      <td>150007</td>\n",
              "    </tr>\n",
              "    <tr>\n",
              "      <th>YEARS_BEGINEXPLUATATION_MEDI</th>\n",
              "      <td>150007</td>\n",
              "    </tr>\n",
              "    <tr>\n",
              "      <th>FLOORSMAX_AVG</th>\n",
              "      <td>153020</td>\n",
              "    </tr>\n",
              "    <tr>\n",
              "      <th>FLOORSMAX_MEDI</th>\n",
              "      <td>153020</td>\n",
              "    </tr>\n",
              "    <tr>\n",
              "      <th>FLOORSMAX_MODE</th>\n",
              "      <td>153020</td>\n",
              "    </tr>\n",
              "    <tr>\n",
              "      <th>HOUSETYPE_MODE</th>\n",
              "      <td>154297</td>\n",
              "    </tr>\n",
              "    <tr>\n",
              "      <th>LIVINGAREA_AVG</th>\n",
              "      <td>154350</td>\n",
              "    </tr>\n",
              "    <tr>\n",
              "      <th>LIVINGAREA_MODE</th>\n",
              "      <td>154350</td>\n",
              "    </tr>\n",
              "    <tr>\n",
              "      <th>LIVINGAREA_MEDI</th>\n",
              "      <td>154350</td>\n",
              "    </tr>\n",
              "    <tr>\n",
              "      <th>...</th>\n",
              "      <td>...</td>\n",
              "    </tr>\n",
              "    <tr>\n",
              "      <th>ELEVATORS_AVG</th>\n",
              "      <td>163891</td>\n",
              "    </tr>\n",
              "    <tr>\n",
              "      <th>ELEVATORS_MEDI</th>\n",
              "      <td>163891</td>\n",
              "    </tr>\n",
              "    <tr>\n",
              "      <th>ELEVATORS_MODE</th>\n",
              "      <td>163891</td>\n",
              "    </tr>\n",
              "    <tr>\n",
              "      <th>NONLIVINGAREA_MEDI</th>\n",
              "      <td>169682</td>\n",
              "    </tr>\n",
              "    <tr>\n",
              "      <th>NONLIVINGAREA_MODE</th>\n",
              "      <td>169682</td>\n",
              "    </tr>\n",
              "    <tr>\n",
              "      <th>NONLIVINGAREA_AVG</th>\n",
              "      <td>169682</td>\n",
              "    </tr>\n",
              "    <tr>\n",
              "      <th>EXT_SOURCE_1</th>\n",
              "      <td>173378</td>\n",
              "    </tr>\n",
              "    <tr>\n",
              "      <th>BASEMENTAREA_MEDI</th>\n",
              "      <td>179943</td>\n",
              "    </tr>\n",
              "    <tr>\n",
              "      <th>BASEMENTAREA_AVG</th>\n",
              "      <td>179943</td>\n",
              "    </tr>\n",
              "    <tr>\n",
              "      <th>BASEMENTAREA_MODE</th>\n",
              "      <td>179943</td>\n",
              "    </tr>\n",
              "    <tr>\n",
              "      <th>LANDAREA_MODE</th>\n",
              "      <td>182590</td>\n",
              "    </tr>\n",
              "    <tr>\n",
              "      <th>LANDAREA_MEDI</th>\n",
              "      <td>182590</td>\n",
              "    </tr>\n",
              "    <tr>\n",
              "      <th>LANDAREA_AVG</th>\n",
              "      <td>182590</td>\n",
              "    </tr>\n",
              "    <tr>\n",
              "      <th>OWN_CAR_AGE</th>\n",
              "      <td>202929</td>\n",
              "    </tr>\n",
              "    <tr>\n",
              "      <th>YEARS_BUILD_MODE</th>\n",
              "      <td>204488</td>\n",
              "    </tr>\n",
              "    <tr>\n",
              "      <th>YEARS_BUILD_MEDI</th>\n",
              "      <td>204488</td>\n",
              "    </tr>\n",
              "    <tr>\n",
              "      <th>YEARS_BUILD_AVG</th>\n",
              "      <td>204488</td>\n",
              "    </tr>\n",
              "    <tr>\n",
              "      <th>FLOORSMIN_MODE</th>\n",
              "      <td>208642</td>\n",
              "    </tr>\n",
              "    <tr>\n",
              "      <th>FLOORSMIN_MEDI</th>\n",
              "      <td>208642</td>\n",
              "    </tr>\n",
              "    <tr>\n",
              "      <th>FLOORSMIN_AVG</th>\n",
              "      <td>208642</td>\n",
              "    </tr>\n",
              "    <tr>\n",
              "      <th>LIVINGAPARTMENTS_MODE</th>\n",
              "      <td>210199</td>\n",
              "    </tr>\n",
              "    <tr>\n",
              "      <th>LIVINGAPARTMENTS_MEDI</th>\n",
              "      <td>210199</td>\n",
              "    </tr>\n",
              "    <tr>\n",
              "      <th>LIVINGAPARTMENTS_AVG</th>\n",
              "      <td>210199</td>\n",
              "    </tr>\n",
              "    <tr>\n",
              "      <th>FONDKAPREMONT_MODE</th>\n",
              "      <td>210295</td>\n",
              "    </tr>\n",
              "    <tr>\n",
              "      <th>NONLIVINGAPARTMENTS_MEDI</th>\n",
              "      <td>213514</td>\n",
              "    </tr>\n",
              "    <tr>\n",
              "      <th>NONLIVINGAPARTMENTS_MODE</th>\n",
              "      <td>213514</td>\n",
              "    </tr>\n",
              "    <tr>\n",
              "      <th>NONLIVINGAPARTMENTS_AVG</th>\n",
              "      <td>213514</td>\n",
              "    </tr>\n",
              "    <tr>\n",
              "      <th>COMMONAREA_MODE</th>\n",
              "      <td>214865</td>\n",
              "    </tr>\n",
              "    <tr>\n",
              "      <th>COMMONAREA_AVG</th>\n",
              "      <td>214865</td>\n",
              "    </tr>\n",
              "    <tr>\n",
              "      <th>COMMONAREA_MEDI</th>\n",
              "      <td>214865</td>\n",
              "    </tr>\n",
              "  </tbody>\n",
              "</table>\n",
              "<p>67 rows × 1 columns</p>\n",
              "</div>"
            ],
            "text/plain": [
              "                                   0\n",
              "DAYS_LAST_PHONE_CHANGE             1\n",
              "CNT_FAM_MEMBERS                    2\n",
              "AMT_ANNUITY                       12\n",
              "AMT_GOODS_PRICE                  278\n",
              "EXT_SOURCE_2                     660\n",
              "DEF_60_CNT_SOCIAL_CIRCLE        1021\n",
              "OBS_60_CNT_SOCIAL_CIRCLE        1021\n",
              "DEF_30_CNT_SOCIAL_CIRCLE        1021\n",
              "OBS_30_CNT_SOCIAL_CIRCLE        1021\n",
              "NAME_TYPE_SUITE                 1292\n",
              "AMT_REQ_CREDIT_BUREAU_MON      41519\n",
              "AMT_REQ_CREDIT_BUREAU_WEEK     41519\n",
              "AMT_REQ_CREDIT_BUREAU_DAY      41519\n",
              "AMT_REQ_CREDIT_BUREAU_HOUR     41519\n",
              "AMT_REQ_CREDIT_BUREAU_QRT      41519\n",
              "AMT_REQ_CREDIT_BUREAU_YEAR     41519\n",
              "EXT_SOURCE_3                   60965\n",
              "OCCUPATION_TYPE                96391\n",
              "EMERGENCYSTATE_MODE           145755\n",
              "TOTALAREA_MODE                148431\n",
              "YEARS_BEGINEXPLUATATION_AVG   150007\n",
              "YEARS_BEGINEXPLUATATION_MODE  150007\n",
              "YEARS_BEGINEXPLUATATION_MEDI  150007\n",
              "FLOORSMAX_AVG                 153020\n",
              "FLOORSMAX_MEDI                153020\n",
              "FLOORSMAX_MODE                153020\n",
              "HOUSETYPE_MODE                154297\n",
              "LIVINGAREA_AVG                154350\n",
              "LIVINGAREA_MODE               154350\n",
              "LIVINGAREA_MEDI               154350\n",
              "...                              ...\n",
              "ELEVATORS_AVG                 163891\n",
              "ELEVATORS_MEDI                163891\n",
              "ELEVATORS_MODE                163891\n",
              "NONLIVINGAREA_MEDI            169682\n",
              "NONLIVINGAREA_MODE            169682\n",
              "NONLIVINGAREA_AVG             169682\n",
              "EXT_SOURCE_1                  173378\n",
              "BASEMENTAREA_MEDI             179943\n",
              "BASEMENTAREA_AVG              179943\n",
              "BASEMENTAREA_MODE             179943\n",
              "LANDAREA_MODE                 182590\n",
              "LANDAREA_MEDI                 182590\n",
              "LANDAREA_AVG                  182590\n",
              "OWN_CAR_AGE                   202929\n",
              "YEARS_BUILD_MODE              204488\n",
              "YEARS_BUILD_MEDI              204488\n",
              "YEARS_BUILD_AVG               204488\n",
              "FLOORSMIN_MODE                208642\n",
              "FLOORSMIN_MEDI                208642\n",
              "FLOORSMIN_AVG                 208642\n",
              "LIVINGAPARTMENTS_MODE         210199\n",
              "LIVINGAPARTMENTS_MEDI         210199\n",
              "LIVINGAPARTMENTS_AVG          210199\n",
              "FONDKAPREMONT_MODE            210295\n",
              "NONLIVINGAPARTMENTS_MEDI      213514\n",
              "NONLIVINGAPARTMENTS_MODE      213514\n",
              "NONLIVINGAPARTMENTS_AVG       213514\n",
              "COMMONAREA_MODE               214865\n",
              "COMMONAREA_AVG                214865\n",
              "COMMONAREA_MEDI               214865\n",
              "\n",
              "[67 rows x 1 columns]"
            ]
          },
          "metadata": {
            "tags": []
          },
          "execution_count": 25
        }
      ]
    },
    {
      "metadata": {
        "id": "5s1WqacF8tAY",
        "colab_type": "code",
        "outputId": "249ff41d-cce3-4d7b-92c0-8b42a4d2796b",
        "colab": {
          "base_uri": "https://localhost:8080/",
          "height": 781
        }
      },
      "cell_type": "code",
      "source": [
        "#Se hace una gráfica de barras para conocer los Missing\n",
        "#values\n",
        "data.loc[:,(data.isna()==True).sum()>0].isnull().sum() \\\n",
        "    .to_frame().plot(kind='bar')\n"
      ],
      "execution_count": 0,
      "outputs": [
        {
          "output_type": "execute_result",
          "data": {
            "text/plain": [
              "<matplotlib.axes._subplots.AxesSubplot at 0x7f9fb8ef5b00>"
            ]
          },
          "metadata": {
            "tags": []
          },
          "execution_count": 25
        },
        {
          "output_type": "display_data",
          "data": {
            "image/png": "[encoded data removed]",
            "text/plain": [
              "<matplotlib.figure.Figure at 0x7f9fb8ee38d0>"
            ]
          },
          "metadata": {
            "tags": []
          }
        }
      ]
    },
    {
      "metadata": {
        "id": "xSA2lqvU807R",
        "colab_type": "code",
        "outputId": "c6f04b2d-b5bf-4bc5-96c9-c63d8381f85a",
        "colab": {
          "base_uri": "https://localhost:8080/",
          "height": 170
        }
      },
      "cell_type": "code",
      "source": [
        "#Se puede explorar la estadística \n",
        "#de los missing values\n",
        "data.isnull().sum(axis=1).describe()"
      ],
      "execution_count": 0,
      "outputs": [
        {
          "output_type": "execute_result",
          "data": {
            "text/plain": [
              "count    307511.000000\n",
              "mean         29.763049\n",
              "std          20.919345\n",
              "min           0.000000\n",
              "25%           5.000000\n",
              "50%          36.000000\n",
              "75%          49.000000\n",
              "max          61.000000\n",
              "dtype: float64"
            ]
          },
          "metadata": {
            "tags": []
          },
          "execution_count": 29
        }
      ]
    },
    {
      "metadata": {
        "id": "LTj6dNab_ta5",
        "colab_type": "code",
        "outputId": "7198eb82-c938-478e-ec56-c16133c4a999",
        "colab": {
          "base_uri": "https://localhost:8080/",
          "height": 613
        }
      },
      "cell_type": "code",
      "source": [
        "#Gráfica de los missing Values\n",
        "#sobre todas las columnas\n",
        "sns.distplot(data.isnull().sum(axis=1))"
      ],
      "execution_count": 0,
      "outputs": [
        {
          "output_type": "execute_result",
          "data": {
            "text/plain": [
              "<matplotlib.axes._subplots.AxesSubplot at 0x7f9fb64d77f0>"
            ]
          },
          "metadata": {
            "tags": []
          },
          "execution_count": 30
        },
        {
          "output_type": "display_data",
          "data": {
            "image/png": "[encoded data removed]",
            "text/plain": [
              "<matplotlib.figure.Figure at 0x7f9fb8e89b00>"
            ]
          },
          "metadata": {
            "tags": []
          }
        }
      ]
    },
    {
      "metadata": {
        "id": "laTWSj8KABO0",
        "colab_type": "code",
        "outputId": "75c74576-3309-43e9-e8dc-a3f52bc12cc7",
        "colab": {
          "base_uri": "https://localhost:8080/",
          "height": 633
        }
      },
      "cell_type": "code",
      "source": [
        "#Exploración de la densidad de una de las variables\n",
        "sns.distplot(data.AMT_INCOME_TOTAL)"
      ],
      "execution_count": 0,
      "outputs": [
        {
          "output_type": "execute_result",
          "data": {
            "text/plain": [
              "<matplotlib.axes._subplots.AxesSubplot at 0x7f9fb653b748>"
            ]
          },
          "metadata": {
            "tags": []
          },
          "execution_count": 31
        },
        {
          "output_type": "display_data",
          "data": {
            "image/png": "[encoded data removed]",
            "text/plain": [
              "<matplotlib.figure.Figure at 0x7f9fb63fbdd8>"
            ]
          },
          "metadata": {
            "tags": []
          }
        }
      ]
    },
    {
      "metadata": {
        "id": "2csq5rkbAa4X",
        "colab_type": "text"
      },
      "cell_type": "markdown",
      "source": [
        "## Funciones Lambda\n",
        "\n",
        "El la lección 1 se habló de funciones en Python, en como se definen y la idea detras de ello. Pero existen otro tipo de funciones que lo que tienen como funcion principal es actuar como funcion pero no es solo usada donde se define."
      ]
    },
    {
      "metadata": {
        "id": "lGP_PgZ8AU-6",
        "colab_type": "code",
        "colab": {}
      },
      "cell_type": "code",
      "source": [
        "#Se define una función\n",
        "def Log1(x):\n",
        "  return np.log1p(x)"
      ],
      "execution_count": 0,
      "outputs": []
    },
    {
      "metadata": {
        "id": "27MPqCdqA9xP",
        "colab_type": "code",
        "outputId": "8749c5ab-014b-4a29-9b1d-599b41ba1da2",
        "colab": {
          "base_uri": "https://localhost:8080/",
          "height": 609
        }
      },
      "cell_type": "code",
      "source": [
        "data.AMT_INCOME_TOTAL.apply(Log1).plot.hist(bins=50)"
      ],
      "execution_count": 0,
      "outputs": [
        {
          "output_type": "execute_result",
          "data": {
            "text/plain": [
              "<matplotlib.axes._subplots.AxesSubplot at 0x7f9fb630a940>"
            ]
          },
          "metadata": {
            "tags": []
          },
          "execution_count": 33
        },
        {
          "output_type": "display_data",
          "data": {
            "image/png": "[encoded data removed]",
            "text/plain": [
              "<matplotlib.figure.Figure at 0x7f9fb6395198>"
            ]
          },
          "metadata": {
            "tags": []
          }
        }
      ]
    },
    {
      "metadata": {
        "id": "rRX-D_o6BFW6",
        "colab_type": "code",
        "outputId": "3279ffae-1f47-40d9-df35-bbb87a76f44e",
        "colab": {
          "base_uri": "https://localhost:8080/",
          "height": 609
        }
      },
      "cell_type": "code",
      "source": [
        "#Definición de una función lamda\n",
        "\n",
        "data.AMT_INCOME_TOTAL.apply(lambda x: np.log1p(x)).plot.hist(bins=50)"
      ],
      "execution_count": 0,
      "outputs": [
        {
          "output_type": "execute_result",
          "data": {
            "text/plain": [
              "<matplotlib.axes._subplots.AxesSubplot at 0x7f9fb6281c50>"
            ]
          },
          "metadata": {
            "tags": []
          },
          "execution_count": 34
        },
        {
          "output_type": "display_data",
          "data": {
            "image/png": "[encoded data removed]",
            "text/plain": [
              "<matplotlib.figure.Figure at 0x7f9fbacaa278>"
            ]
          },
          "metadata": {
            "tags": []
          }
        }
      ]
    },
    {
      "metadata": {
        "id": "8h939Tf-BPc5",
        "colab_type": "code",
        "outputId": "88946d89-a494-4b14-dc33-bb20fbf093a3",
        "colab": {
          "base_uri": "https://localhost:8080/",
          "height": 85
        }
      },
      "cell_type": "code",
      "source": [
        "data.CODE_GENDER.value_counts()"
      ],
      "execution_count": 0,
      "outputs": [
        {
          "output_type": "execute_result",
          "data": {
            "text/plain": [
              "F      202448\n",
              "M      105059\n",
              "XNA         4\n",
              "Name: CODE_GENDER, dtype: int64"
            ]
          },
          "metadata": {
            "tags": []
          },
          "execution_count": 35
        }
      ]
    },
    {
      "metadata": {
        "id": "YzeLtunUBwlB",
        "colab_type": "code",
        "colab": {}
      },
      "cell_type": "code",
      "source": [
        "#Creación de un dict para hacer encoding\n",
        "Code_Gener={'F':0,'M':1,'XNA':-1}"
      ],
      "execution_count": 0,
      "outputs": []
    },
    {
      "metadata": {
        "id": "zu1H7hr8B5Uy",
        "colab_type": "code",
        "outputId": "46023954-ea82-40a6-86fb-ae0b57f95f9a",
        "colab": {
          "base_uri": "https://localhost:8080/",
          "height": 85
        }
      },
      "cell_type": "code",
      "source": [
        "#Encoding de categorias\n",
        "data.CODE_GENDER.map(Code_Gener).value_counts()"
      ],
      "execution_count": 0,
      "outputs": [
        {
          "output_type": "execute_result",
          "data": {
            "text/plain": [
              " 0    202448\n",
              " 1    105059\n",
              "-1         4\n",
              "Name: CODE_GENDER, dtype: int64"
            ]
          },
          "metadata": {
            "tags": []
          },
          "execution_count": 37
        }
      ]
    },
    {
      "metadata": {
        "id": "-Hbe4GFcutiD",
        "colab_type": "text"
      },
      "cell_type": "markdown",
      "source": [
        "### Análisis 2\n",
        "\n",
        "El objetivo es no trabajar con todas las variables, explorar las propiedades de cada una de las variables y su relación entre ellas."
      ]
    },
    {
      "metadata": {
        "id": "_2wcmVXRCBc4",
        "colab_type": "code",
        "outputId": "57dbd283-aa4d-4ac8-be8f-180477a70aa8",
        "colab": {
          "base_uri": "https://localhost:8080/",
          "height": 204
        }
      },
      "cell_type": "code",
      "source": [
        "#Con este ejmplos se tratan de ilustrar algunas de los \n",
        "#parámetros de la función read_csv\n",
        "\n",
        "data2=pd.read_csv(\"application_train.csv.zip\",nrows=10000,usecols=[0,1,2,3,4,5,6,7,8,9,15],dtype={'TARGET':np.int8,'CNT_CHILDREN':np.int8})\n",
        "data2.head()"
      ],
      "execution_count": 0,
      "outputs": [
        {
          "output_type": "execute_result",
          "data": {
            "text/html": [
              "<div>\n",
              "<style scoped>\n",
              "    .dataframe tbody tr th:only-of-type {\n",
              "        vertical-align: middle;\n",
              "    }\n",
              "\n",
              "    .dataframe tbody tr th {\n",
              "        vertical-align: top;\n",
              "    }\n",
              "\n",
              "    .dataframe thead th {\n",
              "        text-align: right;\n",
              "    }\n",
              "</style>\n",
              "<table border=\"1\" class=\"dataframe\">\n",
              "  <thead>\n",
              "    <tr style=\"text-align: right;\">\n",
              "      <th></th>\n",
              "      <th>SK_ID_CURR</th>\n",
              "      <th>TARGET</th>\n",
              "      <th>NAME_CONTRACT_TYPE</th>\n",
              "      <th>CODE_GENDER</th>\n",
              "      <th>FLAG_OWN_CAR</th>\n",
              "      <th>FLAG_OWN_REALTY</th>\n",
              "      <th>CNT_CHILDREN</th>\n",
              "      <th>AMT_INCOME_TOTAL</th>\n",
              "      <th>AMT_CREDIT</th>\n",
              "      <th>AMT_ANNUITY</th>\n",
              "      <th>NAME_HOUSING_TYPE</th>\n",
              "    </tr>\n",
              "  </thead>\n",
              "  <tbody>\n",
              "    <tr>\n",
              "      <th>0</th>\n",
              "      <td>100002</td>\n",
              "      <td>1</td>\n",
              "      <td>Cash loans</td>\n",
              "      <td>M</td>\n",
              "      <td>N</td>\n",
              "      <td>Y</td>\n",
              "      <td>0</td>\n",
              "      <td>202500.0</td>\n",
              "      <td>406597.5</td>\n",
              "      <td>24700.5</td>\n",
              "      <td>House / apartment</td>\n",
              "    </tr>\n",
              "    <tr>\n",
              "      <th>1</th>\n",
              "      <td>100003</td>\n",
              "      <td>0</td>\n",
              "      <td>Cash loans</td>\n",
              "      <td>F</td>\n",
              "      <td>N</td>\n",
              "      <td>N</td>\n",
              "      <td>0</td>\n",
              "      <td>270000.0</td>\n",
              "      <td>1293502.5</td>\n",
              "      <td>35698.5</td>\n",
              "      <td>House / apartment</td>\n",
              "    </tr>\n",
              "    <tr>\n",
              "      <th>2</th>\n",
              "      <td>100004</td>\n",
              "      <td>0</td>\n",
              "      <td>Revolving loans</td>\n",
              "      <td>M</td>\n",
              "      <td>Y</td>\n",
              "      <td>Y</td>\n",
              "      <td>0</td>\n",
              "      <td>67500.0</td>\n",
              "      <td>135000.0</td>\n",
              "      <td>6750.0</td>\n",
              "      <td>House / apartment</td>\n",
              "    </tr>\n",
              "    <tr>\n",
              "      <th>3</th>\n",
              "      <td>100006</td>\n",
              "      <td>0</td>\n",
              "      <td>Cash loans</td>\n",
              "      <td>F</td>\n",
              "      <td>N</td>\n",
              "      <td>Y</td>\n",
              "      <td>0</td>\n",
              "      <td>135000.0</td>\n",
              "      <td>312682.5</td>\n",
              "      <td>29686.5</td>\n",
              "      <td>House / apartment</td>\n",
              "    </tr>\n",
              "    <tr>\n",
              "      <th>4</th>\n",
              "      <td>100007</td>\n",
              "      <td>0</td>\n",
              "      <td>Cash loans</td>\n",
              "      <td>M</td>\n",
              "      <td>N</td>\n",
              "      <td>Y</td>\n",
              "      <td>0</td>\n",
              "      <td>121500.0</td>\n",
              "      <td>513000.0</td>\n",
              "      <td>21865.5</td>\n",
              "      <td>House / apartment</td>\n",
              "    </tr>\n",
              "  </tbody>\n",
              "</table>\n",
              "</div>"
            ],
            "text/plain": [
              "   SK_ID_CURR  TARGET NAME_CONTRACT_TYPE CODE_GENDER FLAG_OWN_CAR  \\\n",
              "0      100002       1         Cash loans           M            N   \n",
              "1      100003       0         Cash loans           F            N   \n",
              "2      100004       0    Revolving loans           M            Y   \n",
              "3      100006       0         Cash loans           F            N   \n",
              "4      100007       0         Cash loans           M            N   \n",
              "\n",
              "  FLAG_OWN_REALTY  CNT_CHILDREN  AMT_INCOME_TOTAL  AMT_CREDIT  AMT_ANNUITY  \\\n",
              "0               Y             0          202500.0    406597.5      24700.5   \n",
              "1               N             0          270000.0   1293502.5      35698.5   \n",
              "2               Y             0           67500.0    135000.0       6750.0   \n",
              "3               Y             0          135000.0    312682.5      29686.5   \n",
              "4               Y             0          121500.0    513000.0      21865.5   \n",
              "\n",
              "   NAME_HOUSING_TYPE  \n",
              "0  House / apartment  \n",
              "1  House / apartment  \n",
              "2  House / apartment  \n",
              "3  House / apartment  \n",
              "4  House / apartment  "
            ]
          },
          "metadata": {
            "tags": []
          },
          "execution_count": 31
        }
      ]
    },
    {
      "metadata": {
        "id": "T7q4pGyKG7H8",
        "colab_type": "code",
        "colab": {}
      },
      "cell_type": "code",
      "source": [
        "#Ejemplo de como conocer los parámetros de una función\n",
        "# o explorar la documentación\n",
        "\n",
        "?pd.read_csv"
      ],
      "execution_count": 0,
      "outputs": []
    },
    {
      "metadata": {
        "id": "WcVzg9LWwBrY",
        "colab_type": "code",
        "outputId": "8fcb1f42-27cc-493d-d0e4-f1eabd93b981",
        "colab": {
          "base_uri": "https://localhost:8080/",
          "height": 289
        }
      },
      "cell_type": "code",
      "source": [
        "data2.info()"
      ],
      "execution_count": 0,
      "outputs": [
        {
          "output_type": "stream",
          "text": [
            "<class 'pandas.core.frame.DataFrame'>\n",
            "RangeIndex: 10000 entries, 0 to 9999\n",
            "Data columns (total 11 columns):\n",
            "SK_ID_CURR            10000 non-null int64\n",
            "TARGET                10000 non-null int8\n",
            "NAME_CONTRACT_TYPE    10000 non-null object\n",
            "CODE_GENDER           10000 non-null object\n",
            "FLAG_OWN_CAR          10000 non-null object\n",
            "FLAG_OWN_REALTY       10000 non-null object\n",
            "CNT_CHILDREN          10000 non-null int8\n",
            "AMT_INCOME_TOTAL      10000 non-null float64\n",
            "AMT_CREDIT            10000 non-null float64\n",
            "AMT_ANNUITY           10000 non-null float64\n",
            "NAME_HOUSING_TYPE     10000 non-null object\n",
            "dtypes: float64(3), int64(1), int8(2), object(5)\n",
            "memory usage: 722.7+ KB\n"
          ],
          "name": "stdout"
        }
      ]
    },
    {
      "metadata": {
        "id": "sfNMjedHv0vf",
        "colab_type": "code",
        "outputId": "c1ec0874-3f09-48e6-9bba-e019f583dc70",
        "colab": {
          "base_uri": "https://localhost:8080/",
          "height": 297
        }
      },
      "cell_type": "code",
      "source": [
        "data2.describe()"
      ],
      "execution_count": 0,
      "outputs": [
        {
          "output_type": "execute_result",
          "data": {
            "text/html": [
              "<div>\n",
              "<style scoped>\n",
              "    .dataframe tbody tr th:only-of-type {\n",
              "        vertical-align: middle;\n",
              "    }\n",
              "\n",
              "    .dataframe tbody tr th {\n",
              "        vertical-align: top;\n",
              "    }\n",
              "\n",
              "    .dataframe thead th {\n",
              "        text-align: right;\n",
              "    }\n",
              "</style>\n",
              "<table border=\"1\" class=\"dataframe\">\n",
              "  <thead>\n",
              "    <tr style=\"text-align: right;\">\n",
              "      <th></th>\n",
              "      <th>SK_ID_CURR</th>\n",
              "      <th>TARGET</th>\n",
              "      <th>CNT_CHILDREN</th>\n",
              "      <th>AMT_INCOME_TOTAL</th>\n",
              "      <th>AMT_CREDIT</th>\n",
              "      <th>AMT_ANNUITY</th>\n",
              "    </tr>\n",
              "  </thead>\n",
              "  <tbody>\n",
              "    <tr>\n",
              "      <th>count</th>\n",
              "      <td>10000.000000</td>\n",
              "      <td>10000.000000</td>\n",
              "      <td>10000.000000</td>\n",
              "      <td>1.000000e+04</td>\n",
              "      <td>1.000000e+04</td>\n",
              "      <td>10000.000000</td>\n",
              "    </tr>\n",
              "    <tr>\n",
              "      <th>mean</th>\n",
              "      <td>105831.156800</td>\n",
              "      <td>0.077500</td>\n",
              "      <td>0.416300</td>\n",
              "      <td>1.674489e+05</td>\n",
              "      <td>6.007531e+05</td>\n",
              "      <td>27088.010550</td>\n",
              "    </tr>\n",
              "    <tr>\n",
              "      <th>std</th>\n",
              "      <td>3359.349281</td>\n",
              "      <td>0.267397</td>\n",
              "      <td>0.722251</td>\n",
              "      <td>9.422260e+04</td>\n",
              "      <td>4.032643e+05</td>\n",
              "      <td>14384.946154</td>\n",
              "    </tr>\n",
              "    <tr>\n",
              "      <th>min</th>\n",
              "      <td>100002.000000</td>\n",
              "      <td>0.000000</td>\n",
              "      <td>0.000000</td>\n",
              "      <td>2.565000e+04</td>\n",
              "      <td>4.500000e+04</td>\n",
              "      <td>2596.500000</td>\n",
              "    </tr>\n",
              "    <tr>\n",
              "      <th>25%</th>\n",
              "      <td>102915.750000</td>\n",
              "      <td>0.000000</td>\n",
              "      <td>0.000000</td>\n",
              "      <td>1.125000e+05</td>\n",
              "      <td>2.700000e+05</td>\n",
              "      <td>16434.000000</td>\n",
              "    </tr>\n",
              "    <tr>\n",
              "      <th>50%</th>\n",
              "      <td>105849.500000</td>\n",
              "      <td>0.000000</td>\n",
              "      <td>0.000000</td>\n",
              "      <td>1.440000e+05</td>\n",
              "      <td>5.130000e+05</td>\n",
              "      <td>24970.500000</td>\n",
              "    </tr>\n",
              "    <tr>\n",
              "      <th>75%</th>\n",
              "      <td>108745.250000</td>\n",
              "      <td>0.000000</td>\n",
              "      <td>1.000000</td>\n",
              "      <td>2.025000e+05</td>\n",
              "      <td>8.100000e+05</td>\n",
              "      <td>34636.500000</td>\n",
              "    </tr>\n",
              "    <tr>\n",
              "      <th>max</th>\n",
              "      <td>111633.000000</td>\n",
              "      <td>1.000000</td>\n",
              "      <td>7.000000</td>\n",
              "      <td>1.935000e+06</td>\n",
              "      <td>2.961000e+06</td>\n",
              "      <td>135936.000000</td>\n",
              "    </tr>\n",
              "  </tbody>\n",
              "</table>\n",
              "</div>"
            ],
            "text/plain": [
              "          SK_ID_CURR        TARGET  CNT_CHILDREN  AMT_INCOME_TOTAL  \\\n",
              "count   10000.000000  10000.000000  10000.000000      1.000000e+04   \n",
              "mean   105831.156800      0.077500      0.416300      1.674489e+05   \n",
              "std      3359.349281      0.267397      0.722251      9.422260e+04   \n",
              "min    100002.000000      0.000000      0.000000      2.565000e+04   \n",
              "25%    102915.750000      0.000000      0.000000      1.125000e+05   \n",
              "50%    105849.500000      0.000000      0.000000      1.440000e+05   \n",
              "75%    108745.250000      0.000000      1.000000      2.025000e+05   \n",
              "max    111633.000000      1.000000      7.000000      1.935000e+06   \n",
              "\n",
              "         AMT_CREDIT    AMT_ANNUITY  \n",
              "count  1.000000e+04   10000.000000  \n",
              "mean   6.007531e+05   27088.010550  \n",
              "std    4.032643e+05   14384.946154  \n",
              "min    4.500000e+04    2596.500000  \n",
              "25%    2.700000e+05   16434.000000  \n",
              "50%    5.130000e+05   24970.500000  \n",
              "75%    8.100000e+05   34636.500000  \n",
              "max    2.961000e+06  135936.000000  "
            ]
          },
          "metadata": {
            "tags": []
          },
          "execution_count": 33
        }
      ]
    },
    {
      "metadata": {
        "id": "YK95DCcLw1AC",
        "colab_type": "code",
        "outputId": "bca3d169-10e6-49c6-acd4-1fda111f706d",
        "colab": {
          "base_uri": "https://localhost:8080/",
          "height": 142
        }
      },
      "cell_type": "code",
      "source": [
        "#Ejemplo del uso de dato Categorical \n",
        "pd.Categorical(data2.CODE_GENDER).describe()"
      ],
      "execution_count": 0,
      "outputs": [
        {
          "output_type": "execute_result",
          "data": {
            "text/html": [
              "<div>\n",
              "<style scoped>\n",
              "    .dataframe tbody tr th:only-of-type {\n",
              "        vertical-align: middle;\n",
              "    }\n",
              "\n",
              "    .dataframe tbody tr th {\n",
              "        vertical-align: top;\n",
              "    }\n",
              "\n",
              "    .dataframe thead th {\n",
              "        text-align: right;\n",
              "    }\n",
              "</style>\n",
              "<table border=\"1\" class=\"dataframe\">\n",
              "  <thead>\n",
              "    <tr style=\"text-align: right;\">\n",
              "      <th></th>\n",
              "      <th>counts</th>\n",
              "      <th>freqs</th>\n",
              "    </tr>\n",
              "    <tr>\n",
              "      <th>categories</th>\n",
              "      <th></th>\n",
              "      <th></th>\n",
              "    </tr>\n",
              "  </thead>\n",
              "  <tbody>\n",
              "    <tr>\n",
              "      <th>F</th>\n",
              "      <td>6589</td>\n",
              "      <td>0.6589</td>\n",
              "    </tr>\n",
              "    <tr>\n",
              "      <th>M</th>\n",
              "      <td>3411</td>\n",
              "      <td>0.3411</td>\n",
              "    </tr>\n",
              "  </tbody>\n",
              "</table>\n",
              "</div>"
            ],
            "text/plain": [
              "            counts   freqs\n",
              "categories                \n",
              "F             6589  0.6589\n",
              "M             3411  0.3411"
            ]
          },
          "metadata": {
            "tags": []
          },
          "execution_count": 40
        }
      ]
    },
    {
      "metadata": {
        "id": "HpZaiU0uxB1V",
        "colab_type": "code",
        "outputId": "9e29d5c2-b6f8-4a04-ea22-ae746bd9e7c2",
        "colab": {
          "base_uri": "https://localhost:8080/",
          "height": 142
        }
      },
      "cell_type": "code",
      "source": [
        "#El uso de la correlation en Pandas\n",
        "\n",
        "L=data2.iloc[:,data2.columns.str.startswith('AMT')].corr()\n",
        "data2.iloc[:,data2.columns.str.startswith('AMT')].corr()\n",
        "\n"
      ],
      "execution_count": 0,
      "outputs": [
        {
          "output_type": "execute_result",
          "data": {
            "text/html": [
              "<div>\n",
              "<style scoped>\n",
              "    .dataframe tbody tr th:only-of-type {\n",
              "        vertical-align: middle;\n",
              "    }\n",
              "\n",
              "    .dataframe tbody tr th {\n",
              "        vertical-align: top;\n",
              "    }\n",
              "\n",
              "    .dataframe thead th {\n",
              "        text-align: right;\n",
              "    }\n",
              "</style>\n",
              "<table border=\"1\" class=\"dataframe\">\n",
              "  <thead>\n",
              "    <tr style=\"text-align: right;\">\n",
              "      <th></th>\n",
              "      <th>AMT_INCOME_TOTAL</th>\n",
              "      <th>AMT_CREDIT</th>\n",
              "      <th>AMT_ANNUITY</th>\n",
              "    </tr>\n",
              "  </thead>\n",
              "  <tbody>\n",
              "    <tr>\n",
              "      <th>AMT_INCOME_TOTAL</th>\n",
              "      <td>1.000000</td>\n",
              "      <td>0.391627</td>\n",
              "      <td>0.458479</td>\n",
              "    </tr>\n",
              "    <tr>\n",
              "      <th>AMT_CREDIT</th>\n",
              "      <td>0.391627</td>\n",
              "      <td>1.000000</td>\n",
              "      <td>0.785932</td>\n",
              "    </tr>\n",
              "    <tr>\n",
              "      <th>AMT_ANNUITY</th>\n",
              "      <td>0.458479</td>\n",
              "      <td>0.785932</td>\n",
              "      <td>1.000000</td>\n",
              "    </tr>\n",
              "  </tbody>\n",
              "</table>\n",
              "</div>"
            ],
            "text/plain": [
              "                  AMT_INCOME_TOTAL  AMT_CREDIT  AMT_ANNUITY\n",
              "AMT_INCOME_TOTAL          1.000000    0.391627     0.458479\n",
              "AMT_CREDIT                0.391627    1.000000     0.785932\n",
              "AMT_ANNUITY               0.458479    0.785932     1.000000"
            ]
          },
          "metadata": {
            "tags": []
          },
          "execution_count": 49
        }
      ]
    },
    {
      "metadata": {
        "id": "DeojewkZyYg1",
        "colab_type": "code",
        "outputId": "d1089cbe-fc9c-40ef-c3a7-bc520d59705e",
        "colab": {
          "base_uri": "https://localhost:8080/",
          "height": 609
        }
      },
      "cell_type": "code",
      "source": [
        "#Muestra gráfica de las relaciones entre la correlación \n",
        "#de las variables\n",
        "sns.heatmap(L)"
      ],
      "execution_count": 0,
      "outputs": [
        {
          "output_type": "execute_result",
          "data": {
            "text/plain": [
              "<matplotlib.axes._subplots.AxesSubplot at 0x7fa123a28b38>"
            ]
          },
          "metadata": {
            "tags": []
          },
          "execution_count": 50
        },
        {
          "output_type": "display_data",
          "data": {
            "image/png": "[encoded data removed]",
            "text/plain": [
              "<matplotlib.figure.Figure at 0x7fa12397fc18>"
            ]
          },
          "metadata": {
            "tags": []
          }
        }
      ]
    },
    {
      "metadata": {
        "id": "GksyVvaZzT-0",
        "colab_type": "text"
      },
      "cell_type": "markdown",
      "source": [
        "## Notas finales:\n",
        "\n",
        "Las Series y los DataFrames pueden ser creados desde ciertas estructuras de datos o colecciones de Python, pero en el trabajo estándar son creados desde alguna base o archivo.\n",
        "\n",
        "Pandas permite mantener el tipo de programación estandar en Python, más aún permite hacer programación Declarativa esto en buena medida por el modo en que están definidas los métodos sobre las Series y DF.\n",
        "\n",
        "La carga de datos, requiere conocer algunas de las funciones para cargar los diferentes tipos de archivos. Por default Pandas asigna un tipo de dato a cada columna de un DF, pero lo recomendable es explorar cual tipo de dato es más adecuado y definir el tipo de dato, esto para hacer mejor uso de la memoria.\n",
        "\n",
        "## Referencias y Créditos:\n",
        "\n",
        "Libros:\n",
        "\n",
        "* [Python for Data Analysis: Data Wrangling with Pandas, NumPy, and IPython](https://www.amazon.com/Python-Data-Analysis-Wrangling-IPython/dp/1449319793)\n",
        "* [Data Science from Scratch: First Principles with Python](https://www.amazon.com/Data-Science-Scratch-Principles-Python/dp/149190142X)\n",
        "* [Python Data Science Handbook: Essential Tools for Working with Data](https://www.amazon.com/Python-Data-Science-Handbook-Essential/dp/1491912057)\n",
        "\n",
        "Sitios Web:\n",
        "\n",
        "*  [Mini tutotial de la página oficial](https://pandas.pydata.org/pandas-docs/stable/10min.html)\n",
        "* [Sobre la programación Declarativa en Python](https://www.benfrederickson.com/python-as-a-declarative-programming-language/)\n",
        "* [Más sobre Declarative programming](https://nullp0tr.com/pages/declarative_apis.html)\n",
        "\n",
        "* [Much more sobre Declarive programming](https://florianwilhelm.info/2017/07/declarative_thinking_and_programming/)"
      ]
    }
  ]
}