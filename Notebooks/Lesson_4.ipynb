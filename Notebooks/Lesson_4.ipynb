{
  "nbformat": 4,
  "nbformat_minor": 0,
  "metadata": {
    "colab": {
      "name": "Lesson_4.ipynb",
      "version": "0.3.2",
      "provenance": [],
      "collapsed_sections": []
    },
    "kernelspec": {
      "name": "python3",
      "display_name": "Python 3"
    }
  },
  "cells": [
    {
      "metadata": {
        "id": "9Stfxvm_OZc9",
        "colab_type": "text"
      },
      "cell_type": "markdown",
      "source": [
        "# Analizando Datos con PyData \n",
        "\n",
        "* Objetivos de la Lección\n",
        "* SQL y pandas 2 \n",
        "* Agrupaciones \n",
        "*  GroupBy."
      ]
    },
    {
      "metadata": {
        "id": "HhkqvaqzkHdk",
        "colab_type": "text"
      },
      "cell_type": "markdown",
      "source": [
        "# Objetivo de la Lección\n",
        "\n",
        "* Revisión de Python\n",
        "* Revisión de la relación entre NumPy y Pandas\n",
        "* Pipeline, Agregación y Relación entre DataFrames.\n",
        "* SQL y Pandas 2\n",
        "* Ejemplo de Análisis de Datos\n",
        "\n",
        "\n",
        "# Pipeline\n",
        "\n",
        "Cuando se trabaja con los DataFrame o Serie, cada transformación, filtro o selección de variable puede ser aplicada y seguir con otra operación o transformación. En general se pueden aplicar las secuencias de pasos necesarios haciendo uso solo del \".\" y \"\\\" para escribir de forma legíble el programa. \n",
        "\n",
        "El siguiente ejemplo es un código donde mostramos la diferencia entre escribir en cada línea una transformación o escribirlas seguidas."
      ]
    },
    {
      "metadata": {
        "id": "-P-9hkJNoi87",
        "colab_type": "code",
        "outputId": "a7901986-c0a0-4c36-f0ca-292bc59e3d73",
        "colab": {
          "base_uri": "https://localhost:8080/",
          "height": 138
        }
      },
      "cell_type": "code",
      "source": [
        "#Se cargan los datos  \n",
        "\n",
        "%matplotlib inline\n",
        "\n",
        "import pandas as pd\n",
        "import numpy as np\n",
        "\n",
        "import matplotlib.pyplot as plt\n",
        "import seaborn as sns\n",
        "\n",
        "data = pd.read_csv(\"sample_data/california_housing_train.csv\")\n",
        "data.head(3)  "
      ],
      "execution_count": 0,
      "outputs": [
        {
          "output_type": "execute_result",
          "data": {
            "text/html": [
              "<div>\n",
              "<style scoped>\n",
              "    .dataframe tbody tr th:only-of-type {\n",
              "        vertical-align: middle;\n",
              "    }\n",
              "\n",
              "    .dataframe tbody tr th {\n",
              "        vertical-align: top;\n",
              "    }\n",
              "\n",
              "    .dataframe thead th {\n",
              "        text-align: right;\n",
              "    }\n",
              "</style>\n",
              "<table border=\"1\" class=\"dataframe\">\n",
              "  <thead>\n",
              "    <tr style=\"text-align: right;\">\n",
              "      <th></th>\n",
              "      <th>longitude</th>\n",
              "      <th>latitude</th>\n",
              "      <th>housing_median_age</th>\n",
              "      <th>total_rooms</th>\n",
              "      <th>total_bedrooms</th>\n",
              "      <th>population</th>\n",
              "      <th>households</th>\n",
              "      <th>median_income</th>\n",
              "      <th>median_house_value</th>\n",
              "    </tr>\n",
              "  </thead>\n",
              "  <tbody>\n",
              "    <tr>\n",
              "      <th>0</th>\n",
              "      <td>-114.31</td>\n",
              "      <td>34.19</td>\n",
              "      <td>15.0</td>\n",
              "      <td>5612.0</td>\n",
              "      <td>1283.0</td>\n",
              "      <td>1015.0</td>\n",
              "      <td>472.0</td>\n",
              "      <td>1.4936</td>\n",
              "      <td>66900.0</td>\n",
              "    </tr>\n",
              "    <tr>\n",
              "      <th>1</th>\n",
              "      <td>-114.47</td>\n",
              "      <td>34.40</td>\n",
              "      <td>19.0</td>\n",
              "      <td>7650.0</td>\n",
              "      <td>1901.0</td>\n",
              "      <td>1129.0</td>\n",
              "      <td>463.0</td>\n",
              "      <td>1.8200</td>\n",
              "      <td>80100.0</td>\n",
              "    </tr>\n",
              "    <tr>\n",
              "      <th>2</th>\n",
              "      <td>-114.56</td>\n",
              "      <td>33.69</td>\n",
              "      <td>17.0</td>\n",
              "      <td>720.0</td>\n",
              "      <td>174.0</td>\n",
              "      <td>333.0</td>\n",
              "      <td>117.0</td>\n",
              "      <td>1.6509</td>\n",
              "      <td>85700.0</td>\n",
              "    </tr>\n",
              "  </tbody>\n",
              "</table>\n",
              "</div>"
            ],
            "text/plain": [
              "   longitude  latitude  housing_median_age  total_rooms  total_bedrooms  \\\n",
              "0    -114.31     34.19                15.0       5612.0          1283.0   \n",
              "1    -114.47     34.40                19.0       7650.0          1901.0   \n",
              "2    -114.56     33.69                17.0        720.0           174.0   \n",
              "\n",
              "   population  households  median_income  median_house_value  \n",
              "0      1015.0       472.0         1.4936             66900.0  \n",
              "1      1129.0       463.0         1.8200             80100.0  \n",
              "2       333.0       117.0         1.6509             85700.0  "
            ]
          },
          "metadata": {
            "tags": []
          },
          "execution_count": 92
        }
      ]
    },
    {
      "metadata": {
        "id": "Fj_h3PgYqsqJ",
        "colab_type": "code",
        "colab": {}
      },
      "cell_type": "code",
      "source": [
        "plt.rcParams['figure.figsize'] = 15, 10\n"
      ],
      "execution_count": 0,
      "outputs": []
    },
    {
      "metadata": {
        "id": "qXV_n2I0ozv8",
        "colab_type": "code",
        "colab": {}
      },
      "cell_type": "code",
      "source": [
        "#Se toman solo las casas con más de 20 años\n",
        "tmp1=data[data.housing_median_age>20]\n",
        "#Se agragan los datos para ver la cantidad de casas por edad\n",
        "tmp2=tmp1.housing_median_age.value_counts()"
      ],
      "execution_count": 0,
      "outputs": []
    },
    {
      "metadata": {
        "id": "y7M65YCFqRpJ",
        "colab_type": "code",
        "outputId": "b857ff03-b2bb-4fcb-f008-fd79af0fb3fd",
        "colab": {
          "base_uri": "https://localhost:8080/",
          "height": 617
        }
      },
      "cell_type": "code",
      "source": [
        "tmp2"
      ],
      "execution_count": 0,
      "outputs": [
        {
          "output_type": "execute_result",
          "data": {
            "text/plain": [
              "52.0    1052\n",
              "36.0     715\n",
              "35.0     692\n",
              "34.0     567\n",
              "33.0     513\n",
              "26.0     503\n",
              "25.0     461\n",
              "32.0     458\n",
              "37.0     437\n",
              "28.0     400\n",
              "27.0     397\n",
              "24.0     389\n",
              "31.0     384\n",
              "30.0     384\n",
              "23.0     382\n",
              "29.0     374\n",
              "21.0     373\n",
              "22.0     323\n",
              "38.0     318\n",
              "42.0     308\n",
              "39.0     302\n",
              "44.0     296\n",
              "43.0     286\n",
              "40.0     249\n",
              "45.0     235\n",
              "41.0     232\n",
              "46.0     196\n",
              "47.0     175\n",
              "48.0     135\n",
              "50.0     112\n",
              "49.0     111\n",
              "51.0      32\n",
              "Name: housing_median_age, dtype: int64"
            ]
          },
          "metadata": {
            "tags": []
          },
          "execution_count": 4
        }
      ]
    },
    {
      "metadata": {
        "id": "Fcq-6zDyqh1Q",
        "colab_type": "code",
        "outputId": "a00eb9e2-ccdb-46db-d0b2-114731530ab0",
        "colab": {
          "base_uri": "https://localhost:8080/",
          "height": 635
        }
      },
      "cell_type": "code",
      "source": [
        "#Se grafican las edades y la cantidad de casas con esa edad.\n",
        "tmp2.plot(kind='bar',title='Casas con más de 20 años')"
      ],
      "execution_count": 0,
      "outputs": [
        {
          "output_type": "execute_result",
          "data": {
            "text/plain": [
              "<matplotlib.axes._subplots.AxesSubplot at 0x7f747a73a4a8>"
            ]
          },
          "metadata": {
            "tags": []
          },
          "execution_count": 5
        },
        {
          "output_type": "display_data",
          "data": {
            "image/png": "[encoded data removed]",
            "text/plain": [
              "<matplotlib.figure.Figure at 0x7f74956a0cc0>"
            ]
          },
          "metadata": {
            "tags": []
          }
        }
      ]
    },
    {
      "metadata": {
        "id": "xlBzWXsCq11z",
        "colab_type": "code",
        "outputId": "00e7f1da-0059-4ec4-d9a7-1ea248981b71",
        "colab": {
          "base_uri": "https://localhost:8080/",
          "height": 635
        }
      },
      "cell_type": "code",
      "source": [
        "#La siguiente versión hacemos todos los pasos en un solo programa\n",
        "#Si revisamos con cuidado con respecto a las anteriores líneas de\n",
        "#código se realizan los mismo pasos.\n",
        "data.query(\"housing_median_age>20\")\\\n",
        "    ['housing_median_age']\\\n",
        "    .value_counts()\\\n",
        "    .plot(kind='bar',title='Casas con más de 20 años')"
      ],
      "execution_count": 0,
      "outputs": [
        {
          "output_type": "execute_result",
          "data": {
            "text/plain": [
              "<matplotlib.axes._subplots.AxesSubplot at 0x7f7476754358>"
            ]
          },
          "metadata": {
            "tags": []
          },
          "execution_count": 98
        },
        {
          "output_type": "display_data",
          "data": {
            "image/png": "[encoded data removed]",
            "text/plain": [
              "<matplotlib.figure.Figure at 0x7f7476a1f630>"
            ]
          },
          "metadata": {
            "tags": []
          }
        }
      ]
    },
    {
      "metadata": {
        "id": "PjtlF8k8rm5K",
        "colab_type": "text"
      },
      "cell_type": "markdown",
      "source": [
        "¿Qué se gana o qué se pierde?\n",
        "\n",
        "Se gana consistencia y legibilidad de los pasos, pero resulta necesario conocer qué hace cada método para poder escribir el código mediante una secuencia de transformaciones. Así que la recomendación es hacer pruebas paso a paso y posteriormente tratar de escribir el programa en secuencias de transformaciones.\n",
        "\n",
        "# Agregar Nuevas Variables o Features\n",
        "\n",
        "En los ejemplos de las lecciones pasadas se mostró como crear nuevas variables desde variables existentes. Ejemplo el código siguiente:"
      ]
    },
    {
      "metadata": {
        "id": "mRplwRwfsVmx",
        "colab_type": "code",
        "colab": {}
      },
      "cell_type": "code",
      "source": [
        "#Se hace una cópia del DF original\n",
        "\n",
        "data1=data.copy()\n",
        "\n",
        "#Version 1\n",
        "data1['Total_Area_1']=data1['total_rooms']+data1['total_bedrooms']\n"
      ],
      "execution_count": 0,
      "outputs": []
    },
    {
      "metadata": {
        "id": "NAtDHrvLs178",
        "colab_type": "code",
        "colab": {}
      },
      "cell_type": "code",
      "source": [
        "#Version 2\n",
        "\n",
        "data1['Total_Area_2']=data1[['total_rooms','total_bedrooms']].sum(axis=1)"
      ],
      "execution_count": 0,
      "outputs": []
    },
    {
      "metadata": {
        "id": "_FGqCvQnufbt",
        "colab_type": "code",
        "outputId": "d091ae7d-2ed4-4e20-edd3-b78d432a8d2a",
        "colab": {
          "base_uri": "https://localhost:8080/",
          "height": 218
        }
      },
      "cell_type": "code",
      "source": [
        "data1.head()"
      ],
      "execution_count": 0,
      "outputs": [
        {
          "output_type": "execute_result",
          "data": {
            "text/html": [
              "<div>\n",
              "<style scoped>\n",
              "    .dataframe tbody tr th:only-of-type {\n",
              "        vertical-align: middle;\n",
              "    }\n",
              "\n",
              "    .dataframe tbody tr th {\n",
              "        vertical-align: top;\n",
              "    }\n",
              "\n",
              "    .dataframe thead th {\n",
              "        text-align: right;\n",
              "    }\n",
              "</style>\n",
              "<table border=\"1\" class=\"dataframe\">\n",
              "  <thead>\n",
              "    <tr style=\"text-align: right;\">\n",
              "      <th></th>\n",
              "      <th>longitude</th>\n",
              "      <th>latitude</th>\n",
              "      <th>housing_median_age</th>\n",
              "      <th>total_rooms</th>\n",
              "      <th>total_bedrooms</th>\n",
              "      <th>population</th>\n",
              "      <th>households</th>\n",
              "      <th>median_income</th>\n",
              "      <th>median_house_value</th>\n",
              "      <th>Total_Area_1</th>\n",
              "      <th>Total_Area_2</th>\n",
              "    </tr>\n",
              "  </thead>\n",
              "  <tbody>\n",
              "    <tr>\n",
              "      <th>0</th>\n",
              "      <td>-114.31</td>\n",
              "      <td>34.19</td>\n",
              "      <td>15.0</td>\n",
              "      <td>5612.0</td>\n",
              "      <td>1283.0</td>\n",
              "      <td>1015.0</td>\n",
              "      <td>472.0</td>\n",
              "      <td>1.4936</td>\n",
              "      <td>66900.0</td>\n",
              "      <td>6895.0</td>\n",
              "      <td>6895.0</td>\n",
              "    </tr>\n",
              "    <tr>\n",
              "      <th>1</th>\n",
              "      <td>-114.47</td>\n",
              "      <td>34.40</td>\n",
              "      <td>19.0</td>\n",
              "      <td>7650.0</td>\n",
              "      <td>1901.0</td>\n",
              "      <td>1129.0</td>\n",
              "      <td>463.0</td>\n",
              "      <td>1.8200</td>\n",
              "      <td>80100.0</td>\n",
              "      <td>9551.0</td>\n",
              "      <td>9551.0</td>\n",
              "    </tr>\n",
              "    <tr>\n",
              "      <th>2</th>\n",
              "      <td>-114.56</td>\n",
              "      <td>33.69</td>\n",
              "      <td>17.0</td>\n",
              "      <td>720.0</td>\n",
              "      <td>174.0</td>\n",
              "      <td>333.0</td>\n",
              "      <td>117.0</td>\n",
              "      <td>1.6509</td>\n",
              "      <td>85700.0</td>\n",
              "      <td>894.0</td>\n",
              "      <td>894.0</td>\n",
              "    </tr>\n",
              "    <tr>\n",
              "      <th>3</th>\n",
              "      <td>-114.57</td>\n",
              "      <td>33.64</td>\n",
              "      <td>14.0</td>\n",
              "      <td>1501.0</td>\n",
              "      <td>337.0</td>\n",
              "      <td>515.0</td>\n",
              "      <td>226.0</td>\n",
              "      <td>3.1917</td>\n",
              "      <td>73400.0</td>\n",
              "      <td>1838.0</td>\n",
              "      <td>1838.0</td>\n",
              "    </tr>\n",
              "    <tr>\n",
              "      <th>4</th>\n",
              "      <td>-114.57</td>\n",
              "      <td>33.57</td>\n",
              "      <td>20.0</td>\n",
              "      <td>1454.0</td>\n",
              "      <td>326.0</td>\n",
              "      <td>624.0</td>\n",
              "      <td>262.0</td>\n",
              "      <td>1.9250</td>\n",
              "      <td>65500.0</td>\n",
              "      <td>1780.0</td>\n",
              "      <td>1780.0</td>\n",
              "    </tr>\n",
              "  </tbody>\n",
              "</table>\n",
              "</div>"
            ],
            "text/plain": [
              "   longitude  latitude  housing_median_age  total_rooms  total_bedrooms  \\\n",
              "0    -114.31     34.19                15.0       5612.0          1283.0   \n",
              "1    -114.47     34.40                19.0       7650.0          1901.0   \n",
              "2    -114.56     33.69                17.0        720.0           174.0   \n",
              "3    -114.57     33.64                14.0       1501.0           337.0   \n",
              "4    -114.57     33.57                20.0       1454.0           326.0   \n",
              "\n",
              "   population  households  median_income  median_house_value  Total_Area_1  \\\n",
              "0      1015.0       472.0         1.4936             66900.0        6895.0   \n",
              "1      1129.0       463.0         1.8200             80100.0        9551.0   \n",
              "2       333.0       117.0         1.6509             85700.0         894.0   \n",
              "3       515.0       226.0         3.1917             73400.0        1838.0   \n",
              "4       624.0       262.0         1.9250             65500.0        1780.0   \n",
              "\n",
              "   Total_Area_2  \n",
              "0        6895.0  \n",
              "1        9551.0  \n",
              "2         894.0  \n",
              "3        1838.0  \n",
              "4        1780.0  "
            ]
          },
          "metadata": {
            "tags": []
          },
          "execution_count": 29
        }
      ]
    },
    {
      "metadata": {
        "colab_type": "text",
        "id": "PR_nnVQIumBQ"
      },
      "cell_type": "markdown",
      "source": [
        "Hacemos otro ejemplo, ahora dividimos el valor medio de la casa (median_house_value) y la mediana de los años que tiene la casa(housing_median_age) \n",
        "\n"
      ]
    },
    {
      "metadata": {
        "id": "1unies1pt01d",
        "colab_type": "code",
        "colab": {}
      },
      "cell_type": "code",
      "source": [
        "data1.loc[:,'Ration_House_Value_Age']=data1['median_house_value'].div(data1['housing_median_age'])"
      ],
      "execution_count": 0,
      "outputs": []
    },
    {
      "metadata": {
        "id": "nut8yx-_spHA",
        "colab_type": "code",
        "outputId": "ba04b8dd-893f-495e-a179-ca39e0534435",
        "colab": {
          "base_uri": "https://localhost:8080/",
          "height": 218
        }
      },
      "cell_type": "code",
      "source": [
        "data1.head()"
      ],
      "execution_count": 0,
      "outputs": [
        {
          "output_type": "execute_result",
          "data": {
            "text/html": [
              "<div>\n",
              "<style scoped>\n",
              "    .dataframe tbody tr th:only-of-type {\n",
              "        vertical-align: middle;\n",
              "    }\n",
              "\n",
              "    .dataframe tbody tr th {\n",
              "        vertical-align: top;\n",
              "    }\n",
              "\n",
              "    .dataframe thead th {\n",
              "        text-align: right;\n",
              "    }\n",
              "</style>\n",
              "<table border=\"1\" class=\"dataframe\">\n",
              "  <thead>\n",
              "    <tr style=\"text-align: right;\">\n",
              "      <th></th>\n",
              "      <th>longitude</th>\n",
              "      <th>latitude</th>\n",
              "      <th>housing_median_age</th>\n",
              "      <th>total_rooms</th>\n",
              "      <th>total_bedrooms</th>\n",
              "      <th>population</th>\n",
              "      <th>households</th>\n",
              "      <th>median_income</th>\n",
              "      <th>median_house_value</th>\n",
              "      <th>Total_Area_1</th>\n",
              "      <th>Total_Area_2</th>\n",
              "      <th>Ration_House_Value_Age</th>\n",
              "    </tr>\n",
              "  </thead>\n",
              "  <tbody>\n",
              "    <tr>\n",
              "      <th>0</th>\n",
              "      <td>-114.31</td>\n",
              "      <td>34.19</td>\n",
              "      <td>15.0</td>\n",
              "      <td>5612.0</td>\n",
              "      <td>1283.0</td>\n",
              "      <td>1015.0</td>\n",
              "      <td>472.0</td>\n",
              "      <td>1.4936</td>\n",
              "      <td>66900.0</td>\n",
              "      <td>6895.0</td>\n",
              "      <td>6895.0</td>\n",
              "      <td>4460.000000</td>\n",
              "    </tr>\n",
              "    <tr>\n",
              "      <th>1</th>\n",
              "      <td>-114.47</td>\n",
              "      <td>34.40</td>\n",
              "      <td>19.0</td>\n",
              "      <td>7650.0</td>\n",
              "      <td>1901.0</td>\n",
              "      <td>1129.0</td>\n",
              "      <td>463.0</td>\n",
              "      <td>1.8200</td>\n",
              "      <td>80100.0</td>\n",
              "      <td>9551.0</td>\n",
              "      <td>9551.0</td>\n",
              "      <td>4215.789474</td>\n",
              "    </tr>\n",
              "    <tr>\n",
              "      <th>2</th>\n",
              "      <td>-114.56</td>\n",
              "      <td>33.69</td>\n",
              "      <td>17.0</td>\n",
              "      <td>720.0</td>\n",
              "      <td>174.0</td>\n",
              "      <td>333.0</td>\n",
              "      <td>117.0</td>\n",
              "      <td>1.6509</td>\n",
              "      <td>85700.0</td>\n",
              "      <td>894.0</td>\n",
              "      <td>894.0</td>\n",
              "      <td>5041.176471</td>\n",
              "    </tr>\n",
              "    <tr>\n",
              "      <th>3</th>\n",
              "      <td>-114.57</td>\n",
              "      <td>33.64</td>\n",
              "      <td>14.0</td>\n",
              "      <td>1501.0</td>\n",
              "      <td>337.0</td>\n",
              "      <td>515.0</td>\n",
              "      <td>226.0</td>\n",
              "      <td>3.1917</td>\n",
              "      <td>73400.0</td>\n",
              "      <td>1838.0</td>\n",
              "      <td>1838.0</td>\n",
              "      <td>5242.857143</td>\n",
              "    </tr>\n",
              "    <tr>\n",
              "      <th>4</th>\n",
              "      <td>-114.57</td>\n",
              "      <td>33.57</td>\n",
              "      <td>20.0</td>\n",
              "      <td>1454.0</td>\n",
              "      <td>326.0</td>\n",
              "      <td>624.0</td>\n",
              "      <td>262.0</td>\n",
              "      <td>1.9250</td>\n",
              "      <td>65500.0</td>\n",
              "      <td>1780.0</td>\n",
              "      <td>1780.0</td>\n",
              "      <td>3275.000000</td>\n",
              "    </tr>\n",
              "  </tbody>\n",
              "</table>\n",
              "</div>"
            ],
            "text/plain": [
              "   longitude  latitude  housing_median_age  total_rooms  total_bedrooms  \\\n",
              "0    -114.31     34.19                15.0       5612.0          1283.0   \n",
              "1    -114.47     34.40                19.0       7650.0          1901.0   \n",
              "2    -114.56     33.69                17.0        720.0           174.0   \n",
              "3    -114.57     33.64                14.0       1501.0           337.0   \n",
              "4    -114.57     33.57                20.0       1454.0           326.0   \n",
              "\n",
              "   population  households  median_income  median_house_value  Total_Area_1  \\\n",
              "0      1015.0       472.0         1.4936             66900.0        6895.0   \n",
              "1      1129.0       463.0         1.8200             80100.0        9551.0   \n",
              "2       333.0       117.0         1.6509             85700.0         894.0   \n",
              "3       515.0       226.0         3.1917             73400.0        1838.0   \n",
              "4       624.0       262.0         1.9250             65500.0        1780.0   \n",
              "\n",
              "   Total_Area_2  Ration_House_Value_Age  \n",
              "0        6895.0             4460.000000  \n",
              "1        9551.0             4215.789474  \n",
              "2         894.0             5041.176471  \n",
              "3        1838.0             5242.857143  \n",
              "4        1780.0             3275.000000  "
            ]
          },
          "metadata": {
            "tags": []
          },
          "execution_count": 31
        }
      ]
    },
    {
      "metadata": {
        "id": "ZPcYu3kmvRwZ",
        "colab_type": "text"
      },
      "cell_type": "markdown",
      "source": [
        "*¿Cómo se podrían crear las dos columnas  y además poder seguir operando con el DataFrame?*\n",
        "\n",
        "¿Cómo crear una cadena de operaciones?\n",
        "\n",
        "### Médodo Assign\n",
        "\n",
        "El método **assign** permite crear columnas en el DF y continuar operando, lo cual permite crear **cadenas de métodos**. Esto ayuda a crear programas con este paradígma o estilo. \n",
        "\n",
        "El siguiente ejemplo muestra como se usaría el método:\n"
      ]
    },
    {
      "metadata": {
        "id": "yXm3w0DHwZON",
        "colab_type": "code",
        "outputId": "2902c1bf-f466-4009-e29d-45a46ef61305",
        "colab": {
          "base_uri": "https://localhost:8080/",
          "height": 218
        }
      },
      "cell_type": "code",
      "source": [
        "data2=data.copy()\n",
        "\n",
        "#Método Assign\n",
        "\n",
        "Out=data2.assign(Total_Area_1=lambda X: X[['total_rooms','total_bedrooms']].sum(axis=1),\n",
        "                 Total_Area_2=lambda X: X[['total_rooms','total_bedrooms']].max(axis=1),\n",
        "                 \n",
        "             Ration_House_Value_Age=lambda X:X['median_house_value'].div(X['housing_median_age'])\n",
        "             )\n",
        "Out.head()"
      ],
      "execution_count": 0,
      "outputs": [
        {
          "output_type": "execute_result",
          "data": {
            "text/html": [
              "<div>\n",
              "<style scoped>\n",
              "    .dataframe tbody tr th:only-of-type {\n",
              "        vertical-align: middle;\n",
              "    }\n",
              "\n",
              "    .dataframe tbody tr th {\n",
              "        vertical-align: top;\n",
              "    }\n",
              "\n",
              "    .dataframe thead th {\n",
              "        text-align: right;\n",
              "    }\n",
              "</style>\n",
              "<table border=\"1\" class=\"dataframe\">\n",
              "  <thead>\n",
              "    <tr style=\"text-align: right;\">\n",
              "      <th></th>\n",
              "      <th>longitude</th>\n",
              "      <th>latitude</th>\n",
              "      <th>housing_median_age</th>\n",
              "      <th>total_rooms</th>\n",
              "      <th>total_bedrooms</th>\n",
              "      <th>population</th>\n",
              "      <th>households</th>\n",
              "      <th>median_income</th>\n",
              "      <th>median_house_value</th>\n",
              "      <th>Total_Area_1</th>\n",
              "      <th>Total_Area_2</th>\n",
              "      <th>Ration_House_Value_Age</th>\n",
              "    </tr>\n",
              "  </thead>\n",
              "  <tbody>\n",
              "    <tr>\n",
              "      <th>0</th>\n",
              "      <td>-114.31</td>\n",
              "      <td>34.19</td>\n",
              "      <td>15.0</td>\n",
              "      <td>5612.0</td>\n",
              "      <td>1283.0</td>\n",
              "      <td>1015.0</td>\n",
              "      <td>472.0</td>\n",
              "      <td>1.4936</td>\n",
              "      <td>66900.0</td>\n",
              "      <td>6895.0</td>\n",
              "      <td>5612.0</td>\n",
              "      <td>4460.000000</td>\n",
              "    </tr>\n",
              "    <tr>\n",
              "      <th>1</th>\n",
              "      <td>-114.47</td>\n",
              "      <td>34.40</td>\n",
              "      <td>19.0</td>\n",
              "      <td>7650.0</td>\n",
              "      <td>1901.0</td>\n",
              "      <td>1129.0</td>\n",
              "      <td>463.0</td>\n",
              "      <td>1.8200</td>\n",
              "      <td>80100.0</td>\n",
              "      <td>9551.0</td>\n",
              "      <td>7650.0</td>\n",
              "      <td>4215.789474</td>\n",
              "    </tr>\n",
              "    <tr>\n",
              "      <th>2</th>\n",
              "      <td>-114.56</td>\n",
              "      <td>33.69</td>\n",
              "      <td>17.0</td>\n",
              "      <td>720.0</td>\n",
              "      <td>174.0</td>\n",
              "      <td>333.0</td>\n",
              "      <td>117.0</td>\n",
              "      <td>1.6509</td>\n",
              "      <td>85700.0</td>\n",
              "      <td>894.0</td>\n",
              "      <td>720.0</td>\n",
              "      <td>5041.176471</td>\n",
              "    </tr>\n",
              "    <tr>\n",
              "      <th>3</th>\n",
              "      <td>-114.57</td>\n",
              "      <td>33.64</td>\n",
              "      <td>14.0</td>\n",
              "      <td>1501.0</td>\n",
              "      <td>337.0</td>\n",
              "      <td>515.0</td>\n",
              "      <td>226.0</td>\n",
              "      <td>3.1917</td>\n",
              "      <td>73400.0</td>\n",
              "      <td>1838.0</td>\n",
              "      <td>1501.0</td>\n",
              "      <td>5242.857143</td>\n",
              "    </tr>\n",
              "    <tr>\n",
              "      <th>4</th>\n",
              "      <td>-114.57</td>\n",
              "      <td>33.57</td>\n",
              "      <td>20.0</td>\n",
              "      <td>1454.0</td>\n",
              "      <td>326.0</td>\n",
              "      <td>624.0</td>\n",
              "      <td>262.0</td>\n",
              "      <td>1.9250</td>\n",
              "      <td>65500.0</td>\n",
              "      <td>1780.0</td>\n",
              "      <td>1454.0</td>\n",
              "      <td>3275.000000</td>\n",
              "    </tr>\n",
              "  </tbody>\n",
              "</table>\n",
              "</div>"
            ],
            "text/plain": [
              "   longitude  latitude  housing_median_age  total_rooms  total_bedrooms  \\\n",
              "0    -114.31     34.19                15.0       5612.0          1283.0   \n",
              "1    -114.47     34.40                19.0       7650.0          1901.0   \n",
              "2    -114.56     33.69                17.0        720.0           174.0   \n",
              "3    -114.57     33.64                14.0       1501.0           337.0   \n",
              "4    -114.57     33.57                20.0       1454.0           326.0   \n",
              "\n",
              "   population  households  median_income  median_house_value  Total_Area_1  \\\n",
              "0      1015.0       472.0         1.4936             66900.0        6895.0   \n",
              "1      1129.0       463.0         1.8200             80100.0        9551.0   \n",
              "2       333.0       117.0         1.6509             85700.0         894.0   \n",
              "3       515.0       226.0         3.1917             73400.0        1838.0   \n",
              "4       624.0       262.0         1.9250             65500.0        1780.0   \n",
              "\n",
              "   Total_Area_2  Ration_House_Value_Age  \n",
              "0        5612.0             4460.000000  \n",
              "1        7650.0             4215.789474  \n",
              "2         720.0             5041.176471  \n",
              "3        1501.0             5242.857143  \n",
              "4        1454.0             3275.000000  "
            ]
          },
          "metadata": {
            "tags": []
          },
          "execution_count": 100
        }
      ]
    },
    {
      "metadata": {
        "id": "fnOwJrZI6eQ3",
        "colab_type": "text"
      },
      "cell_type": "markdown",
      "source": [
        "Si se desea agregar una nueva columna después de aplicar alguna función sobre los valores de otra, se puede crear con el método **assign**. El siguiente código es un ejemplo:"
      ]
    },
    {
      "metadata": {
        "id": "9i4f1bFQxtEz",
        "colab_type": "code",
        "outputId": "8674e6cc-c8f5-4ddd-8537-a3431c39ed49",
        "colab": {
          "base_uri": "https://localhost:8080/",
          "height": 218
        }
      },
      "cell_type": "code",
      "source": [
        "#Método Assign\n",
        "\n",
        "Out=data2.assign(Total_Area_1=lambda X: X[['total_rooms','total_bedrooms']].sum(axis=1),\n",
        "                 Ration_House_Value_Age=lambda X:X['median_house_value'].div(X['housing_median_age']),\n",
        "                Int_Longitude=lambda X:X.longitude.apply(lambda x: int(x)),\n",
        "                Int_Latitude=lambda X:X.latitude.apply(lambda x: int(x)))\n",
        "Out.head()\n"
      ],
      "execution_count": 0,
      "outputs": [
        {
          "output_type": "execute_result",
          "data": {
            "text/html": [
              "<div>\n",
              "<style scoped>\n",
              "    .dataframe tbody tr th:only-of-type {\n",
              "        vertical-align: middle;\n",
              "    }\n",
              "\n",
              "    .dataframe tbody tr th {\n",
              "        vertical-align: top;\n",
              "    }\n",
              "\n",
              "    .dataframe thead th {\n",
              "        text-align: right;\n",
              "    }\n",
              "</style>\n",
              "<table border=\"1\" class=\"dataframe\">\n",
              "  <thead>\n",
              "    <tr style=\"text-align: right;\">\n",
              "      <th></th>\n",
              "      <th>longitude</th>\n",
              "      <th>latitude</th>\n",
              "      <th>housing_median_age</th>\n",
              "      <th>total_rooms</th>\n",
              "      <th>total_bedrooms</th>\n",
              "      <th>population</th>\n",
              "      <th>households</th>\n",
              "      <th>median_income</th>\n",
              "      <th>median_house_value</th>\n",
              "      <th>Total_Area_1</th>\n",
              "      <th>Int_Longitude</th>\n",
              "      <th>Int_Latitude</th>\n",
              "    </tr>\n",
              "  </thead>\n",
              "  <tbody>\n",
              "    <tr>\n",
              "      <th>0</th>\n",
              "      <td>-114.31</td>\n",
              "      <td>34.19</td>\n",
              "      <td>15.0</td>\n",
              "      <td>5612.0</td>\n",
              "      <td>1283.0</td>\n",
              "      <td>1015.0</td>\n",
              "      <td>472.0</td>\n",
              "      <td>1.4936</td>\n",
              "      <td>66900.0</td>\n",
              "      <td>6895.0</td>\n",
              "      <td>-114</td>\n",
              "      <td>34</td>\n",
              "    </tr>\n",
              "    <tr>\n",
              "      <th>1</th>\n",
              "      <td>-114.47</td>\n",
              "      <td>34.40</td>\n",
              "      <td>19.0</td>\n",
              "      <td>7650.0</td>\n",
              "      <td>1901.0</td>\n",
              "      <td>1129.0</td>\n",
              "      <td>463.0</td>\n",
              "      <td>1.8200</td>\n",
              "      <td>80100.0</td>\n",
              "      <td>9551.0</td>\n",
              "      <td>-114</td>\n",
              "      <td>34</td>\n",
              "    </tr>\n",
              "    <tr>\n",
              "      <th>2</th>\n",
              "      <td>-114.56</td>\n",
              "      <td>33.69</td>\n",
              "      <td>17.0</td>\n",
              "      <td>720.0</td>\n",
              "      <td>174.0</td>\n",
              "      <td>333.0</td>\n",
              "      <td>117.0</td>\n",
              "      <td>1.6509</td>\n",
              "      <td>85700.0</td>\n",
              "      <td>894.0</td>\n",
              "      <td>-114</td>\n",
              "      <td>33</td>\n",
              "    </tr>\n",
              "    <tr>\n",
              "      <th>3</th>\n",
              "      <td>-114.57</td>\n",
              "      <td>33.64</td>\n",
              "      <td>14.0</td>\n",
              "      <td>1501.0</td>\n",
              "      <td>337.0</td>\n",
              "      <td>515.0</td>\n",
              "      <td>226.0</td>\n",
              "      <td>3.1917</td>\n",
              "      <td>73400.0</td>\n",
              "      <td>1838.0</td>\n",
              "      <td>-114</td>\n",
              "      <td>33</td>\n",
              "    </tr>\n",
              "    <tr>\n",
              "      <th>4</th>\n",
              "      <td>-114.57</td>\n",
              "      <td>33.57</td>\n",
              "      <td>20.0</td>\n",
              "      <td>1454.0</td>\n",
              "      <td>326.0</td>\n",
              "      <td>624.0</td>\n",
              "      <td>262.0</td>\n",
              "      <td>1.9250</td>\n",
              "      <td>65500.0</td>\n",
              "      <td>1780.0</td>\n",
              "      <td>-114</td>\n",
              "      <td>33</td>\n",
              "    </tr>\n",
              "  </tbody>\n",
              "</table>\n",
              "</div>"
            ],
            "text/plain": [
              "   longitude  latitude  housing_median_age  total_rooms  total_bedrooms  \\\n",
              "0    -114.31     34.19                15.0       5612.0          1283.0   \n",
              "1    -114.47     34.40                19.0       7650.0          1901.0   \n",
              "2    -114.56     33.69                17.0        720.0           174.0   \n",
              "3    -114.57     33.64                14.0       1501.0           337.0   \n",
              "4    -114.57     33.57                20.0       1454.0           326.0   \n",
              "\n",
              "   population  households  median_income  median_house_value  Total_Area_1  \\\n",
              "0      1015.0       472.0         1.4936             66900.0        6895.0   \n",
              "1      1129.0       463.0         1.8200             80100.0        9551.0   \n",
              "2       333.0       117.0         1.6509             85700.0         894.0   \n",
              "3       515.0       226.0         3.1917             73400.0        1838.0   \n",
              "4       624.0       262.0         1.9250             65500.0        1780.0   \n",
              "\n",
              "   Int_Longitude  Int_Latitude  \n",
              "0           -114            34  \n",
              "1           -114            34  \n",
              "2           -114            33  \n",
              "3           -114            33  \n",
              "4           -114            33  "
            ]
          },
          "metadata": {
            "tags": []
          },
          "execution_count": 110
        }
      ]
    },
    {
      "metadata": {
        "id": "Z5akb4MI9yV_",
        "colab_type": "text"
      },
      "cell_type": "markdown",
      "source": [
        "Teniendo los anteriores ejemplos, se puede pasar a un nivel más general aún. Por ejemplo, suponiendo que se reciben los archivos de cierta fuente con cierta estructura y se tienen definido el conjunto de nuevas variables que se agregan, se puede pensar en hacer una función que encapsule todo el proceso. El siguiente código es un ejemplo. "
      ]
    },
    {
      "metadata": {
        "id": "PhTVyD4D-LIn",
        "colab_type": "code",
        "colab": {}
      },
      "cell_type": "code",
      "source": [
        "#Función para crear nuevas variables \n",
        "#usando el método assign\n",
        "\n",
        "def Add_Features(df):\n",
        "  Out=df.assign(Total_Area_1=lambda X: X[['total_rooms','total_bedrooms']].sum(axis=1),\n",
        "       Ration_House_Value_Age=lambda X:X['median_house_value'].div(X['housing_median_age']),\n",
        "                Int_Longitude=lambda X:X.longitude.apply(lambda x: int(x)))\n",
        "  return Out"
      ],
      "execution_count": 0,
      "outputs": []
    },
    {
      "metadata": {
        "id": "-QG3_z_h-fcI",
        "colab_type": "text"
      },
      "cell_type": "markdown",
      "source": [
        "Ejecutamos la función para ver el resultado."
      ]
    },
    {
      "metadata": {
        "id": "iA3jFUzT-nnc",
        "colab_type": "code",
        "colab": {}
      },
      "cell_type": "code",
      "source": [
        "Out=Add_Features(data2)"
      ],
      "execution_count": 0,
      "outputs": []
    },
    {
      "metadata": {
        "id": "rje7heT3-uSK",
        "colab_type": "code",
        "outputId": "6464d3cc-434b-4165-9aca-b2f22b0a7496",
        "colab": {
          "base_uri": "https://localhost:8080/",
          "height": 218
        }
      },
      "cell_type": "code",
      "source": [
        "Out.head()"
      ],
      "execution_count": 0,
      "outputs": [
        {
          "output_type": "execute_result",
          "data": {
            "text/html": [
              "<div>\n",
              "<style scoped>\n",
              "    .dataframe tbody tr th:only-of-type {\n",
              "        vertical-align: middle;\n",
              "    }\n",
              "\n",
              "    .dataframe tbody tr th {\n",
              "        vertical-align: top;\n",
              "    }\n",
              "\n",
              "    .dataframe thead th {\n",
              "        text-align: right;\n",
              "    }\n",
              "</style>\n",
              "<table border=\"1\" class=\"dataframe\">\n",
              "  <thead>\n",
              "    <tr style=\"text-align: right;\">\n",
              "      <th></th>\n",
              "      <th>longitude</th>\n",
              "      <th>latitude</th>\n",
              "      <th>housing_median_age</th>\n",
              "      <th>total_rooms</th>\n",
              "      <th>total_bedrooms</th>\n",
              "      <th>population</th>\n",
              "      <th>households</th>\n",
              "      <th>median_income</th>\n",
              "      <th>median_house_value</th>\n",
              "      <th>Total_Area_1</th>\n",
              "      <th>Ration_House_Value_Age</th>\n",
              "      <th>Int_Longitude</th>\n",
              "    </tr>\n",
              "  </thead>\n",
              "  <tbody>\n",
              "    <tr>\n",
              "      <th>0</th>\n",
              "      <td>-114.31</td>\n",
              "      <td>34.19</td>\n",
              "      <td>15.0</td>\n",
              "      <td>5612.0</td>\n",
              "      <td>1283.0</td>\n",
              "      <td>1015.0</td>\n",
              "      <td>472.0</td>\n",
              "      <td>1.4936</td>\n",
              "      <td>66900.0</td>\n",
              "      <td>6895.0</td>\n",
              "      <td>4460.000000</td>\n",
              "      <td>-114</td>\n",
              "    </tr>\n",
              "    <tr>\n",
              "      <th>1</th>\n",
              "      <td>-114.47</td>\n",
              "      <td>34.40</td>\n",
              "      <td>19.0</td>\n",
              "      <td>7650.0</td>\n",
              "      <td>1901.0</td>\n",
              "      <td>1129.0</td>\n",
              "      <td>463.0</td>\n",
              "      <td>1.8200</td>\n",
              "      <td>80100.0</td>\n",
              "      <td>9551.0</td>\n",
              "      <td>4215.789474</td>\n",
              "      <td>-114</td>\n",
              "    </tr>\n",
              "    <tr>\n",
              "      <th>2</th>\n",
              "      <td>-114.56</td>\n",
              "      <td>33.69</td>\n",
              "      <td>17.0</td>\n",
              "      <td>720.0</td>\n",
              "      <td>174.0</td>\n",
              "      <td>333.0</td>\n",
              "      <td>117.0</td>\n",
              "      <td>1.6509</td>\n",
              "      <td>85700.0</td>\n",
              "      <td>894.0</td>\n",
              "      <td>5041.176471</td>\n",
              "      <td>-114</td>\n",
              "    </tr>\n",
              "    <tr>\n",
              "      <th>3</th>\n",
              "      <td>-114.57</td>\n",
              "      <td>33.64</td>\n",
              "      <td>14.0</td>\n",
              "      <td>1501.0</td>\n",
              "      <td>337.0</td>\n",
              "      <td>515.0</td>\n",
              "      <td>226.0</td>\n",
              "      <td>3.1917</td>\n",
              "      <td>73400.0</td>\n",
              "      <td>1838.0</td>\n",
              "      <td>5242.857143</td>\n",
              "      <td>-114</td>\n",
              "    </tr>\n",
              "    <tr>\n",
              "      <th>4</th>\n",
              "      <td>-114.57</td>\n",
              "      <td>33.57</td>\n",
              "      <td>20.0</td>\n",
              "      <td>1454.0</td>\n",
              "      <td>326.0</td>\n",
              "      <td>624.0</td>\n",
              "      <td>262.0</td>\n",
              "      <td>1.9250</td>\n",
              "      <td>65500.0</td>\n",
              "      <td>1780.0</td>\n",
              "      <td>3275.000000</td>\n",
              "      <td>-114</td>\n",
              "    </tr>\n",
              "  </tbody>\n",
              "</table>\n",
              "</div>"
            ],
            "text/plain": [
              "   longitude  latitude  housing_median_age  total_rooms  total_bedrooms  \\\n",
              "0    -114.31     34.19                15.0       5612.0          1283.0   \n",
              "1    -114.47     34.40                19.0       7650.0          1901.0   \n",
              "2    -114.56     33.69                17.0        720.0           174.0   \n",
              "3    -114.57     33.64                14.0       1501.0           337.0   \n",
              "4    -114.57     33.57                20.0       1454.0           326.0   \n",
              "\n",
              "   population  households  median_income  median_house_value  Total_Area_1  \\\n",
              "0      1015.0       472.0         1.4936             66900.0        6895.0   \n",
              "1      1129.0       463.0         1.8200             80100.0        9551.0   \n",
              "2       333.0       117.0         1.6509             85700.0         894.0   \n",
              "3       515.0       226.0         3.1917             73400.0        1838.0   \n",
              "4       624.0       262.0         1.9250             65500.0        1780.0   \n",
              "\n",
              "   Ration_House_Value_Age  Int_Longitude  \n",
              "0             4460.000000           -114  \n",
              "1             4215.789474           -114  \n",
              "2             5041.176471           -114  \n",
              "3             5242.857143           -114  \n",
              "4             3275.000000           -114  "
            ]
          },
          "metadata": {
            "tags": []
          },
          "execution_count": 103
        }
      ]
    },
    {
      "metadata": {
        "id": "57T5EnpY-ycH",
        "colab_type": "text"
      },
      "cell_type": "markdown",
      "source": [
        "**¿Cómo agregar esta función a un flujo de trabajo o cadena de transformaciones?**\n",
        "\n",
        "Si se observa, al aplicar la función logramos aplicar el de manera encapsulada la creacion de variables usando el método **assign**, pero si deseamos programar flujos o cadenas de transformaciones tenemos el problema de cómo crear un flujo con esta función.\n",
        "\n",
        "Para mantener la programación mediante **pipeline o flujos de transformaciones**. Se puede considerar como si fuera nuestra función anterior **\"un nuevo método\"**, algo que podemos aplicar a todos nuestros dataframes para el cual  definimos esta función.\n",
        "\n",
        "Para esto existe el método **pipe**, esto de cierto modo crea un método definido por el usuario sobre nuestras Series o DataFrames. El código siguientes es un ejemplo de esto:"
      ]
    },
    {
      "metadata": {
        "id": "X0_URQ2HAspw",
        "colab_type": "code",
        "colab": {}
      },
      "cell_type": "code",
      "source": [
        "#Creamos un Pipeline \n",
        "\n",
        "def Add_Features(df):\n",
        "  df=df.copy()\n",
        "  return df.assign(Total_Area_1=lambda X: X[['total_rooms','total_bedrooms']].sum(axis=1),\n",
        "       Ration_House_Value_Age=lambda X:X['median_house_value'].div(X['housing_median_age']),\n",
        "                Int_Longitude=lambda X:X.longitude.apply(lambda x: int(x)))\n",
        "  \n"
      ],
      "execution_count": 0,
      "outputs": []
    },
    {
      "metadata": {
        "id": "H7KayzoMBDAQ",
        "colab_type": "code",
        "outputId": "8d1b6463-336b-4e61-c750-9a820335b346",
        "colab": {
          "base_uri": "https://localhost:8080/",
          "height": 218
        }
      },
      "cell_type": "code",
      "source": [
        "#Se ejecuta el ćodigo sobre data2\n",
        "data2.pipe(Add_Features).head()"
      ],
      "execution_count": 0,
      "outputs": [
        {
          "output_type": "execute_result",
          "data": {
            "text/html": [
              "<div>\n",
              "<style scoped>\n",
              "    .dataframe tbody tr th:only-of-type {\n",
              "        vertical-align: middle;\n",
              "    }\n",
              "\n",
              "    .dataframe tbody tr th {\n",
              "        vertical-align: top;\n",
              "    }\n",
              "\n",
              "    .dataframe thead th {\n",
              "        text-align: right;\n",
              "    }\n",
              "</style>\n",
              "<table border=\"1\" class=\"dataframe\">\n",
              "  <thead>\n",
              "    <tr style=\"text-align: right;\">\n",
              "      <th></th>\n",
              "      <th>longitude</th>\n",
              "      <th>latitude</th>\n",
              "      <th>housing_median_age</th>\n",
              "      <th>total_rooms</th>\n",
              "      <th>total_bedrooms</th>\n",
              "      <th>population</th>\n",
              "      <th>households</th>\n",
              "      <th>median_income</th>\n",
              "      <th>median_house_value</th>\n",
              "      <th>Total_Area_1</th>\n",
              "      <th>Ration_House_Value_Age</th>\n",
              "      <th>Int_Longitude</th>\n",
              "    </tr>\n",
              "  </thead>\n",
              "  <tbody>\n",
              "    <tr>\n",
              "      <th>0</th>\n",
              "      <td>-114.31</td>\n",
              "      <td>34.19</td>\n",
              "      <td>15.0</td>\n",
              "      <td>5612.0</td>\n",
              "      <td>1283.0</td>\n",
              "      <td>1015.0</td>\n",
              "      <td>472.0</td>\n",
              "      <td>1.4936</td>\n",
              "      <td>66900.0</td>\n",
              "      <td>6895.0</td>\n",
              "      <td>4460.000000</td>\n",
              "      <td>-114</td>\n",
              "    </tr>\n",
              "    <tr>\n",
              "      <th>1</th>\n",
              "      <td>-114.47</td>\n",
              "      <td>34.40</td>\n",
              "      <td>19.0</td>\n",
              "      <td>7650.0</td>\n",
              "      <td>1901.0</td>\n",
              "      <td>1129.0</td>\n",
              "      <td>463.0</td>\n",
              "      <td>1.8200</td>\n",
              "      <td>80100.0</td>\n",
              "      <td>9551.0</td>\n",
              "      <td>4215.789474</td>\n",
              "      <td>-114</td>\n",
              "    </tr>\n",
              "    <tr>\n",
              "      <th>2</th>\n",
              "      <td>-114.56</td>\n",
              "      <td>33.69</td>\n",
              "      <td>17.0</td>\n",
              "      <td>720.0</td>\n",
              "      <td>174.0</td>\n",
              "      <td>333.0</td>\n",
              "      <td>117.0</td>\n",
              "      <td>1.6509</td>\n",
              "      <td>85700.0</td>\n",
              "      <td>894.0</td>\n",
              "      <td>5041.176471</td>\n",
              "      <td>-114</td>\n",
              "    </tr>\n",
              "    <tr>\n",
              "      <th>3</th>\n",
              "      <td>-114.57</td>\n",
              "      <td>33.64</td>\n",
              "      <td>14.0</td>\n",
              "      <td>1501.0</td>\n",
              "      <td>337.0</td>\n",
              "      <td>515.0</td>\n",
              "      <td>226.0</td>\n",
              "      <td>3.1917</td>\n",
              "      <td>73400.0</td>\n",
              "      <td>1838.0</td>\n",
              "      <td>5242.857143</td>\n",
              "      <td>-114</td>\n",
              "    </tr>\n",
              "    <tr>\n",
              "      <th>4</th>\n",
              "      <td>-114.57</td>\n",
              "      <td>33.57</td>\n",
              "      <td>20.0</td>\n",
              "      <td>1454.0</td>\n",
              "      <td>326.0</td>\n",
              "      <td>624.0</td>\n",
              "      <td>262.0</td>\n",
              "      <td>1.9250</td>\n",
              "      <td>65500.0</td>\n",
              "      <td>1780.0</td>\n",
              "      <td>3275.000000</td>\n",
              "      <td>-114</td>\n",
              "    </tr>\n",
              "  </tbody>\n",
              "</table>\n",
              "</div>"
            ],
            "text/plain": [
              "   longitude  latitude  housing_median_age  total_rooms  total_bedrooms  \\\n",
              "0    -114.31     34.19                15.0       5612.0          1283.0   \n",
              "1    -114.47     34.40                19.0       7650.0          1901.0   \n",
              "2    -114.56     33.69                17.0        720.0           174.0   \n",
              "3    -114.57     33.64                14.0       1501.0           337.0   \n",
              "4    -114.57     33.57                20.0       1454.0           326.0   \n",
              "\n",
              "   population  households  median_income  median_house_value  Total_Area_1  \\\n",
              "0      1015.0       472.0         1.4936             66900.0        6895.0   \n",
              "1      1129.0       463.0         1.8200             80100.0        9551.0   \n",
              "2       333.0       117.0         1.6509             85700.0         894.0   \n",
              "3       515.0       226.0         3.1917             73400.0        1838.0   \n",
              "4       624.0       262.0         1.9250             65500.0        1780.0   \n",
              "\n",
              "   Ration_House_Value_Age  Int_Longitude  \n",
              "0             4460.000000           -114  \n",
              "1             4215.789474           -114  \n",
              "2             5041.176471           -114  \n",
              "3             5242.857143           -114  \n",
              "4             3275.000000           -114  "
            ]
          },
          "metadata": {
            "tags": []
          },
          "execution_count": 15
        }
      ]
    },
    {
      "metadata": {
        "id": "eKUKaXLcBg2Q",
        "colab_type": "text"
      },
      "cell_type": "markdown",
      "source": [
        "**¿Cuál es el beneficio de usar pipe?**\n",
        "\n",
        "A primera vista, puede resulta poco valorado y sin mucho sentido el crear funciones para procesar mediante pipe(). Bueno, viéndolo desde un punto de vista más abstracto, este método nos permite crear \"métodos\" a nuestro gusto sobre el DF. \n",
        "\n",
        "Explico de nuevo, lo que sucede es que la definición de la función para pipe se aplica a nuestros DF como un nuevo método. Por ejemplo, suponiendo el caso en que cada cierto tiempo se recibe un archivo con el mismo tipo de datos y se tiene una función que se puede aplicar mediante un pipe() es equivalente a tener un método personalizado para nuestra necesitad. Por otro lado, nos permite mantener un estilo de programación \"declarativa\" sobre los DF.\n",
        " "
      ]
    },
    {
      "metadata": {
        "id": "byfWc_TVBqdG",
        "colab_type": "text"
      },
      "cell_type": "markdown",
      "source": [
        "#Agrupaciones\n",
        "\n",
        "En las lecciones anteriores y los ejemplos de arriba, en general se agregan o crearn nuevas variables usando operaciones aritméticas  entre columnas o aplicando funciones sobre ella. \n",
        "\n",
        "Suponemos el siguiente problema, de la información anteriores deseamos analizar por el entero que corresponde a cada Latitud o Longitud, la media, el máximo y el mínimo del la media del valor de la casa,¿cómo hacer esto?\n",
        "\n",
        "Hacemos un código de ejemplo."
      ]
    },
    {
      "metadata": {
        "id": "K42OTwT-CmlR",
        "colab_type": "code",
        "outputId": "e6bb37f0-e525-4bd7-cb05-b6a38c3faf2a",
        "colab": {
          "base_uri": "https://localhost:8080/",
          "height": 198
        }
      },
      "cell_type": "code",
      "source": [
        "#Tomamos la copia del DF\n",
        "data2.head()"
      ],
      "execution_count": 0,
      "outputs": [
        {
          "output_type": "execute_result",
          "data": {
            "text/html": [
              "<div>\n",
              "<style scoped>\n",
              "    .dataframe tbody tr th:only-of-type {\n",
              "        vertical-align: middle;\n",
              "    }\n",
              "\n",
              "    .dataframe tbody tr th {\n",
              "        vertical-align: top;\n",
              "    }\n",
              "\n",
              "    .dataframe thead th {\n",
              "        text-align: right;\n",
              "    }\n",
              "</style>\n",
              "<table border=\"1\" class=\"dataframe\">\n",
              "  <thead>\n",
              "    <tr style=\"text-align: right;\">\n",
              "      <th></th>\n",
              "      <th>longitude</th>\n",
              "      <th>latitude</th>\n",
              "      <th>housing_median_age</th>\n",
              "      <th>total_rooms</th>\n",
              "      <th>total_bedrooms</th>\n",
              "      <th>population</th>\n",
              "      <th>households</th>\n",
              "      <th>median_income</th>\n",
              "      <th>median_house_value</th>\n",
              "    </tr>\n",
              "  </thead>\n",
              "  <tbody>\n",
              "    <tr>\n",
              "      <th>0</th>\n",
              "      <td>-114.31</td>\n",
              "      <td>34.19</td>\n",
              "      <td>15.0</td>\n",
              "      <td>5612.0</td>\n",
              "      <td>1283.0</td>\n",
              "      <td>1015.0</td>\n",
              "      <td>472.0</td>\n",
              "      <td>1.4936</td>\n",
              "      <td>66900.0</td>\n",
              "    </tr>\n",
              "    <tr>\n",
              "      <th>1</th>\n",
              "      <td>-114.47</td>\n",
              "      <td>34.40</td>\n",
              "      <td>19.0</td>\n",
              "      <td>7650.0</td>\n",
              "      <td>1901.0</td>\n",
              "      <td>1129.0</td>\n",
              "      <td>463.0</td>\n",
              "      <td>1.8200</td>\n",
              "      <td>80100.0</td>\n",
              "    </tr>\n",
              "    <tr>\n",
              "      <th>2</th>\n",
              "      <td>-114.56</td>\n",
              "      <td>33.69</td>\n",
              "      <td>17.0</td>\n",
              "      <td>720.0</td>\n",
              "      <td>174.0</td>\n",
              "      <td>333.0</td>\n",
              "      <td>117.0</td>\n",
              "      <td>1.6509</td>\n",
              "      <td>85700.0</td>\n",
              "    </tr>\n",
              "    <tr>\n",
              "      <th>3</th>\n",
              "      <td>-114.57</td>\n",
              "      <td>33.64</td>\n",
              "      <td>14.0</td>\n",
              "      <td>1501.0</td>\n",
              "      <td>337.0</td>\n",
              "      <td>515.0</td>\n",
              "      <td>226.0</td>\n",
              "      <td>3.1917</td>\n",
              "      <td>73400.0</td>\n",
              "    </tr>\n",
              "    <tr>\n",
              "      <th>4</th>\n",
              "      <td>-114.57</td>\n",
              "      <td>33.57</td>\n",
              "      <td>20.0</td>\n",
              "      <td>1454.0</td>\n",
              "      <td>326.0</td>\n",
              "      <td>624.0</td>\n",
              "      <td>262.0</td>\n",
              "      <td>1.9250</td>\n",
              "      <td>65500.0</td>\n",
              "    </tr>\n",
              "  </tbody>\n",
              "</table>\n",
              "</div>"
            ],
            "text/plain": [
              "   longitude  latitude  housing_median_age  total_rooms  total_bedrooms  \\\n",
              "0    -114.31     34.19                15.0       5612.0          1283.0   \n",
              "1    -114.47     34.40                19.0       7650.0          1901.0   \n",
              "2    -114.56     33.69                17.0        720.0           174.0   \n",
              "3    -114.57     33.64                14.0       1501.0           337.0   \n",
              "4    -114.57     33.57                20.0       1454.0           326.0   \n",
              "\n",
              "   population  households  median_income  median_house_value  \n",
              "0      1015.0       472.0         1.4936             66900.0  \n",
              "1      1129.0       463.0         1.8200             80100.0  \n",
              "2       333.0       117.0         1.6509             85700.0  \n",
              "3       515.0       226.0         3.1917             73400.0  \n",
              "4       624.0       262.0         1.9250             65500.0  "
            ]
          },
          "metadata": {
            "tags": []
          },
          "execution_count": 16
        }
      ]
    },
    {
      "metadata": {
        "id": "mZxMp70hCujG",
        "colab_type": "code",
        "outputId": "ac0aced3-90ad-4e6d-8c0b-d21c30552afa",
        "colab": {
          "base_uri": "https://localhost:8080/",
          "height": 198
        }
      },
      "cell_type": "code",
      "source": [
        "#Agradamos extraemos el valor entero de longitud y latitud\n",
        "data2.assign(Int_Longitude=lambda X:X.longitude.apply(lambda x: int(x)),\n",
        "            Int_Latitude=lambda X:X.latitude.apply(lambda x: int(x)))\\\n",
        "            [['Int_Longitude','Int_Latitude','median_house_value']].head()"
      ],
      "execution_count": 0,
      "outputs": [
        {
          "output_type": "execute_result",
          "data": {
            "text/html": [
              "<div>\n",
              "<style scoped>\n",
              "    .dataframe tbody tr th:only-of-type {\n",
              "        vertical-align: middle;\n",
              "    }\n",
              "\n",
              "    .dataframe tbody tr th {\n",
              "        vertical-align: top;\n",
              "    }\n",
              "\n",
              "    .dataframe thead th {\n",
              "        text-align: right;\n",
              "    }\n",
              "</style>\n",
              "<table border=\"1\" class=\"dataframe\">\n",
              "  <thead>\n",
              "    <tr style=\"text-align: right;\">\n",
              "      <th></th>\n",
              "      <th>Int_Longitude</th>\n",
              "      <th>Int_Latitude</th>\n",
              "      <th>median_house_value</th>\n",
              "    </tr>\n",
              "  </thead>\n",
              "  <tbody>\n",
              "    <tr>\n",
              "      <th>0</th>\n",
              "      <td>-114</td>\n",
              "      <td>34</td>\n",
              "      <td>66900.0</td>\n",
              "    </tr>\n",
              "    <tr>\n",
              "      <th>1</th>\n",
              "      <td>-114</td>\n",
              "      <td>34</td>\n",
              "      <td>80100.0</td>\n",
              "    </tr>\n",
              "    <tr>\n",
              "      <th>2</th>\n",
              "      <td>-114</td>\n",
              "      <td>33</td>\n",
              "      <td>85700.0</td>\n",
              "    </tr>\n",
              "    <tr>\n",
              "      <th>3</th>\n",
              "      <td>-114</td>\n",
              "      <td>33</td>\n",
              "      <td>73400.0</td>\n",
              "    </tr>\n",
              "    <tr>\n",
              "      <th>4</th>\n",
              "      <td>-114</td>\n",
              "      <td>33</td>\n",
              "      <td>65500.0</td>\n",
              "    </tr>\n",
              "  </tbody>\n",
              "</table>\n",
              "</div>"
            ],
            "text/plain": [
              "   Int_Longitude  Int_Latitude  median_house_value\n",
              "0           -114            34             66900.0\n",
              "1           -114            34             80100.0\n",
              "2           -114            33             85700.0\n",
              "3           -114            33             73400.0\n",
              "4           -114            33             65500.0"
            ]
          },
          "metadata": {
            "tags": []
          },
          "execution_count": 23
        }
      ]
    },
    {
      "metadata": {
        "id": "KTQGzSLrDwIU",
        "colab_type": "text"
      },
      "cell_type": "markdown",
      "source": [
        "El siguiente código en su primera parte es similar al anterior, pero aplicamos una agupación sobre los valores de la Longitude y Latitude."
      ]
    },
    {
      "metadata": {
        "id": "PK-YjwBrD9Ed",
        "colab_type": "code",
        "outputId": "ad176fc4-6844-4a1e-d85e-e7d433eaa538",
        "colab": {
          "base_uri": "https://localhost:8080/",
          "height": 1728
        }
      },
      "cell_type": "code",
      "source": [
        "data2.assign(Int_Longitude=lambda X:X.longitude.apply(lambda x: int(x)),\n",
        "            Int_Latitude=lambda X:X.latitude.apply(lambda x: int(x)))\\\n",
        "            [['Int_Longitude','Int_Latitude','median_house_value']]\\\n",
        "            .groupby(['Int_Longitude','Int_Latitude']).max()"
      ],
      "execution_count": 0,
      "outputs": [
        {
          "output_type": "execute_result",
          "data": {
            "text/html": [
              "<div>\n",
              "<style scoped>\n",
              "    .dataframe tbody tr th:only-of-type {\n",
              "        vertical-align: middle;\n",
              "    }\n",
              "\n",
              "    .dataframe tbody tr th {\n",
              "        vertical-align: top;\n",
              "    }\n",
              "\n",
              "    .dataframe thead th {\n",
              "        text-align: right;\n",
              "    }\n",
              "</style>\n",
              "<table border=\"1\" class=\"dataframe\">\n",
              "  <thead>\n",
              "    <tr style=\"text-align: right;\">\n",
              "      <th></th>\n",
              "      <th></th>\n",
              "      <th>median_house_value</th>\n",
              "    </tr>\n",
              "    <tr>\n",
              "      <th>Int_Longitude</th>\n",
              "      <th>Int_Latitude</th>\n",
              "      <th></th>\n",
              "    </tr>\n",
              "  </thead>\n",
              "  <tbody>\n",
              "    <tr>\n",
              "      <th rowspan=\"2\" valign=\"top\">-124</th>\n",
              "      <th>40</th>\n",
              "      <td>165600.0</td>\n",
              "    </tr>\n",
              "    <tr>\n",
              "      <th>41</th>\n",
              "      <td>143400.0</td>\n",
              "    </tr>\n",
              "    <tr>\n",
              "      <th rowspan=\"4\" valign=\"top\">-123</th>\n",
              "      <th>38</th>\n",
              "      <td>364800.0</td>\n",
              "    </tr>\n",
              "    <tr>\n",
              "      <th>39</th>\n",
              "      <td>277000.0</td>\n",
              "    </tr>\n",
              "    <tr>\n",
              "      <th>40</th>\n",
              "      <td>106300.0</td>\n",
              "    </tr>\n",
              "    <tr>\n",
              "      <th>41</th>\n",
              "      <td>152700.0</td>\n",
              "    </tr>\n",
              "    <tr>\n",
              "      <th rowspan=\"6\" valign=\"top\">-122</th>\n",
              "      <th>36</th>\n",
              "      <td>400000.0</td>\n",
              "    </tr>\n",
              "    <tr>\n",
              "      <th>37</th>\n",
              "      <td>500001.0</td>\n",
              "    </tr>\n",
              "    <tr>\n",
              "      <th>38</th>\n",
              "      <td>435900.0</td>\n",
              "    </tr>\n",
              "    <tr>\n",
              "      <th>39</th>\n",
              "      <td>166300.0</td>\n",
              "    </tr>\n",
              "    <tr>\n",
              "      <th>40</th>\n",
              "      <td>171200.0</td>\n",
              "    </tr>\n",
              "    <tr>\n",
              "      <th>41</th>\n",
              "      <td>110100.0</td>\n",
              "    </tr>\n",
              "    <tr>\n",
              "      <th rowspan=\"7\" valign=\"top\">-121</th>\n",
              "      <th>35</th>\n",
              "      <td>320800.0</td>\n",
              "    </tr>\n",
              "    <tr>\n",
              "      <th>36</th>\n",
              "      <td>500001.0</td>\n",
              "    </tr>\n",
              "    <tr>\n",
              "      <th>37</th>\n",
              "      <td>500001.0</td>\n",
              "    </tr>\n",
              "    <tr>\n",
              "      <th>38</th>\n",
              "      <td>448300.0</td>\n",
              "    </tr>\n",
              "    <tr>\n",
              "      <th>39</th>\n",
              "      <td>361900.0</td>\n",
              "    </tr>\n",
              "    <tr>\n",
              "      <th>40</th>\n",
              "      <td>193800.0</td>\n",
              "    </tr>\n",
              "    <tr>\n",
              "      <th>41</th>\n",
              "      <td>88700.0</td>\n",
              "    </tr>\n",
              "    <tr>\n",
              "      <th rowspan=\"8\" valign=\"top\">-120</th>\n",
              "      <th>34</th>\n",
              "      <td>500001.0</td>\n",
              "    </tr>\n",
              "    <tr>\n",
              "      <th>35</th>\n",
              "      <td>500001.0</td>\n",
              "    </tr>\n",
              "    <tr>\n",
              "      <th>36</th>\n",
              "      <td>225000.0</td>\n",
              "    </tr>\n",
              "    <tr>\n",
              "      <th>37</th>\n",
              "      <td>290500.0</td>\n",
              "    </tr>\n",
              "    <tr>\n",
              "      <th>38</th>\n",
              "      <td>500001.0</td>\n",
              "    </tr>\n",
              "    <tr>\n",
              "      <th>39</th>\n",
              "      <td>437500.0</td>\n",
              "    </tr>\n",
              "    <tr>\n",
              "      <th>40</th>\n",
              "      <td>200000.0</td>\n",
              "    </tr>\n",
              "    <tr>\n",
              "      <th>41</th>\n",
              "      <td>59200.0</td>\n",
              "    </tr>\n",
              "    <tr>\n",
              "      <th rowspan=\"5\" valign=\"top\">-119</th>\n",
              "      <th>34</th>\n",
              "      <td>500001.0</td>\n",
              "    </tr>\n",
              "    <tr>\n",
              "      <th>35</th>\n",
              "      <td>245800.0</td>\n",
              "    </tr>\n",
              "    <tr>\n",
              "      <th>36</th>\n",
              "      <td>345900.0</td>\n",
              "    </tr>\n",
              "    <tr>\n",
              "      <th>37</th>\n",
              "      <td>214300.0</td>\n",
              "    </tr>\n",
              "    <tr>\n",
              "      <th>38</th>\n",
              "      <td>212500.0</td>\n",
              "    </tr>\n",
              "    <tr>\n",
              "      <th rowspan=\"6\" valign=\"top\">-118</th>\n",
              "      <th>33</th>\n",
              "      <td>500001.0</td>\n",
              "    </tr>\n",
              "    <tr>\n",
              "      <th>34</th>\n",
              "      <td>500001.0</td>\n",
              "    </tr>\n",
              "    <tr>\n",
              "      <th>35</th>\n",
              "      <td>216400.0</td>\n",
              "    </tr>\n",
              "    <tr>\n",
              "      <th>36</th>\n",
              "      <td>147100.0</td>\n",
              "    </tr>\n",
              "    <tr>\n",
              "      <th>37</th>\n",
              "      <td>242700.0</td>\n",
              "    </tr>\n",
              "    <tr>\n",
              "      <th>38</th>\n",
              "      <td>82500.0</td>\n",
              "    </tr>\n",
              "    <tr>\n",
              "      <th rowspan=\"5\" valign=\"top\">-117</th>\n",
              "      <th>32</th>\n",
              "      <td>500001.0</td>\n",
              "    </tr>\n",
              "    <tr>\n",
              "      <th>33</th>\n",
              "      <td>500001.0</td>\n",
              "    </tr>\n",
              "    <tr>\n",
              "      <th>34</th>\n",
              "      <td>500001.0</td>\n",
              "    </tr>\n",
              "    <tr>\n",
              "      <th>35</th>\n",
              "      <td>275000.0</td>\n",
              "    </tr>\n",
              "    <tr>\n",
              "      <th>36</th>\n",
              "      <td>45500.0</td>\n",
              "    </tr>\n",
              "    <tr>\n",
              "      <th rowspan=\"5\" valign=\"top\">-116</th>\n",
              "      <th>32</th>\n",
              "      <td>379600.0</td>\n",
              "    </tr>\n",
              "    <tr>\n",
              "      <th>33</th>\n",
              "      <td>500001.0</td>\n",
              "    </tr>\n",
              "    <tr>\n",
              "      <th>34</th>\n",
              "      <td>316700.0</td>\n",
              "    </tr>\n",
              "    <tr>\n",
              "      <th>35</th>\n",
              "      <td>22500.0</td>\n",
              "    </tr>\n",
              "    <tr>\n",
              "      <th>36</th>\n",
              "      <td>32900.0</td>\n",
              "    </tr>\n",
              "    <tr>\n",
              "      <th rowspan=\"4\" valign=\"top\">-115</th>\n",
              "      <th>32</th>\n",
              "      <td>159900.0</td>\n",
              "    </tr>\n",
              "    <tr>\n",
              "      <th>33</th>\n",
              "      <td>87500.0</td>\n",
              "    </tr>\n",
              "    <tr>\n",
              "      <th>34</th>\n",
              "      <td>42500.0</td>\n",
              "    </tr>\n",
              "    <tr>\n",
              "      <th>35</th>\n",
              "      <td>67500.0</td>\n",
              "    </tr>\n",
              "    <tr>\n",
              "      <th rowspan=\"3\" valign=\"top\">-114</th>\n",
              "      <th>32</th>\n",
              "      <td>45000.0</td>\n",
              "    </tr>\n",
              "    <tr>\n",
              "      <th>33</th>\n",
              "      <td>94900.0</td>\n",
              "    </tr>\n",
              "    <tr>\n",
              "      <th>34</th>\n",
              "      <td>80100.0</td>\n",
              "    </tr>\n",
              "  </tbody>\n",
              "</table>\n",
              "</div>"
            ],
            "text/plain": [
              "                            median_house_value\n",
              "Int_Longitude Int_Latitude                    \n",
              "-124          40                      165600.0\n",
              "              41                      143400.0\n",
              "-123          38                      364800.0\n",
              "              39                      277000.0\n",
              "              40                      106300.0\n",
              "              41                      152700.0\n",
              "-122          36                      400000.0\n",
              "              37                      500001.0\n",
              "              38                      435900.0\n",
              "              39                      166300.0\n",
              "              40                      171200.0\n",
              "              41                      110100.0\n",
              "-121          35                      320800.0\n",
              "              36                      500001.0\n",
              "              37                      500001.0\n",
              "              38                      448300.0\n",
              "              39                      361900.0\n",
              "              40                      193800.0\n",
              "              41                       88700.0\n",
              "-120          34                      500001.0\n",
              "              35                      500001.0\n",
              "              36                      225000.0\n",
              "              37                      290500.0\n",
              "              38                      500001.0\n",
              "              39                      437500.0\n",
              "              40                      200000.0\n",
              "              41                       59200.0\n",
              "-119          34                      500001.0\n",
              "              35                      245800.0\n",
              "              36                      345900.0\n",
              "              37                      214300.0\n",
              "              38                      212500.0\n",
              "-118          33                      500001.0\n",
              "              34                      500001.0\n",
              "              35                      216400.0\n",
              "              36                      147100.0\n",
              "              37                      242700.0\n",
              "              38                       82500.0\n",
              "-117          32                      500001.0\n",
              "              33                      500001.0\n",
              "              34                      500001.0\n",
              "              35                      275000.0\n",
              "              36                       45500.0\n",
              "-116          32                      379600.0\n",
              "              33                      500001.0\n",
              "              34                      316700.0\n",
              "              35                       22500.0\n",
              "              36                       32900.0\n",
              "-115          32                      159900.0\n",
              "              33                       87500.0\n",
              "              34                       42500.0\n",
              "              35                       67500.0\n",
              "-114          32                       45000.0\n",
              "              33                       94900.0\n",
              "              34                       80100.0"
            ]
          },
          "metadata": {
            "tags": []
          },
          "execution_count": 24
        }
      ]
    },
    {
      "metadata": {
        "id": "_ATZ1uYQEKLn",
        "colab_type": "text"
      },
      "cell_type": "markdown",
      "source": [
        "¿Cómo aplicar más de una funcion sobre nuestra agrupación?"
      ]
    },
    {
      "metadata": {
        "id": "I5-4yAj8ERHA",
        "colab_type": "code",
        "outputId": "665d5dcc-d007-43a4-9114-f76f45493b9f",
        "colab": {
          "base_uri": "https://localhost:8080/",
          "height": 708
        }
      },
      "cell_type": "code",
      "source": [
        "data2.assign(Int_Longitude=lambda X:X.longitude.apply(lambda x: int(x)),\n",
        "            Int_Latitude=lambda X:X.latitude.apply(lambda x: int(x)))\\\n",
        "            [['Int_Longitude','Int_Latitude','median_house_value']]\\\n",
        "            .groupby(['Int_Longitude','Int_Latitude']).agg({'median_house_value':['max','min','mean','var']}).head(20)"
      ],
      "execution_count": 0,
      "outputs": [
        {
          "output_type": "execute_result",
          "data": {
            "text/html": [
              "<div>\n",
              "<style scoped>\n",
              "    .dataframe tbody tr th:only-of-type {\n",
              "        vertical-align: middle;\n",
              "    }\n",
              "\n",
              "    .dataframe tbody tr th {\n",
              "        vertical-align: top;\n",
              "    }\n",
              "\n",
              "    .dataframe thead tr th {\n",
              "        text-align: left;\n",
              "    }\n",
              "\n",
              "    .dataframe thead tr:last-of-type th {\n",
              "        text-align: right;\n",
              "    }\n",
              "</style>\n",
              "<table border=\"1\" class=\"dataframe\">\n",
              "  <thead>\n",
              "    <tr>\n",
              "      <th></th>\n",
              "      <th></th>\n",
              "      <th colspan=\"4\" halign=\"left\">median_house_value</th>\n",
              "    </tr>\n",
              "    <tr>\n",
              "      <th></th>\n",
              "      <th></th>\n",
              "      <th>max</th>\n",
              "      <th>min</th>\n",
              "      <th>mean</th>\n",
              "      <th>var</th>\n",
              "    </tr>\n",
              "    <tr>\n",
              "      <th>Int_Longitude</th>\n",
              "      <th>Int_Latitude</th>\n",
              "      <th></th>\n",
              "      <th></th>\n",
              "      <th></th>\n",
              "      <th></th>\n",
              "    </tr>\n",
              "  </thead>\n",
              "  <tbody>\n",
              "    <tr>\n",
              "      <th rowspan=\"2\" valign=\"top\">-124</th>\n",
              "      <th>40</th>\n",
              "      <td>165600.0</td>\n",
              "      <td>50800.0</td>\n",
              "      <td>88895.604396</td>\n",
              "      <td>5.372140e+08</td>\n",
              "    </tr>\n",
              "    <tr>\n",
              "      <th>41</th>\n",
              "      <td>143400.0</td>\n",
              "      <td>62800.0</td>\n",
              "      <td>90668.750000</td>\n",
              "      <td>5.649836e+08</td>\n",
              "    </tr>\n",
              "    <tr>\n",
              "      <th rowspan=\"4\" valign=\"top\">-123</th>\n",
              "      <th>38</th>\n",
              "      <td>364800.0</td>\n",
              "      <td>94900.0</td>\n",
              "      <td>166960.869565</td>\n",
              "      <td>4.831517e+09</td>\n",
              "    </tr>\n",
              "    <tr>\n",
              "      <th>39</th>\n",
              "      <td>277000.0</td>\n",
              "      <td>57900.0</td>\n",
              "      <td>122677.049180</td>\n",
              "      <td>1.730472e+09</td>\n",
              "    </tr>\n",
              "    <tr>\n",
              "      <th>40</th>\n",
              "      <td>106300.0</td>\n",
              "      <td>14999.0</td>\n",
              "      <td>72004.304348</td>\n",
              "      <td>4.593711e+08</td>\n",
              "    </tr>\n",
              "    <tr>\n",
              "      <th>41</th>\n",
              "      <td>152700.0</td>\n",
              "      <td>36700.0</td>\n",
              "      <td>73227.272727</td>\n",
              "      <td>1.101904e+09</td>\n",
              "    </tr>\n",
              "    <tr>\n",
              "      <th rowspan=\"6\" valign=\"top\">-122</th>\n",
              "      <th>36</th>\n",
              "      <td>400000.0</td>\n",
              "      <td>112500.0</td>\n",
              "      <td>254170.731707</td>\n",
              "      <td>3.289410e+09</td>\n",
              "    </tr>\n",
              "    <tr>\n",
              "      <th>37</th>\n",
              "      <td>500001.0</td>\n",
              "      <td>22500.0</td>\n",
              "      <td>289829.794734</td>\n",
              "      <td>1.545883e+10</td>\n",
              "    </tr>\n",
              "    <tr>\n",
              "      <th>38</th>\n",
              "      <td>435900.0</td>\n",
              "      <td>49000.0</td>\n",
              "      <td>188748.801370</td>\n",
              "      <td>5.215881e+09</td>\n",
              "    </tr>\n",
              "    <tr>\n",
              "      <th>39</th>\n",
              "      <td>166300.0</td>\n",
              "      <td>14999.0</td>\n",
              "      <td>83664.774648</td>\n",
              "      <td>7.358694e+08</td>\n",
              "    </tr>\n",
              "    <tr>\n",
              "      <th>40</th>\n",
              "      <td>171200.0</td>\n",
              "      <td>48100.0</td>\n",
              "      <td>88320.175439</td>\n",
              "      <td>5.979214e+08</td>\n",
              "    </tr>\n",
              "    <tr>\n",
              "      <th>41</th>\n",
              "      <td>110100.0</td>\n",
              "      <td>46200.0</td>\n",
              "      <td>70244.000000</td>\n",
              "      <td>2.609509e+08</td>\n",
              "    </tr>\n",
              "    <tr>\n",
              "      <th rowspan=\"7\" valign=\"top\">-121</th>\n",
              "      <th>35</th>\n",
              "      <td>320800.0</td>\n",
              "      <td>114600.0</td>\n",
              "      <td>229283.333333</td>\n",
              "      <td>5.200714e+09</td>\n",
              "    </tr>\n",
              "    <tr>\n",
              "      <th>36</th>\n",
              "      <td>500001.0</td>\n",
              "      <td>72900.0</td>\n",
              "      <td>229357.044177</td>\n",
              "      <td>8.268834e+09</td>\n",
              "    </tr>\n",
              "    <tr>\n",
              "      <th>37</th>\n",
              "      <td>500001.0</td>\n",
              "      <td>22500.0</td>\n",
              "      <td>221855.000923</td>\n",
              "      <td>1.036665e+10</td>\n",
              "    </tr>\n",
              "    <tr>\n",
              "      <th>38</th>\n",
              "      <td>448300.0</td>\n",
              "      <td>32500.0</td>\n",
              "      <td>135803.459119</td>\n",
              "      <td>3.129956e+09</td>\n",
              "    </tr>\n",
              "    <tr>\n",
              "      <th>39</th>\n",
              "      <td>361900.0</td>\n",
              "      <td>39400.0</td>\n",
              "      <td>104605.035971</td>\n",
              "      <td>2.052589e+09</td>\n",
              "    </tr>\n",
              "    <tr>\n",
              "      <th>40</th>\n",
              "      <td>193800.0</td>\n",
              "      <td>49500.0</td>\n",
              "      <td>90540.000000</td>\n",
              "      <td>1.170682e+09</td>\n",
              "    </tr>\n",
              "    <tr>\n",
              "      <th>41</th>\n",
              "      <td>88700.0</td>\n",
              "      <td>34200.0</td>\n",
              "      <td>55628.571429</td>\n",
              "      <td>4.087190e+08</td>\n",
              "    </tr>\n",
              "    <tr>\n",
              "      <th>-120</th>\n",
              "      <th>34</th>\n",
              "      <td>500001.0</td>\n",
              "      <td>28300.0</td>\n",
              "      <td>177903.350000</td>\n",
              "      <td>7.761030e+09</td>\n",
              "    </tr>\n",
              "  </tbody>\n",
              "</table>\n",
              "</div>"
            ],
            "text/plain": [
              "                           median_house_value                           \\\n",
              "                                          max       min           mean   \n",
              "Int_Longitude Int_Latitude                                               \n",
              "-124          40                     165600.0   50800.0   88895.604396   \n",
              "              41                     143400.0   62800.0   90668.750000   \n",
              "-123          38                     364800.0   94900.0  166960.869565   \n",
              "              39                     277000.0   57900.0  122677.049180   \n",
              "              40                     106300.0   14999.0   72004.304348   \n",
              "              41                     152700.0   36700.0   73227.272727   \n",
              "-122          36                     400000.0  112500.0  254170.731707   \n",
              "              37                     500001.0   22500.0  289829.794734   \n",
              "              38                     435900.0   49000.0  188748.801370   \n",
              "              39                     166300.0   14999.0   83664.774648   \n",
              "              40                     171200.0   48100.0   88320.175439   \n",
              "              41                     110100.0   46200.0   70244.000000   \n",
              "-121          35                     320800.0  114600.0  229283.333333   \n",
              "              36                     500001.0   72900.0  229357.044177   \n",
              "              37                     500001.0   22500.0  221855.000923   \n",
              "              38                     448300.0   32500.0  135803.459119   \n",
              "              39                     361900.0   39400.0  104605.035971   \n",
              "              40                     193800.0   49500.0   90540.000000   \n",
              "              41                      88700.0   34200.0   55628.571429   \n",
              "-120          34                     500001.0   28300.0  177903.350000   \n",
              "\n",
              "                                          \n",
              "                                     var  \n",
              "Int_Longitude Int_Latitude                \n",
              "-124          40            5.372140e+08  \n",
              "              41            5.649836e+08  \n",
              "-123          38            4.831517e+09  \n",
              "              39            1.730472e+09  \n",
              "              40            4.593711e+08  \n",
              "              41            1.101904e+09  \n",
              "-122          36            3.289410e+09  \n",
              "              37            1.545883e+10  \n",
              "              38            5.215881e+09  \n",
              "              39            7.358694e+08  \n",
              "              40            5.979214e+08  \n",
              "              41            2.609509e+08  \n",
              "-121          35            5.200714e+09  \n",
              "              36            8.268834e+09  \n",
              "              37            1.036665e+10  \n",
              "              38            3.129956e+09  \n",
              "              39            2.052589e+09  \n",
              "              40            1.170682e+09  \n",
              "              41            4.087190e+08  \n",
              "-120          34            7.761030e+09  "
            ]
          },
          "metadata": {
            "tags": []
          },
          "execution_count": 78
        }
      ]
    },
    {
      "metadata": {
        "id": "hngkDNSiIskH",
        "colab_type": "text"
      },
      "cell_type": "markdown",
      "source": [
        "El ejemplo anterior puede no resultar del todo interesante, pero en el problema particular de analizar datos resulta más frecuente contar con variables categóricas que variables continuas. En muchos casos las categorías pueden ser muchas y puede ser necesario crear variables estadísticas relacionadas a ellas, como el código anterior.\n",
        "\n",
        "Se puede pensar que se esta explorando la relación entre más de una variable categorica con respecto a otras variables mediante algunos estadísticos.\n",
        "\n",
        "# Trabajando con más de una tabla.\n",
        "\n",
        "En el ejemplo anterior se crear o se puede crar un nuevo DF con los estadísticos de las latitudes y longitudes.\n"
      ]
    },
    {
      "metadata": {
        "id": "T-ZNo_jqKVjs",
        "colab_type": "code",
        "outputId": "27757d5a-25a4-4be4-ebd1-e76ee3ae4e46",
        "colab": {
          "base_uri": "https://localhost:8080/",
          "height": 35
        }
      },
      "cell_type": "code",
      "source": [
        "#Se crean los estadísticos de las agrupaciones.\n",
        "\n",
        "Estadisticos=data2.assign(Int_Longitude=lambda X:X.longitude.apply(lambda x: int(x)),\n",
        "            Int_Latitude=lambda X:X.latitude.apply(lambda x: int(x)))\\\n",
        "            [['Int_Longitude','Int_Latitude','median_house_value']]\\\n",
        "            .groupby(['Int_Longitude','Int_Latitude']).agg(['max','min','mean','var'])\n",
        "\n",
        "Estadisticos.shape"
      ],
      "execution_count": 0,
      "outputs": [
        {
          "output_type": "execute_result",
          "data": {
            "text/plain": [
              "(55, 4)"
            ]
          },
          "metadata": {
            "tags": []
          },
          "execution_count": 111
        }
      ]
    },
    {
      "metadata": {
        "id": "-BCwXUBuLE6p",
        "colab_type": "code",
        "colab": {}
      },
      "cell_type": "code",
      "source": [
        "#Se cambian los nombres de las columnas\n",
        "Estadisticos.columns=['_'.join(col) for col in Estadisticos.columns]\n",
        "\n"
      ],
      "execution_count": 0,
      "outputs": []
    },
    {
      "metadata": {
        "id": "n3FlT2I1wbR8",
        "colab_type": "code",
        "outputId": "9ca83893-8cf6-47e4-ca3f-8f7e9431ccc8",
        "colab": {
          "base_uri": "https://localhost:8080/",
          "height": 228
        }
      },
      "cell_type": "code",
      "source": [
        "#Se visualiza el DF final.\n",
        "Estadisticos.head()"
      ],
      "execution_count": 0,
      "outputs": [
        {
          "output_type": "execute_result",
          "data": {
            "text/html": [
              "<div>\n",
              "<style scoped>\n",
              "    .dataframe tbody tr th:only-of-type {\n",
              "        vertical-align: middle;\n",
              "    }\n",
              "\n",
              "    .dataframe tbody tr th {\n",
              "        vertical-align: top;\n",
              "    }\n",
              "\n",
              "    .dataframe thead th {\n",
              "        text-align: right;\n",
              "    }\n",
              "</style>\n",
              "<table border=\"1\" class=\"dataframe\">\n",
              "  <thead>\n",
              "    <tr style=\"text-align: right;\">\n",
              "      <th></th>\n",
              "      <th></th>\n",
              "      <th>median_house_value_max</th>\n",
              "      <th>median_house_value_min</th>\n",
              "      <th>median_house_value_mean</th>\n",
              "      <th>median_house_value_var</th>\n",
              "    </tr>\n",
              "    <tr>\n",
              "      <th>Int_Longitude</th>\n",
              "      <th>Int_Latitude</th>\n",
              "      <th></th>\n",
              "      <th></th>\n",
              "      <th></th>\n",
              "      <th></th>\n",
              "    </tr>\n",
              "  </thead>\n",
              "  <tbody>\n",
              "    <tr>\n",
              "      <th rowspan=\"2\" valign=\"top\">-124</th>\n",
              "      <th>40</th>\n",
              "      <td>165600.0</td>\n",
              "      <td>50800.0</td>\n",
              "      <td>88895.604396</td>\n",
              "      <td>5.372140e+08</td>\n",
              "    </tr>\n",
              "    <tr>\n",
              "      <th>41</th>\n",
              "      <td>143400.0</td>\n",
              "      <td>62800.0</td>\n",
              "      <td>90668.750000</td>\n",
              "      <td>5.649836e+08</td>\n",
              "    </tr>\n",
              "    <tr>\n",
              "      <th rowspan=\"3\" valign=\"top\">-123</th>\n",
              "      <th>38</th>\n",
              "      <td>364800.0</td>\n",
              "      <td>94900.0</td>\n",
              "      <td>166960.869565</td>\n",
              "      <td>4.831517e+09</td>\n",
              "    </tr>\n",
              "    <tr>\n",
              "      <th>39</th>\n",
              "      <td>277000.0</td>\n",
              "      <td>57900.0</td>\n",
              "      <td>122677.049180</td>\n",
              "      <td>1.730472e+09</td>\n",
              "    </tr>\n",
              "    <tr>\n",
              "      <th>40</th>\n",
              "      <td>106300.0</td>\n",
              "      <td>14999.0</td>\n",
              "      <td>72004.304348</td>\n",
              "      <td>4.593711e+08</td>\n",
              "    </tr>\n",
              "  </tbody>\n",
              "</table>\n",
              "</div>"
            ],
            "text/plain": [
              "                            median_house_value_max  median_house_value_min  \\\n",
              "Int_Longitude Int_Latitude                                                   \n",
              "-124          40                          165600.0                 50800.0   \n",
              "              41                          143400.0                 62800.0   \n",
              "-123          38                          364800.0                 94900.0   \n",
              "              39                          277000.0                 57900.0   \n",
              "              40                          106300.0                 14999.0   \n",
              "\n",
              "                            median_house_value_mean  median_house_value_var  \n",
              "Int_Longitude Int_Latitude                                                   \n",
              "-124          40                       88895.604396            5.372140e+08  \n",
              "              41                       90668.750000            5.649836e+08  \n",
              "-123          38                      166960.869565            4.831517e+09  \n",
              "              39                      122677.049180            1.730472e+09  \n",
              "              40                       72004.304348            4.593711e+08  "
            ]
          },
          "metadata": {
            "tags": []
          },
          "execution_count": 113
        }
      ]
    },
    {
      "metadata": {
        "id": "P-F6tUOYMV8D",
        "colab_type": "code",
        "colab": {}
      },
      "cell_type": "code",
      "source": [
        "#Mediante esto cambiamos los índices de nuestro DF\n",
        "Estadisticos.reset_index(inplace=True)"
      ],
      "execution_count": 0,
      "outputs": []
    },
    {
      "metadata": {
        "id": "VpEFnVdlRT_H",
        "colab_type": "code",
        "outputId": "aaeba68f-e606-456b-8d2e-f216d5444393",
        "colab": {
          "base_uri": "https://localhost:8080/",
          "height": 198
        }
      },
      "cell_type": "code",
      "source": [
        "#Visualización del DF\n",
        "Estadisticos.head()"
      ],
      "execution_count": 0,
      "outputs": [
        {
          "output_type": "execute_result",
          "data": {
            "text/html": [
              "<div>\n",
              "<style scoped>\n",
              "    .dataframe tbody tr th:only-of-type {\n",
              "        vertical-align: middle;\n",
              "    }\n",
              "\n",
              "    .dataframe tbody tr th {\n",
              "        vertical-align: top;\n",
              "    }\n",
              "\n",
              "    .dataframe thead th {\n",
              "        text-align: right;\n",
              "    }\n",
              "</style>\n",
              "<table border=\"1\" class=\"dataframe\">\n",
              "  <thead>\n",
              "    <tr style=\"text-align: right;\">\n",
              "      <th></th>\n",
              "      <th>Int_Longitude</th>\n",
              "      <th>Int_Latitude</th>\n",
              "      <th>median_house_value_max</th>\n",
              "      <th>median_house_value_min</th>\n",
              "      <th>median_house_value_mean</th>\n",
              "      <th>median_house_value_var</th>\n",
              "    </tr>\n",
              "  </thead>\n",
              "  <tbody>\n",
              "    <tr>\n",
              "      <th>0</th>\n",
              "      <td>-124</td>\n",
              "      <td>40</td>\n",
              "      <td>165600.0</td>\n",
              "      <td>50800.0</td>\n",
              "      <td>88895.604396</td>\n",
              "      <td>5.372140e+08</td>\n",
              "    </tr>\n",
              "    <tr>\n",
              "      <th>1</th>\n",
              "      <td>-124</td>\n",
              "      <td>41</td>\n",
              "      <td>143400.0</td>\n",
              "      <td>62800.0</td>\n",
              "      <td>90668.750000</td>\n",
              "      <td>5.649836e+08</td>\n",
              "    </tr>\n",
              "    <tr>\n",
              "      <th>2</th>\n",
              "      <td>-123</td>\n",
              "      <td>38</td>\n",
              "      <td>364800.0</td>\n",
              "      <td>94900.0</td>\n",
              "      <td>166960.869565</td>\n",
              "      <td>4.831517e+09</td>\n",
              "    </tr>\n",
              "    <tr>\n",
              "      <th>3</th>\n",
              "      <td>-123</td>\n",
              "      <td>39</td>\n",
              "      <td>277000.0</td>\n",
              "      <td>57900.0</td>\n",
              "      <td>122677.049180</td>\n",
              "      <td>1.730472e+09</td>\n",
              "    </tr>\n",
              "    <tr>\n",
              "      <th>4</th>\n",
              "      <td>-123</td>\n",
              "      <td>40</td>\n",
              "      <td>106300.0</td>\n",
              "      <td>14999.0</td>\n",
              "      <td>72004.304348</td>\n",
              "      <td>4.593711e+08</td>\n",
              "    </tr>\n",
              "  </tbody>\n",
              "</table>\n",
              "</div>"
            ],
            "text/plain": [
              "   Int_Longitude  Int_Latitude  median_house_value_max  \\\n",
              "0           -124            40                165600.0   \n",
              "1           -124            41                143400.0   \n",
              "2           -123            38                364800.0   \n",
              "3           -123            39                277000.0   \n",
              "4           -123            40                106300.0   \n",
              "\n",
              "   median_house_value_min  median_house_value_mean  median_house_value_var  \n",
              "0                 50800.0             88895.604396            5.372140e+08  \n",
              "1                 62800.0             90668.750000            5.649836e+08  \n",
              "2                 94900.0            166960.869565            4.831517e+09  \n",
              "3                 57900.0            122677.049180            1.730472e+09  \n",
              "4                 14999.0             72004.304348            4.593711e+08  "
            ]
          },
          "metadata": {
            "tags": []
          },
          "execution_count": 115
        }
      ]
    },
    {
      "metadata": {
        "id": "eaysXfvgKc4x",
        "colab_type": "code",
        "outputId": "26697cc7-22fa-4704-dff8-89306425065b",
        "colab": {
          "base_uri": "https://localhost:8080/",
          "height": 35
        }
      },
      "cell_type": "code",
      "source": [
        "#Dimensión de la tabla original\n",
        "data2.shape"
      ],
      "execution_count": 0,
      "outputs": [
        {
          "output_type": "execute_result",
          "data": {
            "text/plain": [
              "(17000, 9)"
            ]
          },
          "metadata": {
            "tags": []
          },
          "execution_count": 116
        }
      ]
    },
    {
      "metadata": {
        "id": "6XnRKko0Ki6r",
        "colab_type": "text"
      },
      "cell_type": "markdown",
      "source": [
        "Observamos que lo anterior genera DF con dimensiones diferentes, en el caso de desear crear un solo DF con todas las variables, necesitamos operar o trabajar con métodos que nos permitan unir DF. El código siguientes es un ejemplo:"
      ]
    },
    {
      "metadata": {
        "id": "6i62pJcEK2f2",
        "colab_type": "code",
        "colab": {}
      },
      "cell_type": "code",
      "source": [
        "#Agregamos al DF original las dos columnas con los entenros de la Latitud y Longitud\n",
        "Out=data2.assign(Int_Longitude=lambda X:X.longitude.apply(lambda x: int(x)),\n",
        "            Int_Latitude=lambda X:X.latitude.apply(lambda x: int(x)))"
      ],
      "execution_count": 0,
      "outputs": []
    },
    {
      "metadata": {
        "id": "e93VdaTNw1nz",
        "colab_type": "code",
        "outputId": "99da1f40-7ccf-4c3b-cca4-5f1769373a3b",
        "colab": {
          "base_uri": "https://localhost:8080/",
          "height": 218
        }
      },
      "cell_type": "code",
      "source": [
        "#Visualizamos el DF\n",
        "Out.head()"
      ],
      "execution_count": 0,
      "outputs": [
        {
          "output_type": "execute_result",
          "data": {
            "text/html": [
              "<div>\n",
              "<style scoped>\n",
              "    .dataframe tbody tr th:only-of-type {\n",
              "        vertical-align: middle;\n",
              "    }\n",
              "\n",
              "    .dataframe tbody tr th {\n",
              "        vertical-align: top;\n",
              "    }\n",
              "\n",
              "    .dataframe thead th {\n",
              "        text-align: right;\n",
              "    }\n",
              "</style>\n",
              "<table border=\"1\" class=\"dataframe\">\n",
              "  <thead>\n",
              "    <tr style=\"text-align: right;\">\n",
              "      <th></th>\n",
              "      <th>longitude</th>\n",
              "      <th>latitude</th>\n",
              "      <th>housing_median_age</th>\n",
              "      <th>total_rooms</th>\n",
              "      <th>total_bedrooms</th>\n",
              "      <th>population</th>\n",
              "      <th>households</th>\n",
              "      <th>median_income</th>\n",
              "      <th>median_house_value</th>\n",
              "      <th>Int_Longitude</th>\n",
              "      <th>Int_Latitude</th>\n",
              "    </tr>\n",
              "  </thead>\n",
              "  <tbody>\n",
              "    <tr>\n",
              "      <th>0</th>\n",
              "      <td>-114.31</td>\n",
              "      <td>34.19</td>\n",
              "      <td>15.0</td>\n",
              "      <td>5612.0</td>\n",
              "      <td>1283.0</td>\n",
              "      <td>1015.0</td>\n",
              "      <td>472.0</td>\n",
              "      <td>1.4936</td>\n",
              "      <td>66900.0</td>\n",
              "      <td>-114</td>\n",
              "      <td>34</td>\n",
              "    </tr>\n",
              "    <tr>\n",
              "      <th>1</th>\n",
              "      <td>-114.47</td>\n",
              "      <td>34.40</td>\n",
              "      <td>19.0</td>\n",
              "      <td>7650.0</td>\n",
              "      <td>1901.0</td>\n",
              "      <td>1129.0</td>\n",
              "      <td>463.0</td>\n",
              "      <td>1.8200</td>\n",
              "      <td>80100.0</td>\n",
              "      <td>-114</td>\n",
              "      <td>34</td>\n",
              "    </tr>\n",
              "    <tr>\n",
              "      <th>2</th>\n",
              "      <td>-114.56</td>\n",
              "      <td>33.69</td>\n",
              "      <td>17.0</td>\n",
              "      <td>720.0</td>\n",
              "      <td>174.0</td>\n",
              "      <td>333.0</td>\n",
              "      <td>117.0</td>\n",
              "      <td>1.6509</td>\n",
              "      <td>85700.0</td>\n",
              "      <td>-114</td>\n",
              "      <td>33</td>\n",
              "    </tr>\n",
              "    <tr>\n",
              "      <th>3</th>\n",
              "      <td>-114.57</td>\n",
              "      <td>33.64</td>\n",
              "      <td>14.0</td>\n",
              "      <td>1501.0</td>\n",
              "      <td>337.0</td>\n",
              "      <td>515.0</td>\n",
              "      <td>226.0</td>\n",
              "      <td>3.1917</td>\n",
              "      <td>73400.0</td>\n",
              "      <td>-114</td>\n",
              "      <td>33</td>\n",
              "    </tr>\n",
              "    <tr>\n",
              "      <th>4</th>\n",
              "      <td>-114.57</td>\n",
              "      <td>33.57</td>\n",
              "      <td>20.0</td>\n",
              "      <td>1454.0</td>\n",
              "      <td>326.0</td>\n",
              "      <td>624.0</td>\n",
              "      <td>262.0</td>\n",
              "      <td>1.9250</td>\n",
              "      <td>65500.0</td>\n",
              "      <td>-114</td>\n",
              "      <td>33</td>\n",
              "    </tr>\n",
              "  </tbody>\n",
              "</table>\n",
              "</div>"
            ],
            "text/plain": [
              "   longitude  latitude  housing_median_age  total_rooms  total_bedrooms  \\\n",
              "0    -114.31     34.19                15.0       5612.0          1283.0   \n",
              "1    -114.47     34.40                19.0       7650.0          1901.0   \n",
              "2    -114.56     33.69                17.0        720.0           174.0   \n",
              "3    -114.57     33.64                14.0       1501.0           337.0   \n",
              "4    -114.57     33.57                20.0       1454.0           326.0   \n",
              "\n",
              "   population  households  median_income  median_house_value  Int_Longitude  \\\n",
              "0      1015.0       472.0         1.4936             66900.0           -114   \n",
              "1      1129.0       463.0         1.8200             80100.0           -114   \n",
              "2       333.0       117.0         1.6509             85700.0           -114   \n",
              "3       515.0       226.0         3.1917             73400.0           -114   \n",
              "4       624.0       262.0         1.9250             65500.0           -114   \n",
              "\n",
              "   Int_Latitude  \n",
              "0            34  \n",
              "1            34  \n",
              "2            33  \n",
              "3            33  \n",
              "4            33  "
            ]
          },
          "metadata": {
            "tags": []
          },
          "execution_count": 118
        }
      ]
    },
    {
      "metadata": {
        "id": "BW_5HRcTK8-g",
        "colab_type": "code",
        "outputId": "a02e54c3-56fb-4843-8064-5822f0aac23f",
        "colab": {
          "base_uri": "https://localhost:8080/",
          "height": 218
        }
      },
      "cell_type": "code",
      "source": [
        "#Merge de tablas\n",
        "Final_DF=Out.merge(Estadisticos,on=['Int_Longitude','Int_Latitude'],how='left')\n",
        "Final_DF.head()"
      ],
      "execution_count": 0,
      "outputs": [
        {
          "output_type": "execute_result",
          "data": {
            "text/html": [
              "<div>\n",
              "<style scoped>\n",
              "    .dataframe tbody tr th:only-of-type {\n",
              "        vertical-align: middle;\n",
              "    }\n",
              "\n",
              "    .dataframe tbody tr th {\n",
              "        vertical-align: top;\n",
              "    }\n",
              "\n",
              "    .dataframe thead th {\n",
              "        text-align: right;\n",
              "    }\n",
              "</style>\n",
              "<table border=\"1\" class=\"dataframe\">\n",
              "  <thead>\n",
              "    <tr style=\"text-align: right;\">\n",
              "      <th></th>\n",
              "      <th>longitude</th>\n",
              "      <th>latitude</th>\n",
              "      <th>housing_median_age</th>\n",
              "      <th>total_rooms</th>\n",
              "      <th>total_bedrooms</th>\n",
              "      <th>population</th>\n",
              "      <th>households</th>\n",
              "      <th>median_income</th>\n",
              "      <th>median_house_value</th>\n",
              "      <th>Int_Longitude</th>\n",
              "      <th>Int_Latitude</th>\n",
              "      <th>median_house_value_max</th>\n",
              "      <th>median_house_value_min</th>\n",
              "      <th>median_house_value_mean</th>\n",
              "      <th>median_house_value_var</th>\n",
              "    </tr>\n",
              "  </thead>\n",
              "  <tbody>\n",
              "    <tr>\n",
              "      <th>0</th>\n",
              "      <td>-114.31</td>\n",
              "      <td>34.19</td>\n",
              "      <td>15.0</td>\n",
              "      <td>5612.0</td>\n",
              "      <td>1283.0</td>\n",
              "      <td>1015.0</td>\n",
              "      <td>472.0</td>\n",
              "      <td>1.4936</td>\n",
              "      <td>66900.0</td>\n",
              "      <td>-114</td>\n",
              "      <td>34</td>\n",
              "      <td>80100.0</td>\n",
              "      <td>48100.0</td>\n",
              "      <td>60212.500000</td>\n",
              "      <td>1.637212e+08</td>\n",
              "    </tr>\n",
              "    <tr>\n",
              "      <th>1</th>\n",
              "      <td>-114.47</td>\n",
              "      <td>34.40</td>\n",
              "      <td>19.0</td>\n",
              "      <td>7650.0</td>\n",
              "      <td>1901.0</td>\n",
              "      <td>1129.0</td>\n",
              "      <td>463.0</td>\n",
              "      <td>1.8200</td>\n",
              "      <td>80100.0</td>\n",
              "      <td>-114</td>\n",
              "      <td>34</td>\n",
              "      <td>80100.0</td>\n",
              "      <td>48100.0</td>\n",
              "      <td>60212.500000</td>\n",
              "      <td>1.637212e+08</td>\n",
              "    </tr>\n",
              "    <tr>\n",
              "      <th>2</th>\n",
              "      <td>-114.56</td>\n",
              "      <td>33.69</td>\n",
              "      <td>17.0</td>\n",
              "      <td>720.0</td>\n",
              "      <td>174.0</td>\n",
              "      <td>333.0</td>\n",
              "      <td>117.0</td>\n",
              "      <td>1.6509</td>\n",
              "      <td>85700.0</td>\n",
              "      <td>-114</td>\n",
              "      <td>33</td>\n",
              "      <td>94900.0</td>\n",
              "      <td>27500.0</td>\n",
              "      <td>68092.307692</td>\n",
              "      <td>3.392924e+08</td>\n",
              "    </tr>\n",
              "    <tr>\n",
              "      <th>3</th>\n",
              "      <td>-114.57</td>\n",
              "      <td>33.64</td>\n",
              "      <td>14.0</td>\n",
              "      <td>1501.0</td>\n",
              "      <td>337.0</td>\n",
              "      <td>515.0</td>\n",
              "      <td>226.0</td>\n",
              "      <td>3.1917</td>\n",
              "      <td>73400.0</td>\n",
              "      <td>-114</td>\n",
              "      <td>33</td>\n",
              "      <td>94900.0</td>\n",
              "      <td>27500.0</td>\n",
              "      <td>68092.307692</td>\n",
              "      <td>3.392924e+08</td>\n",
              "    </tr>\n",
              "    <tr>\n",
              "      <th>4</th>\n",
              "      <td>-114.57</td>\n",
              "      <td>33.57</td>\n",
              "      <td>20.0</td>\n",
              "      <td>1454.0</td>\n",
              "      <td>326.0</td>\n",
              "      <td>624.0</td>\n",
              "      <td>262.0</td>\n",
              "      <td>1.9250</td>\n",
              "      <td>65500.0</td>\n",
              "      <td>-114</td>\n",
              "      <td>33</td>\n",
              "      <td>94900.0</td>\n",
              "      <td>27500.0</td>\n",
              "      <td>68092.307692</td>\n",
              "      <td>3.392924e+08</td>\n",
              "    </tr>\n",
              "  </tbody>\n",
              "</table>\n",
              "</div>"
            ],
            "text/plain": [
              "   longitude  latitude  housing_median_age  total_rooms  total_bedrooms  \\\n",
              "0    -114.31     34.19                15.0       5612.0          1283.0   \n",
              "1    -114.47     34.40                19.0       7650.0          1901.0   \n",
              "2    -114.56     33.69                17.0        720.0           174.0   \n",
              "3    -114.57     33.64                14.0       1501.0           337.0   \n",
              "4    -114.57     33.57                20.0       1454.0           326.0   \n",
              "\n",
              "   population  households  median_income  median_house_value  Int_Longitude  \\\n",
              "0      1015.0       472.0         1.4936             66900.0           -114   \n",
              "1      1129.0       463.0         1.8200             80100.0           -114   \n",
              "2       333.0       117.0         1.6509             85700.0           -114   \n",
              "3       515.0       226.0         3.1917             73400.0           -114   \n",
              "4       624.0       262.0         1.9250             65500.0           -114   \n",
              "\n",
              "   Int_Latitude  median_house_value_max  median_house_value_min  \\\n",
              "0            34                 80100.0                 48100.0   \n",
              "1            34                 80100.0                 48100.0   \n",
              "2            33                 94900.0                 27500.0   \n",
              "3            33                 94900.0                 27500.0   \n",
              "4            33                 94900.0                 27500.0   \n",
              "\n",
              "   median_house_value_mean  median_house_value_var  \n",
              "0             60212.500000            1.637212e+08  \n",
              "1             60212.500000            1.637212e+08  \n",
              "2             68092.307692            3.392924e+08  \n",
              "3             68092.307692            3.392924e+08  \n",
              "4             68092.307692            3.392924e+08  "
            ]
          },
          "metadata": {
            "tags": []
          },
          "execution_count": 77
        }
      ]
    },
    {
      "metadata": {
        "id": "RvAgBh2MTk6k",
        "colab_type": "text"
      },
      "cell_type": "markdown",
      "source": [
        "El ejemplo es muy sencillo, pero trata de reflejar que existen métodos para operar entre varios DF. Para conocer más detalles se puede consultar la documentación de Pandas:\n",
        "\n",
        "* [Merge, joing, concat, append en Pandas](https://pandas.pydata.org/pandas-docs/stable/merging.html)\n",
        "\n",
        "\n"
      ]
    },
    {
      "metadata": {
        "id": "2yqFcShPTyKk",
        "colab_type": "text"
      },
      "cell_type": "markdown",
      "source": [
        "# SQL y Pandas 2\n",
        "\n",
        "En la lección 3 comentamos ejemplos sencillos de como se pueden replicar ciertas operaciones de SQL en los DataFrame de Pandas. Los siguientes ejemplos hacen uso de GroupBy como operacion en estándar en SQL y también, como lo vimos en los anteriores ejemplos, existe su versión en Pandas."
      ]
    },
    {
      "metadata": {
        "id": "jWia5fpTUAqJ",
        "colab_type": "code",
        "outputId": "ce9eb68a-bc18-420f-e003-48c93b3b7cca",
        "colab": {
          "base_uri": "https://localhost:8080/",
          "height": 198
        }
      },
      "cell_type": "code",
      "source": [
        "#Cargamos los datos de los ejemplos\n",
        "url = 'https://raw.github.com/pandas-dev/pandas/master/pandas/tests/data/tips.csv'\n",
        "\n",
        "tips = pd.read_csv(url)\n",
        "tips.head()"
      ],
      "execution_count": 0,
      "outputs": [
        {
          "output_type": "execute_result",
          "data": {
            "text/html": [
              "<div>\n",
              "<style scoped>\n",
              "    .dataframe tbody tr th:only-of-type {\n",
              "        vertical-align: middle;\n",
              "    }\n",
              "\n",
              "    .dataframe tbody tr th {\n",
              "        vertical-align: top;\n",
              "    }\n",
              "\n",
              "    .dataframe thead th {\n",
              "        text-align: right;\n",
              "    }\n",
              "</style>\n",
              "<table border=\"1\" class=\"dataframe\">\n",
              "  <thead>\n",
              "    <tr style=\"text-align: right;\">\n",
              "      <th></th>\n",
              "      <th>total_bill</th>\n",
              "      <th>tip</th>\n",
              "      <th>sex</th>\n",
              "      <th>smoker</th>\n",
              "      <th>day</th>\n",
              "      <th>time</th>\n",
              "      <th>size</th>\n",
              "    </tr>\n",
              "  </thead>\n",
              "  <tbody>\n",
              "    <tr>\n",
              "      <th>0</th>\n",
              "      <td>16.99</td>\n",
              "      <td>1.01</td>\n",
              "      <td>Female</td>\n",
              "      <td>No</td>\n",
              "      <td>Sun</td>\n",
              "      <td>Dinner</td>\n",
              "      <td>2</td>\n",
              "    </tr>\n",
              "    <tr>\n",
              "      <th>1</th>\n",
              "      <td>10.34</td>\n",
              "      <td>1.66</td>\n",
              "      <td>Male</td>\n",
              "      <td>No</td>\n",
              "      <td>Sun</td>\n",
              "      <td>Dinner</td>\n",
              "      <td>3</td>\n",
              "    </tr>\n",
              "    <tr>\n",
              "      <th>2</th>\n",
              "      <td>21.01</td>\n",
              "      <td>3.50</td>\n",
              "      <td>Male</td>\n",
              "      <td>No</td>\n",
              "      <td>Sun</td>\n",
              "      <td>Dinner</td>\n",
              "      <td>3</td>\n",
              "    </tr>\n",
              "    <tr>\n",
              "      <th>3</th>\n",
              "      <td>23.68</td>\n",
              "      <td>3.31</td>\n",
              "      <td>Male</td>\n",
              "      <td>No</td>\n",
              "      <td>Sun</td>\n",
              "      <td>Dinner</td>\n",
              "      <td>2</td>\n",
              "    </tr>\n",
              "    <tr>\n",
              "      <th>4</th>\n",
              "      <td>24.59</td>\n",
              "      <td>3.61</td>\n",
              "      <td>Female</td>\n",
              "      <td>No</td>\n",
              "      <td>Sun</td>\n",
              "      <td>Dinner</td>\n",
              "      <td>4</td>\n",
              "    </tr>\n",
              "  </tbody>\n",
              "</table>\n",
              "</div>"
            ],
            "text/plain": [
              "   total_bill   tip     sex smoker  day    time  size\n",
              "0       16.99  1.01  Female     No  Sun  Dinner     2\n",
              "1       10.34  1.66    Male     No  Sun  Dinner     3\n",
              "2       21.01  3.50    Male     No  Sun  Dinner     3\n",
              "3       23.68  3.31    Male     No  Sun  Dinner     2\n",
              "4       24.59  3.61  Female     No  Sun  Dinner     4"
            ]
          },
          "metadata": {
            "tags": []
          },
          "execution_count": 80
        }
      ]
    },
    {
      "metadata": {
        "id": "_WK9aw_BUqFf",
        "colab_type": "text"
      },
      "cell_type": "markdown",
      "source": [
        "Ejemplo SQL 1\n",
        "\n",
        "~~~sql\n",
        "SELECT sex, count(*)\n",
        "FROM tips\n",
        "GROUP BY sex;\n",
        "~~~\n"
      ]
    },
    {
      "metadata": {
        "id": "oa3Q9XJlU1Iv",
        "colab_type": "code",
        "outputId": "ec6899ac-5e06-42dd-f43b-994b93d8c708",
        "colab": {
          "base_uri": "https://localhost:8080/",
          "height": 90
        }
      },
      "cell_type": "code",
      "source": [
        "tips.groupby('sex').size()"
      ],
      "execution_count": 0,
      "outputs": [
        {
          "output_type": "execute_result",
          "data": {
            "text/plain": [
              "sex\n",
              "Female     87\n",
              "Male      157\n",
              "dtype: int64"
            ]
          },
          "metadata": {
            "tags": []
          },
          "execution_count": 81
        }
      ]
    },
    {
      "metadata": {
        "id": "CD3ijg56U_Wa",
        "colab_type": "code",
        "outputId": "c9bae7b6-5381-4687-c57c-d217214bc9de",
        "colab": {
          "base_uri": "https://localhost:8080/",
          "height": 138
        }
      },
      "cell_type": "code",
      "source": [
        "#tips.groupby('sex').count()"
      ],
      "execution_count": 0,
      "outputs": [
        {
          "output_type": "execute_result",
          "data": {
            "text/html": [
              "<div>\n",
              "<style scoped>\n",
              "    .dataframe tbody tr th:only-of-type {\n",
              "        vertical-align: middle;\n",
              "    }\n",
              "\n",
              "    .dataframe tbody tr th {\n",
              "        vertical-align: top;\n",
              "    }\n",
              "\n",
              "    .dataframe thead th {\n",
              "        text-align: right;\n",
              "    }\n",
              "</style>\n",
              "<table border=\"1\" class=\"dataframe\">\n",
              "  <thead>\n",
              "    <tr style=\"text-align: right;\">\n",
              "      <th></th>\n",
              "      <th>total_bill</th>\n",
              "      <th>tip</th>\n",
              "      <th>smoker</th>\n",
              "      <th>day</th>\n",
              "      <th>time</th>\n",
              "      <th>size</th>\n",
              "    </tr>\n",
              "    <tr>\n",
              "      <th>sex</th>\n",
              "      <th></th>\n",
              "      <th></th>\n",
              "      <th></th>\n",
              "      <th></th>\n",
              "      <th></th>\n",
              "      <th></th>\n",
              "    </tr>\n",
              "  </thead>\n",
              "  <tbody>\n",
              "    <tr>\n",
              "      <th>Female</th>\n",
              "      <td>87</td>\n",
              "      <td>87</td>\n",
              "      <td>87</td>\n",
              "      <td>87</td>\n",
              "      <td>87</td>\n",
              "      <td>87</td>\n",
              "    </tr>\n",
              "    <tr>\n",
              "      <th>Male</th>\n",
              "      <td>157</td>\n",
              "      <td>157</td>\n",
              "      <td>157</td>\n",
              "      <td>157</td>\n",
              "      <td>157</td>\n",
              "      <td>157</td>\n",
              "    </tr>\n",
              "  </tbody>\n",
              "</table>\n",
              "</div>"
            ],
            "text/plain": [
              "        total_bill  tip  smoker  day  time  size\n",
              "sex                                             \n",
              "Female          87   87      87   87    87    87\n",
              "Male           157  157     157  157   157   157"
            ]
          },
          "metadata": {
            "tags": []
          },
          "execution_count": 82
        }
      ]
    },
    {
      "metadata": {
        "id": "loQgALKdVIS4",
        "colab_type": "text"
      },
      "cell_type": "markdown",
      "source": [
        "SQL 2\n",
        "\n",
        "~~~sql\n",
        "SELECT day, AVG(tip), COUNT(*)\n",
        "FROM tips\n",
        "GROUP BY day;\n",
        "~~~"
      ]
    },
    {
      "metadata": {
        "id": "iEUQ_fEJVOMM",
        "colab_type": "code",
        "outputId": "c04b46f9-4018-4899-930b-c99e92e0e98e",
        "colab": {
          "base_uri": "https://localhost:8080/",
          "height": 198
        }
      },
      "cell_type": "code",
      "source": [
        "tips.groupby('day').agg({'tip': np.mean, 'day': np.size})"
      ],
      "execution_count": 0,
      "outputs": [
        {
          "output_type": "execute_result",
          "data": {
            "text/html": [
              "<div>\n",
              "<style scoped>\n",
              "    .dataframe tbody tr th:only-of-type {\n",
              "        vertical-align: middle;\n",
              "    }\n",
              "\n",
              "    .dataframe tbody tr th {\n",
              "        vertical-align: top;\n",
              "    }\n",
              "\n",
              "    .dataframe thead th {\n",
              "        text-align: right;\n",
              "    }\n",
              "</style>\n",
              "<table border=\"1\" class=\"dataframe\">\n",
              "  <thead>\n",
              "    <tr style=\"text-align: right;\">\n",
              "      <th></th>\n",
              "      <th>tip</th>\n",
              "      <th>day</th>\n",
              "    </tr>\n",
              "    <tr>\n",
              "      <th>day</th>\n",
              "      <th></th>\n",
              "      <th></th>\n",
              "    </tr>\n",
              "  </thead>\n",
              "  <tbody>\n",
              "    <tr>\n",
              "      <th>Fri</th>\n",
              "      <td>2.734737</td>\n",
              "      <td>19</td>\n",
              "    </tr>\n",
              "    <tr>\n",
              "      <th>Sat</th>\n",
              "      <td>2.993103</td>\n",
              "      <td>87</td>\n",
              "    </tr>\n",
              "    <tr>\n",
              "      <th>Sun</th>\n",
              "      <td>3.255132</td>\n",
              "      <td>76</td>\n",
              "    </tr>\n",
              "    <tr>\n",
              "      <th>Thur</th>\n",
              "      <td>2.771452</td>\n",
              "      <td>62</td>\n",
              "    </tr>\n",
              "  </tbody>\n",
              "</table>\n",
              "</div>"
            ],
            "text/plain": [
              "           tip  day\n",
              "day                \n",
              "Fri   2.734737   19\n",
              "Sat   2.993103   87\n",
              "Sun   3.255132   76\n",
              "Thur  2.771452   62"
            ]
          },
          "metadata": {
            "tags": []
          },
          "execution_count": 83
        }
      ]
    },
    {
      "metadata": {
        "id": "24zkwQcPVTWh",
        "colab_type": "text"
      },
      "cell_type": "markdown",
      "source": [
        "SQL 3\n",
        "\n",
        "~~~sql\n",
        "SELECT smoker, day, COUNT(*), AVG(tip)\n",
        "FROM tips\n",
        "GROUP BY smoker, day;\n",
        "~~~"
      ]
    },
    {
      "metadata": {
        "id": "3rx2tUVCVa7J",
        "colab_type": "code",
        "outputId": "322f548a-5a07-414a-842c-851c592e42b1",
        "colab": {
          "base_uri": "https://localhost:8080/",
          "height": 348
        }
      },
      "cell_type": "code",
      "source": [
        "tips.groupby(['smoker', 'day']).agg({'tip': [np.size, np.mean]})"
      ],
      "execution_count": 0,
      "outputs": [
        {
          "output_type": "execute_result",
          "data": {
            "text/html": [
              "<div>\n",
              "<style scoped>\n",
              "    .dataframe tbody tr th:only-of-type {\n",
              "        vertical-align: middle;\n",
              "    }\n",
              "\n",
              "    .dataframe tbody tr th {\n",
              "        vertical-align: top;\n",
              "    }\n",
              "\n",
              "    .dataframe thead tr th {\n",
              "        text-align: left;\n",
              "    }\n",
              "\n",
              "    .dataframe thead tr:last-of-type th {\n",
              "        text-align: right;\n",
              "    }\n",
              "</style>\n",
              "<table border=\"1\" class=\"dataframe\">\n",
              "  <thead>\n",
              "    <tr>\n",
              "      <th></th>\n",
              "      <th></th>\n",
              "      <th colspan=\"2\" halign=\"left\">tip</th>\n",
              "    </tr>\n",
              "    <tr>\n",
              "      <th></th>\n",
              "      <th></th>\n",
              "      <th>size</th>\n",
              "      <th>mean</th>\n",
              "    </tr>\n",
              "    <tr>\n",
              "      <th>smoker</th>\n",
              "      <th>day</th>\n",
              "      <th></th>\n",
              "      <th></th>\n",
              "    </tr>\n",
              "  </thead>\n",
              "  <tbody>\n",
              "    <tr>\n",
              "      <th rowspan=\"4\" valign=\"top\">No</th>\n",
              "      <th>Fri</th>\n",
              "      <td>4.0</td>\n",
              "      <td>2.812500</td>\n",
              "    </tr>\n",
              "    <tr>\n",
              "      <th>Sat</th>\n",
              "      <td>45.0</td>\n",
              "      <td>3.102889</td>\n",
              "    </tr>\n",
              "    <tr>\n",
              "      <th>Sun</th>\n",
              "      <td>57.0</td>\n",
              "      <td>3.167895</td>\n",
              "    </tr>\n",
              "    <tr>\n",
              "      <th>Thur</th>\n",
              "      <td>45.0</td>\n",
              "      <td>2.673778</td>\n",
              "    </tr>\n",
              "    <tr>\n",
              "      <th rowspan=\"4\" valign=\"top\">Yes</th>\n",
              "      <th>Fri</th>\n",
              "      <td>15.0</td>\n",
              "      <td>2.714000</td>\n",
              "    </tr>\n",
              "    <tr>\n",
              "      <th>Sat</th>\n",
              "      <td>42.0</td>\n",
              "      <td>2.875476</td>\n",
              "    </tr>\n",
              "    <tr>\n",
              "      <th>Sun</th>\n",
              "      <td>19.0</td>\n",
              "      <td>3.516842</td>\n",
              "    </tr>\n",
              "    <tr>\n",
              "      <th>Thur</th>\n",
              "      <td>17.0</td>\n",
              "      <td>3.030000</td>\n",
              "    </tr>\n",
              "  </tbody>\n",
              "</table>\n",
              "</div>"
            ],
            "text/plain": [
              "              tip          \n",
              "             size      mean\n",
              "smoker day                 \n",
              "No     Fri    4.0  2.812500\n",
              "       Sat   45.0  3.102889\n",
              "       Sun   57.0  3.167895\n",
              "       Thur  45.0  2.673778\n",
              "Yes    Fri   15.0  2.714000\n",
              "       Sat   42.0  2.875476\n",
              "       Sun   19.0  3.516842\n",
              "       Thur  17.0  3.030000"
            ]
          },
          "metadata": {
            "tags": []
          },
          "execution_count": 84
        }
      ]
    },
    {
      "metadata": {
        "id": "CMbH5459Viix",
        "colab_type": "text"
      },
      "cell_type": "markdown",
      "source": [
        "SQL 4\n",
        "\n",
        "~~~sql\n",
        "SELECT smoker, day, COUNT(tip), AVG(tip),SUM(total_bill), AVG(tip)\n",
        "FROM tips\n",
        "GROUP BY smoker, day\n",
        "~~~"
      ]
    },
    {
      "metadata": {
        "id": "Y2KUdzlkV3LE",
        "colab_type": "code",
        "outputId": "8c9c4ee5-efb9-4e21-aac9-711407ef059e",
        "colab": {
          "base_uri": "https://localhost:8080/",
          "height": 348
        }
      },
      "cell_type": "code",
      "source": [
        "tips.groupby(['smoker', 'day']).agg({'tip': [np.size, np.mean],'total_bill':[np.sum,np.mean]})"
      ],
      "execution_count": 0,
      "outputs": [
        {
          "output_type": "execute_result",
          "data": {
            "text/html": [
              "<div>\n",
              "<style scoped>\n",
              "    .dataframe tbody tr th:only-of-type {\n",
              "        vertical-align: middle;\n",
              "    }\n",
              "\n",
              "    .dataframe tbody tr th {\n",
              "        vertical-align: top;\n",
              "    }\n",
              "\n",
              "    .dataframe thead tr th {\n",
              "        text-align: left;\n",
              "    }\n",
              "\n",
              "    .dataframe thead tr:last-of-type th {\n",
              "        text-align: right;\n",
              "    }\n",
              "</style>\n",
              "<table border=\"1\" class=\"dataframe\">\n",
              "  <thead>\n",
              "    <tr>\n",
              "      <th></th>\n",
              "      <th></th>\n",
              "      <th colspan=\"2\" halign=\"left\">tip</th>\n",
              "      <th colspan=\"2\" halign=\"left\">total_bill</th>\n",
              "    </tr>\n",
              "    <tr>\n",
              "      <th></th>\n",
              "      <th></th>\n",
              "      <th>size</th>\n",
              "      <th>mean</th>\n",
              "      <th>sum</th>\n",
              "      <th>mean</th>\n",
              "    </tr>\n",
              "    <tr>\n",
              "      <th>smoker</th>\n",
              "      <th>day</th>\n",
              "      <th></th>\n",
              "      <th></th>\n",
              "      <th></th>\n",
              "      <th></th>\n",
              "    </tr>\n",
              "  </thead>\n",
              "  <tbody>\n",
              "    <tr>\n",
              "      <th rowspan=\"4\" valign=\"top\">No</th>\n",
              "      <th>Fri</th>\n",
              "      <td>4.0</td>\n",
              "      <td>2.812500</td>\n",
              "      <td>73.68</td>\n",
              "      <td>18.420000</td>\n",
              "    </tr>\n",
              "    <tr>\n",
              "      <th>Sat</th>\n",
              "      <td>45.0</td>\n",
              "      <td>3.102889</td>\n",
              "      <td>884.78</td>\n",
              "      <td>19.661778</td>\n",
              "    </tr>\n",
              "    <tr>\n",
              "      <th>Sun</th>\n",
              "      <td>57.0</td>\n",
              "      <td>3.167895</td>\n",
              "      <td>1168.88</td>\n",
              "      <td>20.506667</td>\n",
              "    </tr>\n",
              "    <tr>\n",
              "      <th>Thur</th>\n",
              "      <td>45.0</td>\n",
              "      <td>2.673778</td>\n",
              "      <td>770.09</td>\n",
              "      <td>17.113111</td>\n",
              "    </tr>\n",
              "    <tr>\n",
              "      <th rowspan=\"4\" valign=\"top\">Yes</th>\n",
              "      <th>Fri</th>\n",
              "      <td>15.0</td>\n",
              "      <td>2.714000</td>\n",
              "      <td>252.20</td>\n",
              "      <td>16.813333</td>\n",
              "    </tr>\n",
              "    <tr>\n",
              "      <th>Sat</th>\n",
              "      <td>42.0</td>\n",
              "      <td>2.875476</td>\n",
              "      <td>893.62</td>\n",
              "      <td>21.276667</td>\n",
              "    </tr>\n",
              "    <tr>\n",
              "      <th>Sun</th>\n",
              "      <td>19.0</td>\n",
              "      <td>3.516842</td>\n",
              "      <td>458.28</td>\n",
              "      <td>24.120000</td>\n",
              "    </tr>\n",
              "    <tr>\n",
              "      <th>Thur</th>\n",
              "      <td>17.0</td>\n",
              "      <td>3.030000</td>\n",
              "      <td>326.24</td>\n",
              "      <td>19.190588</td>\n",
              "    </tr>\n",
              "  </tbody>\n",
              "</table>\n",
              "</div>"
            ],
            "text/plain": [
              "              tip           total_bill           \n",
              "             size      mean        sum       mean\n",
              "smoker day                                       \n",
              "No     Fri    4.0  2.812500      73.68  18.420000\n",
              "       Sat   45.0  3.102889     884.78  19.661778\n",
              "       Sun   57.0  3.167895    1168.88  20.506667\n",
              "       Thur  45.0  2.673778     770.09  17.113111\n",
              "Yes    Fri   15.0  2.714000     252.20  16.813333\n",
              "       Sat   42.0  2.875476     893.62  21.276667\n",
              "       Sun   19.0  3.516842     458.28  24.120000\n",
              "       Thur  17.0  3.030000     326.24  19.190588"
            ]
          },
          "metadata": {
            "tags": []
          },
          "execution_count": 85
        }
      ]
    },
    {
      "metadata": {
        "id": "aZtr0gh3WMXI",
        "colab_type": "text"
      },
      "cell_type": "markdown",
      "source": [
        "## Ejemplo de Análisis de Datos\n",
        "\n",
        "Realizamos un pequeño análisis con 3 archivos para trabajar, primero limpliamos el entorno y cargamos los archivos."
      ]
    },
    {
      "metadata": {
        "id": "yu1JO9R1WPta",
        "colab_type": "code",
        "outputId": "b82efe4d-21a8-4424-a1d4-101101bfc7d8",
        "colab": {
          "base_uri": "https://localhost:8080/",
          "height": 35
        }
      },
      "cell_type": "code",
      "source": [
        "%clear"
      ],
      "execution_count": 0,
      "outputs": [
        {
          "output_type": "stream",
          "text": [
            "\u001b[H\u001b[2J"
          ],
          "name": "stdout"
        }
      ]
    },
    {
      "metadata": {
        "id": "HWQ1YN0zWR9M",
        "colab_type": "code",
        "colab": {}
      },
      "cell_type": "code",
      "source": [
        "%reset -f"
      ],
      "execution_count": 0,
      "outputs": []
    },
    {
      "metadata": {
        "id": "z2RDy2klkFgi",
        "colab_type": "code",
        "outputId": "06e84c6c-8eed-4aa9-ea14-8aebaaa0a063",
        "colab": {
          "base_uri": "https://localhost:8080/",
          "height": 380
        }
      },
      "cell_type": "code",
      "source": [
        "#Se cargan los datos  \n",
        "\n",
        "%matplotlib inline\n",
        "\n",
        "import pandas as pd\n",
        "import numpy as np\n",
        "\n",
        "import matplotlib.pyplot as plt\n",
        "import seaborn as sns\n",
        "\n",
        "from IPython.core.interactiveshell import InteractiveShell\n",
        "\n",
        "InteractiveShell.ast_node_interactivity = \"all\"\n",
        "\n",
        "data = pd.read_csv(\"train.csv\")\n",
        "meal=pd.read_csv(\"meal_info.csv\")\n",
        "center=pd.read_csv(\"fulfilment_center_info.csv\")\n",
        "\n",
        "data.head(3)  \n",
        "\n",
        "meal.head(3)\n",
        "center.head(3)"
      ],
      "execution_count": 0,
      "outputs": [
        {
          "output_type": "execute_result",
          "data": {
            "text/html": [
              "<div>\n",
              "<style scoped>\n",
              "    .dataframe tbody tr th:only-of-type {\n",
              "        vertical-align: middle;\n",
              "    }\n",
              "\n",
              "    .dataframe tbody tr th {\n",
              "        vertical-align: top;\n",
              "    }\n",
              "\n",
              "    .dataframe thead th {\n",
              "        text-align: right;\n",
              "    }\n",
              "</style>\n",
              "<table border=\"1\" class=\"dataframe\">\n",
              "  <thead>\n",
              "    <tr style=\"text-align: right;\">\n",
              "      <th></th>\n",
              "      <th>id</th>\n",
              "      <th>week</th>\n",
              "      <th>center_id</th>\n",
              "      <th>meal_id</th>\n",
              "      <th>checkout_price</th>\n",
              "      <th>base_price</th>\n",
              "      <th>emailer_for_promotion</th>\n",
              "      <th>homepage_featured</th>\n",
              "      <th>num_orders</th>\n",
              "    </tr>\n",
              "  </thead>\n",
              "  <tbody>\n",
              "    <tr>\n",
              "      <th>0</th>\n",
              "      <td>1379560</td>\n",
              "      <td>1</td>\n",
              "      <td>55</td>\n",
              "      <td>1885</td>\n",
              "      <td>136.83</td>\n",
              "      <td>152.29</td>\n",
              "      <td>0</td>\n",
              "      <td>0</td>\n",
              "      <td>177</td>\n",
              "    </tr>\n",
              "    <tr>\n",
              "      <th>1</th>\n",
              "      <td>1466964</td>\n",
              "      <td>1</td>\n",
              "      <td>55</td>\n",
              "      <td>1993</td>\n",
              "      <td>136.83</td>\n",
              "      <td>135.83</td>\n",
              "      <td>0</td>\n",
              "      <td>0</td>\n",
              "      <td>270</td>\n",
              "    </tr>\n",
              "    <tr>\n",
              "      <th>2</th>\n",
              "      <td>1346989</td>\n",
              "      <td>1</td>\n",
              "      <td>55</td>\n",
              "      <td>2539</td>\n",
              "      <td>134.86</td>\n",
              "      <td>135.86</td>\n",
              "      <td>0</td>\n",
              "      <td>0</td>\n",
              "      <td>189</td>\n",
              "    </tr>\n",
              "  </tbody>\n",
              "</table>\n",
              "</div>"
            ],
            "text/plain": [
              "        id  week  center_id  meal_id  checkout_price  base_price  \\\n",
              "0  1379560     1         55     1885          136.83      152.29   \n",
              "1  1466964     1         55     1993          136.83      135.83   \n",
              "2  1346989     1         55     2539          134.86      135.86   \n",
              "\n",
              "   emailer_for_promotion  homepage_featured  num_orders  \n",
              "0                      0                  0         177  \n",
              "1                      0                  0         270  \n",
              "2                      0                  0         189  "
            ]
          },
          "metadata": {
            "tags": []
          },
          "execution_count": 123
        },
        {
          "output_type": "execute_result",
          "data": {
            "text/html": [
              "<div>\n",
              "<style scoped>\n",
              "    .dataframe tbody tr th:only-of-type {\n",
              "        vertical-align: middle;\n",
              "    }\n",
              "\n",
              "    .dataframe tbody tr th {\n",
              "        vertical-align: top;\n",
              "    }\n",
              "\n",
              "    .dataframe thead th {\n",
              "        text-align: right;\n",
              "    }\n",
              "</style>\n",
              "<table border=\"1\" class=\"dataframe\">\n",
              "  <thead>\n",
              "    <tr style=\"text-align: right;\">\n",
              "      <th></th>\n",
              "      <th>meal_id</th>\n",
              "      <th>category</th>\n",
              "      <th>cuisine</th>\n",
              "    </tr>\n",
              "  </thead>\n",
              "  <tbody>\n",
              "    <tr>\n",
              "      <th>0</th>\n",
              "      <td>1885</td>\n",
              "      <td>Beverages</td>\n",
              "      <td>Thai</td>\n",
              "    </tr>\n",
              "    <tr>\n",
              "      <th>1</th>\n",
              "      <td>1993</td>\n",
              "      <td>Beverages</td>\n",
              "      <td>Thai</td>\n",
              "    </tr>\n",
              "    <tr>\n",
              "      <th>2</th>\n",
              "      <td>2539</td>\n",
              "      <td>Beverages</td>\n",
              "      <td>Thai</td>\n",
              "    </tr>\n",
              "  </tbody>\n",
              "</table>\n",
              "</div>"
            ],
            "text/plain": [
              "   meal_id   category cuisine\n",
              "0     1885  Beverages    Thai\n",
              "1     1993  Beverages    Thai\n",
              "2     2539  Beverages    Thai"
            ]
          },
          "metadata": {
            "tags": []
          },
          "execution_count": 123
        },
        {
          "output_type": "execute_result",
          "data": {
            "text/html": [
              "<div>\n",
              "<style scoped>\n",
              "    .dataframe tbody tr th:only-of-type {\n",
              "        vertical-align: middle;\n",
              "    }\n",
              "\n",
              "    .dataframe tbody tr th {\n",
              "        vertical-align: top;\n",
              "    }\n",
              "\n",
              "    .dataframe thead th {\n",
              "        text-align: right;\n",
              "    }\n",
              "</style>\n",
              "<table border=\"1\" class=\"dataframe\">\n",
              "  <thead>\n",
              "    <tr style=\"text-align: right;\">\n",
              "      <th></th>\n",
              "      <th>center_id</th>\n",
              "      <th>city_code</th>\n",
              "      <th>region_code</th>\n",
              "      <th>center_type</th>\n",
              "      <th>op_area</th>\n",
              "    </tr>\n",
              "  </thead>\n",
              "  <tbody>\n",
              "    <tr>\n",
              "      <th>0</th>\n",
              "      <td>11</td>\n",
              "      <td>679</td>\n",
              "      <td>56</td>\n",
              "      <td>TYPE_A</td>\n",
              "      <td>3.7</td>\n",
              "    </tr>\n",
              "    <tr>\n",
              "      <th>1</th>\n",
              "      <td>13</td>\n",
              "      <td>590</td>\n",
              "      <td>56</td>\n",
              "      <td>TYPE_B</td>\n",
              "      <td>6.7</td>\n",
              "    </tr>\n",
              "    <tr>\n",
              "      <th>2</th>\n",
              "      <td>124</td>\n",
              "      <td>590</td>\n",
              "      <td>56</td>\n",
              "      <td>TYPE_C</td>\n",
              "      <td>4.0</td>\n",
              "    </tr>\n",
              "  </tbody>\n",
              "</table>\n",
              "</div>"
            ],
            "text/plain": [
              "   center_id  city_code  region_code center_type  op_area\n",
              "0         11        679           56      TYPE_A      3.7\n",
              "1         13        590           56      TYPE_B      6.7\n",
              "2        124        590           56      TYPE_C      4.0"
            ]
          },
          "metadata": {
            "tags": []
          },
          "execution_count": 123
        }
      ]
    },
    {
      "metadata": {
        "id": "89jAwYCiXVdg",
        "colab_type": "code",
        "colab": {}
      },
      "cell_type": "code",
      "source": [
        "plt.rcParams['figure.figsize'] = 15, 10"
      ],
      "execution_count": 0,
      "outputs": []
    },
    {
      "metadata": {
        "id": "vVC0qIEfYEqF",
        "colab_type": "text"
      },
      "cell_type": "markdown",
      "source": [
        "## Metodologías\n",
        "\n",
        "En la lección 1 presentamos un diagrama propuesto por IBM del proceso a seguir en un proyectos de Ciencia de Datos. Este proceso comparte semejanzas con otra metodología estándar CRISP-DM.\n",
        "\n",
        "Para este análisis revisamos dos etapas de estas metodologías: Entendimiento de los datos (Data Understanding) y Preparación de los Datos (Data Preparation)."
      ]
    },
    {
      "metadata": {
        "id": "rePvLznyYxP4",
        "colab_type": "text"
      },
      "cell_type": "markdown",
      "source": [
        "### Entendimiento de los Datos\n",
        "\n",
        "El objetivo de esta etapa se puede resumir en 3 subetapas:\n",
        "* Colección de Datos\n",
        "* Propiedades de los Datos\n",
        "* Calidad de los Datos\n",
        "\n",
        "*¿Cómo podemos usar Pandas para esta etapa?*"
      ]
    },
    {
      "metadata": {
        "id": "qw4nedPQXdPh",
        "colab_type": "code",
        "outputId": "cf44fd92-003b-4454-eea9-74c58c87b43d",
        "colab": {
          "base_uri": "https://localhost:8080/",
          "height": 599
        }
      },
      "cell_type": "code",
      "source": [
        "#Se exploran los detalles de los\n",
        "#tres DataFrames\n",
        "\n",
        "data.info()\n",
        "\n",
        "meal.info()\n",
        "center.info()"
      ],
      "execution_count": 0,
      "outputs": [
        {
          "output_type": "stream",
          "text": [
            "<class 'pandas.core.frame.DataFrame'>\n",
            "RangeIndex: 456548 entries, 0 to 456547\n",
            "Data columns (total 9 columns):\n",
            "id                       456548 non-null int64\n",
            "week                     456548 non-null int64\n",
            "center_id                456548 non-null int64\n",
            "meal_id                  456548 non-null int64\n",
            "checkout_price           456548 non-null float64\n",
            "base_price               456548 non-null float64\n",
            "emailer_for_promotion    456548 non-null int64\n",
            "homepage_featured        456548 non-null int64\n",
            "num_orders               456548 non-null int64\n",
            "dtypes: float64(2), int64(7)\n",
            "memory usage: 31.3 MB\n",
            "<class 'pandas.core.frame.DataFrame'>\n",
            "RangeIndex: 51 entries, 0 to 50\n",
            "Data columns (total 3 columns):\n",
            "meal_id     51 non-null int64\n",
            "category    51 non-null object\n",
            "cuisine     51 non-null object\n",
            "dtypes: int64(1), object(2)\n",
            "memory usage: 1.3+ KB\n",
            "<class 'pandas.core.frame.DataFrame'>\n",
            "RangeIndex: 77 entries, 0 to 76\n",
            "Data columns (total 5 columns):\n",
            "center_id      77 non-null int64\n",
            "city_code      77 non-null int64\n",
            "region_code    77 non-null int64\n",
            "center_type    77 non-null object\n",
            "op_area        77 non-null float64\n",
            "dtypes: float64(1), int64(3), object(1)\n",
            "memory usage: 3.1+ KB\n"
          ],
          "name": "stdout"
        }
      ]
    },
    {
      "metadata": {
        "id": "98SX4sD84lO_",
        "colab_type": "code",
        "outputId": "68b79c3a-7443-4593-cd3d-0c720410f975",
        "colab": {
          "base_uri": "https://localhost:8080/",
          "height": 35
        }
      },
      "cell_type": "code",
      "source": [
        "#Se revisa si cuanta con id repetidos\n",
        "data.shape[0]==data.id.drop_duplicates().count()"
      ],
      "execution_count": 0,
      "outputs": [
        {
          "output_type": "execute_result",
          "data": {
            "text/plain": [
              "True"
            ]
          },
          "metadata": {
            "tags": []
          },
          "execution_count": 128
        }
      ]
    },
    {
      "metadata": {
        "id": "-qmZ7d5l5DEI",
        "colab_type": "code",
        "outputId": "7bf522c0-75d1-406d-b5a2-f97cd9b612d8",
        "colab": {
          "base_uri": "https://localhost:8080/",
          "height": 90
        }
      },
      "cell_type": "code",
      "source": [
        "print(\"Center_ id\")\n",
        "data.center_id.drop_duplicates().count()\n",
        "\n",
        "print()\n",
        "print(\"Meal id\")\n",
        "data.meal_id.drop_duplicates().count()"
      ],
      "execution_count": 0,
      "outputs": [
        {
          "output_type": "stream",
          "text": [
            "Center_ id\n"
          ],
          "name": "stdout"
        },
        {
          "output_type": "execute_result",
          "data": {
            "text/plain": [
              "77"
            ]
          },
          "metadata": {
            "tags": []
          },
          "execution_count": 130
        },
        {
          "output_type": "stream",
          "text": [
            "\n",
            "Meal id\n"
          ],
          "name": "stdout"
        },
        {
          "output_type": "execute_result",
          "data": {
            "text/plain": [
              "51"
            ]
          },
          "metadata": {
            "tags": []
          },
          "execution_count": 130
        }
      ]
    },
    {
      "metadata": {
        "id": "9ue9lsp85cAS",
        "colab_type": "code",
        "outputId": "9d7f8274-6822-4751-988c-8d68b0d0b18a",
        "colab": {
          "base_uri": "https://localhost:8080/",
          "height": 35
        }
      },
      "cell_type": "code",
      "source": [
        "#Cantidad de semanas diferentes\n",
        "data.week.drop_duplicates().count()"
      ],
      "execution_count": 0,
      "outputs": [
        {
          "output_type": "execute_result",
          "data": {
            "text/plain": [
              "145"
            ]
          },
          "metadata": {
            "tags": []
          },
          "execution_count": 131
        }
      ]
    },
    {
      "metadata": {
        "id": "kIzdq9375gk8",
        "colab_type": "code",
        "outputId": "e7b0b195-a0c9-40d2-c755-605930781920",
        "colab": {
          "base_uri": "https://localhost:8080/",
          "height": 1145
        }
      },
      "cell_type": "code",
      "source": [
        "#La cantidad de registros por semana\n",
        "data.week.value_counts(sort=False)"
      ],
      "execution_count": 0,
      "outputs": [
        {
          "output_type": "execute_result",
          "data": {
            "text/plain": [
              "1      2922\n",
              "2      2896\n",
              "3      2899\n",
              "4      2889\n",
              "5      2859\n",
              "6      2846\n",
              "7      2795\n",
              "8      2786\n",
              "9      2854\n",
              "10     2859\n",
              "11     2863\n",
              "12     2831\n",
              "13     2838\n",
              "14     2830\n",
              "15     2868\n",
              "16     2850\n",
              "17     2888\n",
              "18     2962\n",
              "19     2939\n",
              "20     2924\n",
              "21     2963\n",
              "22     2923\n",
              "23     2960\n",
              "24     2946\n",
              "25     2972\n",
              "26     3014\n",
              "27     3029\n",
              "28     3044\n",
              "29     3026\n",
              "30     3068\n",
              "       ... \n",
              "116    3275\n",
              "117    3290\n",
              "118    3278\n",
              "119    3221\n",
              "120    3261\n",
              "121    3298\n",
              "122    3359\n",
              "123    3331\n",
              "124    3274\n",
              "125    3247\n",
              "126    3254\n",
              "127    3255\n",
              "128    3278\n",
              "129    3291\n",
              "130    3258\n",
              "131    3293\n",
              "132    3276\n",
              "133    3324\n",
              "134    3330\n",
              "135    3261\n",
              "136    3273\n",
              "137    3283\n",
              "138    3278\n",
              "139    3279\n",
              "140    3332\n",
              "141    3263\n",
              "142    3238\n",
              "143    3305\n",
              "144    3302\n",
              "145    3268\n",
              "Name: week, Length: 145, dtype: int64"
            ]
          },
          "metadata": {
            "tags": []
          },
          "execution_count": 132
        }
      ]
    },
    {
      "metadata": {
        "id": "9CMxcJ175v1p",
        "colab_type": "code",
        "outputId": "a47a87ae-8eed-4c83-a77d-101c8e41b87d",
        "colab": {
          "base_uri": "https://localhost:8080/",
          "height": 616
        }
      },
      "cell_type": "code",
      "source": [
        "#Gráfica de la cantidad de registros por semana\n",
        "data.week.value_counts(sort=False).plot(kind='bar')"
      ],
      "execution_count": 0,
      "outputs": [
        {
          "output_type": "execute_result",
          "data": {
            "text/plain": [
              "<matplotlib.axes._subplots.AxesSubplot at 0x7f747a6d7c88>"
            ]
          },
          "metadata": {
            "tags": []
          },
          "execution_count": 135
        },
        {
          "output_type": "display_data",
          "data": {
            "image/png": "[encoded data removed]",
            "text/plain": [
              "<matplotlib.figure.Figure at 0x7f747a70a710>"
            ]
          },
          "metadata": {
            "tags": []
          }
        }
      ]
    },
    {
      "metadata": {
        "id": "TC8-P5hG6PjD",
        "colab_type": "code",
        "outputId": "6680e9fe-d9e2-4b98-9516-660050832eb8",
        "colab": {
          "base_uri": "https://localhost:8080/",
          "height": 625
        }
      },
      "cell_type": "code",
      "source": [
        "#Comportamieno del número de ordenes\n",
        "#por cada semana\n",
        "data[['week','num_orders']]\\\n",
        "    .groupby('week').mean()\\\n",
        "    .plot()\n",
        "    "
      ],
      "execution_count": 0,
      "outputs": [
        {
          "output_type": "execute_result",
          "data": {
            "text/plain": [
              "<matplotlib.axes._subplots.AxesSubplot at 0x7f7476376da0>"
            ]
          },
          "metadata": {
            "tags": []
          },
          "execution_count": 138
        },
        {
          "output_type": "display_data",
          "data": {
            "image/png": "[encoded data removed]",
            "text/plain": [
              "<matplotlib.figure.Figure at 0x7f74758fbe10>"
            ]
          },
          "metadata": {
            "tags": []
          }
        }
      ]
    },
    {
      "metadata": {
        "id": "F0XIuBzU6u9i",
        "colab_type": "code",
        "outputId": "d0fd8a4d-a7bb-4f09-ef66-9a10fdcb8606",
        "colab": {
          "base_uri": "https://localhost:8080/",
          "height": 648
        }
      },
      "cell_type": "code",
      "source": [
        "#Exploración de la semana 60\n",
        "data[data.week==60].head(20)"
      ],
      "execution_count": 0,
      "outputs": [
        {
          "output_type": "execute_result",
          "data": {
            "text/html": [
              "<div>\n",
              "<style scoped>\n",
              "    .dataframe tbody tr th:only-of-type {\n",
              "        vertical-align: middle;\n",
              "    }\n",
              "\n",
              "    .dataframe tbody tr th {\n",
              "        vertical-align: top;\n",
              "    }\n",
              "\n",
              "    .dataframe thead th {\n",
              "        text-align: right;\n",
              "    }\n",
              "</style>\n",
              "<table border=\"1\" class=\"dataframe\">\n",
              "  <thead>\n",
              "    <tr style=\"text-align: right;\">\n",
              "      <th></th>\n",
              "      <th>id</th>\n",
              "      <th>week</th>\n",
              "      <th>center_id</th>\n",
              "      <th>meal_id</th>\n",
              "      <th>checkout_price</th>\n",
              "      <th>base_price</th>\n",
              "      <th>emailer_for_promotion</th>\n",
              "      <th>homepage_featured</th>\n",
              "      <th>num_orders</th>\n",
              "    </tr>\n",
              "  </thead>\n",
              "  <tbody>\n",
              "    <tr>\n",
              "      <th>176985</th>\n",
              "      <td>1074454</td>\n",
              "      <td>60</td>\n",
              "      <td>55</td>\n",
              "      <td>1885</td>\n",
              "      <td>141.62</td>\n",
              "      <td>142.62</td>\n",
              "      <td>0</td>\n",
              "      <td>0</td>\n",
              "      <td>271</td>\n",
              "    </tr>\n",
              "    <tr>\n",
              "      <th>176986</th>\n",
              "      <td>1396057</td>\n",
              "      <td>60</td>\n",
              "      <td>55</td>\n",
              "      <td>1993</td>\n",
              "      <td>140.68</td>\n",
              "      <td>139.68</td>\n",
              "      <td>0</td>\n",
              "      <td>0</td>\n",
              "      <td>378</td>\n",
              "    </tr>\n",
              "    <tr>\n",
              "      <th>176987</th>\n",
              "      <td>1032003</td>\n",
              "      <td>60</td>\n",
              "      <td>55</td>\n",
              "      <td>2539</td>\n",
              "      <td>147.50</td>\n",
              "      <td>147.50</td>\n",
              "      <td>0</td>\n",
              "      <td>0</td>\n",
              "      <td>150</td>\n",
              "    </tr>\n",
              "    <tr>\n",
              "      <th>176988</th>\n",
              "      <td>1083591</td>\n",
              "      <td>60</td>\n",
              "      <td>55</td>\n",
              "      <td>2139</td>\n",
              "      <td>298.82</td>\n",
              "      <td>296.82</td>\n",
              "      <td>0</td>\n",
              "      <td>0</td>\n",
              "      <td>15</td>\n",
              "    </tr>\n",
              "    <tr>\n",
              "      <th>176989</th>\n",
              "      <td>1182979</td>\n",
              "      <td>60</td>\n",
              "      <td>55</td>\n",
              "      <td>2631</td>\n",
              "      <td>155.26</td>\n",
              "      <td>154.26</td>\n",
              "      <td>0</td>\n",
              "      <td>0</td>\n",
              "      <td>14</td>\n",
              "    </tr>\n",
              "    <tr>\n",
              "      <th>176990</th>\n",
              "      <td>1445863</td>\n",
              "      <td>60</td>\n",
              "      <td>55</td>\n",
              "      <td>1248</td>\n",
              "      <td>137.74</td>\n",
              "      <td>153.26</td>\n",
              "      <td>0</td>\n",
              "      <td>0</td>\n",
              "      <td>15</td>\n",
              "    </tr>\n",
              "    <tr>\n",
              "      <th>176991</th>\n",
              "      <td>1352066</td>\n",
              "      <td>60</td>\n",
              "      <td>55</td>\n",
              "      <td>1778</td>\n",
              "      <td>163.99</td>\n",
              "      <td>183.33</td>\n",
              "      <td>0</td>\n",
              "      <td>0</td>\n",
              "      <td>121</td>\n",
              "    </tr>\n",
              "    <tr>\n",
              "      <th>176992</th>\n",
              "      <td>1470214</td>\n",
              "      <td>60</td>\n",
              "      <td>55</td>\n",
              "      <td>1062</td>\n",
              "      <td>162.02</td>\n",
              "      <td>183.39</td>\n",
              "      <td>0</td>\n",
              "      <td>0</td>\n",
              "      <td>176</td>\n",
              "    </tr>\n",
              "    <tr>\n",
              "      <th>176993</th>\n",
              "      <td>1064569</td>\n",
              "      <td>60</td>\n",
              "      <td>55</td>\n",
              "      <td>2707</td>\n",
              "      <td>229.89</td>\n",
              "      <td>230.89</td>\n",
              "      <td>0</td>\n",
              "      <td>0</td>\n",
              "      <td>229</td>\n",
              "    </tr>\n",
              "    <tr>\n",
              "      <th>176994</th>\n",
              "      <td>1034105</td>\n",
              "      <td>60</td>\n",
              "      <td>55</td>\n",
              "      <td>1207</td>\n",
              "      <td>458.87</td>\n",
              "      <td>457.87</td>\n",
              "      <td>0</td>\n",
              "      <td>0</td>\n",
              "      <td>82</td>\n",
              "    </tr>\n",
              "    <tr>\n",
              "      <th>176995</th>\n",
              "      <td>1273771</td>\n",
              "      <td>60</td>\n",
              "      <td>55</td>\n",
              "      <td>1230</td>\n",
              "      <td>479.24</td>\n",
              "      <td>478.24</td>\n",
              "      <td>0</td>\n",
              "      <td>0</td>\n",
              "      <td>53</td>\n",
              "    </tr>\n",
              "    <tr>\n",
              "      <th>176996</th>\n",
              "      <td>1391560</td>\n",
              "      <td>60</td>\n",
              "      <td>55</td>\n",
              "      <td>2322</td>\n",
              "      <td>464.63</td>\n",
              "      <td>465.63</td>\n",
              "      <td>0</td>\n",
              "      <td>0</td>\n",
              "      <td>68</td>\n",
              "    </tr>\n",
              "    <tr>\n",
              "      <th>176997</th>\n",
              "      <td>1174915</td>\n",
              "      <td>60</td>\n",
              "      <td>55</td>\n",
              "      <td>2290</td>\n",
              "      <td>330.83</td>\n",
              "      <td>329.83</td>\n",
              "      <td>0</td>\n",
              "      <td>0</td>\n",
              "      <td>150</td>\n",
              "    </tr>\n",
              "    <tr>\n",
              "      <th>176998</th>\n",
              "      <td>1346227</td>\n",
              "      <td>60</td>\n",
              "      <td>55</td>\n",
              "      <td>1727</td>\n",
              "      <td>447.23</td>\n",
              "      <td>446.23</td>\n",
              "      <td>0</td>\n",
              "      <td>0</td>\n",
              "      <td>215</td>\n",
              "    </tr>\n",
              "    <tr>\n",
              "      <th>176999</th>\n",
              "      <td>1191074</td>\n",
              "      <td>60</td>\n",
              "      <td>55</td>\n",
              "      <td>1109</td>\n",
              "      <td>291.03</td>\n",
              "      <td>291.03</td>\n",
              "      <td>0</td>\n",
              "      <td>0</td>\n",
              "      <td>298</td>\n",
              "    </tr>\n",
              "    <tr>\n",
              "      <th>177000</th>\n",
              "      <td>1426293</td>\n",
              "      <td>60</td>\n",
              "      <td>55</td>\n",
              "      <td>2640</td>\n",
              "      <td>292.03</td>\n",
              "      <td>291.03</td>\n",
              "      <td>0</td>\n",
              "      <td>0</td>\n",
              "      <td>13</td>\n",
              "    </tr>\n",
              "    <tr>\n",
              "      <th>177001</th>\n",
              "      <td>1091338</td>\n",
              "      <td>60</td>\n",
              "      <td>55</td>\n",
              "      <td>1216</td>\n",
              "      <td>389.03</td>\n",
              "      <td>388.03</td>\n",
              "      <td>0</td>\n",
              "      <td>0</td>\n",
              "      <td>13</td>\n",
              "    </tr>\n",
              "    <tr>\n",
              "      <th>177002</th>\n",
              "      <td>1227623</td>\n",
              "      <td>60</td>\n",
              "      <td>55</td>\n",
              "      <td>2826</td>\n",
              "      <td>262.87</td>\n",
              "      <td>290.03</td>\n",
              "      <td>1</td>\n",
              "      <td>0</td>\n",
              "      <td>582</td>\n",
              "    </tr>\n",
              "    <tr>\n",
              "      <th>177003</th>\n",
              "      <td>1401837</td>\n",
              "      <td>60</td>\n",
              "      <td>55</td>\n",
              "      <td>1754</td>\n",
              "      <td>243.50</td>\n",
              "      <td>272.63</td>\n",
              "      <td>1</td>\n",
              "      <td>1</td>\n",
              "      <td>1160</td>\n",
              "    </tr>\n",
              "    <tr>\n",
              "      <th>177004</th>\n",
              "      <td>1034048</td>\n",
              "      <td>60</td>\n",
              "      <td>55</td>\n",
              "      <td>1971</td>\n",
              "      <td>241.53</td>\n",
              "      <td>291.03</td>\n",
              "      <td>1</td>\n",
              "      <td>1</td>\n",
              "      <td>972</td>\n",
              "    </tr>\n",
              "  </tbody>\n",
              "</table>\n",
              "</div>"
            ],
            "text/plain": [
              "             id  week  center_id  meal_id  checkout_price  base_price  \\\n",
              "176985  1074454    60         55     1885          141.62      142.62   \n",
              "176986  1396057    60         55     1993          140.68      139.68   \n",
              "176987  1032003    60         55     2539          147.50      147.50   \n",
              "176988  1083591    60         55     2139          298.82      296.82   \n",
              "176989  1182979    60         55     2631          155.26      154.26   \n",
              "176990  1445863    60         55     1248          137.74      153.26   \n",
              "176991  1352066    60         55     1778          163.99      183.33   \n",
              "176992  1470214    60         55     1062          162.02      183.39   \n",
              "176993  1064569    60         55     2707          229.89      230.89   \n",
              "176994  1034105    60         55     1207          458.87      457.87   \n",
              "176995  1273771    60         55     1230          479.24      478.24   \n",
              "176996  1391560    60         55     2322          464.63      465.63   \n",
              "176997  1174915    60         55     2290          330.83      329.83   \n",
              "176998  1346227    60         55     1727          447.23      446.23   \n",
              "176999  1191074    60         55     1109          291.03      291.03   \n",
              "177000  1426293    60         55     2640          292.03      291.03   \n",
              "177001  1091338    60         55     1216          389.03      388.03   \n",
              "177002  1227623    60         55     2826          262.87      290.03   \n",
              "177003  1401837    60         55     1754          243.50      272.63   \n",
              "177004  1034048    60         55     1971          241.53      291.03   \n",
              "\n",
              "        emailer_for_promotion  homepage_featured  num_orders  \n",
              "176985                      0                  0         271  \n",
              "176986                      0                  0         378  \n",
              "176987                      0                  0         150  \n",
              "176988                      0                  0          15  \n",
              "176989                      0                  0          14  \n",
              "176990                      0                  0          15  \n",
              "176991                      0                  0         121  \n",
              "176992                      0                  0         176  \n",
              "176993                      0                  0         229  \n",
              "176994                      0                  0          82  \n",
              "176995                      0                  0          53  \n",
              "176996                      0                  0          68  \n",
              "176997                      0                  0         150  \n",
              "176998                      0                  0         215  \n",
              "176999                      0                  0         298  \n",
              "177000                      0                  0          13  \n",
              "177001                      0                  0          13  \n",
              "177002                      1                  0         582  \n",
              "177003                      1                  1        1160  \n",
              "177004                      1                  1         972  "
            ]
          },
          "metadata": {
            "tags": []
          },
          "execution_count": 140
        }
      ]
    },
    {
      "metadata": {
        "id": "oXQbcejgZWpA",
        "colab_type": "text"
      },
      "cell_type": "markdown",
      "source": [
        "### Preparación de los Datos\n",
        "\n",
        "Esta etapa se puede sintentizar en 4 subetapas:\n",
        "\n",
        "* Limpieza\n",
        "* Transformación\n",
        "* Unión de Tablas\n",
        "* Formato\n",
        "\n",
        "Esta etapa esta en retroalimentación la construcción de un Modelo, así que cada ocasión que se terminar se pasa a probar el modelo y uno puede regresar aplicar otras técnica para cada una de las subetapas.\n",
        "\n",
        "*¿Cómo nos ayuda Pandas a realizar esta etapa?*"
      ]
    },
    {
      "metadata": {
        "id": "gIpFWWAcaRYb",
        "colab_type": "code",
        "colab": {}
      },
      "cell_type": "code",
      "source": [
        "#Cómo se limpiarían los datos?\n",
        "#Espacio para realizar ejemplos"
      ],
      "execution_count": 0,
      "outputs": []
    },
    {
      "metadata": {
        "id": "xTYgw4cwrg30",
        "colab_type": "text"
      },
      "cell_type": "markdown",
      "source": [
        "## Notas finales:\n",
        "\n",
        "El método assign() y pipe() junto con otros como, rename(),resample(), filter(),groupby(), etc. Permiten hacer programas más legíbles y concisos. En un primer acercamiento a Pandas, puede no resultar del todo claro el valor de esos dos métodos, pero con la práctica y la diversidad de casos de negocio o uso que se tengan, empieza hacerse notar su relevancia a la hora de hacer algun programa con Pandas.\n",
        "\n",
        "Una de las operaciones más importantes en Pandas son la capacidad de realizar GroupBy, estos métodos son en esencia lo que le da sentido al Análisis de Datos.\n",
        "\n",
        "Las operaciones con DF, merge, join, append, concat; tienen la capacidad de operar no solo sobre las columnas , sino también sobre los índices.\n",
        "\n",
        "## Referencias y Créditos:\n",
        "\n",
        "Libros:\n",
        "\n",
        "* [Python for Data Analysis: Data Wrangling with Pandas, NumPy, and IPython](https://www.amazon.com/Python-Data-Analysis-Wrangling-IPython/dp/1449319793)\n",
        "\n",
        "Sitios Web:\n",
        "\n",
        "*  [Tutorial de Tom Augspurger]( https://tomaugspurger.github.io/method-chaining)\n",
        "* [Tutorial de Greg Reda, enfocado a SQL y Pandas](http://www.gregreda.com/2013/10/26/intro-to-pandas-data-structures/)\n",
        "\n",
        "Cŕéditos:\n",
        "Los datos usados para los ejemplos de SQL son parte de set de datos de test de [Pandas](https://github.com/pandas-dev).\n",
        "\n",
        "Los datos usados para el ejemplo del Análisis de Datos son correspondientes al \n",
        "[genpact-machine-learning-hackathon](https://datahack.analyticsvidhya.com/contest/genpact-machine-learning-hackathon/#problem_statement).\n",
        "\n",
        "\n",
        " \n",
        "      "
      ]
    }
  ]
}